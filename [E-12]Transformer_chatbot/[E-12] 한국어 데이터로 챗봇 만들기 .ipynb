{
 "cells": [
  {
   "cell_type": "markdown",
   "id": "5cd57a06",
   "metadata": {},
   "source": [
    "# 트랜스포머로 만드는 대화형 챗봇\n",
    "- 영어로 만들었던 챗봇을 한국어 데이터로 바꿔서 훈련시켜봅시다.\n",
    "\n",
    "\n",
    "### **루브릭 평가 기준**\n",
    "\n",
    "|<center>평가문항</center>|<center>상세기준</center>|\n",
    "|:------|:------|\n",
    "|1. 한국어 전처리를 통해 학습 데이터셋을 구축하였다.|공백과 특수문자 처리, 토크나이징, 병렬데이터 구축의 과정이 적절히 진행되었다.|\n",
    "|2. 트랜스포머 모델을 구현하여 한국어 챗봇 모델 학습을 정상적으로 진행하였다.|구현한 트랜스포머 모델이 한국어 병렬 데이터 학습 시 안정적으로 수렴하였다.|\n",
    "|3. 한국어 입력문장에 대해 한국어로 답변하는 함수를 구현하였다.|한국어 입력문장에 그럴듯한 한국어로 답변을 리턴하였다.|"
   ]
  },
  {
   "cell_type": "markdown",
   "id": "e2d58a43",
   "metadata": {},
   "source": [
    "# Step 1. 데이터 수집하기\n",
    "- 송영숙님이 공개한 챗봇 데이터를 사용\n",
    "[songys/Chatbot_data](https://github.com/songys/Chatbot_data/blob/master/ChatbotData.csv)"
   ]
  },
  {
   "cell_type": "code",
   "execution_count": 1,
   "id": "8526e667",
   "metadata": {},
   "outputs": [],
   "source": [
    "import tensorflow as tf\n",
    "import tensorflow_datasets as tfds\n",
    "import os\n",
    "import re\n",
    "import numpy as np\n",
    "import csv\n",
    "import matplotlib.pyplot as plt\n",
    "import tensorflow_datasets as tfds"
   ]
  },
  {
   "cell_type": "code",
   "execution_count": 2,
   "id": "e11e41f7",
   "metadata": {},
   "outputs": [],
   "source": [
    "# 포지셔널 인코딩 레이어\n",
    "class PositionalEncoding(tf.keras.layers.Layer):\n",
    "\n",
    "  def __init__(self, position, d_model):\n",
    "    super(PositionalEncoding, self).__init__()\n",
    "    self.pos_encoding = self.positional_encoding(position, d_model)\n",
    "\n",
    "  def get_angles(self, position, i, d_model):\n",
    "    angles = 1 / tf.pow(10000, (2 * (i // 2)) / tf.cast(d_model, tf.float32))\n",
    "    return position * angles\n",
    "\n",
    "  def positional_encoding(self, position, d_model):\n",
    "    # 각도 배열 생성\n",
    "    angle_rads = self.get_angles(\n",
    "        position=tf.range(position, dtype=tf.float32)[:, tf.newaxis],\n",
    "        i=tf.range(d_model, dtype=tf.float32)[tf.newaxis, :],\n",
    "        d_model=d_model)\n",
    "\n",
    "    # 배열의 짝수 인덱스에는 sin 함수 적용\n",
    "    sines = tf.math.sin(angle_rads[:, 0::2])\n",
    "    # 배열의 홀수 인덱스에는 cosine 함수 적용\n",
    "    cosines = tf.math.cos(angle_rads[:, 1::2])\n",
    "\n",
    "    # sin과 cosine이 교차되도록 재배열\n",
    "    pos_encoding = tf.stack([sines, cosines], axis=0)\n",
    "    pos_encoding = tf.transpose(pos_encoding,[1, 2, 0]) \n",
    "    pos_encoding = tf.reshape(pos_encoding, [position, d_model])\n",
    "\n",
    "    pos_encoding = pos_encoding[tf.newaxis, ...]\n",
    "    return tf.cast(pos_encoding, tf.float32)\n",
    "\n",
    "  def call(self, inputs):\n",
    "    return inputs + self.pos_encoding[:, :tf.shape(inputs)[1], :]"
   ]
  },
  {
   "cell_type": "code",
   "execution_count": 3,
   "id": "6f5a002f",
   "metadata": {},
   "outputs": [],
   "source": [
    "# 스케일드 닷 프로덕트 어텐션 함수\n",
    "def scaled_dot_product_attention(query, key, value, mask):\n",
    "  # 어텐션 가중치는 Q와 K의 닷 프로덕트\n",
    "  matmul_qk = tf.matmul(query, key, transpose_b=True)\n",
    "\n",
    "  # 가중치를 정규화\n",
    "  depth = tf.cast(tf.shape(key)[-1], tf.float32)\n",
    "  logits = matmul_qk / tf.math.sqrt(depth)\n",
    "\n",
    "  # 패딩에 마스크 추가\n",
    "  if mask is not None:\n",
    "    logits += (mask * -1e9)\n",
    "\n",
    "  # softmax적용\n",
    "  attention_weights = tf.nn.softmax(logits, axis=-1)\n",
    "\n",
    "  # 최종 어텐션은 가중치와 V의 닷 프로덕트\n",
    "  output = tf.matmul(attention_weights, value)\n",
    "  return output"
   ]
  },
  {
   "cell_type": "markdown",
   "id": "78e6b84c",
   "metadata": {},
   "source": [
    "- 멀티 헤드 어텐션을 구현\n",
    "- 내부적으로는 스케일드 닷 프로덕트 어텐션 함수를 호출"
   ]
  },
  {
   "cell_type": "code",
   "execution_count": 4,
   "id": "a017139f",
   "metadata": {},
   "outputs": [],
   "source": [
    "class MultiHeadAttention(tf.keras.layers.Layer):\n",
    "\n",
    "  def __init__(self, d_model, num_heads, name=\"multi_head_attention\"):\n",
    "    super(MultiHeadAttention, self).__init__(name=name)\n",
    "    self.num_heads = num_heads\n",
    "    self.d_model = d_model\n",
    "\n",
    "    assert d_model % self.num_heads == 0\n",
    "\n",
    "    self.depth = d_model // self.num_heads\n",
    "\n",
    "    self.query_dense = tf.keras.layers.Dense(units=d_model)\n",
    "    self.key_dense = tf.keras.layers.Dense(units=d_model)\n",
    "    self.value_dense = tf.keras.layers.Dense(units=d_model)\n",
    "\n",
    "    self.dense = tf.keras.layers.Dense(units=d_model)\n",
    "\n",
    "  def split_heads(self, inputs, batch_size):\n",
    "    inputs = tf.reshape(\n",
    "        inputs, shape=(batch_size, -1, self.num_heads, self.depth))\n",
    "    return tf.transpose(inputs, perm=[0, 2, 1, 3])\n",
    "\n",
    "  def call(self, inputs):\n",
    "    query, key, value, mask = inputs['query'], inputs['key'], inputs[\n",
    "        'value'], inputs['mask']\n",
    "    batch_size = tf.shape(query)[0]\n",
    "\n",
    "    # Q, K, V에 각각 Dense를 적용합니다\n",
    "    query = self.query_dense(query)\n",
    "    key = self.key_dense(key)\n",
    "    value = self.value_dense(value)\n",
    "\n",
    "    # 병렬 연산을 위한 머리를 여러 개 만듭니다\n",
    "    query = self.split_heads(query, batch_size)\n",
    "    key = self.split_heads(key, batch_size)\n",
    "    value = self.split_heads(value, batch_size)\n",
    "\n",
    "    # 스케일드 닷 프로덕트 어텐션 함수\n",
    "    scaled_attention = scaled_dot_product_attention(query, key, value, mask)\n",
    "\n",
    "    scaled_attention = tf.transpose(scaled_attention, perm=[0, 2, 1, 3])\n",
    "\n",
    "    # 어텐션 연산 후에 각 결과를 다시 연결(concatenate)합니다\n",
    "    concat_attention = tf.reshape(scaled_attention,\n",
    "                                  (batch_size, -1, self.d_model))\n",
    "\n",
    "    # 최종 결과에도 Dense를 한 번 더 적용합니다\n",
    "    outputs = self.dense(concat_attention)\n",
    "\n",
    "    return outputs"
   ]
  },
  {
   "cell_type": "markdown",
   "id": "637146fe",
   "metadata": {},
   "source": [
    "### 마스킹"
   ]
  },
  {
   "cell_type": "code",
   "execution_count": 5,
   "id": "dc5bf073",
   "metadata": {},
   "outputs": [],
   "source": [
    "def create_padding_mask(x):\n",
    "  mask = tf.cast(tf.math.equal(x, 0), tf.float32)\n",
    "  # (batch_size, 1, 1, sequence length)\n",
    "  return mask[:, tf.newaxis, tf.newaxis, :]"
   ]
  },
  {
   "cell_type": "code",
   "execution_count": 6,
   "id": "32d17816",
   "metadata": {},
   "outputs": [],
   "source": [
    "def create_look_ahead_mask(x):\n",
    "  seq_len = tf.shape(x)[1]\n",
    "  look_ahead_mask = 1 - tf.linalg.band_part(tf.ones((seq_len, seq_len)), -1, 0)\n",
    "  padding_mask = create_padding_mask(x)\n",
    "  return tf.maximum(look_ahead_mask, padding_mask)"
   ]
  },
  {
   "cell_type": "markdown",
   "id": "88f91bf2",
   "metadata": {},
   "source": [
    "### 인코더"
   ]
  },
  {
   "cell_type": "code",
   "execution_count": 7,
   "id": "538df014",
   "metadata": {},
   "outputs": [],
   "source": [
    "# 인코더 하나의 레이어를 함수로 구현.\n",
    "# 이 하나의 레이어 안에는 두 개의 서브 레이어가 존재합니다.\n",
    "def encoder_layer(units, d_model, num_heads, dropout, name=\"encoder_layer\"):\n",
    "  inputs = tf.keras.Input(shape=(None, d_model), name=\"inputs\")\n",
    "\n",
    "  # 패딩 마스크 사용\n",
    "  padding_mask = tf.keras.Input(shape=(1, 1, None), name=\"padding_mask\")\n",
    "\n",
    "  # 첫 번째 서브 레이어 : 멀티 헤드 어텐션 수행 (셀프 어텐션)\n",
    "  attention = MultiHeadAttention(\n",
    "      d_model, num_heads, name=\"attention\")({\n",
    "          'query': inputs,\n",
    "          'key': inputs,\n",
    "          'value': inputs,\n",
    "          'mask': padding_mask\n",
    "      })\n",
    "\n",
    "  # 어텐션의 결과는 Dropout과 Layer Normalization이라는 훈련을 돕는 테크닉을 수행\n",
    "  attention = tf.keras.layers.Dropout(rate=dropout)(attention)\n",
    "  attention = tf.keras.layers.LayerNormalization(epsilon=1e-6)(inputs + attention)\n",
    "\n",
    "  # 두 번째 서브 레이어 : 2개의 완전연결층\n",
    "  outputs = tf.keras.layers.Dense(units=units, activation='relu')(attention)\n",
    "  outputs = tf.keras.layers.Dense(units=d_model)(outputs)\n",
    "\n",
    "  # 완전연결층의 결과는 Dropout과 LayerNormalization이라는 훈련을 돕는 테크닉을 수행\n",
    "  outputs = tf.keras.layers.Dropout(rate=dropout)(outputs)\n",
    "  outputs = tf.keras.layers.LayerNormalization(epsilon=1e-6)(attention + outputs)\n",
    "\n",
    "  return tf.keras.Model(inputs=[inputs, padding_mask], outputs=outputs, name=name)"
   ]
  },
  {
   "cell_type": "code",
   "execution_count": 8,
   "id": "e4a0f30b",
   "metadata": {},
   "outputs": [],
   "source": [
    "def encoder(vocab_size,\n",
    "            num_layers,\n",
    "            units,\n",
    "            d_model,\n",
    "            num_heads,\n",
    "            dropout,\n",
    "            name=\"encoder\"):\n",
    "  inputs = tf.keras.Input(shape=(None,), name=\"inputs\")\n",
    "\n",
    "  # 패딩 마스크 사용\n",
    "  padding_mask = tf.keras.Input(shape=(1, 1, None), name=\"padding_mask\")\n",
    "\n",
    "  # 임베딩 레이어\n",
    "  embeddings = tf.keras.layers.Embedding(vocab_size, d_model)(inputs)\n",
    "  embeddings *= tf.math.sqrt(tf.cast(d_model, tf.float32))\n",
    "\n",
    "  # 포지셔널 인코딩\n",
    "  embeddings = PositionalEncoding(vocab_size, d_model)(embeddings)\n",
    "\n",
    "  outputs = tf.keras.layers.Dropout(rate=dropout)(embeddings)\n",
    "\n",
    "  # num_layers만큼 쌓아올린 인코더의 층.\n",
    "  for i in range(num_layers):\n",
    "    outputs = encoder_layer(\n",
    "        units=units,\n",
    "        d_model=d_model,\n",
    "        num_heads=num_heads,\n",
    "        dropout=dropout,\n",
    "        name=\"encoder_layer_{}\".format(i),\n",
    "    )([outputs, padding_mask])\n",
    "\n",
    "  return tf.keras.Model(\n",
    "      inputs=[inputs, padding_mask], outputs=outputs, name=name)"
   ]
  },
  {
   "cell_type": "markdown",
   "id": "0233fbe8",
   "metadata": {},
   "source": [
    "### 디코더"
   ]
  },
  {
   "cell_type": "code",
   "execution_count": 9,
   "id": "4b90ac7c",
   "metadata": {},
   "outputs": [],
   "source": [
    "# 디코더 하나의 레이어를 함수로 구현.\n",
    "# 이 하나의 레이어 안에는 세 개의 서브 레이어가 존재합니다.\n",
    "def decoder_layer(units, d_model, num_heads, dropout, name=\"decoder_layer\"):\n",
    "  inputs = tf.keras.Input(shape=(None, d_model), name=\"inputs\")\n",
    "  enc_outputs = tf.keras.Input(shape=(None, d_model), name=\"encoder_outputs\")\n",
    "  look_ahead_mask = tf.keras.Input(\n",
    "      shape=(1, None, None), name=\"look_ahead_mask\")\n",
    "  padding_mask = tf.keras.Input(shape=(1, 1, None), name='padding_mask')\n",
    "\n",
    "  # 첫 번째 서브 레이어 : 멀티 헤드 어텐션 수행 (셀프 어텐션)\n",
    "  attention1 = MultiHeadAttention(\n",
    "      d_model, num_heads, name=\"attention_1\")(inputs={\n",
    "          'query': inputs,\n",
    "          'key': inputs,\n",
    "          'value': inputs,\n",
    "          'mask': look_ahead_mask\n",
    "      })\n",
    "\n",
    "  # 멀티 헤드 어텐션의 결과는 LayerNormalization이라는 훈련을 돕는 테크닉을 수행\n",
    "  attention1 = tf.keras.layers.LayerNormalization(\n",
    "      epsilon=1e-6)(attention1 + inputs)\n",
    "\n",
    "  # 두 번째 서브 레이어 : 마스크드 멀티 헤드 어텐션 수행 (인코더-디코더 어텐션)\n",
    "  attention2 = MultiHeadAttention(\n",
    "      d_model, num_heads, name=\"attention_2\")(inputs={\n",
    "          'query': attention1,\n",
    "          'key': enc_outputs,\n",
    "          'value': enc_outputs,\n",
    "          'mask': padding_mask\n",
    "      })\n",
    "\n",
    "  # 마스크드 멀티 헤드 어텐션의 결과는\n",
    "  # Dropout과 LayerNormalization이라는 훈련을 돕는 테크닉을 수행\n",
    "  attention2 = tf.keras.layers.Dropout(rate=dropout)(attention2)\n",
    "  attention2 = tf.keras.layers.LayerNormalization(\n",
    "      epsilon=1e-6)(attention2 + attention1)\n",
    "\n",
    "  # 세 번째 서브 레이어 : 2개의 완전연결층\n",
    "  outputs = tf.keras.layers.Dense(units=units, activation='relu')(attention2)\n",
    "  outputs = tf.keras.layers.Dense(units=d_model)(outputs)\n",
    "\n",
    "  # 완전연결층의 결과는 Dropout과 LayerNormalization 수행\n",
    "  outputs = tf.keras.layers.Dropout(rate=dropout)(outputs)\n",
    "  outputs = tf.keras.layers.LayerNormalization(\n",
    "      epsilon=1e-6)(outputs + attention2)\n",
    "\n",
    "  return tf.keras.Model(\n",
    "      inputs=[inputs, enc_outputs, look_ahead_mask, padding_mask],\n",
    "      outputs=outputs,\n",
    "      name=name)"
   ]
  },
  {
   "cell_type": "code",
   "execution_count": 10,
   "id": "47e94cf2",
   "metadata": {},
   "outputs": [],
   "source": [
    "def decoder(vocab_size,\n",
    "            num_layers,\n",
    "            units,\n",
    "            d_model,\n",
    "            num_heads,\n",
    "            dropout,\n",
    "            name='decoder'):\n",
    "  inputs = tf.keras.Input(shape=(None,), name='inputs')\n",
    "  enc_outputs = tf.keras.Input(shape=(None, d_model), name='encoder_outputs')\n",
    "  look_ahead_mask = tf.keras.Input(\n",
    "      shape=(1, None, None), name='look_ahead_mask')\n",
    "\n",
    "  # 패딩 마스크\n",
    "  padding_mask = tf.keras.Input(shape=(1, 1, None), name='padding_mask')\n",
    "  \n",
    "  # 임베딩 레이어\n",
    "  embeddings = tf.keras.layers.Embedding(vocab_size, d_model)(inputs)\n",
    "  embeddings *= tf.math.sqrt(tf.cast(d_model, tf.float32))\n",
    "\n",
    "  # 포지셔널 인코딩\n",
    "  embeddings = PositionalEncoding(vocab_size, d_model)(embeddings)\n",
    "\n",
    "  # Dropout이라는 훈련을 돕는 테크닉을 수행\n",
    "  outputs = tf.keras.layers.Dropout(rate=dropout)(embeddings)\n",
    "\n",
    "  for i in range(num_layers):\n",
    "    outputs = decoder_layer(\n",
    "        units=units,\n",
    "        d_model=d_model,\n",
    "        num_heads=num_heads,\n",
    "        dropout=dropout,\n",
    "        name='decoder_layer_{}'.format(i),\n",
    "    )(inputs=[outputs, enc_outputs, look_ahead_mask, padding_mask])\n",
    "\n",
    "  return tf.keras.Model(\n",
    "      inputs=[inputs, enc_outputs, look_ahead_mask, padding_mask],\n",
    "      outputs=outputs,\n",
    "      name=name)"
   ]
  },
  {
   "cell_type": "code",
   "execution_count": 11,
   "id": "a24bc80c",
   "metadata": {},
   "outputs": [
    {
     "data": {
      "text/plain": [
       "'/aiffel/aiffel/transformer_chatbot/data/ChatbotData .csv'"
      ]
     },
     "execution_count": 11,
     "metadata": {},
     "output_type": "execute_result"
    }
   ],
   "source": [
    "path_to_dataset = os.getenv(\"HOME\")+\"/aiffel/transformer_chatbot/data/ChatbotData .csv\"\n",
    "path_to_conversations = path_to_dataset\n",
    "path_to_conversations"
   ]
  },
  {
   "cell_type": "code",
   "execution_count": 12,
   "id": "4daee112",
   "metadata": {},
   "outputs": [
    {
     "name": "stdout",
     "output_type": "stream",
     "text": [
      "30000\n"
     ]
    }
   ],
   "source": [
    "# 사용할 샘플의 최대 개수\n",
    "MAX_SAMPLES = 30000\n",
    "print(MAX_SAMPLES)"
   ]
  },
  {
   "cell_type": "markdown",
   "id": "e8531d2b",
   "metadata": {},
   "source": [
    "# Step 2. 데이터 전처리하기\n",
    "- 한글이므로 전처리 과정에 한글도 포함 \n",
    "- 숫자도 포함 "
   ]
  },
  {
   "cell_type": "code",
   "execution_count": 13,
   "id": "3e0ff7b7",
   "metadata": {},
   "outputs": [],
   "source": [
    "# 전처리 함수\n",
    "def preprocess_sentence(sentence):\n",
    "  sentence = sentence.lower().strip()\n",
    "\n",
    "  # 단어와 구두점(punctuation) 사이의 거리를 만듭니다.\n",
    "  # 예를 들어서 \"I am a student.\" => \"I am a student .\"와 같이\n",
    "  # student와 온점 사이에 거리를 만듭니다.\n",
    "  sentence = re.sub(r\"([?.!,])\", r\" \\1 \", sentence)\n",
    "  sentence = re.sub(r'[\" \"]+', \" \", sentence)\n",
    "\n",
    "  # (a-z, A-Z, \".\", \"?\", \"!\", \",\")를 제외한 모든 문자를 공백인 ' '로 대체합니다.\n",
    "  # sentence = re.sub(r\"[^a-zA-Z?.!,]+\", \" \", sentence)\n",
    "  # 한글, 알파벳, 숫자, \n",
    "  sentence = re.sub(r\"[^가-힣a-zA-Z0-9?.!,]+\", \" \", sentence)\n",
    "  sentence = sentence.strip()\n",
    "  return sentence"
   ]
  },
  {
   "cell_type": "code",
   "execution_count": 14,
   "id": "1aae817e",
   "metadata": {},
   "outputs": [],
   "source": [
    "# 질문과 답변의 쌍인 데이터셋을 구성하기 위한 데이터 로드 함수\n",
    "def load_conversations():\n",
    "    inputs, outputs = [], []\n",
    "    with open(path_to_conversations, 'r') as file:\n",
    "        lines = file.readlines()\n",
    "        \n",
    "    conversation = []\n",
    "    for line in lines[1:]:\n",
    "        parts = line.split(',')\n",
    "        conversation.append([line for line in parts[0:2]])\n",
    "\n",
    "        \n",
    "    for i in range(len(conversation) - 1):\n",
    "        # 전처리 함수를 질문에 해당되는 inputs와 답변에 해당되는 outputs에 적용.\n",
    "        inputs.append(preprocess_sentence(conversation[i][0]))\n",
    "        outputs.append(preprocess_sentence(conversation[i][1]))\n",
    "\n",
    "    if len(inputs) >= MAX_SAMPLES:\n",
    "        return inputs, outputs\n",
    "\n",
    "    return inputs, outputs"
   ]
  },
  {
   "cell_type": "code",
   "execution_count": 15,
   "id": "5b43c1b1",
   "metadata": {},
   "outputs": [
    {
     "name": "stdout",
     "output_type": "stream",
     "text": [
      "전체 샘플 수 : 11822\n",
      "전체 샘플 수 : 11822\n"
     ]
    }
   ],
   "source": [
    "# 데이터를 로드하고 전처리하여 질문을 questions, 답변을 answers에 저장합니다.\n",
    "questions, answers = load_conversations()\n",
    "print('전체 샘플 수 :', len(questions))\n",
    "print('전체 샘플 수 :', len(answers))"
   ]
  },
  {
   "cell_type": "code",
   "execution_count": 16,
   "id": "8351271b",
   "metadata": {},
   "outputs": [
    {
     "name": "stdout",
     "output_type": "stream",
     "text": [
      "전처리 후의 22번째 질문 샘플: 가스비 장난 아님\n",
      "전처리 후의 22번째 답변 샘플: 다음 달에는 더 절약해봐요 .\n"
     ]
    }
   ],
   "source": [
    "print('전처리 후의 22번째 질문 샘플: {}'.format(questions[21]))\n",
    "print('전처리 후의 22번째 답변 샘플: {}'.format(answers[21]))"
   ]
  },
  {
   "cell_type": "markdown",
   "id": "c8776f5a",
   "metadata": {},
   "source": [
    "# Step 3. SubwordTextEncoder 사용하기"
   ]
  },
  {
   "cell_type": "code",
   "execution_count": 17,
   "id": "9c82ccbb",
   "metadata": {},
   "outputs": [],
   "source": [
    "tokenizer = tfds.deprecated.text.SubwordTextEncoder.build_from_corpus(questions + answers, target_vocab_size=2**13)"
   ]
  },
  {
   "cell_type": "code",
   "execution_count": 18,
   "id": "9e8ed1ce",
   "metadata": {},
   "outputs": [
    {
     "name": "stdout",
     "output_type": "stream",
     "text": [
      "START_TOKEN의 번호 : [8138]\n",
      "END_TOKEN의 번호 : [8139]\n"
     ]
    }
   ],
   "source": [
    "# 시작 토큰과 종료 토큰에 고유한 정수를 부여합니다.\n",
    "START_TOKEN, END_TOKEN = [tokenizer.vocab_size], [tokenizer.vocab_size + 1]\n",
    "\n",
    "print('START_TOKEN의 번호 :' ,[tokenizer.vocab_size])\n",
    "print('END_TOKEN의 번호 :' ,[tokenizer.vocab_size + 1])"
   ]
  },
  {
   "cell_type": "code",
   "execution_count": 19,
   "id": "4c8cdaa7",
   "metadata": {},
   "outputs": [
    {
     "name": "stdout",
     "output_type": "stream",
     "text": [
      "8140\n"
     ]
    }
   ],
   "source": [
    "# 시작 토큰과 종료 토큰을 고려하여 +2를 하여 단어장의 크기를 산정합니다.\n",
    "VOCAB_SIZE = tokenizer.vocab_size + 2\n",
    "print(VOCAB_SIZE)"
   ]
  },
  {
   "cell_type": "code",
   "execution_count": 20,
   "id": "550f7c9d",
   "metadata": {},
   "outputs": [
    {
     "name": "stdout",
     "output_type": "stream",
     "text": [
      "정수 인코딩 후의 21번째 질문 샘플: [5736, 607, 2478, 4139]\n",
      "정수 인코딩 후의 21번째 답변 샘플: [2347, 7482, 7, 6245, 96, 1]\n"
     ]
    }
   ],
   "source": [
    "# 임의의 22번째 샘플에 대해서 정수 인코딩 작업을 수행.\n",
    "# 각 토큰을 고유한 정수로 변환\n",
    "print('정수 인코딩 후의 21번째 질문 샘플: {}'.format(tokenizer.encode(questions[21])))\n",
    "print('정수 인코딩 후의 21번째 답변 샘플: {}'.format(tokenizer.encode(answers[21])))"
   ]
  },
  {
   "cell_type": "markdown",
   "id": "ed29c226",
   "metadata": {},
   "source": [
    "### 익스 8번 뉴스 요약 코드 참고\n",
    "- 거의 포함 될 수 있는 길이 11로 세팅 "
   ]
  },
  {
   "cell_type": "code",
   "execution_count": 21,
   "id": "e47a8611",
   "metadata": {},
   "outputs": [
    {
     "name": "stdout",
     "output_type": "stream",
     "text": [
      "questions 최대 길이 : 16\n",
      "questions 평균 길이 : 3.9260700389105057\n",
      "answers 최대 길이 : 24\n",
      "answers 평균 길이 : 4.685078666892235\n"
     ]
    }
   ],
   "source": [
    "questions_len = [len(s.split()) for s in questions]\n",
    "answers_len = [len(s.split()) for s in answers]\n",
    "print(f'questions 최대 길이 : {np.max(questions_len)}')\n",
    "print(f'questions 평균 길이 : {np.mean(questions_len)}')\n",
    "print(f'answers 최대 길이 : {np.max(answers_len)}')\n",
    "print(f'answers 평균 길이 : {np.mean(answers_len)}')"
   ]
  },
  {
   "cell_type": "code",
   "execution_count": 22,
   "id": "babfd615",
   "metadata": {},
   "outputs": [
    {
     "data": {
      "image/png": "[encoded data removed]",
      "text/plain": [
       "<Figure size 432x288 with 1 Axes>"
      ]
     },
     "metadata": {
      "needs_background": "light"
     },
     "output_type": "display_data"
    },
    {
     "data": {
      "image/png": "[encoded data removed]",
      "text/plain": [
       "<Figure size 432x288 with 1 Axes>"
      ]
     },
     "metadata": {
      "needs_background": "light"
     },
     "output_type": "display_data"
    }
   ],
   "source": [
    "plt.title('questions')\n",
    "plt.hist(questions_len, bins = 40)\n",
    "plt.xlabel('length of samples')\n",
    "plt.ylabel('number of samples')\n",
    "plt.show()\n",
    "\n",
    "plt.title('answers')\n",
    "plt.hist(answers_len, bins = 40)\n",
    "plt.xlabel('length of samples')\n",
    "plt.ylabel('number of samples')\n",
    "plt.show()"
   ]
  },
  {
   "cell_type": "code",
   "execution_count": 23,
   "id": "ea368860",
   "metadata": {},
   "outputs": [],
   "source": [
    "# 최대 허용 길이 지정\n",
    "MAX_LENGTH = 11"
   ]
  },
  {
   "cell_type": "code",
   "execution_count": 24,
   "id": "3be5ce1a",
   "metadata": {},
   "outputs": [],
   "source": [
    "# 정수 인코딩, 최대 길이를 초과하는 샘플 제거, 패딩\n",
    "def tokenize_and_filter(inputs, outputs):\n",
    "  tokenized_inputs, tokenized_outputs = [], []\n",
    "  \n",
    "  for (sentence1, sentence2) in zip(inputs, outputs):\n",
    "    # 정수 인코딩 과정에서 시작 토큰과 종료 토큰을 추가\n",
    "    sentence1 = START_TOKEN + tokenizer.encode(sentence1) + END_TOKEN\n",
    "    sentence2 = START_TOKEN + tokenizer.encode(sentence2) + END_TOKEN\n",
    "\n",
    "    # 최대 길이 40 이하인 경우에만 데이터셋으로 허용\n",
    "    if len(sentence1) <= MAX_LENGTH and len(sentence2) <= MAX_LENGTH:\n",
    "      tokenized_inputs.append(sentence1)\n",
    "      tokenized_outputs.append(sentence2)\n",
    "  \n",
    "  # 최대 길이 40으로 모든 데이터셋을 패딩\n",
    "  tokenized_inputs = tf.keras.preprocessing.sequence.pad_sequences(\n",
    "      tokenized_inputs, maxlen=MAX_LENGTH, padding='post')\n",
    "  tokenized_outputs = tf.keras.preprocessing.sequence.pad_sequences(\n",
    "      tokenized_outputs, maxlen=MAX_LENGTH, padding='post')\n",
    "  \n",
    "  return tokenized_inputs, tokenized_outputs"
   ]
  },
  {
   "cell_type": "code",
   "execution_count": 25,
   "id": "8e52fd6a",
   "metadata": {},
   "outputs": [
    {
     "name": "stdout",
     "output_type": "stream",
     "text": [
      "단어장의 크기 : 8140\n",
      "필터링 후의 질문 샘플 개수: 10166\n",
      "필터링 후의 답변 샘플 개수: 10166\n"
     ]
    }
   ],
   "source": [
    "questions, answers = tokenize_and_filter(questions, answers)\n",
    "print('단어장의 크기 :',(VOCAB_SIZE))\n",
    "print('필터링 후의 질문 샘플 개수: {}'.format(len(questions)))\n",
    "print('필터링 후의 답변 샘플 개수: {}'.format(len(answers)))"
   ]
  },
  {
   "cell_type": "markdown",
   "id": "5b3080bf",
   "metadata": {},
   "source": [
    "교사 강요(Teacher Forcing) 사용하기"
   ]
  },
  {
   "cell_type": "code",
   "execution_count": 26,
   "id": "008501ec",
   "metadata": {},
   "outputs": [],
   "source": [
    "BATCH_SIZE = 64\n",
    "BUFFER_SIZE = 20000\n",
    "\n",
    "# 디코더는 이전의 target을 다음의 input으로 사용합니다.\n",
    "# 이에 따라 outputs에서는 START_TOKEN을 제거하겠습니다.\n",
    "dataset = tf.data.Dataset.from_tensor_slices((\n",
    "    {\n",
    "        'inputs': questions,\n",
    "        'dec_inputs': answers[:, :-1]\n",
    "    },\n",
    "    {\n",
    "        'outputs': answers[:, 1:]\n",
    "    },\n",
    "))\n",
    "\n",
    "dataset = dataset.cache()\n",
    "dataset = dataset.shuffle(BUFFER_SIZE)\n",
    "dataset = dataset.batch(BATCH_SIZE)\n",
    "dataset = dataset.prefetch(tf.data.experimental.AUTOTUNE)"
   ]
  },
  {
   "cell_type": "markdown",
   "id": "f978fe96",
   "metadata": {},
   "source": [
    "# Step 4. 모델 구성하기"
   ]
  },
  {
   "cell_type": "markdown",
   "id": "ec66f805",
   "metadata": {},
   "source": [
    "트랜스포머 함수 정의"
   ]
  },
  {
   "cell_type": "code",
   "execution_count": 27,
   "id": "60af59c0",
   "metadata": {},
   "outputs": [],
   "source": [
    "def transformer(vocab_size,\n",
    "                num_layers,\n",
    "                units,\n",
    "                d_model,\n",
    "                num_heads,\n",
    "                dropout,\n",
    "                name=\"transformer\"):\n",
    "  inputs = tf.keras.Input(shape=(None,), name=\"inputs\")\n",
    "  dec_inputs = tf.keras.Input(shape=(None,), name=\"dec_inputs\")\n",
    "\n",
    "  # 인코더에서 패딩을 위한 마스크\n",
    "  enc_padding_mask = tf.keras.layers.Lambda(\n",
    "      create_padding_mask, output_shape=(1, 1, None),\n",
    "      name='enc_padding_mask')(inputs)\n",
    "\n",
    "  # 디코더에서 미래의 토큰을 마스크 하기 위해서 사용합니다.\n",
    "  # 내부적으로 패딩 마스크도 포함되어져 있습니다.\n",
    "  look_ahead_mask = tf.keras.layers.Lambda(\n",
    "      create_look_ahead_mask,\n",
    "      output_shape=(1, None, None),\n",
    "      name='look_ahead_mask')(dec_inputs)\n",
    "\n",
    "  # 두 번째 어텐션 블록에서 인코더의 벡터들을 마스킹\n",
    "  # 디코더에서 패딩을 위한 마스크\n",
    "  dec_padding_mask = tf.keras.layers.Lambda(\n",
    "      create_padding_mask, output_shape=(1, 1, None),\n",
    "      name='dec_padding_mask')(inputs)\n",
    "\n",
    "  # 인코더\n",
    "  enc_outputs = encoder(\n",
    "      vocab_size=vocab_size,\n",
    "      num_layers=num_layers,\n",
    "      units=units,\n",
    "      d_model=d_model,\n",
    "      num_heads=num_heads,\n",
    "      dropout=dropout,\n",
    "  )(inputs=[inputs, enc_padding_mask])\n",
    "\n",
    "  # 디코더\n",
    "  dec_outputs = decoder(\n",
    "      vocab_size=vocab_size,\n",
    "      num_layers=num_layers,\n",
    "      units=units,\n",
    "      d_model=d_model,\n",
    "      num_heads=num_heads,\n",
    "      dropout=dropout,\n",
    "  )(inputs=[dec_inputs, enc_outputs, look_ahead_mask, dec_padding_mask])\n",
    "\n",
    "  # 완전연결층\n",
    "  outputs = tf.keras.layers.Dense(units=vocab_size, name=\"outputs\")(dec_outputs)\n",
    "\n",
    "  return tf.keras.Model(inputs=[inputs, dec_inputs], outputs=outputs, name=name)"
   ]
  },
  {
   "cell_type": "markdown",
   "id": "94396d73",
   "metadata": {},
   "source": [
    "모델 생성"
   ]
  },
  {
   "cell_type": "code",
   "execution_count": 28,
   "id": "d49e592f",
   "metadata": {},
   "outputs": [
    {
     "name": "stdout",
     "output_type": "stream",
     "text": [
      "Model: \"transformer\"\n",
      "__________________________________________________________________________________________________\n",
      "Layer (type)                    Output Shape         Param #     Connected to                     \n",
      "==================================================================================================\n",
      "inputs (InputLayer)             [(None, None)]       0                                            \n",
      "__________________________________________________________________________________________________\n",
      "dec_inputs (InputLayer)         [(None, None)]       0                                            \n",
      "__________________________________________________________________________________________________\n",
      "enc_padding_mask (Lambda)       (None, 1, 1, None)   0           inputs[0][0]                     \n",
      "__________________________________________________________________________________________________\n",
      "encoder (Functional)            (None, None, 256)    3138048     inputs[0][0]                     \n",
      "                                                                 enc_padding_mask[0][0]           \n",
      "__________________________________________________________________________________________________\n",
      "look_ahead_mask (Lambda)        (None, 1, None, None 0           dec_inputs[0][0]                 \n",
      "__________________________________________________________________________________________________\n",
      "dec_padding_mask (Lambda)       (None, 1, 1, None)   0           inputs[0][0]                     \n",
      "__________________________________________________________________________________________________\n",
      "decoder (Functional)            (None, None, 256)    3665408     dec_inputs[0][0]                 \n",
      "                                                                 encoder[0][0]                    \n",
      "                                                                 look_ahead_mask[0][0]            \n",
      "                                                                 dec_padding_mask[0][0]           \n",
      "__________________________________________________________________________________________________\n",
      "outputs (Dense)                 (None, None, 8140)   2091980     decoder[0][0]                    \n",
      "==================================================================================================\n",
      "Total params: 8,895,436\n",
      "Trainable params: 8,895,436\n",
      "Non-trainable params: 0\n",
      "__________________________________________________________________________________________________\n"
     ]
    }
   ],
   "source": [
    "tf.keras.backend.clear_session()\n",
    "\n",
    "# 하이퍼파라미터\n",
    "NUM_LAYERS = 2 # 인코더와 디코더의 층의 개수\n",
    "D_MODEL = 256 # 인코더와 디코더 내부의 입, 출력의 고정 차원\n",
    "NUM_HEADS = 8 # 멀티 헤드 어텐션에서의 헤드 수 \n",
    "UNITS = 512 # 피드 포워드 신경망의 은닉층의 크기\n",
    "DROPOUT = 0.1 # 드롭아웃의 비율\n",
    "\n",
    "model = transformer(\n",
    "    vocab_size=VOCAB_SIZE,\n",
    "    num_layers=NUM_LAYERS,\n",
    "    units=UNITS,\n",
    "    d_model=D_MODEL,\n",
    "    num_heads=NUM_HEADS,\n",
    "    dropout=DROPOUT)\n",
    "\n",
    "model.summary()"
   ]
  },
  {
   "cell_type": "markdown",
   "id": "0503735e",
   "metadata": {},
   "source": [
    "손실 함수"
   ]
  },
  {
   "cell_type": "code",
   "execution_count": 29,
   "id": "4160b71f",
   "metadata": {},
   "outputs": [],
   "source": [
    "def loss_function(y_true, y_pred):\n",
    "  y_true = tf.reshape(y_true, shape=(-1, MAX_LENGTH - 1))\n",
    "  \n",
    "  loss = tf.keras.losses.SparseCategoricalCrossentropy(\n",
    "      from_logits=True, reduction='none')(y_true, y_pred)\n",
    "\n",
    "  mask = tf.cast(tf.not_equal(y_true, 0), tf.float32)\n",
    "  loss = tf.multiply(loss, mask)\n",
    "\n",
    "  return tf.reduce_mean(loss)"
   ]
  },
  {
   "cell_type": "markdown",
   "id": "812a11aa",
   "metadata": {},
   "source": [
    "커스텀 된 학습률(Learning rate)"
   ]
  },
  {
   "cell_type": "code",
   "execution_count": 30,
   "id": "579789a3",
   "metadata": {},
   "outputs": [],
   "source": [
    "class CustomSchedule(tf.keras.optimizers.schedules.LearningRateSchedule):\n",
    "\n",
    "  def __init__(self, d_model, warmup_steps=4000):\n",
    "    super(CustomSchedule, self).__init__()\n",
    "\n",
    "    self.d_model = d_model\n",
    "    self.d_model = tf.cast(self.d_model, tf.float32)\n",
    "\n",
    "    self.warmup_steps = warmup_steps\n",
    "\n",
    "  def __call__(self, step):\n",
    "    arg1 = tf.math.rsqrt(step)\n",
    "    arg2 = step * (self.warmup_steps**-1.5)\n",
    "\n",
    "    return tf.math.rsqrt(self.d_model) * tf.math.minimum(arg1, arg2)"
   ]
  },
  {
   "cell_type": "code",
   "execution_count": 31,
   "id": "217b1d5f",
   "metadata": {},
   "outputs": [
    {
     "data": {
      "text/plain": [
       "Text(0.5, 0, 'Train Step')"
      ]
     },
     "execution_count": 31,
     "metadata": {},
     "output_type": "execute_result"
    },
    {
     "data": {
      "image/png": "[encoded data removed]",
      "text/plain": [
       "<Figure size 432x288 with 1 Axes>"
      ]
     },
     "metadata": {
      "needs_background": "light"
     },
     "output_type": "display_data"
    }
   ],
   "source": [
    "sample_learning_rate = CustomSchedule(d_model=128)\n",
    "\n",
    "plt.plot(sample_learning_rate(tf.range(200000, dtype=tf.float32)))\n",
    "plt.ylabel(\"Learning Rate\")\n",
    "plt.xlabel(\"Train Step\")"
   ]
  },
  {
   "cell_type": "markdown",
   "id": "2def416d",
   "metadata": {},
   "source": [
    "모델 컴파일"
   ]
  },
  {
   "cell_type": "code",
   "execution_count": 32,
   "id": "40bf17d7",
   "metadata": {},
   "outputs": [],
   "source": [
    "learning_rate = CustomSchedule(D_MODEL)\n",
    "\n",
    "optimizer = tf.keras.optimizers.Adam(\n",
    "    learning_rate, beta_1=0.9, beta_2=0.98, epsilon=1e-9)\n",
    "\n",
    "def accuracy(y_true, y_pred):\n",
    "  y_true = tf.reshape(y_true, shape=(-1, MAX_LENGTH - 1))\n",
    "  return tf.keras.metrics.sparse_categorical_accuracy(y_true, y_pred)\n",
    "\n",
    "model.compile(optimizer=optimizer, loss=loss_function, metrics=[accuracy])"
   ]
  },
  {
   "cell_type": "code",
   "execution_count": 33,
   "id": "38a3dbc4",
   "metadata": {},
   "outputs": [
    {
     "name": "stdout",
     "output_type": "stream",
     "text": [
      "Epoch 1/20\n",
      "159/159 [==============================] - 11s 29ms/step - loss: 5.2117 - accuracy: 0.0900\n",
      "Epoch 2/20\n",
      "159/159 [==============================] - 5s 29ms/step - loss: 4.2906 - accuracy: 0.1890\n",
      "Epoch 3/20\n",
      "159/159 [==============================] - 5s 29ms/step - loss: 3.5747 - accuracy: 0.1936\n",
      "Epoch 4/20\n",
      "159/159 [==============================] - 5s 29ms/step - loss: 3.2560 - accuracy: 0.2016\n",
      "Epoch 5/20\n",
      "159/159 [==============================] - 5s 29ms/step - loss: 3.0603 - accuracy: 0.2131\n",
      "Epoch 6/20\n",
      "159/159 [==============================] - 5s 29ms/step - loss: 2.8720 - accuracy: 0.2241\n",
      "Epoch 7/20\n",
      "159/159 [==============================] - 5s 29ms/step - loss: 2.6703 - accuracy: 0.2421\n",
      "Epoch 8/20\n",
      "159/159 [==============================] - 5s 28ms/step - loss: 2.4419 - accuracy: 0.2670\n",
      "Epoch 9/20\n",
      "159/159 [==============================] - 5s 28ms/step - loss: 2.1896 - accuracy: 0.2976\n",
      "Epoch 10/20\n",
      "159/159 [==============================] - 5s 29ms/step - loss: 1.9258 - accuracy: 0.3278\n",
      "Epoch 11/20\n",
      "159/159 [==============================] - 5s 29ms/step - loss: 1.6472 - accuracy: 0.3623\n",
      "Epoch 12/20\n",
      "159/159 [==============================] - 5s 28ms/step - loss: 1.3711 - accuracy: 0.3974\n",
      "Epoch 13/20\n",
      "159/159 [==============================] - 5s 29ms/step - loss: 1.1055 - accuracy: 0.4343\n",
      "Epoch 14/20\n",
      "159/159 [==============================] - 5s 28ms/step - loss: 0.8634 - accuracy: 0.4707\n",
      "Epoch 15/20\n",
      "159/159 [==============================] - 5s 29ms/step - loss: 0.6502 - accuracy: 0.5043\n",
      "Epoch 16/20\n",
      "159/159 [==============================] - 5s 29ms/step - loss: 0.4767 - accuracy: 0.5333\n",
      "Epoch 17/20\n",
      "159/159 [==============================] - 5s 29ms/step - loss: 0.3375 - accuracy: 0.5592\n",
      "Epoch 18/20\n",
      "159/159 [==============================] - 5s 28ms/step - loss: 0.2408 - accuracy: 0.5766\n",
      "Epoch 19/20\n",
      "159/159 [==============================] - 5s 29ms/step - loss: 0.1779 - accuracy: 0.5868\n",
      "Epoch 20/20\n",
      "159/159 [==============================] - 5s 29ms/step - loss: 0.1384 - accuracy: 0.5932\n"
     ]
    },
    {
     "data": {
      "text/plain": [
       "<keras.callbacks.History at 0x7fdf83ace250>"
      ]
     },
     "execution_count": 33,
     "metadata": {},
     "output_type": "execute_result"
    }
   ],
   "source": [
    "EPOCHS = 20\n",
    "model.fit(dataset, epochs=EPOCHS, verbose=1)"
   ]
  },
  {
   "cell_type": "markdown",
   "id": "d9da7343",
   "metadata": {},
   "source": [
    "# Step 5. 모델 평가하기"
   ]
  },
  {
   "cell_type": "code",
   "execution_count": 34,
   "id": "dae7e225",
   "metadata": {},
   "outputs": [],
   "source": [
    "def decoder_inference(sentence):\n",
    "    sentence = preprocess_sentence(sentence)\n",
    "\n",
    "    # 입력된 문장을 정수 인코딩 후, 시작 토큰과 종료 토큰을 앞뒤로 추가.\n",
    "    # ex) Where have you been? → [[8331  86  30  5  1059  7  8332]]\n",
    "    sentence = tf.expand_dims(START_TOKEN + tokenizer.encode(sentence) + END_TOKEN, axis=0)\n",
    "\n",
    "    # 디코더의 현재까지의 예측한 출력 시퀀스가 지속적으로 저장되는 변수.\n",
    "    # 처음에는 예측한 내용이 없음으로 시작 토큰만 별도 저장. ex) 8331\n",
    "    output_sequence = tf.expand_dims(START_TOKEN, 0)\n",
    "\n",
    "    # 디코더의 인퍼런스 단계\n",
    "    for i in range(MAX_LENGTH):\n",
    "        # 디코더는 최대 MAX_LENGTH의 길이만큼 다음 단어 예측을 반복합니다.\n",
    "        predictions = model(inputs=[sentence, output_sequence], training=False)\n",
    "        predictions = predictions[:, -1:, :]\n",
    "\n",
    "        # 현재 예측한 단어의 정수\n",
    "        predicted_id = tf.cast(tf.argmax(predictions, axis=-1), tf.int32)\n",
    "\n",
    "        # 만약 현재 예측한 단어가 종료 토큰이라면 for문을 종료\n",
    "        if tf.equal(predicted_id, END_TOKEN[0]):\n",
    "            break\n",
    "\n",
    "        # 예측한 단어들은 지속적으로 output_sequence에 추가됩니다.\n",
    "        # 이 output_sequence는 다시 디코더의 입력이 됩니다.\n",
    "        output_sequence = tf.concat([output_sequence, predicted_id], axis=-1)\n",
    "\n",
    "    return tf.squeeze(output_sequence, axis=0)"
   ]
  },
  {
   "cell_type": "code",
   "execution_count": 35,
   "id": "982df49b",
   "metadata": {},
   "outputs": [],
   "source": [
    "# 임의의 입력 문장에 대해서 decoder_inference() 함수를 호출하여 챗봇의 대답을 얻는 함수\n",
    "def sentence_generation(sentence):\n",
    "    # 입력 문장에 대해서 디코더를 동작 시켜 예측된 정수 시퀀스를 리턴받습니다.\n",
    "    prediction = decoder_inference(sentence)\n",
    "\n",
    "    # 정수 시퀀스를 다시 텍스트 시퀀스로 변환합니다.\n",
    "    predicted_sentence = tokenizer.decode(\n",
    "      [i for i in prediction if i < tokenizer.vocab_size])\n",
    "\n",
    "    print('입력 : {}'.format(sentence))\n",
    "    print('출력 : {}'.format(predicted_sentence))\n",
    "\n",
    "    return predicted_sentence"
   ]
  },
  {
   "cell_type": "code",
   "execution_count": 36,
   "id": "0a932d99",
   "metadata": {},
   "outputs": [
    {
     "name": "stdout",
     "output_type": "stream",
     "text": [
      "입력 : 내일 날씨는 어때?\n",
      "출력 : 사랑이 깊이 생각하지 말아요 .\n",
      "입력 : 어떤 영화 좋아해?\n",
      "출력 : 영화는 데이트의 기본이죠 .\n",
      "입력 : 오늘 뭐먹지?\n",
      "출력 : 정확하게 말씀해 주세요 .\n",
      "입력 : 피곤하고 잠와\n",
      "출력 : 사람은 외로운 동물이죠 .\n",
      "입력 : 사랑해\n",
      "출력 : 상대방에게 전해보세요 .\n"
     ]
    },
    {
     "data": {
      "text/plain": [
       "'상대방에게 전해보세요 .'"
      ]
     },
     "execution_count": 36,
     "metadata": {},
     "output_type": "execute_result"
    }
   ],
   "source": [
    "sentence_generation('내일 날씨는 어때?')\n",
    "sentence_generation('어떤 영화 좋아해?')\n",
    "sentence_generation('오늘 뭐먹지?')\n",
    "sentence_generation('피곤하고 잠와')\n",
    "sentence_generation('사랑해')"
   ]
  },
  {
   "cell_type": "markdown",
   "id": "57df2abf",
   "metadata": {},
   "source": [
    "# 두번째 시도 \n",
    "- D_MODEL = 512\n",
    "- DROPOUT = 0.5"
   ]
  },
  {
   "cell_type": "code",
   "execution_count": 37,
   "id": "87346f7c",
   "metadata": {},
   "outputs": [
    {
     "name": "stdout",
     "output_type": "stream",
     "text": [
      "Model: \"transformer\"\n",
      "__________________________________________________________________________________________________\n",
      "Layer (type)                    Output Shape         Param #     Connected to                     \n",
      "==================================================================================================\n",
      "inputs (InputLayer)             [(None, None)]       0                                            \n",
      "__________________________________________________________________________________________________\n",
      "dec_inputs (InputLayer)         [(None, None)]       0                                            \n",
      "__________________________________________________________________________________________________\n",
      "enc_padding_mask (Lambda)       (None, 1, 1, None)   0           inputs[0][0]                     \n",
      "__________________________________________________________________________________________________\n",
      "encoder (Functional)            (None, None, 512)    7323648     inputs[0][0]                     \n",
      "                                                                 enc_padding_mask[0][0]           \n",
      "__________________________________________________________________________________________________\n",
      "look_ahead_mask (Lambda)        (None, 1, None, None 0           dec_inputs[0][0]                 \n",
      "__________________________________________________________________________________________________\n",
      "dec_padding_mask (Lambda)       (None, 1, 1, None)   0           inputs[0][0]                     \n",
      "__________________________________________________________________________________________________\n",
      "decoder (Functional)            (None, None, 512)    9426944     dec_inputs[0][0]                 \n",
      "                                                                 encoder[0][0]                    \n",
      "                                                                 look_ahead_mask[0][0]            \n",
      "                                                                 dec_padding_mask[0][0]           \n",
      "__________________________________________________________________________________________________\n",
      "outputs (Dense)                 (None, None, 8140)   4175820     decoder[0][0]                    \n",
      "==================================================================================================\n",
      "Total params: 20,926,412\n",
      "Trainable params: 20,926,412\n",
      "Non-trainable params: 0\n",
      "__________________________________________________________________________________________________\n"
     ]
    }
   ],
   "source": [
    "tf.keras.backend.clear_session()\n",
    "\n",
    "# 하이퍼파라미터\n",
    "NUM_LAYERS = 2 # 인코더와 디코더의 층의 개수\n",
    "D_MODEL = 512 # 인코더와 디코더 내부의 입, 출력의 고정 차원\n",
    "NUM_HEADS = 8 # 멀티 헤드 어텐션에서의 헤드 수 \n",
    "UNITS = 512 # 피드 포워드 신경망의 은닉층의 크기\n",
    "DROPOUT = 0.5 # 드롭아웃의 비율\n",
    "\n",
    "model = transformer(\n",
    "    vocab_size=VOCAB_SIZE,\n",
    "    num_layers=NUM_LAYERS,\n",
    "    units=UNITS,\n",
    "    d_model=D_MODEL,\n",
    "    num_heads=NUM_HEADS,\n",
    "    dropout=DROPOUT)\n",
    "\n",
    "model.summary()"
   ]
  },
  {
   "cell_type": "code",
   "execution_count": 38,
   "id": "8c5c01e5",
   "metadata": {},
   "outputs": [],
   "source": [
    "learning_rate = CustomSchedule(D_MODEL)\n",
    "\n",
    "optimizer = tf.keras.optimizers.Adam(\n",
    "    learning_rate, beta_1=0.9, beta_2=0.98, epsilon=1e-9)\n",
    "\n",
    "def accuracy(y_true, y_pred):\n",
    "  y_true = tf.reshape(y_true, shape=(-1, MAX_LENGTH - 1))\n",
    "  return tf.keras.metrics.sparse_categorical_accuracy(y_true, y_pred)\n",
    "\n",
    "model.compile(optimizer=optimizer, loss=loss_function, metrics=[accuracy])"
   ]
  },
  {
   "cell_type": "code",
   "execution_count": 39,
   "id": "913a4530",
   "metadata": {
    "scrolled": true
   },
   "outputs": [
    {
     "name": "stdout",
     "output_type": "stream",
     "text": [
      "Epoch 1/20\n",
      "159/159 [==============================] - 12s 40ms/step - loss: 5.0963 - accuracy: 0.0753\n",
      "Epoch 2/20\n",
      "159/159 [==============================] - 6s 40ms/step - loss: 4.0158 - accuracy: 0.1588\n",
      "Epoch 3/20\n",
      "159/159 [==============================] - 6s 40ms/step - loss: 3.5338 - accuracy: 0.1927\n",
      "Epoch 4/20\n",
      "159/159 [==============================] - 6s 40ms/step - loss: 3.3979 - accuracy: 0.1945\n",
      "Epoch 5/20\n",
      "159/159 [==============================] - 6s 40ms/step - loss: 3.2878 - accuracy: 0.1968\n",
      "Epoch 6/20\n",
      "159/159 [==============================] - 6s 40ms/step - loss: 3.1926 - accuracy: 0.2024\n",
      "Epoch 7/20\n",
      "159/159 [==============================] - 6s 40ms/step - loss: 3.0988 - accuracy: 0.2088\n",
      "Epoch 8/20\n",
      "159/159 [==============================] - 6s 40ms/step - loss: 3.0023 - accuracy: 0.2142\n",
      "Epoch 9/20\n",
      "159/159 [==============================] - 6s 40ms/step - loss: 2.8864 - accuracy: 0.2214\n",
      "Epoch 10/20\n",
      "159/159 [==============================] - 6s 40ms/step - loss: 2.7514 - accuracy: 0.2301\n",
      "Epoch 11/20\n",
      "159/159 [==============================] - 6s 40ms/step - loss: 2.5936 - accuracy: 0.2422\n",
      "Epoch 12/20\n",
      "159/159 [==============================] - 6s 40ms/step - loss: 2.4188 - accuracy: 0.2578\n",
      "Epoch 13/20\n",
      "159/159 [==============================] - 6s 40ms/step - loss: 2.2351 - accuracy: 0.2760\n",
      "Epoch 14/20\n",
      "159/159 [==============================] - 6s 40ms/step - loss: 2.0477 - accuracy: 0.2951\n",
      "Epoch 15/20\n",
      "159/159 [==============================] - 6s 40ms/step - loss: 1.8751 - accuracy: 0.3135\n",
      "Epoch 16/20\n",
      "159/159 [==============================] - 6s 40ms/step - loss: 1.7098 - accuracy: 0.3327\n",
      "Epoch 17/20\n",
      "159/159 [==============================] - 6s 40ms/step - loss: 1.5635 - accuracy: 0.3487\n",
      "Epoch 18/20\n",
      "159/159 [==============================] - 6s 40ms/step - loss: 1.4403 - accuracy: 0.3645\n",
      "Epoch 19/20\n",
      "159/159 [==============================] - 6s 40ms/step - loss: 1.3337 - accuracy: 0.3784\n",
      "Epoch 20/20\n",
      "159/159 [==============================] - 6s 40ms/step - loss: 1.2428 - accuracy: 0.3920\n"
     ]
    },
    {
     "data": {
      "text/plain": [
       "<keras.callbacks.History at 0x7fdef4689d60>"
      ]
     },
     "execution_count": 39,
     "metadata": {},
     "output_type": "execute_result"
    }
   ],
   "source": [
    "EPOCHS = 20\n",
    "model.fit(dataset, epochs=EPOCHS, verbose=1)"
   ]
  },
  {
   "cell_type": "code",
   "execution_count": 40,
   "id": "9274f375",
   "metadata": {},
   "outputs": [
    {
     "name": "stdout",
     "output_type": "stream",
     "text": [
      "입력 : 내일 날씨는 어때?\n",
      "출력 : 혼자 풀릴 때까지 놔둬야하는데 기다리는게 힘들 거예요 .\n",
      "입력 : 어떤 영화 좋아해?\n",
      "출력 : 아무래도 그렇죠 .\n",
      "입력 : 오늘 뭐먹지?\n",
      "출력 : 혼자 힘들어하지 마세요 .\n",
      "입력 : 피곤하고 잠와\n",
      "출력 : 저도 듣고 싶어요 .\n",
      "입력 : 사랑해\n",
      "출력 : 좋은 소식이네요 .\n"
     ]
    },
    {
     "data": {
      "text/plain": [
       "'좋은 소식이네요 .'"
      ]
     },
     "execution_count": 40,
     "metadata": {},
     "output_type": "execute_result"
    }
   ],
   "source": [
    "sentence_generation('내일 날씨는 어때?')\n",
    "sentence_generation('어떤 영화 좋아해?')\n",
    "sentence_generation('오늘 뭐먹지?')\n",
    "sentence_generation('피곤하고 잠와')\n",
    "sentence_generation('사랑해')"
   ]
  },
  {
   "cell_type": "markdown",
   "id": "24a445c8",
   "metadata": {},
   "source": [
    "# 세번째 시도 \n",
    "- DROPOUT = 0.5\n",
    "- EPOCHS =50"
   ]
  },
  {
   "cell_type": "code",
   "execution_count": 41,
   "id": "47d11129",
   "metadata": {},
   "outputs": [
    {
     "name": "stdout",
     "output_type": "stream",
     "text": [
      "Model: \"transformer\"\n",
      "__________________________________________________________________________________________________\n",
      "Layer (type)                    Output Shape         Param #     Connected to                     \n",
      "==================================================================================================\n",
      "inputs (InputLayer)             [(None, None)]       0                                            \n",
      "__________________________________________________________________________________________________\n",
      "dec_inputs (InputLayer)         [(None, None)]       0                                            \n",
      "__________________________________________________________________________________________________\n",
      "enc_padding_mask (Lambda)       (None, 1, 1, None)   0           inputs[0][0]                     \n",
      "__________________________________________________________________________________________________\n",
      "encoder (Functional)            (None, None, 256)    3138048     inputs[0][0]                     \n",
      "                                                                 enc_padding_mask[0][0]           \n",
      "__________________________________________________________________________________________________\n",
      "look_ahead_mask (Lambda)        (None, 1, None, None 0           dec_inputs[0][0]                 \n",
      "__________________________________________________________________________________________________\n",
      "dec_padding_mask (Lambda)       (None, 1, 1, None)   0           inputs[0][0]                     \n",
      "__________________________________________________________________________________________________\n",
      "decoder (Functional)            (None, None, 256)    3665408     dec_inputs[0][0]                 \n",
      "                                                                 encoder[0][0]                    \n",
      "                                                                 look_ahead_mask[0][0]            \n",
      "                                                                 dec_padding_mask[0][0]           \n",
      "__________________________________________________________________________________________________\n",
      "outputs (Dense)                 (None, None, 8140)   2091980     decoder[0][0]                    \n",
      "==================================================================================================\n",
      "Total params: 8,895,436\n",
      "Trainable params: 8,895,436\n",
      "Non-trainable params: 0\n",
      "__________________________________________________________________________________________________\n"
     ]
    }
   ],
   "source": [
    "tf.keras.backend.clear_session()\n",
    "\n",
    "# 하이퍼파라미터\n",
    "NUM_LAYERS = 2 # 인코더와 디코더의 층의 개수\n",
    "D_MODEL = 256 # 인코더와 디코더 내부의 입, 출력의 고정 차원\n",
    "NUM_HEADS = 8 # 멀티 헤드 어텐션에서의 헤드 수 \n",
    "UNITS = 512 # 피드 포워드 신경망의 은닉층의 크기\n",
    "DROPOUT = 0.5 # 드롭아웃의 비율\n",
    "\n",
    "model = transformer(\n",
    "    vocab_size=VOCAB_SIZE,\n",
    "    num_layers=NUM_LAYERS,\n",
    "    units=UNITS,\n",
    "    d_model=D_MODEL,\n",
    "    num_heads=NUM_HEADS,\n",
    "    dropout=DROPOUT)\n",
    "\n",
    "model.summary()"
   ]
  },
  {
   "cell_type": "code",
   "execution_count": 42,
   "id": "926aefe9",
   "metadata": {},
   "outputs": [
    {
     "name": "stdout",
     "output_type": "stream",
     "text": [
      "Epoch 1/50\n",
      "159/159 [==============================] - 10s 29ms/step - loss: 5.1866 - accuracy: 0.0959\n",
      "Epoch 2/50\n",
      "159/159 [==============================] - 5s 29ms/step - loss: 4.2965 - accuracy: 0.1877\n",
      "Epoch 3/50\n",
      "159/159 [==============================] - 5s 29ms/step - loss: 3.5956 - accuracy: 0.1935\n",
      "Epoch 4/50\n",
      "159/159 [==============================] - 5s 29ms/step - loss: 3.2685 - accuracy: 0.2011\n",
      "Epoch 5/50\n",
      "159/159 [==============================] - 5s 29ms/step - loss: 3.0661 - accuracy: 0.2124\n",
      "Epoch 6/50\n",
      "159/159 [==============================] - 5s 29ms/step - loss: 2.8762 - accuracy: 0.2243\n",
      "Epoch 7/50\n",
      "159/159 [==============================] - 5s 29ms/step - loss: 2.6690 - accuracy: 0.2424\n",
      "Epoch 8/50\n",
      "159/159 [==============================] - 5s 29ms/step - loss: 2.4464 - accuracy: 0.2664\n",
      "Epoch 9/50\n",
      "159/159 [==============================] - 5s 29ms/step - loss: 2.1964 - accuracy: 0.2959\n",
      "Epoch 10/50\n",
      "159/159 [==============================] - 5s 29ms/step - loss: 1.9289 - accuracy: 0.3271\n",
      "Epoch 11/50\n",
      "159/159 [==============================] - 5s 29ms/step - loss: 1.6525 - accuracy: 0.3606\n",
      "Epoch 12/50\n",
      "159/159 [==============================] - 5s 29ms/step - loss: 1.3771 - accuracy: 0.3964\n",
      "Epoch 13/50\n",
      "159/159 [==============================] - 5s 29ms/step - loss: 1.1130 - accuracy: 0.4321\n",
      "Epoch 14/50\n",
      "159/159 [==============================] - 5s 29ms/step - loss: 0.8680 - accuracy: 0.4691\n",
      "Epoch 15/50\n",
      "159/159 [==============================] - 5s 29ms/step - loss: 0.6583 - accuracy: 0.5019\n",
      "Epoch 16/50\n",
      "159/159 [==============================] - 5s 29ms/step - loss: 0.4784 - accuracy: 0.5332\n",
      "Epoch 17/50\n",
      "159/159 [==============================] - 5s 29ms/step - loss: 0.3411 - accuracy: 0.5584\n",
      "Epoch 18/50\n",
      "159/159 [==============================] - 5s 29ms/step - loss: 0.2477 - accuracy: 0.5748\n",
      "Epoch 19/50\n",
      "159/159 [==============================] - 5s 29ms/step - loss: 0.1809 - accuracy: 0.5868\n",
      "Epoch 20/50\n",
      "159/159 [==============================] - 5s 29ms/step - loss: 0.1465 - accuracy: 0.5917\n",
      "Epoch 21/50\n",
      "159/159 [==============================] - 5s 29ms/step - loss: 0.1262 - accuracy: 0.5940\n",
      "Epoch 22/50\n",
      "159/159 [==============================] - 5s 29ms/step - loss: 0.1149 - accuracy: 0.5958\n",
      "Epoch 23/50\n",
      "159/159 [==============================] - 5s 29ms/step - loss: 0.1092 - accuracy: 0.5962\n",
      "Epoch 24/50\n",
      "159/159 [==============================] - 5s 29ms/step - loss: 0.1081 - accuracy: 0.5960\n",
      "Epoch 25/50\n",
      "159/159 [==============================] - 5s 29ms/step - loss: 0.1011 - accuracy: 0.5981\n",
      "Epoch 26/50\n",
      "159/159 [==============================] - 5s 29ms/step - loss: 0.0977 - accuracy: 0.5978\n",
      "Epoch 27/50\n",
      "159/159 [==============================] - 5s 29ms/step - loss: 0.0874 - accuracy: 0.6002\n",
      "Epoch 28/50\n",
      "159/159 [==============================] - 5s 29ms/step - loss: 0.0779 - accuracy: 0.6025\n",
      "Epoch 29/50\n",
      "159/159 [==============================] - 5s 29ms/step - loss: 0.0724 - accuracy: 0.6040\n",
      "Epoch 30/50\n",
      "159/159 [==============================] - 5s 29ms/step - loss: 0.0644 - accuracy: 0.6059\n",
      "Epoch 31/50\n",
      "159/159 [==============================] - 5s 29ms/step - loss: 0.0560 - accuracy: 0.6074\n",
      "Epoch 32/50\n",
      "159/159 [==============================] - 5s 29ms/step - loss: 0.0532 - accuracy: 0.6088\n",
      "Epoch 33/50\n",
      "159/159 [==============================] - 5s 29ms/step - loss: 0.0477 - accuracy: 0.6101\n",
      "Epoch 34/50\n",
      "159/159 [==============================] - 5s 29ms/step - loss: 0.0458 - accuracy: 0.6104\n",
      "Epoch 35/50\n",
      "159/159 [==============================] - 5s 29ms/step - loss: 0.0415 - accuracy: 0.6117\n",
      "Epoch 36/50\n",
      "159/159 [==============================] - 5s 29ms/step - loss: 0.0389 - accuracy: 0.6122\n",
      "Epoch 37/50\n",
      "159/159 [==============================] - 5s 29ms/step - loss: 0.0368 - accuracy: 0.6127\n",
      "Epoch 38/50\n",
      "159/159 [==============================] - 5s 29ms/step - loss: 0.0336 - accuracy: 0.6135\n",
      "Epoch 39/50\n",
      "159/159 [==============================] - 5s 29ms/step - loss: 0.0348 - accuracy: 0.6131\n",
      "Epoch 40/50\n",
      "159/159 [==============================] - 5s 29ms/step - loss: 0.0307 - accuracy: 0.6143\n",
      "Epoch 41/50\n",
      "159/159 [==============================] - 5s 29ms/step - loss: 0.0294 - accuracy: 0.6148\n",
      "Epoch 42/50\n",
      "159/159 [==============================] - 5s 29ms/step - loss: 0.0283 - accuracy: 0.6149\n",
      "Epoch 43/50\n",
      "159/159 [==============================] - 5s 29ms/step - loss: 0.0262 - accuracy: 0.6154\n",
      "Epoch 44/50\n",
      "159/159 [==============================] - 5s 29ms/step - loss: 0.0261 - accuracy: 0.6153\n",
      "Epoch 45/50\n",
      "159/159 [==============================] - 5s 29ms/step - loss: 0.0233 - accuracy: 0.6159\n",
      "Epoch 46/50\n",
      "159/159 [==============================] - 5s 29ms/step - loss: 0.0220 - accuracy: 0.6164\n",
      "Epoch 47/50\n",
      "159/159 [==============================] - 5s 29ms/step - loss: 0.0226 - accuracy: 0.6163\n",
      "Epoch 48/50\n",
      "159/159 [==============================] - 5s 29ms/step - loss: 0.0218 - accuracy: 0.6164\n",
      "Epoch 49/50\n",
      "159/159 [==============================] - 5s 29ms/step - loss: 0.0207 - accuracy: 0.6165\n",
      "Epoch 50/50\n",
      "159/159 [==============================] - 5s 29ms/step - loss: 0.0196 - accuracy: 0.6169\n"
     ]
    },
    {
     "data": {
      "text/plain": [
       "<keras.callbacks.History at 0x7fdf040d0220>"
      ]
     },
     "execution_count": 42,
     "metadata": {},
     "output_type": "execute_result"
    }
   ],
   "source": [
    "learning_rate = CustomSchedule(D_MODEL)\n",
    "\n",
    "optimizer = tf.keras.optimizers.Adam(\n",
    "    learning_rate, beta_1=0.9, beta_2=0.98, epsilon=1e-9)\n",
    "\n",
    "def accuracy(y_true, y_pred):\n",
    "  y_true = tf.reshape(y_true, shape=(-1, MAX_LENGTH - 1))\n",
    "  return tf.keras.metrics.sparse_categorical_accuracy(y_true, y_pred)\n",
    "\n",
    "model.compile(optimizer=optimizer, loss=loss_function, metrics=[accuracy])\n",
    "EPOCHS = 50\n",
    "model.fit(dataset, epochs=EPOCHS, verbose=1)"
   ]
  },
  {
   "cell_type": "code",
   "execution_count": 43,
   "id": "218b5e69",
   "metadata": {},
   "outputs": [
    {
     "name": "stdout",
     "output_type": "stream",
     "text": [
      "입력 : 내일 날씨는 어때?\n",
      "출력 : 정말 후회할 습관이에요 .\n",
      "입력 : 어떤 영화 좋아해?\n",
      "출력 : 성적자기결정권이있죠 .\n",
      "입력 : 오늘 뭐먹지?\n",
      "출력 : 색다른걸 드셔보세요 .\n",
      "입력 : 피곤하고 잠와\n",
      "출력 : 믿기지 않겠어요 .\n",
      "입력 : 사랑해\n",
      "출력 : 하늘 만큼 땅 만큼 사랑해요 .\n"
     ]
    },
    {
     "data": {
      "text/plain": [
       "'하늘 만큼 땅 만큼 사랑해요 .'"
      ]
     },
     "execution_count": 43,
     "metadata": {},
     "output_type": "execute_result"
    }
   ],
   "source": [
    "sentence_generation('내일 날씨는 어때?')\n",
    "sentence_generation('어떤 영화 좋아해?')\n",
    "sentence_generation('오늘 뭐먹지?')\n",
    "sentence_generation('피곤하고 잠와')\n",
    "sentence_generation('사랑해')"
   ]
  },
  {
   "cell_type": "markdown",
   "id": "f9dac62a",
   "metadata": {},
   "source": [
    "# 네번째 시도\n",
    "- NUM_LAYERS = 4\n",
    "- DROPOUT = 0.3\n",
    "- EPOCHS = 50"
   ]
  },
  {
   "cell_type": "code",
   "execution_count": 44,
   "id": "2734ef09",
   "metadata": {},
   "outputs": [
    {
     "name": "stdout",
     "output_type": "stream",
     "text": [
      "Model: \"transformer\"\n",
      "__________________________________________________________________________________________________\n",
      "Layer (type)                    Output Shape         Param #     Connected to                     \n",
      "==================================================================================================\n",
      "inputs (InputLayer)             [(None, None)]       0                                            \n",
      "__________________________________________________________________________________________________\n",
      "dec_inputs (InputLayer)         [(None, None)]       0                                            \n",
      "__________________________________________________________________________________________________\n",
      "enc_padding_mask (Lambda)       (None, 1, 1, None)   0           inputs[0][0]                     \n",
      "__________________________________________________________________________________________________\n",
      "encoder (Functional)            (None, None, 256)    4192256     inputs[0][0]                     \n",
      "                                                                 enc_padding_mask[0][0]           \n",
      "__________________________________________________________________________________________________\n",
      "look_ahead_mask (Lambda)        (None, 1, None, None 0           dec_inputs[0][0]                 \n",
      "__________________________________________________________________________________________________\n",
      "dec_padding_mask (Lambda)       (None, 1, 1, None)   0           inputs[0][0]                     \n",
      "__________________________________________________________________________________________________\n",
      "decoder (Functional)            (None, None, 256)    5246976     dec_inputs[0][0]                 \n",
      "                                                                 encoder[0][0]                    \n",
      "                                                                 look_ahead_mask[0][0]            \n",
      "                                                                 dec_padding_mask[0][0]           \n",
      "__________________________________________________________________________________________________\n",
      "outputs (Dense)                 (None, None, 8140)   2091980     decoder[0][0]                    \n",
      "==================================================================================================\n",
      "Total params: 11,531,212\n",
      "Trainable params: 11,531,212\n",
      "Non-trainable params: 0\n",
      "__________________________________________________________________________________________________\n"
     ]
    }
   ],
   "source": [
    "tf.keras.backend.clear_session()\n",
    "\n",
    "# 하이퍼파라미터\n",
    "NUM_LAYERS = 4 # 인코더와 디코더의 층의 개수\n",
    "D_MODEL = 256 # 인코더와 디코더 내부의 입, 출력의 고정 차원\n",
    "NUM_HEADS = 8 # 멀티 헤드 어텐션에서의 헤드 수 \n",
    "UNITS = 512 # 피드 포워드 신경망의 은닉층의 크기\n",
    "DROPOUT = 0.3 # 드롭아웃의 비율\n",
    "\n",
    "model = transformer(\n",
    "    vocab_size=VOCAB_SIZE,\n",
    "    num_layers=NUM_LAYERS,\n",
    "    units=UNITS,\n",
    "    d_model=D_MODEL,\n",
    "    num_heads=NUM_HEADS,\n",
    "    dropout=DROPOUT)\n",
    "\n",
    "model.summary()"
   ]
  },
  {
   "cell_type": "code",
   "execution_count": 45,
   "id": "69156c47",
   "metadata": {},
   "outputs": [
    {
     "name": "stdout",
     "output_type": "stream",
     "text": [
      "Epoch 1/50\n",
      "159/159 [==============================] - 18s 48ms/step - loss: 5.1957 - accuracy: 0.0775\n",
      "Epoch 2/50\n",
      "159/159 [==============================] - 8s 48ms/step - loss: 4.3864 - accuracy: 0.1228\n",
      "Epoch 3/50\n",
      "159/159 [==============================] - 8s 48ms/step - loss: 3.6739 - accuracy: 0.1923\n",
      "Epoch 4/50\n",
      "159/159 [==============================] - 8s 49ms/step - loss: 3.4135 - accuracy: 0.1939\n",
      "Epoch 5/50\n",
      "159/159 [==============================] - 8s 48ms/step - loss: 3.2504 - accuracy: 0.1996\n",
      "Epoch 6/50\n",
      "159/159 [==============================] - 8s 48ms/step - loss: 3.1470 - accuracy: 0.2052\n",
      "Epoch 7/50\n",
      "159/159 [==============================] - 8s 48ms/step - loss: 3.0587 - accuracy: 0.2087\n",
      "Epoch 8/50\n",
      "159/159 [==============================] - 8s 48ms/step - loss: 2.9730 - accuracy: 0.2126\n",
      "Epoch 9/50\n",
      "159/159 [==============================] - 8s 49ms/step - loss: 2.8870 - accuracy: 0.2167\n",
      "Epoch 10/50\n",
      "159/159 [==============================] - 8s 48ms/step - loss: 2.7954 - accuracy: 0.2219\n",
      "Epoch 11/50\n",
      "159/159 [==============================] - 8s 48ms/step - loss: 2.6966 - accuracy: 0.2288\n",
      "Epoch 12/50\n",
      "159/159 [==============================] - 8s 48ms/step - loss: 2.5901 - accuracy: 0.2352\n",
      "Epoch 13/50\n",
      "159/159 [==============================] - 8s 48ms/step - loss: 2.4700 - accuracy: 0.2447\n",
      "Epoch 14/50\n",
      "159/159 [==============================] - 8s 49ms/step - loss: 2.3379 - accuracy: 0.2568\n",
      "Epoch 15/50\n",
      "159/159 [==============================] - 8s 47ms/step - loss: 2.1971 - accuracy: 0.2713\n",
      "Epoch 16/50\n",
      "159/159 [==============================] - 8s 49ms/step - loss: 2.0550 - accuracy: 0.2872\n",
      "Epoch 17/50\n",
      "159/159 [==============================] - 7s 46ms/step - loss: 1.9102 - accuracy: 0.3038\n",
      "Epoch 18/50\n",
      "159/159 [==============================] - 8s 47ms/step - loss: 1.7643 - accuracy: 0.3229\n",
      "Epoch 19/50\n",
      "159/159 [==============================] - 8s 48ms/step - loss: 1.6345 - accuracy: 0.3405\n",
      "Epoch 20/50\n",
      "159/159 [==============================] - 8s 48ms/step - loss: 1.5151 - accuracy: 0.3578\n",
      "Epoch 21/50\n",
      "159/159 [==============================] - 8s 48ms/step - loss: 1.4173 - accuracy: 0.3702\n",
      "Epoch 22/50\n",
      "159/159 [==============================] - 8s 48ms/step - loss: 1.3301 - accuracy: 0.3834\n",
      "Epoch 23/50\n",
      "159/159 [==============================] - 8s 48ms/step - loss: 1.2608 - accuracy: 0.3946\n",
      "Epoch 24/50\n",
      "159/159 [==============================] - 8s 48ms/step - loss: 1.2177 - accuracy: 0.4013\n",
      "Epoch 25/50\n",
      "159/159 [==============================] - 8s 48ms/step - loss: 1.1742 - accuracy: 0.4097\n",
      "Epoch 26/50\n",
      "159/159 [==============================] - 8s 48ms/step - loss: 1.1479 - accuracy: 0.4141\n",
      "Epoch 27/50\n",
      "159/159 [==============================] - 8s 48ms/step - loss: 1.1057 - accuracy: 0.4222\n",
      "Epoch 28/50\n",
      "159/159 [==============================] - 8s 49ms/step - loss: 1.0756 - accuracy: 0.4290\n",
      "Epoch 29/50\n",
      "159/159 [==============================] - 8s 48ms/step - loss: 1.0497 - accuracy: 0.4329\n",
      "Epoch 30/50\n",
      "159/159 [==============================] - 8s 48ms/step - loss: 1.0275 - accuracy: 0.4370\n",
      "Epoch 31/50\n",
      "159/159 [==============================] - 8s 48ms/step - loss: 1.0085 - accuracy: 0.4407\n",
      "Epoch 32/50\n",
      "159/159 [==============================] - 8s 48ms/step - loss: 0.9939 - accuracy: 0.4433\n",
      "Epoch 33/50\n",
      "159/159 [==============================] - 8s 48ms/step - loss: 0.9753 - accuracy: 0.4472\n",
      "Epoch 34/50\n",
      "159/159 [==============================] - 8s 48ms/step - loss: 0.9639 - accuracy: 0.4484\n",
      "Epoch 35/50\n",
      "159/159 [==============================] - 8s 49ms/step - loss: 0.9469 - accuracy: 0.4513\n",
      "Epoch 36/50\n",
      "159/159 [==============================] - 8s 49ms/step - loss: 0.9357 - accuracy: 0.4529\n",
      "Epoch 37/50\n",
      "159/159 [==============================] - 8s 47ms/step - loss: 0.9261 - accuracy: 0.4532\n",
      "Epoch 38/50\n",
      "159/159 [==============================] - 8s 48ms/step - loss: 0.9147 - accuracy: 0.4560\n",
      "Epoch 39/50\n",
      "159/159 [==============================] - 8s 48ms/step - loss: 0.9022 - accuracy: 0.4576\n",
      "Epoch 40/50\n",
      "159/159 [==============================] - 8s 49ms/step - loss: 0.8894 - accuracy: 0.4596\n",
      "Epoch 41/50\n",
      "159/159 [==============================] - 8s 49ms/step - loss: 0.8835 - accuracy: 0.4608\n",
      "Epoch 42/50\n",
      "159/159 [==============================] - 8s 47ms/step - loss: 0.8726 - accuracy: 0.4621\n",
      "Epoch 43/50\n",
      "159/159 [==============================] - 8s 48ms/step - loss: 0.8599 - accuracy: 0.4629\n",
      "Epoch 44/50\n",
      "159/159 [==============================] - 8s 48ms/step - loss: 0.8542 - accuracy: 0.4642\n",
      "Epoch 45/50\n",
      "159/159 [==============================] - 8s 48ms/step - loss: 0.8435 - accuracy: 0.4658\n",
      "Epoch 46/50\n",
      "159/159 [==============================] - 8s 48ms/step - loss: 0.8360 - accuracy: 0.4667\n",
      "Epoch 47/50\n",
      "159/159 [==============================] - 8s 48ms/step - loss: 0.8251 - accuracy: 0.4685\n",
      "Epoch 48/50\n",
      "159/159 [==============================] - 8s 48ms/step - loss: 0.8209 - accuracy: 0.4686\n",
      "Epoch 49/50\n",
      "159/159 [==============================] - 8s 49ms/step - loss: 0.8158 - accuracy: 0.4698\n",
      "Epoch 50/50\n",
      "159/159 [==============================] - 8s 48ms/step - loss: 0.8061 - accuracy: 0.4706\n"
     ]
    },
    {
     "data": {
      "text/plain": [
       "<keras.callbacks.History at 0x7fdee14fca60>"
      ]
     },
     "execution_count": 45,
     "metadata": {},
     "output_type": "execute_result"
    }
   ],
   "source": [
    "learning_rate = CustomSchedule(D_MODEL)\n",
    "\n",
    "optimizer = tf.keras.optimizers.Adam(\n",
    "    learning_rate, beta_1=0.9, beta_2=0.98, epsilon=1e-9)\n",
    "\n",
    "def accuracy(y_true, y_pred):\n",
    "  y_true = tf.reshape(y_true, shape=(-1, MAX_LENGTH - 1))\n",
    "  return tf.keras.metrics.sparse_categorical_accuracy(y_true, y_pred)\n",
    "\n",
    "model.compile(optimizer=optimizer, loss=loss_function, metrics=[accuracy])\n",
    "EPOCHS = 50\n",
    "model.fit(dataset, epochs=EPOCHS, verbose=1)"
   ]
  },
  {
   "cell_type": "code",
   "execution_count": 46,
   "id": "5f1c03a3",
   "metadata": {},
   "outputs": [
    {
     "name": "stdout",
     "output_type": "stream",
     "text": [
      "입력 : 내일 날씨는 어때?\n",
      "출력 : 다른 사람이 답답할 거예요 .\n",
      "입력 : 어떤 영화 좋아해?\n",
      "출력 : 사람마다 다르겠지만 사귀고 난 후가 좋겠어요 .\n",
      "입력 : 오늘 뭐먹지?\n",
      "출력 : 하다보면 늘어요 .\n",
      "입력 : 피곤하고 잠와\n",
      "출력 : 같이 고르는 것도 좋을 거 같아요 .\n",
      "입력 : 사랑해\n",
      "출력 : 저도 보고 싶어요 .\n"
     ]
    },
    {
     "data": {
      "text/plain": [
       "'저도 보고 싶어요 .'"
      ]
     },
     "execution_count": 46,
     "metadata": {},
     "output_type": "execute_result"
    }
   ],
   "source": [
    "sentence_generation('내일 날씨는 어때?')\n",
    "sentence_generation('어떤 영화 좋아해?')\n",
    "sentence_generation('오늘 뭐먹지?')\n",
    "sentence_generation('피곤하고 잠와')\n",
    "sentence_generation('사랑해')"
   ]
  },
  {
   "cell_type": "markdown",
   "id": "207dad16",
   "metadata": {},
   "source": [
    "# 다섯번째 시도\n",
    "- UNITS = 1024\n",
    "- DROPOUT = 0.5\n",
    "- EPOCHS = 30"
   ]
  },
  {
   "cell_type": "code",
   "execution_count": 47,
   "id": "c29a000c",
   "metadata": {},
   "outputs": [
    {
     "name": "stdout",
     "output_type": "stream",
     "text": [
      "Model: \"transformer\"\n",
      "__________________________________________________________________________________________________\n",
      "Layer (type)                    Output Shape         Param #     Connected to                     \n",
      "==================================================================================================\n",
      "inputs (InputLayer)             [(None, None)]       0                                            \n",
      "__________________________________________________________________________________________________\n",
      "dec_inputs (InputLayer)         [(None, None)]       0                                            \n",
      "__________________________________________________________________________________________________\n",
      "enc_padding_mask (Lambda)       (None, 1, 1, None)   0           inputs[0][0]                     \n",
      "__________________________________________________________________________________________________\n",
      "encoder (Functional)            (None, None, 256)    3663360     inputs[0][0]                     \n",
      "                                                                 enc_padding_mask[0][0]           \n",
      "__________________________________________________________________________________________________\n",
      "look_ahead_mask (Lambda)        (None, 1, None, None 0           dec_inputs[0][0]                 \n",
      "__________________________________________________________________________________________________\n",
      "dec_padding_mask (Lambda)       (None, 1, 1, None)   0           inputs[0][0]                     \n",
      "__________________________________________________________________________________________________\n",
      "decoder (Functional)            (None, None, 256)    4190720     dec_inputs[0][0]                 \n",
      "                                                                 encoder[0][0]                    \n",
      "                                                                 look_ahead_mask[0][0]            \n",
      "                                                                 dec_padding_mask[0][0]           \n",
      "__________________________________________________________________________________________________\n",
      "outputs (Dense)                 (None, None, 8140)   2091980     decoder[0][0]                    \n",
      "==================================================================================================\n",
      "Total params: 9,946,060\n",
      "Trainable params: 9,946,060\n",
      "Non-trainable params: 0\n",
      "__________________________________________________________________________________________________\n"
     ]
    }
   ],
   "source": [
    "tf.keras.backend.clear_session()\n",
    "\n",
    "# 하이퍼파라미터\n",
    "NUM_LAYERS = 2 # 인코더와 디코더의 층의 개수\n",
    "D_MODEL = 256 # 인코더와 디코더 내부의 입, 출력의 고정 차원\n",
    "NUM_HEADS = 8 # 멀티 헤드 어텐션에서의 헤드 수 \n",
    "UNITS = 1024 # 피드 포워드 신경망의 은닉층의 크기\n",
    "DROPOUT = 0.5 # 드롭아웃의 비율\n",
    "\n",
    "model = transformer(\n",
    "    vocab_size=VOCAB_SIZE,\n",
    "    num_layers=NUM_LAYERS,\n",
    "    units=UNITS,\n",
    "    d_model=D_MODEL,\n",
    "    num_heads=NUM_HEADS,\n",
    "    dropout=DROPOUT)\n",
    "\n",
    "model.summary()"
   ]
  },
  {
   "cell_type": "code",
   "execution_count": 48,
   "id": "facca8f4",
   "metadata": {
    "scrolled": true
   },
   "outputs": [
    {
     "name": "stdout",
     "output_type": "stream",
     "text": [
      "Epoch 1/30\n",
      "159/159 [==============================] - 10s 30ms/step - loss: 5.2599 - accuracy: 0.0687\n",
      "Epoch 2/30\n",
      "159/159 [==============================] - 5s 29ms/step - loss: 4.4050 - accuracy: 0.1321\n",
      "Epoch 3/30\n",
      "159/159 [==============================] - 5s 29ms/step - loss: 3.7021 - accuracy: 0.1914\n",
      "Epoch 4/30\n",
      "159/159 [==============================] - 5s 29ms/step - loss: 3.4663 - accuracy: 0.1937\n",
      "Epoch 5/30\n",
      "159/159 [==============================] - 5s 29ms/step - loss: 3.3289 - accuracy: 0.1958\n",
      "Epoch 6/30\n",
      "159/159 [==============================] - 5s 29ms/step - loss: 3.2170 - accuracy: 0.1989\n",
      "Epoch 7/30\n",
      "159/159 [==============================] - 5s 29ms/step - loss: 3.1302 - accuracy: 0.2048\n",
      "Epoch 8/30\n",
      "159/159 [==============================] - 5s 29ms/step - loss: 3.0456 - accuracy: 0.2105\n",
      "Epoch 9/30\n",
      "159/159 [==============================] - 5s 29ms/step - loss: 2.9556 - accuracy: 0.2152\n",
      "Epoch 10/30\n",
      "159/159 [==============================] - 5s 29ms/step - loss: 2.8565 - accuracy: 0.2212\n",
      "Epoch 11/30\n",
      "159/159 [==============================] - 5s 30ms/step - loss: 2.7414 - accuracy: 0.2286\n",
      "Epoch 12/30\n",
      "159/159 [==============================] - 5s 30ms/step - loss: 2.6125 - accuracy: 0.2384\n",
      "Epoch 13/30\n",
      "159/159 [==============================] - 5s 30ms/step - loss: 2.4673 - accuracy: 0.2500\n",
      "Epoch 14/30\n",
      "159/159 [==============================] - 5s 30ms/step - loss: 2.3203 - accuracy: 0.2649\n",
      "Epoch 15/30\n",
      "159/159 [==============================] - 5s 29ms/step - loss: 2.1690 - accuracy: 0.2792\n",
      "Epoch 16/30\n",
      "159/159 [==============================] - 5s 29ms/step - loss: 2.0192 - accuracy: 0.2943\n",
      "Epoch 17/30\n",
      "159/159 [==============================] - 5s 29ms/step - loss: 1.8754 - accuracy: 0.3106\n",
      "Epoch 18/30\n",
      "159/159 [==============================] - 5s 29ms/step - loss: 1.7476 - accuracy: 0.3255\n",
      "Epoch 19/30\n",
      "159/159 [==============================] - 5s 29ms/step - loss: 1.6308 - accuracy: 0.3374\n",
      "Epoch 20/30\n",
      "159/159 [==============================] - 5s 29ms/step - loss: 1.5277 - accuracy: 0.3501\n",
      "Epoch 21/30\n",
      "159/159 [==============================] - 5s 29ms/step - loss: 1.4393 - accuracy: 0.3620\n",
      "Epoch 22/30\n",
      "159/159 [==============================] - 5s 29ms/step - loss: 1.3641 - accuracy: 0.3721\n",
      "Epoch 23/30\n",
      "159/159 [==============================] - 5s 30ms/step - loss: 1.3013 - accuracy: 0.3818\n",
      "Epoch 24/30\n",
      "159/159 [==============================] - 5s 29ms/step - loss: 1.2456 - accuracy: 0.3917\n",
      "Epoch 25/30\n",
      "159/159 [==============================] - 5s 29ms/step - loss: 1.2011 - accuracy: 0.3994\n",
      "Epoch 26/30\n",
      "159/159 [==============================] - 5s 29ms/step - loss: 1.1627 - accuracy: 0.4070\n",
      "Epoch 27/30\n",
      "159/159 [==============================] - 5s 29ms/step - loss: 1.1283 - accuracy: 0.4135\n",
      "Epoch 28/30\n",
      "159/159 [==============================] - 5s 29ms/step - loss: 1.0892 - accuracy: 0.4199\n",
      "Epoch 29/30\n",
      "159/159 [==============================] - 5s 29ms/step - loss: 1.0623 - accuracy: 0.4252\n",
      "Epoch 30/30\n",
      "159/159 [==============================] - 5s 29ms/step - loss: 1.0417 - accuracy: 0.4291\n"
     ]
    },
    {
     "data": {
      "text/plain": [
       "<keras.callbacks.History at 0x7fdee1382b20>"
      ]
     },
     "execution_count": 48,
     "metadata": {},
     "output_type": "execute_result"
    }
   ],
   "source": [
    "learning_rate = CustomSchedule(D_MODEL)\n",
    "\n",
    "optimizer = tf.keras.optimizers.Adam(\n",
    "    learning_rate, beta_1=0.9, beta_2=0.98, epsilon=1e-9)\n",
    "\n",
    "def accuracy(y_true, y_pred):\n",
    "  y_true = tf.reshape(y_true, shape=(-1, MAX_LENGTH - 1))\n",
    "  return tf.keras.metrics.sparse_categorical_accuracy(y_true, y_pred)\n",
    "\n",
    "model.compile(optimizer=optimizer, loss=loss_function, metrics=[accuracy])\n",
    "EPOCHS = 30\n",
    "model.fit(dataset, epochs=EPOCHS, verbose=1)"
   ]
  },
  {
   "cell_type": "code",
   "execution_count": 50,
   "id": "9793e4cf",
   "metadata": {},
   "outputs": [
    {
     "name": "stdout",
     "output_type": "stream",
     "text": [
      "입력 : 내일 날씨는 어때?\n",
      "출력 : 저도 반가워요 .\n",
      "입력 : 어떤 영화 좋아해?\n",
      "출력 : 직접 물어보는 게 좋을 것 같아요 .\n",
      "입력 : 오늘 뭐 먹지?\n",
      "출력 : 감기 조심하세요 .\n",
      "입력 : 피곤하고 잠와\n",
      "출력 : 직장 스트레스가 심한가봐요 .\n",
      "입력 : 사랑해\n",
      "출력 : 저도 커피 좋아해요 .\n"
     ]
    },
    {
     "data": {
      "text/plain": [
       "'저도 커피 좋아해요 .'"
      ]
     },
     "execution_count": 50,
     "metadata": {},
     "output_type": "execute_result"
    }
   ],
   "source": [
    "sentence_generation('내일 날씨는 어때?')\n",
    "sentence_generation('어떤 영화 좋아해?')\n",
    "sentence_generation('오늘 뭐 먹지?')\n",
    "sentence_generation('피곤하고 잠와')\n",
    "sentence_generation('사랑해')"
   ]
  },
  {
   "cell_type": "markdown",
   "id": "0a09aa00",
   "metadata": {},
   "source": [
    "# 여섯번째 시도 \n",
    "- NUM_LAYERS = 4\n",
    "- D_MODEL = 512\n",
    "- DROPOUT = 0.5\n",
    "- EPOCHS = 30"
   ]
  },
  {
   "cell_type": "code",
   "execution_count": 51,
   "id": "0dae8dc0",
   "metadata": {},
   "outputs": [
    {
     "name": "stdout",
     "output_type": "stream",
     "text": [
      "Model: \"transformer\"\n",
      "__________________________________________________________________________________________________\n",
      "Layer (type)                    Output Shape         Param #     Connected to                     \n",
      "==================================================================================================\n",
      "inputs (InputLayer)             [(None, None)]       0                                            \n",
      "__________________________________________________________________________________________________\n",
      "dec_inputs (InputLayer)         [(None, None)]       0                                            \n",
      "__________________________________________________________________________________________________\n",
      "enc_padding_mask (Lambda)       (None, 1, 1, None)   0           inputs[0][0]                     \n",
      "__________________________________________________________________________________________________\n",
      "encoder (Functional)            (None, None, 512)    10479616    inputs[0][0]                     \n",
      "                                                                 enc_padding_mask[0][0]           \n",
      "__________________________________________________________________________________________________\n",
      "look_ahead_mask (Lambda)        (None, 1, None, None 0           dec_inputs[0][0]                 \n",
      "__________________________________________________________________________________________________\n",
      "dec_padding_mask (Lambda)       (None, 1, 1, None)   0           inputs[0][0]                     \n",
      "__________________________________________________________________________________________________\n",
      "decoder (Functional)            (None, None, 512)    14686208    dec_inputs[0][0]                 \n",
      "                                                                 encoder[0][0]                    \n",
      "                                                                 look_ahead_mask[0][0]            \n",
      "                                                                 dec_padding_mask[0][0]           \n",
      "__________________________________________________________________________________________________\n",
      "outputs (Dense)                 (None, None, 8140)   4175820     decoder[0][0]                    \n",
      "==================================================================================================\n",
      "Total params: 29,341,644\n",
      "Trainable params: 29,341,644\n",
      "Non-trainable params: 0\n",
      "__________________________________________________________________________________________________\n"
     ]
    }
   ],
   "source": [
    "tf.keras.backend.clear_session()\n",
    "\n",
    "# 하이퍼파라미터\n",
    "NUM_LAYERS = 4 # 인코더와 디코더의 층의 개수\n",
    "D_MODEL = 512 # 인코더와 디코더 내부의 입, 출력의 고정 차원\n",
    "NUM_HEADS = 8 # 멀티 헤드 어텐션에서의 헤드 수 \n",
    "UNITS = 512 # 피드 포워드 신경망의 은닉층의 크기\n",
    "DROPOUT = 0.5 # 드롭아웃의 비율\n",
    "\n",
    "model = transformer(\n",
    "    vocab_size=VOCAB_SIZE,\n",
    "    num_layers=NUM_LAYERS,\n",
    "    units=UNITS,\n",
    "    d_model=D_MODEL,\n",
    "    num_heads=NUM_HEADS,\n",
    "    dropout=DROPOUT)\n",
    "\n",
    "model.summary()"
   ]
  },
  {
   "cell_type": "code",
   "execution_count": 52,
   "id": "45f3b6a0",
   "metadata": {},
   "outputs": [
    {
     "name": "stdout",
     "output_type": "stream",
     "text": [
      "Epoch 1/30\n",
      "159/159 [==============================] - 21s 65ms/step - loss: 5.0382 - accuracy: 0.0732\n",
      "Epoch 2/30\n",
      "159/159 [==============================] - 10s 64ms/step - loss: 4.0648 - accuracy: 0.1032\n",
      "Epoch 3/30\n",
      "159/159 [==============================] - 10s 64ms/step - loss: 3.5925 - accuracy: 0.1889\n",
      "Epoch 4/30\n",
      "159/159 [==============================] - 10s 64ms/step - loss: 3.4297 - accuracy: 0.1937\n",
      "Epoch 5/30\n",
      "159/159 [==============================] - 10s 64ms/step - loss: 3.3137 - accuracy: 0.1951\n",
      "Epoch 6/30\n",
      "159/159 [==============================] - 10s 64ms/step - loss: 3.2328 - accuracy: 0.1972\n",
      "Epoch 7/30\n",
      "159/159 [==============================] - 10s 64ms/step - loss: 3.1797 - accuracy: 0.1989\n",
      "Epoch 8/30\n",
      "159/159 [==============================] - 10s 64ms/step - loss: 3.1349 - accuracy: 0.2024\n",
      "Epoch 9/30\n",
      "159/159 [==============================] - 10s 64ms/step - loss: 3.0874 - accuracy: 0.2041\n",
      "Epoch 10/30\n",
      "159/159 [==============================] - 10s 64ms/step - loss: 3.0346 - accuracy: 0.2065\n",
      "Epoch 11/30\n",
      "159/159 [==============================] - 10s 64ms/step - loss: 2.9746 - accuracy: 0.2091\n",
      "Epoch 12/30\n",
      "159/159 [==============================] - 10s 64ms/step - loss: 2.9203 - accuracy: 0.2124\n",
      "Epoch 13/30\n",
      "159/159 [==============================] - 10s 64ms/step - loss: 2.8649 - accuracy: 0.2148\n",
      "Epoch 14/30\n",
      "159/159 [==============================] - 10s 64ms/step - loss: 2.8127 - accuracy: 0.2178\n",
      "Epoch 15/30\n",
      "159/159 [==============================] - 10s 64ms/step - loss: 2.7673 - accuracy: 0.2194\n",
      "Epoch 16/30\n",
      "159/159 [==============================] - 10s 64ms/step - loss: 2.7192 - accuracy: 0.2212\n",
      "Epoch 17/30\n",
      "159/159 [==============================] - 10s 64ms/step - loss: 2.6692 - accuracy: 0.2242\n",
      "Epoch 18/30\n",
      "159/159 [==============================] - 10s 64ms/step - loss: 2.6207 - accuracy: 0.2259\n",
      "Epoch 19/30\n",
      "159/159 [==============================] - 10s 64ms/step - loss: 2.5681 - accuracy: 0.2285\n",
      "Epoch 20/30\n",
      "159/159 [==============================] - 10s 64ms/step - loss: 2.5132 - accuracy: 0.2312\n",
      "Epoch 21/30\n",
      "159/159 [==============================] - 10s 64ms/step - loss: 2.4572 - accuracy: 0.2348\n",
      "Epoch 22/30\n",
      "159/159 [==============================] - 10s 64ms/step - loss: 2.4029 - accuracy: 0.2377\n",
      "Epoch 23/30\n",
      "159/159 [==============================] - 10s 64ms/step - loss: 2.3460 - accuracy: 0.2419\n",
      "Epoch 24/30\n",
      "159/159 [==============================] - 10s 64ms/step - loss: 2.2888 - accuracy: 0.2446\n",
      "Epoch 25/30\n",
      "159/159 [==============================] - 10s 63ms/step - loss: 2.2292 - accuracy: 0.2498\n",
      "Epoch 26/30\n",
      "159/159 [==============================] - 10s 64ms/step - loss: 2.1694 - accuracy: 0.2545\n",
      "Epoch 27/30\n",
      "159/159 [==============================] - 10s 64ms/step - loss: 2.1032 - accuracy: 0.2615\n",
      "Epoch 28/30\n",
      "159/159 [==============================] - 10s 64ms/step - loss: 2.0362 - accuracy: 0.2668\n",
      "Epoch 29/30\n",
      "159/159 [==============================] - 10s 63ms/step - loss: 1.9800 - accuracy: 0.2732\n",
      "Epoch 30/30\n",
      "159/159 [==============================] - 10s 63ms/step - loss: 1.9176 - accuracy: 0.2805\n"
     ]
    },
    {
     "data": {
      "text/plain": [
       "<keras.callbacks.History at 0x7fdee13826d0>"
      ]
     },
     "execution_count": 52,
     "metadata": {},
     "output_type": "execute_result"
    }
   ],
   "source": [
    "learning_rate = CustomSchedule(D_MODEL)\n",
    "\n",
    "optimizer = tf.keras.optimizers.Adam(\n",
    "    learning_rate, beta_1=0.9, beta_2=0.98, epsilon=1e-9)\n",
    "\n",
    "def accuracy(y_true, y_pred):\n",
    "  y_true = tf.reshape(y_true, shape=(-1, MAX_LENGTH - 1))\n",
    "  return tf.keras.metrics.sparse_categorical_accuracy(y_true, y_pred)\n",
    "\n",
    "model.compile(optimizer=optimizer, loss=loss_function, metrics=[accuracy])\n",
    "EPOCHS = 30\n",
    "model.fit(dataset, epochs=EPOCHS, verbose=1)"
   ]
  },
  {
   "cell_type": "code",
   "execution_count": 53,
   "id": "f3552293",
   "metadata": {},
   "outputs": [
    {
     "name": "stdout",
     "output_type": "stream",
     "text": [
      "입력 : 내일 날씨는 어때?\n",
      "출력 : 너무 충분히 많이 바쁜가봐요 .\n",
      "입력 : 어떤 영화 좋아해?\n",
      "출력 : 썸 나이는 중요하지 않아요 .\n",
      "입력 : 오늘 뭐 먹지?\n",
      "출력 : 제가 있잖아요 .\n",
      "입력 : 피곤하고 잠와\n",
      "출력 : 잘 다녀 오세요 .\n",
      "입력 : 사랑해\n",
      "출력 : 너무 충분히 많이 바쁜가봐요 .\n"
     ]
    },
    {
     "data": {
      "text/plain": [
       "'너무 충분히 많이 바쁜가봐요 .'"
      ]
     },
     "execution_count": 53,
     "metadata": {},
     "output_type": "execute_result"
    }
   ],
   "source": [
    "sentence_generation('내일 날씨는 어때?')\n",
    "sentence_generation('어떤 영화 좋아해?')\n",
    "sentence_generation('오늘 뭐 먹지?')\n",
    "sentence_generation('피곤하고 잠와')\n",
    "sentence_generation('사랑해')"
   ]
  },
  {
   "cell_type": "markdown",
   "id": "7533c554",
   "metadata": {},
   "source": [
    "# 일곱번째 시도\n",
    "1번과 동일하고 \n",
    "EPOCHS = 50"
   ]
  },
  {
   "cell_type": "code",
   "execution_count": 54,
   "id": "bd328e92",
   "metadata": {},
   "outputs": [
    {
     "name": "stdout",
     "output_type": "stream",
     "text": [
      "Model: \"transformer\"\n",
      "__________________________________________________________________________________________________\n",
      "Layer (type)                    Output Shape         Param #     Connected to                     \n",
      "==================================================================================================\n",
      "inputs (InputLayer)             [(None, None)]       0                                            \n",
      "__________________________________________________________________________________________________\n",
      "dec_inputs (InputLayer)         [(None, None)]       0                                            \n",
      "__________________________________________________________________________________________________\n",
      "enc_padding_mask (Lambda)       (None, 1, 1, None)   0           inputs[0][0]                     \n",
      "__________________________________________________________________________________________________\n",
      "encoder (Functional)            (None, None, 256)    3138048     inputs[0][0]                     \n",
      "                                                                 enc_padding_mask[0][0]           \n",
      "__________________________________________________________________________________________________\n",
      "look_ahead_mask (Lambda)        (None, 1, None, None 0           dec_inputs[0][0]                 \n",
      "__________________________________________________________________________________________________\n",
      "dec_padding_mask (Lambda)       (None, 1, 1, None)   0           inputs[0][0]                     \n",
      "__________________________________________________________________________________________________\n",
      "decoder (Functional)            (None, None, 256)    3665408     dec_inputs[0][0]                 \n",
      "                                                                 encoder[0][0]                    \n",
      "                                                                 look_ahead_mask[0][0]            \n",
      "                                                                 dec_padding_mask[0][0]           \n",
      "__________________________________________________________________________________________________\n",
      "outputs (Dense)                 (None, None, 8140)   2091980     decoder[0][0]                    \n",
      "==================================================================================================\n",
      "Total params: 8,895,436\n",
      "Trainable params: 8,895,436\n",
      "Non-trainable params: 0\n",
      "__________________________________________________________________________________________________\n"
     ]
    }
   ],
   "source": [
    "tf.keras.backend.clear_session()\n",
    "\n",
    "# 하이퍼파라미터\n",
    "NUM_LAYERS = 2 # 인코더와 디코더의 층의 개수\n",
    "D_MODEL = 256 # 인코더와 디코더 내부의 입, 출력의 고정 차원\n",
    "NUM_HEADS = 8 # 멀티 헤드 어텐션에서의 헤드 수 \n",
    "UNITS = 512 # 피드 포워드 신경망의 은닉층의 크기\n",
    "DROPOUT = 0.1 # 드롭아웃의 비율\n",
    "\n",
    "model = transformer(\n",
    "    vocab_size=VOCAB_SIZE,\n",
    "    num_layers=NUM_LAYERS,\n",
    "    units=UNITS,\n",
    "    d_model=D_MODEL,\n",
    "    num_heads=NUM_HEADS,\n",
    "    dropout=DROPOUT)\n",
    "\n",
    "model.summary()"
   ]
  },
  {
   "cell_type": "code",
   "execution_count": 55,
   "id": "11e11504",
   "metadata": {},
   "outputs": [
    {
     "name": "stdout",
     "output_type": "stream",
     "text": [
      "Epoch 1/50\n",
      "159/159 [==============================] - 10s 29ms/step - loss: 5.2426 - accuracy: 0.1041\n",
      "Epoch 2/50\n",
      "159/159 [==============================] - 4s 28ms/step - loss: 4.3201 - accuracy: 0.1912\n",
      "Epoch 3/50\n",
      "159/159 [==============================] - 4s 28ms/step - loss: 3.5931 - accuracy: 0.1935\n",
      "Epoch 4/50\n",
      "159/159 [==============================] - 4s 28ms/step - loss: 3.2648 - accuracy: 0.2012\n",
      "Epoch 5/50\n",
      "159/159 [==============================] - 4s 28ms/step - loss: 3.0653 - accuracy: 0.2125\n",
      "Epoch 6/50\n",
      "159/159 [==============================] - 4s 28ms/step - loss: 2.8751 - accuracy: 0.2255\n",
      "Epoch 7/50\n",
      "159/159 [==============================] - 4s 28ms/step - loss: 2.6771 - accuracy: 0.2423\n",
      "Epoch 8/50\n",
      "159/159 [==============================] - 4s 28ms/step - loss: 2.4551 - accuracy: 0.2659\n",
      "Epoch 9/50\n",
      "159/159 [==============================] - 4s 28ms/step - loss: 2.2079 - accuracy: 0.2936\n",
      "Epoch 10/50\n",
      "159/159 [==============================] - 4s 28ms/step - loss: 1.9379 - accuracy: 0.3260\n",
      "Epoch 11/50\n",
      "159/159 [==============================] - 4s 28ms/step - loss: 1.6585 - accuracy: 0.3608\n",
      "Epoch 12/50\n",
      "159/159 [==============================] - 4s 28ms/step - loss: 1.3814 - accuracy: 0.3949\n",
      "Epoch 13/50\n",
      "159/159 [==============================] - 4s 28ms/step - loss: 1.1126 - accuracy: 0.4331\n",
      "Epoch 14/50\n",
      "159/159 [==============================] - 5s 28ms/step - loss: 0.8684 - accuracy: 0.4701\n",
      "Epoch 15/50\n",
      "159/159 [==============================] - 4s 28ms/step - loss: 0.6522 - accuracy: 0.5034\n",
      "Epoch 16/50\n",
      "159/159 [==============================] - 4s 28ms/step - loss: 0.4735 - accuracy: 0.5348\n",
      "Epoch 17/50\n",
      "159/159 [==============================] - 4s 28ms/step - loss: 0.3361 - accuracy: 0.5597\n",
      "Epoch 18/50\n",
      "159/159 [==============================] - 4s 28ms/step - loss: 0.2358 - accuracy: 0.5777\n",
      "Epoch 19/50\n",
      "159/159 [==============================] - 4s 28ms/step - loss: 0.1739 - accuracy: 0.5881\n",
      "Epoch 20/50\n",
      "159/159 [==============================] - 4s 28ms/step - loss: 0.1415 - accuracy: 0.5922\n",
      "Epoch 21/50\n",
      "159/159 [==============================] - 4s 28ms/step - loss: 0.1216 - accuracy: 0.5956\n",
      "Epoch 22/50\n",
      "159/159 [==============================] - 4s 28ms/step - loss: 0.1104 - accuracy: 0.5974\n",
      "Epoch 23/50\n",
      "159/159 [==============================] - 4s 28ms/step - loss: 0.1050 - accuracy: 0.5975\n",
      "Epoch 24/50\n",
      "159/159 [==============================] - 4s 28ms/step - loss: 0.0998 - accuracy: 0.5988\n",
      "Epoch 25/50\n",
      "159/159 [==============================] - 4s 28ms/step - loss: 0.1004 - accuracy: 0.5976\n",
      "Epoch 26/50\n",
      "159/159 [==============================] - 4s 28ms/step - loss: 0.0950 - accuracy: 0.5984\n",
      "Epoch 27/50\n",
      "159/159 [==============================] - 4s 28ms/step - loss: 0.0838 - accuracy: 0.6011\n",
      "Epoch 28/50\n",
      "159/159 [==============================] - 4s 28ms/step - loss: 0.0748 - accuracy: 0.6035\n",
      "Epoch 29/50\n",
      "159/159 [==============================] - 4s 28ms/step - loss: 0.0676 - accuracy: 0.6052\n",
      "Epoch 30/50\n",
      "159/159 [==============================] - 4s 28ms/step - loss: 0.0605 - accuracy: 0.6070\n",
      "Epoch 31/50\n",
      "159/159 [==============================] - 4s 28ms/step - loss: 0.0574 - accuracy: 0.6077\n",
      "Epoch 32/50\n",
      "159/159 [==============================] - 4s 28ms/step - loss: 0.0511 - accuracy: 0.6095\n",
      "Epoch 33/50\n",
      "159/159 [==============================] - 4s 28ms/step - loss: 0.0481 - accuracy: 0.6101\n",
      "Epoch 34/50\n",
      "159/159 [==============================] - 4s 28ms/step - loss: 0.0435 - accuracy: 0.6113\n",
      "Epoch 35/50\n",
      "159/159 [==============================] - 4s 28ms/step - loss: 0.0414 - accuracy: 0.6114\n",
      "Epoch 36/50\n",
      "159/159 [==============================] - 4s 28ms/step - loss: 0.0395 - accuracy: 0.6120\n",
      "Epoch 37/50\n",
      "159/159 [==============================] - 4s 28ms/step - loss: 0.0346 - accuracy: 0.6136\n",
      "Epoch 38/50\n",
      "159/159 [==============================] - 4s 28ms/step - loss: 0.0342 - accuracy: 0.6136\n",
      "Epoch 39/50\n",
      "159/159 [==============================] - 4s 28ms/step - loss: 0.0326 - accuracy: 0.6139\n",
      "Epoch 40/50\n",
      "159/159 [==============================] - 4s 28ms/step - loss: 0.0295 - accuracy: 0.6146\n",
      "Epoch 41/50\n",
      "159/159 [==============================] - 4s 28ms/step - loss: 0.0306 - accuracy: 0.6144\n",
      "Epoch 42/50\n",
      "159/159 [==============================] - 4s 28ms/step - loss: 0.0271 - accuracy: 0.6149\n",
      "Epoch 43/50\n",
      "159/159 [==============================] - 4s 28ms/step - loss: 0.0262 - accuracy: 0.6154\n",
      "Epoch 44/50\n",
      "159/159 [==============================] - 4s 28ms/step - loss: 0.0245 - accuracy: 0.6160\n",
      "Epoch 45/50\n",
      "159/159 [==============================] - 4s 28ms/step - loss: 0.0241 - accuracy: 0.6158\n",
      "Epoch 46/50\n",
      "159/159 [==============================] - 4s 28ms/step - loss: 0.0237 - accuracy: 0.6161\n",
      "Epoch 47/50\n",
      "159/159 [==============================] - 4s 28ms/step - loss: 0.0216 - accuracy: 0.6164\n",
      "Epoch 48/50\n",
      "159/159 [==============================] - 4s 28ms/step - loss: 0.0218 - accuracy: 0.6165\n",
      "Epoch 49/50\n",
      "159/159 [==============================] - 4s 28ms/step - loss: 0.0219 - accuracy: 0.6166\n",
      "Epoch 50/50\n",
      "159/159 [==============================] - 4s 28ms/step - loss: 0.0211 - accuracy: 0.6165\n"
     ]
    },
    {
     "data": {
      "text/plain": [
       "<keras.callbacks.History at 0x7fdee0b45940>"
      ]
     },
     "execution_count": 55,
     "metadata": {},
     "output_type": "execute_result"
    }
   ],
   "source": [
    "learning_rate = CustomSchedule(D_MODEL)\n",
    "\n",
    "optimizer = tf.keras.optimizers.Adam(\n",
    "    learning_rate, beta_1=0.9, beta_2=0.98, epsilon=1e-9)\n",
    "\n",
    "def accuracy(y_true, y_pred):\n",
    "  y_true = tf.reshape(y_true, shape=(-1, MAX_LENGTH - 1))\n",
    "  return tf.keras.metrics.sparse_categorical_accuracy(y_true, y_pred)\n",
    "\n",
    "model.compile(optimizer=optimizer, loss=loss_function, metrics=[accuracy])\n",
    "EPOCHS = 50\n",
    "model.fit(dataset, epochs=EPOCHS, verbose=1)"
   ]
  },
  {
   "cell_type": "code",
   "execution_count": 56,
   "id": "e0fda440",
   "metadata": {
    "scrolled": true
   },
   "outputs": [
    {
     "name": "stdout",
     "output_type": "stream",
     "text": [
      "입력 : 내일 날씨는 어때?\n",
      "출력 : 조금씩 조금씩 해보세요 .\n",
      "입력 : 어떤 영화 좋아해?\n",
      "출력 : 최신 영화가 좋을 것 같아요 .\n",
      "입력 : 오늘 뭐 먹지?\n",
      "출력 : 색다른걸 드셔보세요 .\n",
      "입력 : 피곤하고 잠와\n",
      "출력 : 같은 하늘 아래 어딘가에 .\n",
      "입력 : 사랑해\n",
      "출력 : 하늘 만큼 땅 만큼 사랑해요 .\n"
     ]
    },
    {
     "data": {
      "text/plain": [
       "'하늘 만큼 땅 만큼 사랑해요 .'"
      ]
     },
     "execution_count": 56,
     "metadata": {},
     "output_type": "execute_result"
    }
   ],
   "source": [
    "sentence_generation('내일 날씨는 어때?')\n",
    "sentence_generation('어떤 영화 좋아해?')\n",
    "sentence_generation('오늘 뭐 먹지?')\n",
    "sentence_generation('피곤하고 잠와')\n",
    "sentence_generation('사랑해')"
   ]
  },
  {
   "cell_type": "markdown",
   "id": "ee023d01",
   "metadata": {},
   "source": [
    "# 회고\n",
    "- 처음에 돌렸을 때는 괜찮은 결과가 나왔는데 Restart로 전체로 다시 돌리니 이상하게 나와서 당황스러웠음 처음 나온건 이것보다 잘 나왔는데 똑같이 나와야지 왜 바뀌어서 다른 문장이 나오는지 이해가 되지 않음. \n",
    "- 한국어에 맞게 데이터 전처리를 해봄(조원들이 숫자까지 얘기해줘서 숫자도 전처리에 넣음)\n",
    "- 뉴스요약 익스에서 사용했던 코드를 그대로 가져와서 문장 길이를 보면서 MAX_LENGTH의 기준을 잡을 때 도움이 됨\n",
    "- 다른 길이로는 안해보고 11로만 했는데 길이가 달라짐에 따라 결과물도 많이 달라진다는 것을 성돈님께 듣게 되었고, 11로 했을 때 결과물이 괜찮았다고 해주셨다. 다행히 처음에 기준을 잘 잡아서 실행한 것 같다. \n",
    "- 위에 결과를 봤을 때 그닥 확 마음에 들지는 않았는데 이게 괜찮은 결과물이라니 나름 괜찮게 대답한것도 있지만 수정이 많이 필요하다. "
   ]
  },
  {
   "cell_type": "code",
   "execution_count": null,
   "id": "934af2e6",
   "metadata": {},
   "outputs": [],
   "source": []
  }
 ],
 "metadata": {
  "kernelspec": {
   "display_name": "Python 3 (ipykernel)",
   "language": "python",
   "name": "python3"
  },
  "language_info": {
   "codemirror_mode": {
    "name": "ipython",
    "version": 3
   },
   "file_extension": ".py",
   "mimetype": "text/x-python",
   "name": "python",
   "nbconvert_exporter": "python",
   "pygments_lexer": "ipython3",
   "version": "3.9.7"
  }
 },
 "nbformat": 4,
 "nbformat_minor": 5
}

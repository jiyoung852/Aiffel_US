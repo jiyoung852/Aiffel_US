{
 "cells": [
  {
   "cell_type": "markdown",
   "id": "afbb79c1",
   "metadata": {},
   "source": [
    "# E-01. 가위바위보 이미지 분류기\n"
   ]
  },
  {
   "cell_type": "markdown",
   "id": "315ccdd6",
   "metadata": {},
   "source": [
    "## 1. 데이터 준비 \n",
    "- 뒷 배경을 벽만 나오도록 하고 찍음\n",
    "- 처음에는 가위, 바위, 보 각 100장씩 만듦, 이때 손톱에 매니큐어 발라져 있던 상태\n",
    "- 학습양이 부족하여 400장으로 늘림, 매니큐어 지우고 학습시킴(다른 이미지의 경우 매니큐어가 없을 것을 대비)\n",
    "- 왼손, 오른손 둘 다 학습 시킴, 손등 손바닥 방향 다 찍음 \n",
    "- 거리를 앞 뒤로 두면서 사진 사이즈를 다양하게 저장"
   ]
  },
  {
   "cell_type": "code",
   "execution_count": 2,
   "id": "5ad747e9",
   "metadata": {},
   "outputs": [
    {
     "name": "stdout",
     "output_type": "stream",
     "text": [
      "PIL 라이브러리 import 완료!\n"
     ]
    }
   ],
   "source": [
    "from PIL import Image\n",
    "import glob\n",
    "import os\n",
    "import matplotlib.pyplot as plt\n",
    "\n",
    "print(\"PIL 라이브러리 import 완료!\")"
   ]
  },
  {
   "cell_type": "code",
   "execution_count": 3,
   "id": "a96ddd17",
   "metadata": {},
   "outputs": [],
   "source": [
    "# 파일마다 모두 28x28 사이즈로 바꾸어 저장합니다.\n",
    "def resize_images(img_path):\n",
    "    images=glob.glob(img_path + \"/*.jpg\")  \n",
    "    \n",
    "    print(len(images), \" images to be resized.\")\n",
    "\n",
    "    target_size=(28,28)\n",
    "    \n",
    "    for img in images:\n",
    "        old_img=Image.open(img)\n",
    "        new_img=old_img.resize(target_size,Image.ANTIALIAS)\n",
    "        new_img.save(img, \"JPEG\")\n",
    "    \n",
    "    print(len(images), \" images resized.\")\n"
   ]
  },
  {
   "cell_type": "code",
   "execution_count": 4,
   "id": "9f45857b",
   "metadata": {},
   "outputs": [
    {
     "name": "stdout",
     "output_type": "stream",
     "text": [
      "399  images to be resized.\n",
      "399  images resized.\n",
      "가위 이미지 resize 완료!\n"
     ]
    }
   ],
   "source": [
    "# 가위 이미지가 저장된 디렉토리 아래의 모든 jpg 파일을 읽어들여서\n",
    "image_dir_path = os.getenv(\"HOME\") + \"/aiffel/rock_scissor_paper/scissor\"\n",
    "resize_images(image_dir_path)\n",
    "\n",
    "print(\"가위 이미지 resize 완료!\")"
   ]
  },
  {
   "cell_type": "code",
   "execution_count": 5,
   "id": "dd9bb3db",
   "metadata": {},
   "outputs": [
    {
     "name": "stdout",
     "output_type": "stream",
     "text": [
      "395  images to be resized.\n",
      "395  images resized.\n",
      "바위 이미지 resize 완료!\n"
     ]
    }
   ],
   "source": [
    "# 바위 이미지\n",
    "image_dir_path = os.getenv(\"HOME\") + \"/aiffel/rock_scissor_paper/rock\"\n",
    "resize_images(image_dir_path)\n",
    "print(\"바위 이미지 resize 완료!\")"
   ]
  },
  {
   "cell_type": "code",
   "execution_count": 6,
   "id": "ddbba6c7",
   "metadata": {},
   "outputs": [
    {
     "name": "stdout",
     "output_type": "stream",
     "text": [
      "400  images to be resized.\n",
      "400  images resized.\n",
      "보 이미지 resize 완료!\n"
     ]
    }
   ],
   "source": [
    "# 보 이미지\n",
    "image_dir_path = os.getenv(\"HOME\") + \"/aiffel/rock_scissor_paper/paper\"\n",
    "resize_images(image_dir_path)\n",
    "print(\"보 이미지 resize 완료!\")"
   ]
  },
  {
   "cell_type": "code",
   "execution_count": 7,
   "id": "43869ea9",
   "metadata": {},
   "outputs": [
    {
     "name": "stdout",
     "output_type": "stream",
     "text": [
      "학습데이터(x_train)의 이미지 개수는 1194 입니다.\n",
      "x_train shape: (1194, 28, 28, 3)\n",
      "y_train shape: (1194,)\n"
     ]
    }
   ],
   "source": [
    "import numpy as np\n",
    "\n",
    "\n",
    "def load_data(img_path, number_of_data=1194):  # 가위바위보 이미지 개수 총합에 주의하세요.\n",
    "    # 가위 : 0, 바위 : 1, 보 : 2\n",
    "    img_size=28\n",
    "    color=3\n",
    "    #이미지 데이터와 라벨(가위 : 0, 바위 : 1, 보 : 2) 데이터를 담을 행렬(matrix) 영역을 생성합니다.\n",
    "    imgs=np.zeros(number_of_data*img_size*img_size*color,dtype=np.int32).reshape(number_of_data,img_size,img_size,color)\n",
    "    labels=np.zeros(number_of_data,dtype=np.int32)\n",
    "\n",
    "    idx=0\n",
    "    for file in glob.iglob(img_path+'/scissor/*.jpg'):\n",
    "        img = np.array(Image.open(file),dtype=np.int32)\n",
    "        imgs[idx,:,:,:]=img    # 데이터 영역에 이미지 행렬을 복사\n",
    "        labels[idx]=0   # 가위 : 0\n",
    "        idx=idx+1\n",
    "\n",
    "    for file in glob.iglob(img_path+'/rock/*.jpg'):\n",
    "        img = np.array(Image.open(file),dtype=np.int32)\n",
    "        imgs[idx,:,:,:]=img    # 데이터 영역에 이미지 행렬을 복사\n",
    "        labels[idx]=1   # 바위 : 1\n",
    "        idx=idx+1  \n",
    "    \n",
    "    for file in glob.iglob(img_path+'/paper/*.jpg'):\n",
    "        img = np.array(Image.open(file),dtype=np.int32)\n",
    "        imgs[idx,:,:,:]=img    # 데이터 영역에 이미지 행렬을 복사\n",
    "        labels[idx]=2   # 보 : 2\n",
    "        idx=idx+1\n",
    "        \n",
    "    print(\"학습데이터(x_train)의 이미지 개수는\", idx,\"입니다.\")\n",
    "    return imgs, labels\n",
    "\n",
    "image_dir_path = os.getenv(\"HOME\") + \"/aiffel/rock_scissor_paper\"\n",
    "(x_train, y_train)=load_data(image_dir_path)\n",
    "x_train_norm = x_train/255.0   # 입력은 0~1 사이의 값으로 정규화\n",
    "\n",
    "print(\"x_train shape: {}\".format(x_train.shape))\n",
    "print(\"y_train shape: {}\".format(y_train.shape))"
   ]
  },
  {
   "cell_type": "code",
   "execution_count": 8,
   "id": "b900d256",
   "metadata": {},
   "outputs": [
    {
     "name": "stdout",
     "output_type": "stream",
     "text": [
      "라벨:  0\n"
     ]
    },
    {
     "data": {
      "image/png": "[encoded data removed]",
      "text/plain": [
       "<Figure size 432x288 with 1 Axes>"
      ]
     },
     "metadata": {
      "needs_background": "light"
     },
     "output_type": "display_data"
    }
   ],
   "source": [
    "plt.imshow(x_train[200])\n",
    "print('라벨: ', y_train[200])"
   ]
  },
  {
   "cell_type": "code",
   "execution_count": null,
   "id": "8c6dc0ba",
   "metadata": {},
   "outputs": [],
   "source": []
  },
  {
   "cell_type": "markdown",
   "id": "c5b322b3",
   "metadata": {},
   "source": [
    "## 2. 딥러닝 네트워크 설계하기 \n",
    "- 바꿔 볼 수 있는 하이퍼파라미터들 하나씩 다 확인해봄 : 제대로 된 하이퍼파라미터를 찾지 못함 \n",
    "에폭을 10 -> 15로 증가해서 정확도가 올라간건지 아니면 학습을 한번 더 해서 올라갔는지 모르겠지만 정확도 올라감 /  채널 1 16->32로 올림, 0.333으로 더 낮게 나옴 / dense를 올려봄 16 -> 32, test 정확도가 떨어짐 /dense 16 -> 8  정확도 떨어짐\n",
    "막연하게 그냥 숫자만 넣어서 제대로 된 값을 찾지 못함 \n",
    "\n",
    "1. 두번째 돌릴때(학습데이터 증가) 원래대로 에폭 10으로 하고 돌려봄\n",
    "2. 에폭 20\n",
    "3. n_channel_1=32, 에폭 10\n",
    "4. 에폭 30 \n",
    "5. 에폭 50\n",
    "6. 학습데이터 늘림 600 -> 1194\n",
    "7. 층 하나 더 늘림 Conv2D, MaxPooling2D 층을 늘리면 복잡해져서 정확도 더 떨어짐\n",
    "8. n_channel_1=25 (기존 16) 정확도 떨어짐\n",
    "9. n_channel_1=27 훈련셋 정확도는 올라가지만 테스트셋은 떨어짐\n",
    "10. model.add(keras.layers.Dropout(0.5)) 과적합 방지\n",
    "11. 드랍아웃에 에폭 50으로 늘림 \n",
    "12. 다시 다 끄고 처음부터 하면 정확도 0.33 나와서 에폭 200으로 늘림 test_accuracy: 0.6000000238418579\n",
    "13. 에폭 250 도전  test_accuracy: 0.6366666555404663\n",
    "이때 n_dense = 16으로 되어 있는 것을 이제서야 봄.... 다시 dense값 32로 변경\n",
    "최종으로 현재 모델로 확정"
   ]
  },
  {
   "cell_type": "markdown",
   "id": "d35bc481",
   "metadata": {},
   "source": [
    "여러 하이퍼파라미터를 바꿔보았지만 테스트 셋 정확도가 계속 낮게 나옴\n",
    "\n",
    "왜 이렇게 낮게 나오는지 고민해봤을 때 내가 만들었던 데이터에 문제가 있는것 같음\n",
    "\n",
    "사진에서 왼쪽 오른쪽까지 다 나오게 찍었지만 문제는 손톱에 매니큐어가 칠해져있어서 매니큐어가 있고 없고에도 영향이 있을 것 같음, 그래서 다시 데이터를 바꾸고 해보기로 함 \n",
    "현재 로스값과 정확도는\n",
    "test_loss: 8.044198036193848 \n",
    "test_accuracy: 0.33666667342185974\n",
    "\n",
    "- 매니큐어를 다 지우고 왼손 오른손 둘다 찍어서 다시 위의 단계를 실행 해보기로 함\n",
    "- 거리를 가깝게 멀게 해서 다양한 거리로 찍음\n",
    "- 가위 학습 데이터를 만들 때 검지,엄지 / 엄지, 중지 두 가지 다 저장함\n",
    "- 비교를 위해 테스트셋은 변경하지 않고 그대로 진행 \n",
    "\n",
    "위와 같이 재정비 후 위의 코드 다시 실행해봄\n",
    "\n",
    "1.학습데이터 값 600개 일때 \n",
    "test_loss: 6.319207668304443 \n",
    "test_accuracy: 0.3933333456516266\n",
    "로스값은 낮아졌지만 정확도가 그렇게 좋게 나오진 않음\n",
    "\n",
    "2.에폭 20으로 변경시\n",
    "test_loss: 6.775516510009766 \n",
    "test_accuracy: 0.4000000059604645\n",
    "\n",
    "3.학습단계에서 너무 낮게 나와서 테스트 안함\n",
    "\n",
    "4.에폭 30으로 변경시\n",
    "test_loss: 1.3429734706878662 \n",
    "test_accuracy: 0.6299999952316284    \n",
    "\n",
    "5.에폭 50으로 변경시 \n",
    "test_loss: 6.187368392944336 \n",
    "test_accuracy: 0.4566666781902313\n",
    "\n",
    "\n",
    "6.학습데이터 늘림 600 -> 1194, 에폭 30\n",
    "test_loss: 6.074407577514648 \n",
    "test_accuracy: 0.5299999713897705\n",
    "\n",
    "9.n_channel_1=27\n",
    "test_loss: 6.270820140838623 \n",
    "test_accuracy: 0.4633333384990692\n",
    "\n",
    "11.드랍아웃에 에폭을 30만 넣으니 학습 정확도가 95% 넘지 않아서 에폭을 50으로 늘림\n",
    "test_loss: 1.1245529651641846 \n",
    "test_accuracy: 0.7666666507720947  <<< 드디어 76.66%의 정확도가 나옴!!!! \n",
    "높게 나와서 행복했지만 다시 주피터노트북 다 끄고 실행했을때는 높게 나오지 않음 저 수치는 저때 한번 빼고 그 뒤에 보지 못했다는 슬픈 소식....\n",
    "\n",
    "> 학습 데이터 양이 너무 적으면 안됨 600개로는 어림도 없었음 \n",
    "> 그냥 에폭을 늘리면 과적합으로 인해 훈련셋 정확도는 올라가도 테스트셋 정확도가 떨어짐(의미X) \n",
    "> 과적합을 방지하고자 Dropout을 넣고, 에폭을 늘렸더니 훈련셋과 테스트셋 정확도가 둘다 향상하는 것을 보임 "
   ]
  },
  {
   "cell_type": "code",
   "execution_count": 8,
   "id": "63d2a486",
   "metadata": {},
   "outputs": [
    {
     "name": "stdout",
     "output_type": "stream",
     "text": [
      "Model: \"sequential\"\n",
      "_________________________________________________________________\n",
      "Layer (type)                 Output Shape              Param #   \n",
      "=================================================================\n",
      "conv2d (Conv2D)              (None, 26, 26, 16)        448       \n",
      "_________________________________________________________________\n",
      "max_pooling2d (MaxPooling2D) (None, 13, 13, 16)        0         \n",
      "_________________________________________________________________\n",
      "conv2d_1 (Conv2D)            (None, 11, 11, 32)        4640      \n",
      "_________________________________________________________________\n",
      "max_pooling2d_1 (MaxPooling2 (None, 5, 5, 32)          0         \n",
      "_________________________________________________________________\n",
      "dropout (Dropout)            (None, 5, 5, 32)          0         \n",
      "_________________________________________________________________\n",
      "flatten (Flatten)            (None, 800)               0         \n",
      "_________________________________________________________________\n",
      "dense (Dense)                (None, 32)                25632     \n",
      "_________________________________________________________________\n",
      "dense_1 (Dense)              (None, 3)                 99        \n",
      "=================================================================\n",
      "Total params: 30,819\n",
      "Trainable params: 30,819\n",
      "Non-trainable params: 0\n",
      "_________________________________________________________________\n"
     ]
    }
   ],
   "source": [
    "import tensorflow as tf\n",
    "from tensorflow import keras\n",
    "import numpy as np\n",
    "\n",
    "# model을 직접 만들어 보세요.\n",
    "# Hint! model의 입력/출력부에 특히 유의해 주세요. 가위바위보 데이터셋은 MNIST 데이터셋과 어떤 점이 달라졌나요?\n",
    "\n",
    "\n",
    "n_channel_1=16\n",
    "n_channel_2=32\n",
    "n_dense= 32\n",
    "n_train_epoch= 30\n",
    "\n",
    "model=keras.models.Sequential()\n",
    "#입력된 사진은 컬러이므로 input_shape의 마지막은 3을 넣어야함, 흑백의 경우 1\n",
    "model.add(keras.layers.Conv2D(n_channel_1, (3,3), activation='relu', input_shape=(28,28,3)))\n",
    "model.add(keras.layers.MaxPool2D(2,2))\n",
    "model.add(keras.layers.Conv2D(n_channel_2, (3,3), activation='relu'))\n",
    "model.add(keras.layers.MaxPooling2D((2,2)))\n",
    "model.add(keras.layers.Dropout(0.5))\n",
    "model.add(keras.layers.Flatten())\n",
    "model.add(keras.layers.Dense(n_dense, activation='relu'))\n",
    "\n",
    "\n",
    "# 최종 분류 class의 수는 3개(가위, 바위, 보)이므로 3 입력되어야함\n",
    "model.add(keras.layers.Dense(3, activation='softmax'))\n",
    "\n",
    "\n",
    "model.summary()"
   ]
  },
  {
   "cell_type": "code",
   "execution_count": null,
   "id": "32b155bf",
   "metadata": {},
   "outputs": [],
   "source": []
  },
  {
   "cell_type": "markdown",
   "id": "fd0d75d8",
   "metadata": {},
   "source": [
    "## 3. 딥러닝 네트워크 학습시키기"
   ]
  },
  {
   "cell_type": "code",
   "execution_count": 9,
   "id": "21703129",
   "metadata": {},
   "outputs": [
    {
     "name": "stdout",
     "output_type": "stream",
     "text": [
      "Epoch 1/30\n",
      "38/38 [==============================] - 3s 5ms/step - loss: 9.5805 - accuracy: 0.3434\n",
      "Epoch 2/30\n",
      "38/38 [==============================] - 0s 3ms/step - loss: 1.1016 - accuracy: 0.4841\n",
      "Epoch 3/30\n",
      "38/38 [==============================] - 0s 3ms/step - loss: 0.9221 - accuracy: 0.5871\n",
      "Epoch 4/30\n",
      "38/38 [==============================] - 0s 3ms/step - loss: 0.7999 - accuracy: 0.6466\n",
      "Epoch 5/30\n",
      "38/38 [==============================] - 0s 3ms/step - loss: 0.7130 - accuracy: 0.7069\n",
      "Epoch 6/30\n",
      "38/38 [==============================] - 0s 3ms/step - loss: 0.5677 - accuracy: 0.7680\n",
      "Epoch 7/30\n",
      "38/38 [==============================] - 0s 3ms/step - loss: 0.5632 - accuracy: 0.7714\n",
      "Epoch 8/30\n",
      "38/38 [==============================] - 0s 3ms/step - loss: 0.4335 - accuracy: 0.8375\n",
      "Epoch 9/30\n",
      "38/38 [==============================] - 0s 3ms/step - loss: 0.4181 - accuracy: 0.8300\n",
      "Epoch 10/30\n",
      "38/38 [==============================] - 0s 3ms/step - loss: 0.3656 - accuracy: 0.8543\n",
      "Epoch 11/30\n",
      "38/38 [==============================] - 0s 3ms/step - loss: 0.3120 - accuracy: 0.8827\n",
      "Epoch 12/30\n",
      "38/38 [==============================] - 0s 3ms/step - loss: 0.3551 - accuracy: 0.8601\n",
      "Epoch 13/30\n",
      "38/38 [==============================] - 0s 3ms/step - loss: 0.2979 - accuracy: 0.8752\n",
      "Epoch 14/30\n",
      "38/38 [==============================] - 0s 3ms/step - loss: 0.2893 - accuracy: 0.8894\n",
      "Epoch 15/30\n",
      "38/38 [==============================] - 0s 3ms/step - loss: 0.2371 - accuracy: 0.9137\n",
      "Epoch 16/30\n",
      "38/38 [==============================] - 0s 3ms/step - loss: 0.2745 - accuracy: 0.8928\n",
      "Epoch 17/30\n",
      "38/38 [==============================] - 0s 3ms/step - loss: 0.2175 - accuracy: 0.9162\n",
      "Epoch 18/30\n",
      "38/38 [==============================] - 0s 3ms/step - loss: 0.2078 - accuracy: 0.9146\n",
      "Epoch 19/30\n",
      "38/38 [==============================] - 0s 3ms/step - loss: 0.2246 - accuracy: 0.9196\n",
      "Epoch 20/30\n",
      "38/38 [==============================] - 0s 3ms/step - loss: 0.1877 - accuracy: 0.9280\n",
      "Epoch 21/30\n",
      "38/38 [==============================] - 0s 3ms/step - loss: 0.1811 - accuracy: 0.9255\n",
      "Epoch 22/30\n",
      "38/38 [==============================] - 0s 3ms/step - loss: 0.1964 - accuracy: 0.9238\n",
      "Epoch 23/30\n",
      "38/38 [==============================] - 0s 3ms/step - loss: 0.1771 - accuracy: 0.9280\n",
      "Epoch 24/30\n",
      "38/38 [==============================] - 0s 3ms/step - loss: 0.1594 - accuracy: 0.9389\n",
      "Epoch 25/30\n",
      "38/38 [==============================] - 0s 3ms/step - loss: 0.1395 - accuracy: 0.9497\n",
      "Epoch 26/30\n",
      "38/38 [==============================] - 0s 3ms/step - loss: 0.1508 - accuracy: 0.9556\n",
      "Epoch 27/30\n",
      "38/38 [==============================] - 0s 3ms/step - loss: 0.1409 - accuracy: 0.9489\n",
      "Epoch 28/30\n",
      "38/38 [==============================] - 0s 3ms/step - loss: 0.1477 - accuracy: 0.9472\n",
      "Epoch 29/30\n",
      "38/38 [==============================] - 0s 3ms/step - loss: 0.1242 - accuracy: 0.9573\n",
      "Epoch 30/30\n",
      "38/38 [==============================] - 0s 3ms/step - loss: 0.0903 - accuracy: 0.9665\n"
     ]
    },
    {
     "data": {
      "text/plain": [
       "<keras.callbacks.History at 0x7ffa4805c190>"
      ]
     },
     "execution_count": 9,
     "metadata": {},
     "output_type": "execute_result"
    }
   ],
   "source": [
    "# model을 학습시키는 코드를 직접 작성해 보세요.\n",
    "# Hint! model.compile()과 model.fit()을 사용해 봅시다.\n",
    "\n",
    "model.compile(optimizer='adam',\n",
    "             loss='sparse_categorical_crossentropy',\n",
    "             metrics=['accuracy'])\n",
    "\n",
    "# 에폭을 10으로 했을 때 정확도가 0.33 나와서 15로 늘림\n",
    "#-----------------------------------------------------\n",
    "# 1. 두번째 돌릴때(학습데이터 늘림) 정확도는(에폭 그대로 10)? loss: 0.1832 - accuracy: 0.9433\n",
    "# 한번만 돌렸지만 매우 높은 정확도와 낮은 로스값을 보임\n",
    "# 2. 에폭 20으로 올림 loss: 0.0694 - accuracy: 0.9900\n",
    "# 3. loss: 0.2982 - accuracy: 0.8867 더 떨어짐 테스트셋 패스\n",
    "\n",
    "model.fit(x_train, y_train, epochs=n_train_epoch)  # check 변수로 받고"
   ]
  },
  {
   "cell_type": "code",
   "execution_count": 10,
   "id": "61c6ab97",
   "metadata": {},
   "outputs": [
    {
     "name": "stdout",
     "output_type": "stream",
     "text": [
      "100  images to be resized.\n",
      "100  images resized.\n",
      "테스트 가위 이미지 resize 완료!\n"
     ]
    }
   ],
   "source": [
    "# 테스트 가위 이미지가 저장된 디렉토리 아래의 모든 jpg 파일을 읽어들여서\n",
    "image_dir_path = os.getenv(\"HOME\") + \"/aiffel/rock_scissor_paper/test/scissor\"\n",
    "resize_images(image_dir_path)\n",
    "\n",
    "print(\"테스트 가위 이미지 resize 완료!\")"
   ]
  },
  {
   "cell_type": "code",
   "execution_count": 11,
   "id": "e84f83c5",
   "metadata": {},
   "outputs": [
    {
     "name": "stdout",
     "output_type": "stream",
     "text": [
      "100  images to be resized.\n",
      "100  images resized.\n",
      "테스트 바위 이미지 resize 완료!\n"
     ]
    }
   ],
   "source": [
    "# 테스트 바위 이미지가 저장된 디렉토리 아래의 모든 jpg 파일을 읽어들여서\n",
    "image_dir_path = os.getenv(\"HOME\") + \"/aiffel/rock_scissor_paper/test/rock\"\n",
    "resize_images(image_dir_path)\n",
    "\n",
    "print(\"테스트 바위 이미지 resize 완료!\")"
   ]
  },
  {
   "cell_type": "code",
   "execution_count": 12,
   "id": "56a3708d",
   "metadata": {},
   "outputs": [
    {
     "name": "stdout",
     "output_type": "stream",
     "text": [
      "100  images to be resized.\n",
      "100  images resized.\n",
      "테스트 보 이미지 resize 완료!\n"
     ]
    }
   ],
   "source": [
    "# 테스트 보 이미지가 저장된 디렉토리 아래의 모든 jpg 파일을 읽어들여서\n",
    "image_dir_path = os.getenv(\"HOME\") + \"/aiffel/rock_scissor_paper/test/paper\"\n",
    "resize_images(image_dir_path)\n",
    "\n",
    "print(\"테스트 보 이미지 resize 완료!\")"
   ]
  },
  {
   "cell_type": "code",
   "execution_count": 13,
   "id": "34467b96",
   "metadata": {},
   "outputs": [
    {
     "name": "stdout",
     "output_type": "stream",
     "text": [
      "테스트데이터(x_test)의 이미지 개수는 300 입니다.\n",
      "x_test shape: (300, 28, 28, 3)\n",
      "y_test shape: (300,)\n"
     ]
    }
   ],
   "source": [
    "def load_data(img_path, number_of_data=300):  # 가위바위보 이미지 개수 총합에 주의하세요.\n",
    "    # 가위 : 0, 바위 : 1, 보 : 2\n",
    "    img_size=28\n",
    "    color=3\n",
    "    #이미지 데이터와 라벨(가위 : 0, 바위 : 1, 보 : 2) 데이터를 담을 행렬(matrix) 영역을 생성합니다.\n",
    "    imgs=np.zeros(number_of_data*img_size*img_size*color,dtype=np.int32).reshape(number_of_data,img_size,img_size,color)\n",
    "    labels=np.zeros(number_of_data,dtype=np.int32)\n",
    "\n",
    "    idx=0\n",
    "    for file in glob.iglob(img_path+'/scissor/*.jpg'):\n",
    "        img = np.array(Image.open(file),dtype=np.int32)\n",
    "        imgs[idx,:,:,:]=img    # 데이터 영역에 이미지 행렬을 복사\n",
    "        labels[idx]=0   # 가위 : 0\n",
    "        idx=idx+1\n",
    "\n",
    "    for file in glob.iglob(img_path+'/rock/*.jpg'):\n",
    "        img = np.array(Image.open(file),dtype=np.int32)\n",
    "        imgs[idx,:,:,:]=img    # 데이터 영역에 이미지 행렬을 복사\n",
    "        labels[idx]=1   # 바위 : 1\n",
    "        idx=idx+1  \n",
    "    \n",
    "    for file in glob.iglob(img_path+'/paper/*.jpg'):\n",
    "        img = np.array(Image.open(file),dtype=np.int32)\n",
    "        imgs[idx,:,:,:]=img    # 데이터 영역에 이미지 행렬을 복사\n",
    "        labels[idx]=2   # 보 : 2\n",
    "        idx=idx+1\n",
    "        \n",
    "    print(\"테스트데이터(x_test)의 이미지 개수는\", idx,\"입니다.\")\n",
    "    return imgs, labels\n",
    "\n",
    "image_dir_path = os.getenv(\"HOME\") + \"/aiffel/rock_scissor_paper/test\"\n",
    "(x_test, y_test)=load_data(image_dir_path)\n",
    "x_test_norm = x_test/255.0   # 입력은 0~1 사이의 값으로 정규화\n",
    "\n",
    "print(\"x_test shape: {}\".format(x_test.shape))\n",
    "print(\"y_test shape: {}\".format(y_test.shape))"
   ]
  },
  {
   "cell_type": "code",
   "execution_count": null,
   "id": "e4df1124",
   "metadata": {},
   "outputs": [],
   "source": []
  },
  {
   "cell_type": "markdown",
   "id": "14c15b48",
   "metadata": {},
   "source": [
    "## 4. 얼마나 잘 만들었는지 확인하기 "
   ]
  },
  {
   "cell_type": "code",
   "execution_count": 14,
   "id": "5ecfa571",
   "metadata": {},
   "outputs": [
    {
     "name": "stdout",
     "output_type": "stream",
     "text": [
      "10/10 [==============================] - 0s 6ms/step - loss: 2.5670 - accuracy: 0.6467\n",
      "test_loss: 2.5669920444488525 \n",
      "test_accuracy: 0.6466666460037231\n"
     ]
    }
   ],
   "source": [
    "test_loss, test_accuracy = model.evaluate(x_test, y_test, verbose=1)\n",
    "print(\"test_loss: {} \".format(test_loss))\n",
    "print(\"test_accuracy: {}\".format(test_accuracy))"
   ]
  },
  {
   "cell_type": "code",
   "execution_count": 15,
   "id": "a4daa87b",
   "metadata": {},
   "outputs": [
    {
     "name": "stdout",
     "output_type": "stream",
     "text": [
      "model.predict() 결과 :  [0.51921326 0.00058708 0.48019964]\n",
      "model이 추론한 가장 가능성이 높은 결과 :  0\n",
      "실제 데이터의 라벨 :  0\n"
     ]
    }
   ],
   "source": [
    "predicted_result = model.predict(x_test)  # model이 추론한 확률값. \n",
    "predicted_labels = np.argmax(predicted_result, axis=1)\n",
    "\n",
    "idx=5  #5번째 x_test를 살펴보자. \n",
    "print('model.predict() 결과 : ', predicted_result[idx])\n",
    "print('model이 추론한 가장 가능성이 높은 결과 : ', predicted_labels[idx])\n",
    "print('실제 데이터의 라벨 : ', y_test[idx])"
   ]
  },
  {
   "cell_type": "code",
   "execution_count": 16,
   "id": "ebaf172c",
   "metadata": {},
   "outputs": [
    {
     "data": {
      "image/png": "[encoded data removed]",
      "text/plain": [
       "<Figure size 432x288 with 1 Axes>"
      ]
     },
     "metadata": {
      "needs_background": "light"
     },
     "output_type": "display_data"
    }
   ],
   "source": [
    "plt.imshow(x_test[idx],cmap=plt.cm.binary)\n",
    "plt.show()"
   ]
  },
  {
   "cell_type": "code",
   "execution_count": 17,
   "id": "576e9025",
   "metadata": {
    "scrolled": true
   },
   "outputs": [
    {
     "name": "stdout",
     "output_type": "stream",
     "text": [
      "예측확률분포: [3.4095272e-05 9.2302704e-01 7.6938838e-02]\n",
      "라벨: 0, 예측결과: 1\n"
     ]
    },
    {
     "data": {
      "image/png": "[encoded data removed]",
      "text/plain": [
       "<Figure size 432x288 with 1 Axes>"
      ]
     },
     "metadata": {
      "needs_background": "light"
     },
     "output_type": "display_data"
    },
    {
     "name": "stdout",
     "output_type": "stream",
     "text": [
      "예측확률분포: [1.8494015e-05 9.8780340e-01 1.2178112e-02]\n",
      "라벨: 0, 예측결과: 1\n"
     ]
    },
    {
     "data": {
      "image/png": "[encoded data removed]",
      "text/plain": [
       "<Figure size 432x288 with 1 Axes>"
      ]
     },
     "metadata": {
      "needs_background": "light"
     },
     "output_type": "display_data"
    },
    {
     "name": "stdout",
     "output_type": "stream",
     "text": [
      "예측확률분포: [0.02271597 0.26090422 0.7163798 ]\n",
      "라벨: 0, 예측결과: 2\n"
     ]
    },
    {
     "data": {
      "image/png": "[encoded data removed]",
      "text/plain": [
       "<Figure size 432x288 with 1 Axes>"
      ]
     },
     "metadata": {
      "needs_background": "light"
     },
     "output_type": "display_data"
    },
    {
     "name": "stdout",
     "output_type": "stream",
     "text": [
      "예측확률분포: [0.00134711 0.97941476 0.01923818]\n",
      "라벨: 2, 예측결과: 1\n"
     ]
    },
    {
     "data": {
      "image/png": "[encoded data removed]",
      "text/plain": [
       "<Figure size 432x288 with 1 Axes>"
      ]
     },
     "metadata": {
      "needs_background": "light"
     },
     "output_type": "display_data"
    },
    {
     "name": "stdout",
     "output_type": "stream",
     "text": [
      "예측확률분포: [0.02271597 0.26090422 0.7163798 ]\n",
      "라벨: 0, 예측결과: 2\n"
     ]
    },
    {
     "data": {
      "image/png": "[encoded data removed]",
      "text/plain": [
       "<Figure size 432x288 with 1 Axes>"
      ]
     },
     "metadata": {
      "needs_background": "light"
     },
     "output_type": "display_data"
    }
   ],
   "source": [
    "import random\n",
    "wrong_predict_list=[]\n",
    "for i, _ in enumerate(predicted_labels):\n",
    "    # i번째 test_labels과 y_test이 다른 경우만 모아 봅시다. \n",
    "    if predicted_labels[i] != y_test[i]:\n",
    "        wrong_predict_list.append(i)\n",
    "\n",
    "# wrong_predict_list 에서 랜덤하게 5개만 뽑아봅시다.\n",
    "samples = random.choices(population=wrong_predict_list, k=5)\n",
    "\n",
    "for n in samples:\n",
    "    print(\"예측확률분포: \" + str(predicted_result[n]))\n",
    "    print(\"라벨: \" + str(y_test[n]) + \", 예측결과: \" + str(predicted_labels[n]))\n",
    "    plt.imshow(x_test[n], cmap=plt.cm.binary)\n",
    "    plt.show()"
   ]
  },
  {
   "cell_type": "markdown",
   "id": "b87b4ce0",
   "metadata": {},
   "source": [
    "1. metrics = check.history \n",
    "2. plt.plot(history.epoch, metrics['accuracy'], metrics['loss'])\n",
    "3. plt.legend(['accuracy', 'loss'])\n",
    "4. plt.show()\n",
    "5. 변수 check를 받고 위의 코드 돌리면 그래프 그려짐 "
   ]
  },
  {
   "cell_type": "code",
   "execution_count": null,
   "id": "02d0a004",
   "metadata": {},
   "outputs": [],
   "source": []
  }
 ],
 "metadata": {
  "kernelspec": {
   "display_name": "Python 3 (ipykernel)",
   "language": "python",
   "name": "python3"
  },
  "language_info": {
   "codemirror_mode": {
    "name": "ipython",
    "version": 3
   },
   "file_extension": ".py",
   "mimetype": "text/x-python",
   "name": "python",
   "nbconvert_exporter": "python",
   "pygments_lexer": "ipython3",
   "version": "3.9.7"
  }
 },
 "nbformat": 4,
 "nbformat_minor": 5
}

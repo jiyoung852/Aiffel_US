{
 "cells": [
  {
   "cell_type": "markdown",
   "id": "8b473c4f",
   "metadata": {},
   "source": [
    "# [E-04] 작사가 인공지능 만들기 \n",
    "\n",
    "\n",
    "### 목표 : 적절한 노래 가사가 나오는 모델 만들기 \n",
    "## 1. 데이터 전처리\n",
    "    - 데이터 가져오기\n",
    "    - 데이터 정제\n",
    "    - 토큰화 및 패딩\n",
    "    - 데이터셋 분리 \n",
    "\n",
    "## [2. 모델 정하고 학습하기](#5.-모델-정하고-학습하기)\n",
    "    - 하이퍼파라미터 2개(embedding, hidden_size)만 조절해서 최적의 모델 찾기\n",
    "    - LSTM 사용 \n",
    "    - Loss 함수 : SparseCategoricalCrossentropy\n",
    "    - dropout 추가 \n",
    "    - epochs 10으로 고정\n",
    "   - ### [모델 학습하기](#5-1.-모델-학습하기)\n",
    "   \n",
    "   \n",
    "## 3. 모델 평가하기\n",
    "## [4. 하이퍼파라미터 수정 과정 및 회고](#7.-하이퍼파라미터-수정-과정-및-회고)\n",
    "## [5. 결론](#8.-결론) \n",
    "<br>\n",
    "<br>\n",
    "\n",
    "----------------------------------------------------------------------------------------------------------------------------------------------------------------------------------"
   ]
  },
  {
   "cell_type": "markdown",
   "id": "9274dc86",
   "metadata": {},
   "source": [
    "# 일단 문서 내부 링크 이동 만드는 방법\n",
    "\n",
    "- 링크 넣는 것과 방식은 같음 [링크 걸고 싶은 글](#\"이동하고자 하는 위치의 글쓰기, 이때 빈칸은 - 처리\")\n",
    "- 예시 **[2. 모델 정하고 학습하기](#5.-모델-정하고-학습하 기)**  <- 위에 2번 링크 할 떄 어떻게 했는지 보여주기 위해 일부러 하 기로 빈칸 넣음\n",
    "- 이동할 위치의 글이 영어라면 반드시 소문자만 가능!"
   ]
  },
  {
   "cell_type": "code",
   "execution_count": null,
   "id": "f219c3e8",
   "metadata": {},
   "outputs": [],
   "source": []
  },
  {
   "cell_type": "code",
   "execution_count": null,
   "id": "26a76650",
   "metadata": {},
   "outputs": [],
   "source": []
  },
  {
   "cell_type": "markdown",
   "id": "0ec6b101",
   "metadata": {},
   "source": [
    "## 1. 데이터 다운로드 \n",
    "- 폴더 안에 여러 텍스트 파일 준비 \n",
    "- shell에 아래의 코드 입력해서 연결\n",
    "\n",
    "```python\n",
    "mkdir -p ~/aiffel/lyricist/models\n",
    "ln -s ~/data ~/aiffel/lyricist/data\n",
    "```"
   ]
  },
  {
   "cell_type": "markdown",
   "id": "3d7a64f3",
   "metadata": {},
   "source": [
    "## 2. 데이터 읽어오기 "
   ]
  },
  {
   "cell_type": "code",
   "execution_count": 1,
   "id": "e0eae856",
   "metadata": {},
   "outputs": [
    {
     "name": "stdout",
     "output_type": "stream",
     "text": [
      "데이터 크기: 187088\n",
      "Examples:\n",
      " [\"Now I've heard there was a secret chord\", 'That David played, and it pleased the Lord', \"But you don't really care for music, do you?\", 'It goes like this', 'The fourth, the fifth']\n"
     ]
    }
   ],
   "source": [
    "import glob\n",
    "import os\n",
    "\n",
    "txt_file_path = os.getenv('HOME')+'/aiffel/lyricist/data/lyrics/*'  # * 모든  \n",
    "txt_list = glob.glob(txt_file_path)\n",
    "\n",
    "raw_corpus = []\n",
    "\n",
    "# 여러개의 txt 파일을 모두 읽어서 raw_corpus에 넣음 \n",
    "for txt_file in txt_list:\n",
    "    with open(txt_file, \"r\") as f:\n",
    "        raw = f.read().splitlines()\n",
    "        raw_corpus.extend(raw)\n",
    "\n",
    "print(\"데이터 크기:\", len(raw_corpus))\n",
    "print(\"Examples:\\n\", raw_corpus[:5])"
   ]
  },
  {
   "cell_type": "markdown",
   "id": "4031c607",
   "metadata": {},
   "source": [
    "## 3. 데이터 정제\n",
    "\n",
    "- preprocess_sentence() 함수 이용\n",
    "- 추가로 지나치게 긴 문장은 다른 데이터들이 과도한 Padding을 갖게 하므로 제거\n",
    "- 문장을 토큰화 했을 때 토큰의 개수가 15개를 넘어가는 문장을 학습 데이터에서 제외하기 \n",
    "\n"
   ]
  },
  {
   "cell_type": "code",
   "execution_count": 2,
   "id": "590b9820",
   "metadata": {},
   "outputs": [
    {
     "name": "stdout",
     "output_type": "stream",
     "text": [
      "<start> it s a good time <end>\n"
     ]
    }
   ],
   "source": [
    "import re\n",
    "\n",
    "def preprocess_sentence(sentence):\n",
    "    sentence = sentence.lower().strip() #1 소문자 변경, 양쪽 공백 제거\n",
    "    sentence = re.sub(r\"(\\(.*\\))\", '', sentence) #2 ()단어는 불필요하므로 삭제\n",
    "    sentence = re.sub(r\"(\\[.*\\])\", '', sentence) #3 [] 단어는 불필요하므로 삭제 \n",
    "    sentence = re.sub(r\"([?.!])\", r\" \\1 \", sentence) #4 특수문자 양쪽에 공백 넣기\n",
    "    sentence = re.sub(r'[\" \"]+', \" \", sentence) #5 여러 개 공백 하나로\n",
    "    sentence = re.sub(r\"[^a-zA-Z?.!]+\", \" \", sentence) #6 제시된 것 아닌 모든 문자를 하나의 공백\n",
    "    sentence = sentence.strip() #7 양쪽 공백 제거\n",
    "    sentence = '<start> ' + sentence + ' <end>' #8 문장 앞 뒤로 추가 \n",
    "    return sentence\n",
    "\n",
    "print(preprocess_sentence(\"It's ~~~a good @#$~ time   (hello)  [hi]\"))"
   ]
  },
  {
   "cell_type": "markdown",
   "id": "a4fbd959",
   "metadata": {},
   "source": [
    "### 정제해서 corpus에 넣기"
   ]
  },
  {
   "cell_type": "code",
   "execution_count": 3,
   "id": "badb8c65",
   "metadata": {},
   "outputs": [],
   "source": [
    "corpus = []\n",
    "\n",
    "for sentence in raw_corpus:\n",
    "    if len(sentence) == 0 : continue    # 문장 길이가 0이면 넘어가고\n",
    "    \n",
    "    \n",
    "    # 정제를 하고 넣기\n",
    "    preprocessed_sentence = preprocess_sentence(sentence)\n",
    "    \n",
    "    # 15개 이상 건너뛰기 \n",
    "    if len(preprocessed_sentence.split()) > 15 : continue\n",
    "    \n",
    "    corpus.append(preprocessed_sentence)\n",
    "        \n",
    "# 정제된 결과 10개 확인\n",
    "#corpus[100:110]"
   ]
  },
  {
   "cell_type": "markdown",
   "id": "27209227",
   "metadata": {},
   "source": [
    "### 토큰화 할 때 텐서플로우의 Tokenizer와 pad_sequences를 사용"
   ]
  },
  {
   "cell_type": "code",
   "execution_count": 4,
   "id": "71d8cf03",
   "metadata": {},
   "outputs": [
    {
     "name": "stdout",
     "output_type": "stream",
     "text": [
      "[[   2   48    4 ...    0    0    0]\n",
      " [   2   14 2992 ...    0    0    0]\n",
      " [   2   32    6 ...    0    0    0]\n",
      " ...\n",
      " [   2    4  109 ...    0    0    0]\n",
      " [   2  256  191 ...    0    0    0]\n",
      " [   2    6   33 ...    0    0    0]] <keras_preprocessing.text.Tokenizer object at 0x7fc4280c7b50>\n"
     ]
    },
    {
     "data": {
      "text/plain": [
       "(161139, 16)"
      ]
     },
     "execution_count": 4,
     "metadata": {},
     "output_type": "execute_result"
    }
   ],
   "source": [
    "import tensorflow as tf\n",
    "\n",
    "#12000 단어 사용\n",
    "\n",
    "def tokenize(corpus):\n",
    "\n",
    "    tokenizer = tf.keras.preprocessing.text.Tokenizer(\n",
    "        num_words=12000, \n",
    "        filters=' ',\n",
    "        oov_token=\"<unk>\"\n",
    "    )\n",
    "\n",
    "    tokenizer.fit_on_texts(corpus)     # corpus를 이용해 tokenizer 내부의 단어장을 완성\n",
    "    tensor = tokenizer.texts_to_sequences(corpus)     # tokenizer를 이용해 corpus를 Tensor로 변환\n",
    "    # 입력 데이터의 시퀀스 길이를 일정하게 맞춤, 문장 앞은 padding='pre'를 사용\n",
    "    # 토큰의 개수는 최대 15개인데 데이터셋 분리할 때 start하나를 빼므로 16으로 잡음\n",
    "    tensor = tf.keras.preprocessing.sequence.pad_sequences(tensor, padding='post', maxlen = 16)  \n",
    "    \n",
    "    print(tensor,tokenizer)\n",
    "    return tensor, tokenizer\n",
    "\n",
    "tensor, tokenizer = tokenize(corpus)\n",
    "tensor.shape"
   ]
  },
  {
   "cell_type": "code",
   "execution_count": 5,
   "id": "6614a95c",
   "metadata": {},
   "outputs": [
    {
     "name": "stdout",
     "output_type": "stream",
     "text": [
      "1 : <unk>\n",
      "2 : <start>\n",
      "3 : <end>\n",
      "4 : i\n",
      "5 : the\n",
      "6 : you\n",
      "7 : and\n",
      "8 : a\n",
      "9 : to\n",
      "10 : it\n"
     ]
    }
   ],
   "source": [
    "for idx in tokenizer.index_word:\n",
    "    print(idx, \":\", tokenizer.index_word[idx])\n",
    "\n",
    "    if idx >= 10: break"
   ]
  },
  {
   "cell_type": "markdown",
   "id": "9866712a",
   "metadata": {},
   "source": [
    "## 4. 데이터셋 분리\n",
    "\n",
    "- 훈련 데이터와 평가 데이터를 분리\n",
    "- tokenize() 함수로 데이터를 Tensor로 변환한 후, sklearn 모듈의 train_test_split() 함수를 사용해 훈련 데이터와 평가 데이터를 분리\n",
    "- 단어장의 크기는 12,000 이상 으로 설정, 총 데이터의 20% 를 평가 데이터셋으로 사용"
   ]
  },
  {
   "cell_type": "code",
   "execution_count": 6,
   "id": "5dde7915",
   "metadata": {
    "scrolled": true
   },
   "outputs": [
    {
     "name": "stdout",
     "output_type": "stream",
     "text": [
      "[   2   48    4   92  303   61   52    8  960 5812    3    0    0    0\n",
      "    0]\n",
      "[  48    4   92  303   61   52    8  960 5812    3    0    0    0    0\n",
      "    0]\n"
     ]
    }
   ],
   "source": [
    "# tensor에서 마지막 토큰을 잘라내서 소스 문장을 생성합니다\n",
    "# 마지막 토큰은 <end>가 아니라 <pad>일 가능성이 높습니다.\n",
    "\n",
    "src_input = tensor[:, :-1]  \n",
    "# tensor에서 <start>를 잘라내서 타겟 문장을 생성\n",
    "tgt_input = tensor[:, 1:]    \n",
    "\n",
    "print(src_input[0])\n",
    "print(tgt_input[0])"
   ]
  },
  {
   "cell_type": "code",
   "execution_count": 7,
   "id": "c70493b8",
   "metadata": {},
   "outputs": [],
   "source": [
    "from sklearn.model_selection import train_test_split\n",
    "\n",
    "enc_train, enc_val, dec_train, dec_val = train_test_split(src_input,tgt_input, \n",
    "                                                          test_size = 0.2, random_state = 7)"
   ]
  },
  {
   "cell_type": "code",
   "execution_count": 8,
   "id": "5ab5202c",
   "metadata": {},
   "outputs": [
    {
     "name": "stdout",
     "output_type": "stream",
     "text": [
      "Source Train: (128911, 15)\n",
      "Target Train: (128911, 15)\n"
     ]
    }
   ],
   "source": [
    "print(\"Source Train:\", enc_train.shape)\n",
    "print(\"Target Train:\", dec_train.shape)"
   ]
  },
  {
   "cell_type": "markdown",
   "id": "65a0b9b4",
   "metadata": {},
   "source": [
    "- 데이터셋 객체 생성, 텐서플로우를 활용할 경우 텐서로 생성된 데이터를 이용해 tf.data.Dataset객체를 생성하는 방법을 흔히 사용"
   ]
  },
  {
   "cell_type": "code",
   "execution_count": 9,
   "id": "ad734c54",
   "metadata": {},
   "outputs": [
    {
     "data": {
      "text/plain": [
       "<BatchDataset shapes: ((256, 15), (256, 15)), types: (tf.int32, tf.int32)>"
      ]
     },
     "execution_count": 9,
     "metadata": {},
     "output_type": "execute_result"
    }
   ],
   "source": [
    "BUFFER_SIZE = len(src_input)\n",
    "BATCH_SIZE = 256\n",
    "steps_per_epoch = len(src_input) // BATCH_SIZE\n",
    "\n",
    " # tokenizer가 구축한 단어사전 내 12000개와, 여기 포함되지 않은 0:<pad>를 포함하여 12001개\n",
    "VOCAB_SIZE = tokenizer.num_words + 1   \n",
    "\n",
    "# 준비한 데이터 소스로부터 데이터셋을 만듭니다\n",
    "dataset = tf.data.Dataset.from_tensor_slices((src_input, tgt_input))\n",
    "dataset = dataset.shuffle(BUFFER_SIZE)\n",
    "dataset = dataset.batch(BATCH_SIZE, drop_remainder=True)\n",
    "dataset"
   ]
  },
  {
   "cell_type": "code",
   "execution_count": null,
   "id": "ecef8bb9",
   "metadata": {},
   "outputs": [],
   "source": []
  },
  {
   "cell_type": "code",
   "execution_count": null,
   "id": "9fdc4652",
   "metadata": {},
   "outputs": [],
   "source": []
  },
  {
   "cell_type": "markdown",
   "id": "ca5d0a3f",
   "metadata": {},
   "source": [
    "## 5. 모델 정하고 학습하기 \n",
    "- 모델의 Embedding Size와 Hidden Size를 조절하며 10 Epoch 안에 val_loss 값을 2.2 수준으로 줄일 수 있는 모델을 설계\n",
    "- Loss는 아래 제시된 Loss 함수를 그대로 사용"
   ]
  },
  {
   "cell_type": "code",
   "execution_count": 10,
   "id": "bcc52639",
   "metadata": {},
   "outputs": [],
   "source": [
    "class TextGenerator(tf.keras.Model):\n",
    "    def __init__(self, vocab_size, embedding_size, hidden_size):\n",
    "        super().__init__()\n",
    "        \n",
    "        self.embedding = tf.keras.layers.Embedding(vocab_size, embedding_size)\n",
    "        self.rnn_1 = tf.keras.layers.LSTM(hidden_size, return_sequences=True)\n",
    "        self.rnn_2 = tf.keras.layers.LSTM(hidden_size, return_sequences=True)\n",
    "        self.dropout = tf.keras.layers.Dropout(0.5)\n",
    "        self.linear = tf.keras.layers.Dense(vocab_size)\n",
    "        \n",
    "    def call(self, x):\n",
    "        out = self.embedding(x)\n",
    "        out = self.rnn_1(out)\n",
    "        out = self.rnn_2(out)\n",
    "        out = self.dropout(out)\n",
    "        out = self.linear(out)\n",
    "        \n",
    "        return out"
   ]
  },
  {
   "cell_type": "markdown",
   "id": "3bbc6b21",
   "metadata": {},
   "source": [
    "## 하이퍼파라미터 조절하기 \n",
    "- Dense representation은 각각의 속성을 독립적인 차원으로 나타내지 않는다. 대신, 우리가 정한 개수의 차원으로 대상을 대응시켜서 표현, 즉! **특징을 몇 개나 잡아서 볼거냐?**"
   ]
  },
  {
   "cell_type": "code",
   "execution_count": 11,
   "id": "53eba41c",
   "metadata": {},
   "outputs": [],
   "source": [
    "# 워드 벡터의 차원 수, \n",
    "embedding_size = 1024\n",
    "\n",
    "# hidden layer 수 \n",
    "hidden_size = 1024\n",
    "model = TextGenerator(tokenizer.num_words + 1, embedding_size , hidden_size)"
   ]
  },
  {
   "cell_type": "code",
   "execution_count": 12,
   "id": "b0f3227a",
   "metadata": {},
   "outputs": [
    {
     "data": {
      "text/plain": [
       "<tf.Tensor: shape=(256, 15, 12001), dtype=float32, numpy=\n",
       "array([[[ 3.31113843e-04,  9.81116464e-05, -2.98146508e-04, ...,\n",
       "         -1.15414659e-04, -6.21682208e-04, -2.11040213e-04],\n",
       "        [ 8.59663181e-04, -3.36788362e-04, -2.65131734e-04, ...,\n",
       "          1.13698057e-04, -6.49792433e-04, -2.81940214e-04],\n",
       "        [ 1.22446415e-03, -3.53877491e-04, -2.35360174e-04, ...,\n",
       "          7.73117179e-04, -7.54277280e-04, -4.49173589e-04],\n",
       "        ...,\n",
       "        [ 1.91593624e-03,  2.41484563e-03, -4.89657791e-03, ...,\n",
       "          3.92926187e-04,  1.31762458e-03, -5.28598379e-04],\n",
       "        [ 1.91294297e-03,  2.73081753e-03, -6.01140969e-03, ...,\n",
       "          2.46376731e-04,  1.78548112e-03, -6.30152877e-04],\n",
       "        [ 1.83439360e-03,  2.94462568e-03, -7.00923568e-03, ...,\n",
       "          6.50704460e-05,  2.24087574e-03, -7.40077521e-04]],\n",
       "\n",
       "       [[ 3.31113843e-04,  9.81116464e-05, -2.98146508e-04, ...,\n",
       "         -1.15414659e-04, -6.21682208e-04, -2.11040213e-04],\n",
       "        [ 9.99651616e-04, -8.24580493e-05, -1.51940840e-04, ...,\n",
       "         -9.02256143e-05, -1.11741817e-03, -5.57149586e-04],\n",
       "        [ 1.51900703e-03, -3.94829694e-04, -3.32670053e-04, ...,\n",
       "         -4.20763041e-04, -1.17545587e-03, -9.56533069e-04],\n",
       "        ...,\n",
       "        [ 1.74301234e-03, -9.26306646e-04,  4.97540517e-04, ...,\n",
       "         -2.33621523e-03,  6.26350578e-04, -1.11669325e-03],\n",
       "        [ 1.76590600e-03, -6.55385607e-04,  7.79982656e-04, ...,\n",
       "         -2.35888432e-03,  5.02629729e-04, -2.08287296e-04],\n",
       "        [ 1.66194956e-03, -3.22175183e-05,  1.77170456e-04, ...,\n",
       "         -2.07370031e-03,  6.29662769e-04,  7.64693541e-05]],\n",
       "\n",
       "       [[ 3.31113843e-04,  9.81116464e-05, -2.98146508e-04, ...,\n",
       "         -1.15414659e-04, -6.21682208e-04, -2.11040213e-04],\n",
       "        [ 6.61454978e-04,  4.40915406e-04, -3.30579322e-04, ...,\n",
       "         -2.98193947e-04, -1.37068366e-03, -3.07136361e-04],\n",
       "        [ 5.56377461e-04,  9.83700855e-04, -7.66537909e-04, ...,\n",
       "         -5.90955548e-04, -2.12536869e-03, -3.90632340e-04],\n",
       "        ...,\n",
       "        [ 6.27876376e-04,  2.92199245e-03, -5.80508029e-03, ...,\n",
       "          1.90298146e-04,  1.49082881e-03, -1.28919637e-04],\n",
       "        [ 4.60531359e-04,  3.06865107e-03, -6.69262791e-03, ...,\n",
       "          1.71681371e-04,  2.20121769e-03, -3.83749430e-04],\n",
       "        [ 2.93642835e-04,  3.13105667e-03, -7.48632615e-03, ...,\n",
       "          6.96258357e-05,  2.82981386e-03, -6.39372098e-04]],\n",
       "\n",
       "       ...,\n",
       "\n",
       "       [[ 3.31113843e-04,  9.81116464e-05, -2.98146508e-04, ...,\n",
       "         -1.15414659e-04, -6.21682208e-04, -2.11040213e-04],\n",
       "        [ 3.61880782e-04, -2.30472928e-04, -1.11982874e-04, ...,\n",
       "         -6.48397952e-04, -1.19735044e-03, -8.56805476e-04],\n",
       "        [ 1.88141756e-04, -3.19846818e-04,  1.77050475e-04, ...,\n",
       "         -9.70902154e-04, -1.46693480e-03, -1.13194506e-03],\n",
       "        ...,\n",
       "        [ 1.52302696e-03,  2.70610652e-03, -5.83272288e-03, ...,\n",
       "         -3.37010511e-04,  2.34149955e-03, -1.39095029e-03],\n",
       "        [ 1.34912238e-03,  2.81078951e-03, -6.85250293e-03, ...,\n",
       "         -3.56281962e-04,  2.70793098e-03, -1.49730616e-03],\n",
       "        [ 1.14994147e-03,  2.84817838e-03, -7.72340037e-03, ...,\n",
       "         -4.36509785e-04,  3.05811455e-03, -1.60231662e-03]],\n",
       "\n",
       "       [[ 3.31113843e-04,  9.81116464e-05, -2.98146508e-04, ...,\n",
       "         -1.15414659e-04, -6.21682208e-04, -2.11040213e-04],\n",
       "        [ 3.76378390e-04,  3.54400923e-04, -2.54377752e-04, ...,\n",
       "         -3.52668809e-04, -9.11274634e-04, -5.63274079e-04],\n",
       "        [ 5.85033442e-04,  7.27647159e-04, -1.96713969e-04, ...,\n",
       "         -6.27410249e-04, -1.45053642e-03, -7.33963796e-04],\n",
       "        ...,\n",
       "        [ 3.01220804e-04,  1.77844940e-03, -3.70928925e-03, ...,\n",
       "         -9.62454244e-04, -3.04111425e-04, -1.01871090e-03],\n",
       "        [ 4.02906240e-04,  2.13549845e-03, -4.80719376e-03, ...,\n",
       "         -7.59010960e-04,  5.38986293e-04, -1.13694812e-03],\n",
       "        [ 4.51673608e-04,  2.40246509e-03, -5.83015196e-03, ...,\n",
       "         -6.46283443e-04,  1.30057801e-03, -1.24483241e-03]],\n",
       "\n",
       "       [[ 3.31113843e-04,  9.81116464e-05, -2.98146508e-04, ...,\n",
       "         -1.15414659e-04, -6.21682208e-04, -2.11040213e-04],\n",
       "        [ 5.31611033e-04,  4.46995458e-04, -3.75373609e-04, ...,\n",
       "         -3.06367292e-04, -9.52075759e-04, -4.25969076e-04],\n",
       "        [ 6.82433194e-04,  6.75383955e-04, -1.80529940e-04, ...,\n",
       "         -7.98042514e-04, -1.36946538e-03, -7.98574707e-04],\n",
       "        ...,\n",
       "        [ 2.87844683e-03,  3.07647325e-03, -4.38138656e-03, ...,\n",
       "          4.59308967e-06,  1.35302346e-03, -4.07808315e-04],\n",
       "        [ 2.58208322e-03,  3.23268841e-03, -5.62079391e-03, ...,\n",
       "          2.47222124e-05,  1.99096766e-03, -5.30908874e-04],\n",
       "        [ 2.27031531e-03,  3.28848255e-03, -6.71096146e-03, ...,\n",
       "         -3.41504237e-05,  2.56887334e-03, -6.67438901e-04]]],\n",
       "      dtype=float32)>"
      ]
     },
     "execution_count": 12,
     "metadata": {},
     "output_type": "execute_result"
    }
   ],
   "source": [
    "# 데이터셋에서 데이터 한 배치만 불러오기\n",
    "for src_sample, tgt_sample in dataset.take(1): break\n",
    "\n",
    "model(src_sample)"
   ]
  },
  {
   "cell_type": "code",
   "execution_count": 13,
   "id": "6eb8d859",
   "metadata": {},
   "outputs": [
    {
     "name": "stdout",
     "output_type": "stream",
     "text": [
      "Model: \"text_generator\"\n",
      "_________________________________________________________________\n",
      "Layer (type)                 Output Shape              Param #   \n",
      "=================================================================\n",
      "embedding (Embedding)        multiple                  12289024  \n",
      "_________________________________________________________________\n",
      "lstm (LSTM)                  multiple                  8392704   \n",
      "_________________________________________________________________\n",
      "lstm_1 (LSTM)                multiple                  8392704   \n",
      "_________________________________________________________________\n",
      "dropout (Dropout)            multiple                  0         \n",
      "_________________________________________________________________\n",
      "dense (Dense)                multiple                  12301025  \n",
      "=================================================================\n",
      "Total params: 41,375,457\n",
      "Trainable params: 41,375,457\n",
      "Non-trainable params: 0\n",
      "_________________________________________________________________\n"
     ]
    }
   ],
   "source": [
    "model.summary()"
   ]
  },
  {
   "cell_type": "markdown",
   "id": "46e4af80",
   "metadata": {},
   "source": [
    "## 5-1. 모델 학습하기 "
   ]
  },
  {
   "cell_type": "code",
   "execution_count": 14,
   "id": "2dfbb1b3",
   "metadata": {},
   "outputs": [],
   "source": [
    "optimizer = tf.keras.optimizers.Adam()\n",
    "loss = tf.keras.losses.SparseCategoricalCrossentropy(\n",
    "    from_logits=True, reduction='none')\n",
    "\n",
    "model.compile(loss=loss, optimizer=optimizer)"
   ]
  },
  {
   "cell_type": "code",
   "execution_count": 15,
   "id": "270976a2",
   "metadata": {},
   "outputs": [
    {
     "name": "stdout",
     "output_type": "stream",
     "text": [
      "Epoch 1/10\n",
      "4029/4029 [==============================] - 192s 47ms/step - loss: 2.8089 - val_loss: 2.5782\n",
      "Epoch 2/10\n",
      "4029/4029 [==============================] - 188s 47ms/step - loss: 2.4992 - val_loss: 2.4157\n",
      "Epoch 3/10\n",
      "4029/4029 [==============================] - 189s 47ms/step - loss: 2.3116 - val_loss: 2.3057\n",
      "Epoch 4/10\n",
      "4029/4029 [==============================] - 188s 47ms/step - loss: 2.1456 - val_loss: 2.2296\n",
      "Epoch 5/10\n",
      "4029/4029 [==============================] - 188s 47ms/step - loss: 1.9976 - val_loss: 2.1717\n",
      "Epoch 6/10\n",
      "4029/4029 [==============================] - 188s 47ms/step - loss: 1.8716 - val_loss: 2.1403\n",
      "Epoch 7/10\n",
      "4029/4029 [==============================] - 187s 47ms/step - loss: 1.7640 - val_loss: 2.1183\n",
      "Epoch 8/10\n",
      "4029/4029 [==============================] - 187s 46ms/step - loss: 1.6759 - val_loss: 2.1094\n",
      "Epoch 9/10\n",
      "4029/4029 [==============================] - 187s 46ms/step - loss: 1.6027 - val_loss: 2.0953\n",
      "Epoch 10/10\n",
      "4029/4029 [==============================] - 187s 46ms/step - loss: 1.5436 - val_loss: 2.0969\n"
     ]
    },
    {
     "data": {
      "text/plain": [
       "<keras.callbacks.History at 0x7fc31421c430>"
      ]
     },
     "execution_count": 15,
     "metadata": {},
     "output_type": "execute_result"
    }
   ],
   "source": [
    "model.fit(enc_train, dec_train, epochs=10, validation_data =(enc_val, dec_val))"
   ]
  },
  {
   "cell_type": "markdown",
   "id": "61e47ee8",
   "metadata": {},
   "source": [
    "## 6. 평가하기 "
   ]
  },
  {
   "cell_type": "code",
   "execution_count": 16,
   "id": "8ef25055",
   "metadata": {},
   "outputs": [],
   "source": [
    "def generate_text(model, tokenizer, init_sentence=\"<start>\", max_len = 15 ):\n",
    "    # 테스트를 위해서 입력받은 init_sentence도 텐서로 변환합니다\n",
    "    test_input = tokenizer.texts_to_sequences([init_sentence])\n",
    "    test_tensor = tf.convert_to_tensor(test_input, dtype=tf.int64)\n",
    "    end_token = tokenizer.word_index[\"<end>\"]\n",
    "\n",
    "    # 단어 하나씩 예측해 문장을 만듭니다\n",
    "    #    1. 입력받은 문장의 텐서를 입력합니다\n",
    "    #    2. 예측된 값 중 가장 높은 확률인 word index를 뽑아냅니다\n",
    "    #    3. 2에서 예측된 word index를 문장 뒤에 붙입니다\n",
    "    #    4. 모델이 <end>를 예측했거나, max_len에 도달했다면 문장 생성을 마칩니다\n",
    "    while True:\n",
    "        # 1\n",
    "        predict = model(test_tensor) \n",
    "        # 2\n",
    "        predict_word = tf.argmax(tf.nn.softmax(predict, axis=-1), axis=-1)[:, -1] \n",
    "        # 3 \n",
    "        test_tensor = tf.concat([test_tensor, tf.expand_dims(predict_word, axis=0)], axis=-1)\n",
    "        # 4\n",
    "        if predict_word.numpy()[0] == end_token: break\n",
    "        if test_tensor.shape[1] >= max_len: break\n",
    "\n",
    "    generated = \"\"\n",
    "    # tokenizer를 이용해 word index를 단어로 하나씩 변환합니다 \n",
    "    for word_index in test_tensor[0].numpy():\n",
    "        generated += tokenizer.index_word[word_index] + \" \"\n",
    "\n",
    "    return generated"
   ]
  },
  {
   "cell_type": "code",
   "execution_count": 25,
   "id": "01c7fa86",
   "metadata": {},
   "outputs": [
    {
     "data": {
      "text/plain": [
       "'<start> you re the only one i want <end> '"
      ]
     },
     "execution_count": 25,
     "metadata": {},
     "output_type": "execute_result"
    }
   ],
   "source": [
    "generate_text(model, tokenizer, init_sentence=\"<start> you\")\n",
    "\n",
    "# '<start> you re the only one who knows that <end> '\n",
    "#'<start> i m gonna make it alright but not right now <end> '"
   ]
  },
  {
   "cell_type": "code",
   "execution_count": null,
   "id": "0ceb6958",
   "metadata": {},
   "outputs": [],
   "source": []
  },
  {
   "cell_type": "markdown",
   "id": "91f5bf7a",
   "metadata": {},
   "source": [
    "## 7. 하이퍼파라미터 수정 과정 및 회고 \n",
    "<br>\n",
    "\n",
    "### 1. 그냥 별 생각없이 돌려봤을 때 \n",
    "(embedding_size , hidden_size, epochs)\n",
    "1. (256, 1024, 10) --> val_loss: 2.5968  /  첫번째 에폭 loss: 3.2777 - val_loss: 2.9878\n",
    "\n",
    "hidden_size를 두배로 늘려봄 <br> \n",
    "2. (256, 2048, 10) --> val_loss: 2.5664 \n",
    "\n",
    "embedding_size를 2배로 늘려봄 <br>\n",
    "3. (512, 1024, 10) --> val_loss: 2.4830  /  첫번째 loss: 3.0280 - val_loss: 2.7192\n",
    "\n",
    "- 1번은 기억이 잘 안나는데.. 2번, 3번의 경우 loss값은 계속 떨어지지만, val_loss값은 떨어지다가 epoch이 증가할수록 다시 증가하는 추세로 나왔다. 과적합 되는 것을 볼 수 있었다.\n",
    "\n",
    "- '<start> you re the only one who knows that <end> '\n",
    "- '<start> i m gonna make it alright but not right now <end> '\n",
    "    \n",
    "=======================================================================================================================\n",
    "\n",
    "### 2. 하이퍼파라미터에 대해 알아보고 돌리기(이때까지도 잘못 이해했음)  \n",
    "- **그냥 무작정 하이퍼파라미터를 바꾸니 의미가 없다....** 한번 학습시키면 시간이 오래 걸려서 하이퍼파라미터를 막 변경하기가 어려웠다. 막 넣으면 안되지 암 그렇고 말고\n",
    "- 분명히 embedding size와 hidden size만 바꾸면 좋은 결과값이 나온다는데 왜 이 두 하이퍼파라미터가 선택되었는지 궁금해졌다. \n",
    "- embedding, hidden size에 대해 정확하게 파악한 후 모델을 돌려보기로 했다.\n",
    "    - 관련링크 : https://dreamgonfly.github.io/blog/word2vec-explained/\n",
    "\n",
    "#### embedding_size는 워드 벡터의 차원 수인데 15개로 세팅했으므로 15로 고정하고 hidden_size를 변경해보기로 결정 !\n",
    "\n",
    "4. (15, 2048, 10) --> val_loss: 2.4427 \n",
    "\n",
    "5. (15, 1024, 10) --> val_loss: 2.5059  hidden_size를 줄이니 val_loss값 증가 \n",
    "\n",
    "6. (15, 3000, 10) --> 돌려놓고 잤는데 에폭 10 돌리다가 끊김 에폭 9의 val_loss: 2.4137 에폭 7부터 증가 \n",
    "    \n",
    "======================================================================================================================\n",
    " \n",
    "### 3. 제대로 알고 돌리기     \n",
    "<span style = 'background-color: #fff5b1'> **embedding size란 특징들을 얼마나 볼 것인가 라는 뜻, 속성 갯수!**</span> **이해하도록 도와주신 은서 퍼실님 감사합니다!!**\n",
    "- 이전에 생각은 embedding size가 워드 벡터의 차원의 수 라고 해서 토큰화를 15개 했으니 그 하나씩을 한 차원으로 보고 임베딩을 15로 넣었는데 그것은 단지 입력값인 것이라서 임베딩을 15로 했다는 것은 그 값들을 고려할 특징을 딸랑 15개만 본다는 의미였다. \n",
    "- 우리가 조절해야 하는 것은 얼만큼의 특징들을 고려하고 은닉층을 조절하면서(각종 하이퍼 파라미터들) 최적의 모델을 만들 것인가이다 \n",
    "- 그래서 다시 하이퍼파라미터들을 위와 같이 고려해본 후 세팅해보았다. \n",
    "    \n",
    "7. (1024, 512, 10) --> 101s 23ms/step - loss: 1.7245 - val_loss: 2.4628\n",
    "    - 특징을 1024개로 많이 보고 은닉층을 512개로 좀 줄여서 모델 복잡도를 떨어뜨려보았다. val_loss값은 2.2를 못 맞추었지만 두번째로 낮은 val_loss값이 나왔고 학습하는데 걸리는 시간도 위의 경우 1 에폭 당 400s 이상의 시간이 걸렸는데 이 경우 101s만 걸리는 것을 볼 수 있다. \n",
    "    - '<start> you marianne baddest once once lifeline lifeline lifeline lifeline lifeline lifeline contempt contempt four ' 7번 결과값 \n",
    "    - hidden_size를 줄이니 의미없이 반복되는 단어들이 너무 많이 나왔다. 학습 시간은 짧아졌지만 쓸 수 없는 모델, hidden size는 너무 낮추면 안되겠다! 512 이상으로 돌리기!\n",
    "\n",
    "    \n",
    "8. (1024, 1024, 10) --> 195s 44ms/step - loss: 1.1571 - val_loss: 2.3809\n",
    "    - '<start> you re the one that i adore you <end> '\n",
    "    - hidden size를 올리니 의미없이 반복되는 단어가 사라지는 것을 볼 수 있음\n",
    "\n",
    "    \n",
    "9. (2048, 1024, 10) --> 239s 54ms/step - loss: 1.1770 - val_loss: 2.3844\n",
    "    - 특징을 좀 더 높여서 학습시켜봄\n",
    "    - '<start> you know that i love you <end> ' 적절한 노래 가사, 이거랑 똑같은 노래 제목이 있음!\n",
    "\n",
    "    \n",
    "10. (1024, 2048, 10) -->  498s 113ms/step - loss: 0.9763 - val_loss: 2.3531\n",
    "    - val_loss가 내려가기는 하는데.... \n",
    "    - 2.1 이하로 내려가다가 다시 올라가서 결국 2.2가 넘음\n",
    "\n",
    "=================================================================================================================\n",
    "\n",
    "### 4. dropout 넣어야겠다!!\n",
    "    - val_loss값이 중간에 계속 증가하는 추세가 보여서 도저히 안되겠다. dropout 추가\n",
    "    \n",
    "            \n",
    "11. <span style=\"color:red\"> (512, 2048, 10) --> 508s 115ms/step - loss: 1.4068 - val_loss: 2.1124 \n",
    "    - '<start> you re the one that makes me strong <end> '\n",
    "    - 적절한 노래 가사에 val_loss값도 2.2 이하 \n",
    "    - 학습 시간이 1 epochs 당 508s로 오래 걸림 </span>\n",
    "    \n",
    "\n",
    "12. 9번째도 val_loss값이 낮게 나왔고, 글 내용도 괜찮게 나왔기 때문에 9번 하이퍼파라미터 세팅(2048, 1024, 10) + dropout 해보기 \n",
    "    - 11번과 비교해서 어떤게 더 나을까?\n",
    "    - 249s 56ms/step - loss: 1.7439 - val_loss: 2.2412\n",
    "    - '<start> you know i m bad i m bad you know it <end> '\n",
    "    - 가사 단어가 다양하지 않고 반복적으로 나옴 별로 좋지 않은 모델\n",
    "    \n",
    "    \n",
    "13. (1024, 1024, 10) --> 205s 47ms/step - loss: 1.6499 - val_loss: 2.2001\n",
    "    - '<start> you know i m bad i m bad you know it <end> '\n",
    "    - 가사 단어가 다양하지 않고 반복적으로 나옴 별로 좋지 않은 모델\n",
    "    \n",
    "\n",
    "======================================================================================================================\n",
    "\n",
    "### 5. 학습데이터 조금 더 전처리 해보기\n",
    "- 성돈님께서 알려주신 단어 15개 이상은 사용하지 않는 코드 추가, 성돈님 알려주셔서 감사합니다!! \n",
    "- if len(preprocessed_sentence.split()) > 15 : continue\n",
    "- 위의 경우는 단어 갯수 15개로 그냥 잘라버리는 것이므로 완성되지 못한 문장을 학습에 사용하기 때문에 아예 빼버리는게 나음\n",
    "\n",
    "- 11번이 잘 나오긴 했는데 hidden_size가 2048로 너무 커서 적당한 모델(1024, 1024)로 돌려봄\n",
    "- 13번 모델 평가 시 단어가 반복적이였는데 전처리를 더 하고 나서는 어떻게 될지 궁금했음 \n",
    "\n",
    "14. <span style=\"color:red\">(1024, 1024, 10) --> 187s 46ms/step - loss: 1.5436 - val_loss: 2.0969\n",
    "    - '<start> you re the only one i want <end> '\n",
    "    - 적절한 노래 가사, 다른 단어로 바꿔봐도 괜찮은 것을 볼 수 있음 \n",
    "    - epochs 당 187s로 학습 시간도 적당\n",
    "    - **13번과 동일한 조건에서 학습 데이터 전처리가 더 잘 되어서 val_loss 값이 줄어든 것을 볼 수 있다**\n",
    "\n",
    "    \n"
   ]
  },
  {
   "cell_type": "markdown",
   "id": "0c0da938",
   "metadata": {},
   "source": [
    "# 8. 결론 \n",
    "## 1. 데이터 전처리를 잘해야 한다. garbage in garbage out\n",
    "## 2. 하이퍼파라미터에 대해 제대로 이해하지 못한다면 오랫동안 헤맬 수 있다. 는 나!!! \n",
    "## 3. embedding, hidden_size = 1024 / val_loss: 2.0969"
   ]
  },
  {
   "cell_type": "code",
   "execution_count": null,
   "id": "1ee4c7f2",
   "metadata": {},
   "outputs": [],
   "source": []
  }
 ],
 "metadata": {
  "kernelspec": {
   "display_name": "Python 3 (ipykernel)",
   "language": "python",
   "name": "python3"
  },
  "language_info": {
   "codemirror_mode": {
    "name": "ipython",
    "version": 3
   },
   "file_extension": ".py",
   "mimetype": "text/x-python",
   "name": "python",
   "nbconvert_exporter": "python",
   "pygments_lexer": "ipython3",
   "version": "3.9.7"
  }
 },
 "nbformat": 4,
 "nbformat_minor": 5
}

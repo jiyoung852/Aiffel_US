{
 "cells": [
  {
   "cell_type": "markdown",
   "id": "1adbc700",
   "metadata": {},
   "source": [
    "# 뉴스 요약봇 만들기 \n",
    "\n",
    "### 목차 \n",
    "1. 데이터 수집하기\n",
    "2. 데이터 전처리하기 (추상적 요약)\n",
    "3. 어텐션 메커니즘 사용하기 (추상적 요약)\n",
    "4. 실제 결과와 요약문 비교하기 (추상적 요약)\n",
    "5. Summa을 이용해서 추출적 요약해보기\n",
    "------------------------------------------------------------------------------------------------------\n",
    "\n",
    "**루브릭 평가 기준**\n",
    "\n",
    "\n",
    "|<center>평가문항</center>|<center>상세기준</center>|\n",
    "|:------|:------|\n",
    "|1. Abstractive 모델 구성을 위한 텍스트 전처리 단계가 체계적으로 진행되었다.|분석단계, 정제단계, 정규화와 불용어 제거, 데이터셋 분리, 인코딩 과정이 빠짐없이 체계적으로 진행되었다.|\n",
    "|2. 텍스트 요약모델이 성공적으로 학습되었음을 확인하였다.|모델학습이 안정적으로 수렴되었음을 그래프를 통해 확인하였으며, 실제 요약문과 유사한 요약문장을 얻을 수 있었다.|\n",
    "|3. Extractive 요약을 시도해 보고 Abstractive 요약 결과과 함께 비교해 보았다.|두 요약 결과를 문법완성도 측면과 핵심단어 포함 측면으로 나누어 비교분석 결과를 제시하였다.|\n",
    "\n",
    "-------------------------------------------------------------------------------------------------------------"
   ]
  },
  {
   "cell_type": "markdown",
   "id": "21bcc670",
   "metadata": {},
   "source": [
    "## 텍스트 요약(Text Summarization)이란?\n",
    "- 긴 길이의 문서(Document) 원문을 핵심 주제만으로 구성된 짧은 요약(Summary) 문장들로 변환하는 것\n",
    "- 뉴스 기사로 작은 텍스트인 뉴스 제목을 만들어내는 것이 텍스트 요약의 대표적인 예\n",
    "\n",
    "**1. 추출적 요약(Extractive Summarization)**\n",
    "- 원문에서 문장들을 추출해서 요약하는 방식\n",
    "- 원문을 구성하는 문장 중 어느 것이 요약문에 들어갈 핵심문장인지를 판별한다는 점에서 문장 분류(Text Classification) 문제로 볼 수 있음\n",
    "- 딥 러닝보다는 주로 전통적인 머신 러닝 방식에 속하는 텍스트 랭크(TextRank)와 같은 알고리즘을 사용해서 이 방법을 사용\n",
    "- 네이버 뉴스 서비스에 있는 요약봇 기능\n",
    "- 어색하거나 문법적으로 이상한 결과물을 만드는 문제가 있음\n",
    "\n",
    "**2. 추상적 요약(Abstractive Summarization)**\n",
    "- 원문으로부터 내용이 요약된 새로운 문장을 생성해내는 것\n",
    "- 자연어 처리 분야 중 자연어 생성(Natural Language Generation, NLG)의 영역"
   ]
  },
  {
   "cell_type": "code",
   "execution_count": 1,
   "id": "4bff107e",
   "metadata": {},
   "outputs": [
    {
     "name": "stderr",
     "output_type": "stream",
     "text": [
      "[nltk_data] Downloading package stopwords to /aiffel/nltk_data...\n",
      "[nltk_data]   Package stopwords is already up-to-date!\n"
     ]
    }
   ],
   "source": [
    "import nltk\n",
    "nltk.download('stopwords')\n",
    "\n",
    "import numpy as np\n",
    "import pandas as pd\n",
    "import os\n",
    "import re\n",
    "import matplotlib.pyplot as plt\n",
    "from nltk.corpus import stopwords\n",
    "from bs4 import BeautifulSoup \n",
    "from tensorflow.keras.preprocessing.text import Tokenizer \n",
    "from tensorflow.keras.preprocessing.sequence import pad_sequences\n",
    "import urllib.request\n",
    "import warnings\n",
    "warnings.filterwarnings(\"ignore\", category=UserWarning, module='bs4')\n"
   ]
  },
  {
   "cell_type": "markdown",
   "id": "a2fd8a72",
   "metadata": {},
   "source": [
    "# 1. 데이터 수집하기"
   ]
  },
  {
   "cell_type": "code",
   "execution_count": 2,
   "id": "ec82ff0d",
   "metadata": {},
   "outputs": [
    {
     "name": "stdout",
     "output_type": "stream",
     "text": [
      "전체 샘플수 : 98401\n"
     ]
    }
   ],
   "source": [
    "urllib.request.urlretrieve(\"https://raw.githubusercontent.com/sunnysai12345/News_Summary/master/news_summary_more.csv\", filename=\"news_summary_more.csv\")\n",
    "data = pd.read_csv('news_summary_more.csv', encoding='iso-8859-1')\n",
    "print('전체 샘플수 :', (len(data)))"
   ]
  },
  {
   "cell_type": "code",
   "execution_count": 3,
   "id": "9024115a",
   "metadata": {},
   "outputs": [
    {
     "data": {
      "text/html": [
       "<div>\n",
       "<style scoped>\n",
       "    .dataframe tbody tr th:only-of-type {\n",
       "        vertical-align: middle;\n",
       "    }\n",
       "\n",
       "    .dataframe tbody tr th {\n",
       "        vertical-align: top;\n",
       "    }\n",
       "\n",
       "    .dataframe thead th {\n",
       "        text-align: right;\n",
       "    }\n",
       "</style>\n",
       "<table border=\"1\" class=\"dataframe\">\n",
       "  <thead>\n",
       "    <tr style=\"text-align: right;\">\n",
       "      <th></th>\n",
       "      <th>headlines</th>\n",
       "      <th>text</th>\n",
       "    </tr>\n",
       "  </thead>\n",
       "  <tbody>\n",
       "    <tr>\n",
       "      <th>94084</th>\n",
       "      <td>Chinese official demoted for not smoking near ...</td>\n",
       "      <td>China has demoted Communist party official Jel...</td>\n",
       "    </tr>\n",
       "    <tr>\n",
       "      <th>24579</th>\n",
       "      <td>Google partners second blockchain firm within ...</td>\n",
       "      <td>Google has partnered US-based blockchain start...</td>\n",
       "    </tr>\n",
       "    <tr>\n",
       "      <th>45658</th>\n",
       "      <td>Music streaming service Spotify files for IPO,...</td>\n",
       "      <td>Music streaming service Spotify has announced ...</td>\n",
       "    </tr>\n",
       "    <tr>\n",
       "      <th>92722</th>\n",
       "      <td>Muralitharan 1st Sri Lankan to be inducted int...</td>\n",
       "      <td>Sri Lankan spin legend Muttiah Muralitharan wi...</td>\n",
       "    </tr>\n",
       "    <tr>\n",
       "      <th>38912</th>\n",
       "      <td>15 arrested for lynching 2 men in Assam over f...</td>\n",
       "      <td>Assam Police has arrested 15 people for being ...</td>\n",
       "    </tr>\n",
       "    <tr>\n",
       "      <th>74244</th>\n",
       "      <td>Olympic medal winning weightlifter Cholakov di...</td>\n",
       "      <td>Bulgarian weightlifter Velichko Cholakov, an O...</td>\n",
       "    </tr>\n",
       "    <tr>\n",
       "      <th>62002</th>\n",
       "      <td>Mumbai's 1st AC local train to have 'Aamchi Mu...</td>\n",
       "      <td>The exteriors of Mumbai's first fully air-cond...</td>\n",
       "    </tr>\n",
       "    <tr>\n",
       "      <th>43531</th>\n",
       "      <td>Former Zimbabwe President terms his forced exi...</td>\n",
       "      <td>Former Zimbabwean President Robert Mugabe has ...</td>\n",
       "    </tr>\n",
       "    <tr>\n",
       "      <th>48745</th>\n",
       "      <td>I made dumb joke: Canada PM for terming mankin...</td>\n",
       "      <td>Canadian PM Justin Trudeau has said that he ma...</td>\n",
       "    </tr>\n",
       "    <tr>\n",
       "      <th>71786</th>\n",
       "      <td>UP Man shoots 8-year-old after he refuses to g...</td>\n",
       "      <td>A 25-year-old man from Uttar Pradesh allegedly...</td>\n",
       "    </tr>\n",
       "  </tbody>\n",
       "</table>\n",
       "</div>"
      ],
      "text/plain": [
       "                                               headlines  \\\n",
       "94084  Chinese official demoted for not smoking near ...   \n",
       "24579  Google partners second blockchain firm within ...   \n",
       "45658  Music streaming service Spotify files for IPO,...   \n",
       "92722  Muralitharan 1st Sri Lankan to be inducted int...   \n",
       "38912  15 arrested for lynching 2 men in Assam over f...   \n",
       "74244  Olympic medal winning weightlifter Cholakov di...   \n",
       "62002  Mumbai's 1st AC local train to have 'Aamchi Mu...   \n",
       "43531  Former Zimbabwe President terms his forced exi...   \n",
       "48745  I made dumb joke: Canada PM for terming mankin...   \n",
       "71786  UP Man shoots 8-year-old after he refuses to g...   \n",
       "\n",
       "                                                    text  \n",
       "94084  China has demoted Communist party official Jel...  \n",
       "24579  Google has partnered US-based blockchain start...  \n",
       "45658  Music streaming service Spotify has announced ...  \n",
       "92722  Sri Lankan spin legend Muttiah Muralitharan wi...  \n",
       "38912  Assam Police has arrested 15 people for being ...  \n",
       "74244  Bulgarian weightlifter Velichko Cholakov, an O...  \n",
       "62002  The exteriors of Mumbai's first fully air-cond...  \n",
       "43531  Former Zimbabwean President Robert Mugabe has ...  \n",
       "48745  Canadian PM Justin Trudeau has said that he ma...  \n",
       "71786  A 25-year-old man from Uttar Pradesh allegedly...  "
      ]
     },
     "execution_count": 3,
     "metadata": {},
     "output_type": "execute_result"
    }
   ],
   "source": [
    "data.sample(10)"
   ]
  },
  {
   "cell_type": "markdown",
   "id": "82027ccf",
   "metadata": {},
   "source": [
    "headlines와 text 두 열로 구성되어 있음 "
   ]
  },
  {
   "cell_type": "markdown",
   "id": "21e79960",
   "metadata": {},
   "source": [
    "# 2. 데이터 전처리하기 (추상적 요약)"
   ]
  },
  {
   "cell_type": "code",
   "execution_count": 4,
   "id": "360566cc",
   "metadata": {},
   "outputs": [
    {
     "name": "stdout",
     "output_type": "stream",
     "text": [
      "text 열에서 중복을 배제한 유일한 샘플의 수 : 98360\n",
      "headlines 열에서 중복을 배제한 유일한 샘플의 수 : 98280\n"
     ]
    }
   ],
   "source": [
    "print('text 열에서 중복을 배제한 유일한 샘플의 수 :', data['text'].nunique())\n",
    "print('headlines 열에서 중복을 배제한 유일한 샘플의 수 :', data['headlines'].nunique())"
   ]
  },
  {
   "cell_type": "markdown",
   "id": "0f7ccdd2",
   "metadata": {},
   "source": [
    "중복된 샘플 제거하기(데이터 자체를 완전 바꿈)"
   ]
  },
  {
   "cell_type": "code",
   "execution_count": 5,
   "id": "b941ec76",
   "metadata": {},
   "outputs": [
    {
     "name": "stdout",
     "output_type": "stream",
     "text": [
      "전체 샘플수 : 98360\n"
     ]
    }
   ],
   "source": [
    "# inplace=True 를 설정하면 DataFrame 타입 값을 return 하지 않고 data 내부를 직접적으로 바꿉니다\n",
    "data.drop_duplicates(subset = ['text'], inplace=True)\n",
    "print('전체 샘플수 :', (len(data)))"
   ]
  },
  {
   "cell_type": "markdown",
   "id": "b8b057cb",
   "metadata": {},
   "source": [
    "null data 있는지 확인해보니 null값은 하나도 없는 것을 확인 "
   ]
  },
  {
   "cell_type": "code",
   "execution_count": 6,
   "id": "1397d21e",
   "metadata": {},
   "outputs": [
    {
     "name": "stdout",
     "output_type": "stream",
     "text": [
      "headlines    0\n",
      "text         0\n",
      "dtype: int64\n"
     ]
    }
   ],
   "source": [
    "print(data.isnull().sum())"
   ]
  },
  {
   "cell_type": "code",
   "execution_count": 7,
   "id": "04f85c01",
   "metadata": {},
   "outputs": [],
   "source": [
    "# 위의 데이터에는 null값이 없으므로 dropna를 할 필요 없음 \n",
    "# data.dropna(axis=0, inplace=True)\n",
    "# print('전체 샘플수 :', (len(data)))"
   ]
  },
  {
   "cell_type": "markdown",
   "id": "39079690",
   "metadata": {},
   "source": [
    "### 텍스트 정규화\n",
    "- 기계 학습 전에 미리 같은 표현으로 통일시켜주는 것이 기계의 연산량을 줄일 수 있는 방법\n",
    "- 통일 시키지 않으면 다른 단어로 간주해서 연산량이 늘어남 "
   ]
  },
  {
   "cell_type": "code",
   "execution_count": 8,
   "id": "d717549a",
   "metadata": {},
   "outputs": [
    {
     "name": "stdout",
     "output_type": "stream",
     "text": [
      "정규화 사전의 수:  120\n"
     ]
    }
   ],
   "source": [
    "contractions = {\"ain't\": \"is not\", \"aren't\": \"are not\",\"can't\": \"cannot\", \"'cause\": \"because\", \"could've\": \"could have\", \"couldn't\": \"could not\",\n",
    "                           \"didn't\": \"did not\",  \"doesn't\": \"does not\", \"don't\": \"do not\", \"hadn't\": \"had not\", \"hasn't\": \"has not\", \"haven't\": \"have not\",\n",
    "                           \"he'd\": \"he would\",\"he'll\": \"he will\", \"he's\": \"he is\", \"how'd\": \"how did\", \"how'd'y\": \"how do you\", \"how'll\": \"how will\", \"how's\": \"how is\",\n",
    "                           \"I'd\": \"I would\", \"I'd've\": \"I would have\", \"I'll\": \"I will\", \"I'll've\": \"I will have\",\"I'm\": \"I am\", \"I've\": \"I have\", \"i'd\": \"i would\",\n",
    "                           \"i'd've\": \"i would have\", \"i'll\": \"i will\",  \"i'll've\": \"i will have\",\"i'm\": \"i am\", \"i've\": \"i have\", \"isn't\": \"is not\", \"it'd\": \"it would\",\n",
    "                           \"it'd've\": \"it would have\", \"it'll\": \"it will\", \"it'll've\": \"it will have\",\"it's\": \"it is\", \"let's\": \"let us\", \"ma'am\": \"madam\",\n",
    "                           \"mayn't\": \"may not\", \"might've\": \"might have\",\"mightn't\": \"might not\",\"mightn't've\": \"might not have\", \"must've\": \"must have\",\n",
    "                           \"mustn't\": \"must not\", \"mustn't've\": \"must not have\", \"needn't\": \"need not\", \"needn't've\": \"need not have\",\"o'clock\": \"of the clock\",\n",
    "                           \"oughtn't\": \"ought not\", \"oughtn't've\": \"ought not have\", \"shan't\": \"shall not\", \"sha'n't\": \"shall not\", \"shan't've\": \"shall not have\",\n",
    "                           \"she'd\": \"she would\", \"she'd've\": \"she would have\", \"she'll\": \"she will\", \"she'll've\": \"she will have\", \"she's\": \"she is\",\n",
    "                           \"should've\": \"should have\", \"shouldn't\": \"should not\", \"shouldn't've\": \"should not have\", \"so've\": \"so have\",\"so's\": \"so as\",\n",
    "                           \"this's\": \"this is\",\"that'd\": \"that would\", \"that'd've\": \"that would have\", \"that's\": \"that is\", \"there'd\": \"there would\",\n",
    "                           \"there'd've\": \"there would have\", \"there's\": \"there is\", \"here's\": \"here is\",\"they'd\": \"they would\", \"they'd've\": \"they would have\",\n",
    "                           \"they'll\": \"they will\", \"they'll've\": \"they will have\", \"they're\": \"they are\", \"they've\": \"they have\", \"to've\": \"to have\",\n",
    "                           \"wasn't\": \"was not\", \"we'd\": \"we would\", \"we'd've\": \"we would have\", \"we'll\": \"we will\", \"we'll've\": \"we will have\", \"we're\": \"we are\",\n",
    "                           \"we've\": \"we have\", \"weren't\": \"were not\", \"what'll\": \"what will\", \"what'll've\": \"what will have\", \"what're\": \"what are\",\n",
    "                           \"what's\": \"what is\", \"what've\": \"what have\", \"when's\": \"when is\", \"when've\": \"when have\", \"where'd\": \"where did\", \"where's\": \"where is\",\n",
    "                           \"where've\": \"where have\", \"who'll\": \"who will\", \"who'll've\": \"who will have\", \"who's\": \"who is\", \"who've\": \"who have\",\n",
    "                           \"why's\": \"why is\", \"why've\": \"why have\", \"will've\": \"will have\", \"won't\": \"will not\", \"won't've\": \"will not have\",\n",
    "                           \"would've\": \"would have\", \"wouldn't\": \"would not\", \"wouldn't've\": \"would not have\", \"y'all\": \"you all\",\n",
    "                           \"y'all'd\": \"you all would\",\"y'all'd've\": \"you all would have\",\"y'all're\": \"you all are\",\"y'all've\": \"you all have\",\n",
    "                           \"you'd\": \"you would\", \"you'd've\": \"you would have\", \"you'll\": \"you will\", \"you'll've\": \"you will have\",\n",
    "                           \"you're\": \"you are\", \"you've\": \"you have\"}\n",
    "\n",
    "print(\"정규화 사전의 수: \", len(contractions))"
   ]
  },
  {
   "cell_type": "markdown",
   "id": "62c4095a",
   "metadata": {},
   "source": [
    "### 불용어(stopwords) 제거 \n",
    "- 텍스트에는 자주 등장하지만 자연어 처리를 할 때 실질적으로 별 도움이 되지 않는 단어들\n",
    "- NLTK에서 제공하는 불용어 리스트를 참조 nltk.download('stopwords') 위에서 실행 "
   ]
  },
  {
   "cell_type": "code",
   "execution_count": 9,
   "id": "37af0945",
   "metadata": {},
   "outputs": [
    {
     "name": "stdout",
     "output_type": "stream",
     "text": [
      "불용어 개수 : 179\n",
      "['i', 'me', 'my', 'myself', 'we', 'our', 'ours', 'ourselves', 'you', \"you're\", \"you've\", \"you'll\", \"you'd\", 'your', 'yours', 'yourself', 'yourselves', 'he', 'him', 'his', 'himself', 'she', \"she's\", 'her', 'hers', 'herself', 'it', \"it's\", 'its', 'itself', 'they', 'them', 'their', 'theirs', 'themselves', 'what', 'which', 'who', 'whom', 'this', 'that', \"that'll\", 'these', 'those', 'am', 'is', 'are', 'was', 'were', 'be', 'been', 'being', 'have', 'has', 'had', 'having', 'do', 'does', 'did', 'doing', 'a', 'an', 'the', 'and', 'but', 'if', 'or', 'because', 'as', 'until', 'while', 'of', 'at', 'by', 'for', 'with', 'about', 'against', 'between', 'into', 'through', 'during', 'before', 'after', 'above', 'below', 'to', 'from', 'up', 'down', 'in', 'out', 'on', 'off', 'over', 'under', 'again', 'further', 'then', 'once', 'here', 'there', 'when', 'where', 'why', 'how', 'all', 'any', 'both', 'each', 'few', 'more', 'most', 'other', 'some', 'such', 'no', 'nor', 'not', 'only', 'own', 'same', 'so', 'than', 'too', 'very', 's', 't', 'can', 'will', 'just', 'don', \"don't\", 'should', \"should've\", 'now', 'd', 'll', 'm', 'o', 're', 've', 'y', 'ain', 'aren', \"aren't\", 'couldn', \"couldn't\", 'didn', \"didn't\", 'doesn', \"doesn't\", 'hadn', \"hadn't\", 'hasn', \"hasn't\", 'haven', \"haven't\", 'isn', \"isn't\", 'ma', 'mightn', \"mightn't\", 'mustn', \"mustn't\", 'needn', \"needn't\", 'shan', \"shan't\", 'shouldn', \"shouldn't\", 'wasn', \"wasn't\", 'weren', \"weren't\", 'won', \"won't\", 'wouldn', \"wouldn't\"]\n"
     ]
    }
   ],
   "source": [
    "print('불용어 개수 :', len(stopwords.words('english') ))\n",
    "print(stopwords.words('english'))"
   ]
  },
  {
   "cell_type": "markdown",
   "id": "6a311734",
   "metadata": {},
   "source": [
    "Abstractive한 문장 요약 결과문이 자연스러운 문장이 되려면 이 불용어들이 headlines에는 남아 있는 게 더 좋을 것 같아서 불용어 미제거 "
   ]
  },
  {
   "cell_type": "code",
   "execution_count": 10,
   "id": "4cb7d1df",
   "metadata": {},
   "outputs": [],
   "source": [
    "# 데이터 전처리 함수\n",
    "def preprocess_sentence(sentence, remove_stopwords=True):\n",
    "    sentence = sentence.lower() # 텍스트 소문자화\n",
    "    sentence = BeautifulSoup(sentence, \"lxml\").text # <br />, <a href = ...> 등의 html 태그 제거\n",
    "    sentence = re.sub(r'\\([^)]*\\)', '', sentence) # 괄호로 닫힌 문자열 (...) 제거 Ex) my husband (and myself!) for => my husband for\n",
    "    sentence = re.sub('\"','', sentence) # 쌍따옴표 \" 제거\n",
    "    sentence = ' '.join([contractions[t] if t in contractions else t for t in sentence.split(\" \")]) # 약어 정규화\n",
    "    sentence = re.sub(r\"'s\\b\",\"\", sentence) # 소유격 제거. Ex) roland's -> roland\n",
    "    sentence = re.sub(\"[^a-zA-Z]\", \" \", sentence) # 영어 외 문자(숫자, 특수문자 등) 공백으로 변환\n",
    "    sentence = re.sub('[m]{2,}', 'mm', sentence) # m이 3개 이상이면 2개로 변경. Ex) ummmmmmm yeah -> umm yeah\n",
    "    \n",
    "    # 불용어 제거 (text)\n",
    "    if remove_stopwords:\n",
    "        tokens = ' '.join(word for word in sentence.split() if not word in stopwords.words('english') if len(word) > 1)\n",
    "    # 불용어 미제거 (headlines)\n",
    "    else:\n",
    "        tokens = ' '.join(word for word in sentence.split() if len(word) > 1)\n",
    "    return tokens\n"
   ]
  },
  {
   "cell_type": "markdown",
   "id": "9026cbae",
   "metadata": {},
   "source": [
    "전처리 전후 결과 확인을 위해 새로운 문장 작성하고 preprocess_sentence 함수 호출해보기"
   ]
  },
  {
   "cell_type": "code",
   "execution_count": 11,
   "id": "211b00c7",
   "metadata": {},
   "outputs": [
    {
     "name": "stdout",
     "output_type": "stream",
     "text": [
      "text:  everything bought great infact ordered twice third ordered wasfor mother father\n",
      "headlines : great way to start the day we are so happy\n"
     ]
    }
   ],
   "source": [
    "temp_text = 'Everything I bought was great, infact I ordered twice and the third ordered was<br />for my mother and father.'\n",
    "temp_headlines = \"Great way to start (or finish) the day!!! We're so happy\"\n",
    "\n",
    "print(\"text: \", preprocess_sentence(temp_text))\n",
    "print(\"headlines :\", preprocess_sentence(temp_headlines, False))  # 불용어를 제거하지 않습니다."
   ]
  },
  {
   "cell_type": "markdown",
   "id": "b0dbab76",
   "metadata": {},
   "source": [
    "전체 소문자로 변환, (), html 태그, 특수문자 제거, 텍스트 정규화가 잘 된 것을 볼 수 있다"
   ]
  },
  {
   "cell_type": "markdown",
   "id": "d07ab4ea",
   "metadata": {},
   "source": [
    "실제 data에 함수 적용해보기 "
   ]
  },
  {
   "cell_type": "code",
   "execution_count": 12,
   "id": "e1cc1e81",
   "metadata": {},
   "outputs": [
    {
     "name": "stdout",
     "output_type": "stream",
     "text": [
      "5    Pakistani singer Rahat Fateh Ali Khan has deni...\n",
      "6    India recorded their lowest ODI total in New Z...\n",
      "7    Weeks after ex-CBI Director Alok Verma told th...\n",
      "8    Andhra Pradesh CM N Chandrababu Naidu has said...\n",
      "9    Congress candidate Shafia Zubair won the Ramga...\n",
      "Name: text, dtype: object\n",
      "5    Rahat Fateh Ali Khan denies getting notice for...\n",
      "6    India get all out for 92, their lowest ODI tot...\n",
      "7    Govt directs Alok Verma to join work 1 day bef...\n",
      "8    Called PM Modi 'sir' 10 times to satisfy his e...\n",
      "9    Cong wins Ramgarh bypoll in Rajasthan, takes t...\n",
      "Name: headlines, dtype: object\n"
     ]
    }
   ],
   "source": [
    "temp_text_data = data['text'][5:10]\n",
    "temp_headlines_data = data['headlines'][5:10]\n",
    "\n",
    "print(temp_text_data)\n",
    "print(temp_headlines_data)"
   ]
  },
  {
   "cell_type": "code",
   "execution_count": 13,
   "id": "0bc42ccf",
   "metadata": {},
   "outputs": [
    {
     "ename": "AttributeError",
     "evalue": "'Series' object has no attribute 'lower'",
     "output_type": "error",
     "traceback": [
      "\u001b[0;31m---------------------------------------------------------------------------\u001b[0m",
      "\u001b[0;31mAttributeError\u001b[0m                            Traceback (most recent call last)",
      "\u001b[0;32m/tmp/ipykernel_1842/2449388263.py\u001b[0m in \u001b[0;36m<module>\u001b[0;34m\u001b[0m\n\u001b[0;32m----> 1\u001b[0;31m \u001b[0mprint\u001b[0m\u001b[0;34m(\u001b[0m\u001b[0;34m'temp_text_data :'\u001b[0m\u001b[0;34m,\u001b[0m \u001b[0mpreprocess_sentence\u001b[0m\u001b[0;34m(\u001b[0m\u001b[0mtemp_text_data\u001b[0m\u001b[0;34m)\u001b[0m\u001b[0;34m)\u001b[0m\u001b[0;34m\u001b[0m\u001b[0;34m\u001b[0m\u001b[0m\n\u001b[0m\u001b[1;32m      2\u001b[0m \u001b[0mprint\u001b[0m\u001b[0;34m(\u001b[0m\u001b[0;34m'temp_headlines_data :'\u001b[0m\u001b[0;34m,\u001b[0m \u001b[0mpreprocess_sentence\u001b[0m\u001b[0;34m(\u001b[0m\u001b[0mtemp_headlines_data\u001b[0m\u001b[0;34m,\u001b[0m \u001b[0;32mFalse\u001b[0m\u001b[0;34m)\u001b[0m\u001b[0;34m)\u001b[0m\u001b[0;34m\u001b[0m\u001b[0;34m\u001b[0m\u001b[0m\n",
      "\u001b[0;32m/tmp/ipykernel_1842/87481490.py\u001b[0m in \u001b[0;36mpreprocess_sentence\u001b[0;34m(sentence, remove_stopwords)\u001b[0m\n\u001b[1;32m      1\u001b[0m \u001b[0;31m# 데이터 전처리 함수\u001b[0m\u001b[0;34m\u001b[0m\u001b[0;34m\u001b[0m\u001b[0m\n\u001b[1;32m      2\u001b[0m \u001b[0;32mdef\u001b[0m \u001b[0mpreprocess_sentence\u001b[0m\u001b[0;34m(\u001b[0m\u001b[0msentence\u001b[0m\u001b[0;34m,\u001b[0m \u001b[0mremove_stopwords\u001b[0m\u001b[0;34m=\u001b[0m\u001b[0;32mTrue\u001b[0m\u001b[0;34m)\u001b[0m\u001b[0;34m:\u001b[0m\u001b[0;34m\u001b[0m\u001b[0;34m\u001b[0m\u001b[0m\n\u001b[0;32m----> 3\u001b[0;31m     \u001b[0msentence\u001b[0m \u001b[0;34m=\u001b[0m \u001b[0msentence\u001b[0m\u001b[0;34m.\u001b[0m\u001b[0mlower\u001b[0m\u001b[0;34m(\u001b[0m\u001b[0;34m)\u001b[0m \u001b[0;31m# 텍스트 소문자화\u001b[0m\u001b[0;34m\u001b[0m\u001b[0;34m\u001b[0m\u001b[0m\n\u001b[0m\u001b[1;32m      4\u001b[0m     \u001b[0msentence\u001b[0m \u001b[0;34m=\u001b[0m \u001b[0mBeautifulSoup\u001b[0m\u001b[0;34m(\u001b[0m\u001b[0msentence\u001b[0m\u001b[0;34m,\u001b[0m \u001b[0;34m\"lxml\"\u001b[0m\u001b[0;34m)\u001b[0m\u001b[0;34m.\u001b[0m\u001b[0mtext\u001b[0m \u001b[0;31m# <br />, <a href = ...> 등의 html 태그 제거\u001b[0m\u001b[0;34m\u001b[0m\u001b[0;34m\u001b[0m\u001b[0m\n\u001b[1;32m      5\u001b[0m     \u001b[0msentence\u001b[0m \u001b[0;34m=\u001b[0m \u001b[0mre\u001b[0m\u001b[0;34m.\u001b[0m\u001b[0msub\u001b[0m\u001b[0;34m(\u001b[0m\u001b[0;34mr'\\([^)]*\\)'\u001b[0m\u001b[0;34m,\u001b[0m \u001b[0;34m''\u001b[0m\u001b[0;34m,\u001b[0m \u001b[0msentence\u001b[0m\u001b[0;34m)\u001b[0m \u001b[0;31m# 괄호로 닫힌 문자열 (...) 제거 Ex) my husband (and myself!) for => my husband for\u001b[0m\u001b[0;34m\u001b[0m\u001b[0;34m\u001b[0m\u001b[0m\n",
      "\u001b[0;32m/opt/conda/lib/python3.9/site-packages/pandas/core/generic.py\u001b[0m in \u001b[0;36m__getattr__\u001b[0;34m(self, name)\u001b[0m\n\u001b[1;32m   5485\u001b[0m         ):\n\u001b[1;32m   5486\u001b[0m             \u001b[0;32mreturn\u001b[0m \u001b[0mself\u001b[0m\u001b[0;34m[\u001b[0m\u001b[0mname\u001b[0m\u001b[0;34m]\u001b[0m\u001b[0;34m\u001b[0m\u001b[0;34m\u001b[0m\u001b[0m\n\u001b[0;32m-> 5487\u001b[0;31m         \u001b[0;32mreturn\u001b[0m \u001b[0mobject\u001b[0m\u001b[0;34m.\u001b[0m\u001b[0m__getattribute__\u001b[0m\u001b[0;34m(\u001b[0m\u001b[0mself\u001b[0m\u001b[0;34m,\u001b[0m \u001b[0mname\u001b[0m\u001b[0;34m)\u001b[0m\u001b[0;34m\u001b[0m\u001b[0;34m\u001b[0m\u001b[0m\n\u001b[0m\u001b[1;32m   5488\u001b[0m \u001b[0;34m\u001b[0m\u001b[0m\n\u001b[1;32m   5489\u001b[0m     \u001b[0;32mdef\u001b[0m \u001b[0m__setattr__\u001b[0m\u001b[0;34m(\u001b[0m\u001b[0mself\u001b[0m\u001b[0;34m,\u001b[0m \u001b[0mname\u001b[0m\u001b[0;34m:\u001b[0m \u001b[0mstr\u001b[0m\u001b[0;34m,\u001b[0m \u001b[0mvalue\u001b[0m\u001b[0;34m)\u001b[0m \u001b[0;34m->\u001b[0m \u001b[0;32mNone\u001b[0m\u001b[0;34m:\u001b[0m\u001b[0;34m\u001b[0m\u001b[0;34m\u001b[0m\u001b[0m\n",
      "\u001b[0;31mAttributeError\u001b[0m: 'Series' object has no attribute 'lower'"
     ]
    }
   ],
   "source": [
    "print('temp_text_data :', preprocess_sentence(temp_text_data))\n",
    "print('temp_headlines_data :', preprocess_sentence(temp_headlines_data, False))"
   ]
  },
  {
   "cell_type": "markdown",
   "id": "94f1bb43",
   "metadata": {},
   "source": [
    "Serise에는 lower가 적용되지 않으므로 그냥 하나만 봐야겠다 "
   ]
  },
  {
   "cell_type": "code",
   "execution_count": 14,
   "id": "2c85850e",
   "metadata": {},
   "outputs": [
    {
     "name": "stdout",
     "output_type": "stream",
     "text": [
      "temp_text_data : pakistani singer rahat fateh ali khan denied receiving notice enforcement directorate allegedly smuggling foreign currency india would better authorities would served notice first publicised reads press release issued behalf rahat statement called allegation bizarre \n",
      "\n",
      "temp_headlines_data : rahat fateh ali khan denies getting notice for smuggling currency\n"
     ]
    }
   ],
   "source": [
    "temp_text_data = data['text'][5]\n",
    "temp_headlines_data = data['headlines'][5]\n",
    "\n",
    "print('temp_text_data :', preprocess_sentence(temp_text_data), '\\n')\n",
    "print('temp_headlines_data :', preprocess_sentence(temp_headlines_data, False))"
   ]
  },
  {
   "cell_type": "markdown",
   "id": "da0b1396",
   "metadata": {},
   "source": [
    "### preprocess_sentence 함수를 사용해서 text와 headlines 전처리하기 "
   ]
  },
  {
   "cell_type": "code",
   "execution_count": 15,
   "id": "550e500f",
   "metadata": {},
   "outputs": [
    {
     "name": "stdout",
     "output_type": "stream",
     "text": [
      "text 전처리 후 결과:  ['saurav kant alumnus upgrad iiit pg program machine learning artificial intelligence sr systems engineer infosys almost years work experience program upgrad degree career support helped transition data scientist tech mahindra salary hike upgrad online power learning powered lakh careers', 'kunal shah credit card bill payment platform cred gave users chance win free food swiggy one year pranav kaushik delhi techie bagged reward spending cred coins users get one cred coin per rupee bill paid used avail rewards brands like ixigo bookmyshow ubereats cult fit', 'new zealand defeated india wickets fourth odi hamilton thursday win first match five match odi series india lost international match rohit sharma captaincy consecutive victories dating back march match witnessed india getting seventh lowest total odi cricket history', 'aegon life iterm insurance plan customers enjoy tax benefits premiums paid save taxes plan provides life cover age years also customers options insure critical illnesses disability accidental death benefit rider life cover age years', 'speaking sexual harassment allegations rajkumar hirani sonam kapoor said known hirani many years true metoo movement get derailed metoo movement always believe woman case need reserve judgment added hirani accused assistant worked sanju']\n"
     ]
    }
   ],
   "source": [
    "clean_text = []\n",
    "# 전체 text 데이터에 대한 전처리 : 10분 이상 시간이 걸릴 수 있습니다. \n",
    "for s in data['text']:\n",
    "    clean_text.append(preprocess_sentence(s))\n",
    "\n",
    "# 전처리 후 출력\n",
    "print(\"text 전처리 후 결과: \", clean_text[:5])"
   ]
  },
  {
   "cell_type": "code",
   "execution_count": 16,
   "id": "cd779e78",
   "metadata": {},
   "outputs": [
    {
     "name": "stdout",
     "output_type": "stream",
     "text": [
      "headlines 전처리 후 결과:  ['upgrad learner switches to career in ml al with salary hike', 'delhi techie wins free food from swiggy for one year on cred', 'new zealand end rohit sharma led india match winning streak', 'aegon life iterm insurance plan helps customers save tax', 'have known hirani for yrs what if metoo claims are not true sonam']\n"
     ]
    }
   ],
   "source": [
    "clean_headlines = []\n",
    "# 전체 headlines 데이터에 대한 전처리 : 5분 이상 시간이 걸릴 수 있습니다. \n",
    "for s in data['headlines']:\n",
    "    clean_headlines.append(preprocess_sentence(s, False))\n",
    "\n",
    "print(\"headlines 전처리 후 결과: \", clean_headlines[:5])"
   ]
  },
  {
   "cell_type": "code",
   "execution_count": 17,
   "id": "5d48ae51",
   "metadata": {},
   "outputs": [
    {
     "name": "stdout",
     "output_type": "stream",
     "text": [
      "check\n"
     ]
    }
   ],
   "source": [
    "data['text'] = clean_text\n",
    "data['headlines'] = clean_headlines\n",
    "\n",
    "# 빈 값을 Null 값으로 변환\n",
    "data.replace('', np.nan, inplace=True)\n",
    "print('check')"
   ]
  },
  {
   "cell_type": "code",
   "execution_count": 18,
   "id": "fa190f2e",
   "metadata": {},
   "outputs": [
    {
     "data": {
      "text/plain": [
       "headlines    0\n",
       "text         0\n",
       "dtype: int64"
      ]
     },
     "execution_count": 18,
     "metadata": {},
     "output_type": "execute_result"
    }
   ],
   "source": [
    "data.isnull().sum()"
   ]
  },
  {
   "cell_type": "code",
   "execution_count": 19,
   "id": "e80cbe0c",
   "metadata": {},
   "outputs": [],
   "source": [
    "# null값 없음 \n",
    "# data.dropna(axis=0, inplace=True)\n",
    "# print('전체 샘플수 :', (len(data)))"
   ]
  },
  {
   "cell_type": "markdown",
   "id": "c0b1e753",
   "metadata": {},
   "source": [
    "텍스트와 요약 길이 확인"
   ]
  },
  {
   "cell_type": "code",
   "execution_count": 20,
   "id": "7de773c3",
   "metadata": {},
   "outputs": [
    {
     "name": "stdout",
     "output_type": "stream",
     "text": [
      "텍스트의 최소 길이 : 1\n",
      "텍스트의 최대 길이 : 60\n",
      "텍스트의 평균 길이 : 35.09968483123221\n",
      "요약의 최소 길이 : 1\n",
      "요약의 최대 길이 : 16\n",
      "요약의 평균 길이 : 9.299532330215534\n"
     ]
    },
    {
     "data": {
      "image/png": "[encoded data removed]",
      "text/plain": [
       "<Figure size 432x288 with 2 Axes>"
      ]
     },
     "metadata": {
      "needs_background": "light"
     },
     "output_type": "display_data"
    },
    {
     "data": {
      "image/png": "[encoded data removed]",
      "text/plain": [
       "<Figure size 432x288 with 1 Axes>"
      ]
     },
     "metadata": {
      "needs_background": "light"
     },
     "output_type": "display_data"
    },
    {
     "data": {
      "image/png": "[encoded data removed]",
      "text/plain": [
       "<Figure size 432x288 with 1 Axes>"
      ]
     },
     "metadata": {
      "needs_background": "light"
     },
     "output_type": "display_data"
    }
   ],
   "source": [
    "# 길이 분포 출력\n",
    "import matplotlib.pyplot as plt\n",
    "\n",
    "text_len = [len(s.split()) for s in data['text']]\n",
    "headlines_len = [len(s.split()) for s in data['headlines']]\n",
    "\n",
    "print('텍스트의 최소 길이 : {}'.format(np.min(text_len)))\n",
    "print('텍스트의 최대 길이 : {}'.format(np.max(text_len)))\n",
    "print('텍스트의 평균 길이 : {}'.format(np.mean(text_len)))\n",
    "print('요약의 최소 길이 : {}'.format(np.min(headlines_len)))\n",
    "print('요약의 최대 길이 : {}'.format(np.max(headlines_len)))\n",
    "print('요약의 평균 길이 : {}'.format(np.mean(headlines_len)))\n",
    "\n",
    "plt.subplot(1,2,1)\n",
    "plt.boxplot(text_len)\n",
    "plt.title('text')\n",
    "plt.subplot(1,2,2)\n",
    "plt.boxplot(headlines_len)\n",
    "plt.title('headlines')\n",
    "plt.tight_layout()\n",
    "plt.show()\n",
    "\n",
    "plt.title('text')\n",
    "plt.hist(text_len, bins = 40)\n",
    "plt.xlabel('length of samples')\n",
    "plt.ylabel('number of samples')\n",
    "plt.show()\n",
    "\n",
    "plt.title('headlines')\n",
    "plt.hist(headlines_len, bins = 40)\n",
    "plt.xlabel('length of samples')\n",
    "plt.ylabel('number of samples')\n",
    "plt.show()"
   ]
  },
  {
   "cell_type": "markdown",
   "id": "2a073eb2",
   "metadata": {},
   "source": [
    "- 텍스트의 최대길이는 60, 요약의 최대 길이는 16인 것을 알 수 있다. \n",
    "- 텍스트 최대 길이를 40, 요약의 최대 길이를 11로 임의로 정해봄 "
   ]
  },
  {
   "cell_type": "code",
   "execution_count": 21,
   "id": "7f364493",
   "metadata": {},
   "outputs": [],
   "source": [
    "text_max_len = 38\n",
    "summary_max_len = 11"
   ]
  },
  {
   "cell_type": "markdown",
   "id": "c6581b35",
   "metadata": {},
   "source": [
    "- 얼마나 많은 샘플들을 자르지 않고 포함할 수 있는지 통계로 확인하는 편이 객관적으로 길이를 결정하는 데 도움이 됨 \n",
    "- 훈련 데이터와 샘플의 길이를 입력하면, 데이터의 몇 %가 해당하는지 계산하는 함수를 만들어서 좀 더 정확하게 판단해보기 "
   ]
  },
  {
   "cell_type": "code",
   "execution_count": 22,
   "id": "7026c7ef",
   "metadata": {},
   "outputs": [
    {
     "name": "stdout",
     "output_type": "stream",
     "text": [
      "check\n"
     ]
    }
   ],
   "source": [
    "def below_threshold_len(max_len, nested_list):\n",
    "    cnt = 0\n",
    "    for s in nested_list:\n",
    "        if(len(s.split()) <= max_len):\n",
    "            cnt = cnt + 1\n",
    "    print('전체 샘플 중 길이가 %s 이하인 샘플의 비율: %s'%(max_len, (cnt / len(nested_list))))\n",
    "print('check')"
   ]
  },
  {
   "cell_type": "code",
   "execution_count": 23,
   "id": "2092117b",
   "metadata": {},
   "outputs": [
    {
     "name": "stdout",
     "output_type": "stream",
     "text": [
      "전체 샘플 중 길이가 38 이하인 샘플의 비율: 0.8163379422529483\n",
      "전체 샘플 중 길이가 11 이하인 샘플의 비율: 0.9449877999186661\n"
     ]
    }
   ],
   "source": [
    "below_threshold_len(text_max_len, data['text'])\n",
    "below_threshold_len(summary_max_len,  data['headlines'])"
   ]
  },
  {
   "cell_type": "markdown",
   "id": "7d8544ab",
   "metadata": {},
   "source": [
    "- 위와 같이 하면 해당 길이보다 긴 샘플들은 잘리게 된다. 나름 비율은 괜찮은데 샘플을 그냥 자르면 완전한 문장이 되지 않으므로 정해진 길이보다 길면 제외하는 방법으로 데이터를 정제\n",
    "- 98360에서 75754로 샘플 수가 줄어듬 "
   ]
  },
  {
   "cell_type": "code",
   "execution_count": 24,
   "id": "5ebe235e",
   "metadata": {},
   "outputs": [
    {
     "name": "stdout",
     "output_type": "stream",
     "text": [
      "전체 샘플 수 : 75754\n"
     ]
    }
   ],
   "source": [
    "data = data[data['text'].apply(lambda x: len(x.split()) <= text_max_len)]\n",
    "data = data[data['headlines'].apply(lambda x: len(x.split()) <= summary_max_len)]\n",
    "print('전체 샘플 수 :', (len(data)))"
   ]
  },
  {
   "cell_type": "markdown",
   "id": "4f471a1b",
   "metadata": {},
   "source": [
    "### 시작 토큰과 종료 토큰 추가하기\n",
    "- 디코더는 시작 토큰을 입력받아 문장을 생성하기 시작하고, 종료 토큰을 예측한 순간에 문장 생성을 멈춤\n",
    "- seq2seq 훈련을 위해서는 디코더의 입력과 레이블에 시작 토큰과 종료 토큰을 추가할 필요가 있음\n",
    "- 시작 토큰은 sostoken, 종료 토큰은 eostoken이라 임의로 명명\n",
    "- 디코더의 입력에 해당하면서 시작 토큰이 맨 앞에 있는 문장의 이름을 decoder_input, 디코더의 출력 또는 레이블에 해당되면서 종료 토큰이 맨 뒤에 붙는 문장의 이름을 decoder_target"
   ]
  },
  {
   "cell_type": "code",
   "execution_count": 25,
   "id": "c3463e28",
   "metadata": {},
   "outputs": [
    {
     "data": {
      "text/html": [
       "<div>\n",
       "<style scoped>\n",
       "    .dataframe tbody tr th:only-of-type {\n",
       "        vertical-align: middle;\n",
       "    }\n",
       "\n",
       "    .dataframe tbody tr th {\n",
       "        vertical-align: top;\n",
       "    }\n",
       "\n",
       "    .dataframe thead th {\n",
       "        text-align: right;\n",
       "    }\n",
       "</style>\n",
       "<table border=\"1\" class=\"dataframe\">\n",
       "  <thead>\n",
       "    <tr style=\"text-align: right;\">\n",
       "      <th></th>\n",
       "      <th>headlines</th>\n",
       "      <th>text</th>\n",
       "      <th>decoder_input</th>\n",
       "      <th>decoder_target</th>\n",
       "    </tr>\n",
       "  </thead>\n",
       "  <tbody>\n",
       "    <tr>\n",
       "      <th>2</th>\n",
       "      <td>new zealand end rohit sharma led india match w...</td>\n",
       "      <td>new zealand defeated india wickets fourth odi ...</td>\n",
       "      <td>sostoken new zealand end rohit sharma led indi...</td>\n",
       "      <td>new zealand end rohit sharma led india match w...</td>\n",
       "    </tr>\n",
       "    <tr>\n",
       "      <th>3</th>\n",
       "      <td>aegon life iterm insurance plan helps customer...</td>\n",
       "      <td>aegon life iterm insurance plan customers enjo...</td>\n",
       "      <td>sostoken aegon life iterm insurance plan helps...</td>\n",
       "      <td>aegon life iterm insurance plan helps customer...</td>\n",
       "    </tr>\n",
       "    <tr>\n",
       "      <th>5</th>\n",
       "      <td>rahat fateh ali khan denies getting notice for...</td>\n",
       "      <td>pakistani singer rahat fateh ali khan denied r...</td>\n",
       "      <td>sostoken rahat fateh ali khan denies getting n...</td>\n",
       "      <td>rahat fateh ali khan denies getting notice for...</td>\n",
       "    </tr>\n",
       "    <tr>\n",
       "      <th>7</th>\n",
       "      <td>govt directs alok verma to join work day befor...</td>\n",
       "      <td>weeks ex cbi director alok verma told departme...</td>\n",
       "      <td>sostoken govt directs alok verma to join work ...</td>\n",
       "      <td>govt directs alok verma to join work day befor...</td>\n",
       "    </tr>\n",
       "    <tr>\n",
       "      <th>8</th>\n",
       "      <td>called pm modi sir times to satisfy his ego an...</td>\n",
       "      <td>andhra pradesh cm chandrababu naidu said met u...</td>\n",
       "      <td>sostoken called pm modi sir times to satisfy h...</td>\n",
       "      <td>called pm modi sir times to satisfy his ego an...</td>\n",
       "    </tr>\n",
       "  </tbody>\n",
       "</table>\n",
       "</div>"
      ],
      "text/plain": [
       "                                           headlines  \\\n",
       "2  new zealand end rohit sharma led india match w...   \n",
       "3  aegon life iterm insurance plan helps customer...   \n",
       "5  rahat fateh ali khan denies getting notice for...   \n",
       "7  govt directs alok verma to join work day befor...   \n",
       "8  called pm modi sir times to satisfy his ego an...   \n",
       "\n",
       "                                                text  \\\n",
       "2  new zealand defeated india wickets fourth odi ...   \n",
       "3  aegon life iterm insurance plan customers enjo...   \n",
       "5  pakistani singer rahat fateh ali khan denied r...   \n",
       "7  weeks ex cbi director alok verma told departme...   \n",
       "8  andhra pradesh cm chandrababu naidu said met u...   \n",
       "\n",
       "                                       decoder_input  \\\n",
       "2  sostoken new zealand end rohit sharma led indi...   \n",
       "3  sostoken aegon life iterm insurance plan helps...   \n",
       "5  sostoken rahat fateh ali khan denies getting n...   \n",
       "7  sostoken govt directs alok verma to join work ...   \n",
       "8  sostoken called pm modi sir times to satisfy h...   \n",
       "\n",
       "                                      decoder_target  \n",
       "2  new zealand end rohit sharma led india match w...  \n",
       "3  aegon life iterm insurance plan helps customer...  \n",
       "5  rahat fateh ali khan denies getting notice for...  \n",
       "7  govt directs alok verma to join work day befor...  \n",
       "8  called pm modi sir times to satisfy his ego an...  "
      ]
     },
     "execution_count": 25,
     "metadata": {},
     "output_type": "execute_result"
    }
   ],
   "source": [
    "# 요약 데이터에는 시작 토큰과 종료 토큰을 추가한다.\n",
    "data['decoder_input'] = data['headlines'].apply(lambda x : 'sostoken '+ x)\n",
    "data['decoder_target'] = data['headlines'].apply(lambda x : x + ' eostoken')\n",
    "data.head()"
   ]
  },
  {
   "cell_type": "markdown",
   "id": "3bde3e38",
   "metadata": {},
   "source": [
    "인코더의 입력, 디코더의 입력과 레이블을 각각 다시 Numpy 타입으로 저장"
   ]
  },
  {
   "cell_type": "code",
   "execution_count": 26,
   "id": "e9c2e0f8",
   "metadata": {},
   "outputs": [
    {
     "name": "stdout",
     "output_type": "stream",
     "text": [
      "check\n"
     ]
    }
   ],
   "source": [
    "encoder_input = np.array(data['text']) # 인코더의 입력\n",
    "decoder_input = np.array(data['decoder_input']) # 디코더의 입력\n",
    "decoder_target = np.array(data['decoder_target']) # 디코더의 레이블\n",
    "print('check')"
   ]
  },
  {
   "cell_type": "markdown",
   "id": "a5ab4eeb",
   "metadata": {},
   "source": [
    "## train과 test 직접 코딩해서 나누기\n",
    "encoder_input과 크기와 형태가 같은 순서가 섞인 정수 시퀀스를 만들기"
   ]
  },
  {
   "cell_type": "code",
   "execution_count": 27,
   "id": "6fce6113",
   "metadata": {},
   "outputs": [
    {
     "name": "stdout",
     "output_type": "stream",
     "text": [
      "[73753 49867 15446 ... 47036 50834 72911]\n"
     ]
    }
   ],
   "source": [
    "indices = np.arange(encoder_input.shape[0])\n",
    "np.random.shuffle(indices)\n",
    "print(indices)"
   ]
  },
  {
   "cell_type": "markdown",
   "id": "b2c0fd7f",
   "metadata": {},
   "source": [
    "이 정수 시퀀스를 이용해 다시 데이터의 샘플 순서를 정의해 주면 잘 섞인 샘플이 됨"
   ]
  },
  {
   "cell_type": "code",
   "execution_count": 28,
   "id": "81b37e10",
   "metadata": {},
   "outputs": [
    {
     "name": "stdout",
     "output_type": "stream",
     "text": [
      "check\n"
     ]
    }
   ],
   "source": [
    "encoder_input = encoder_input[indices]\n",
    "decoder_input = decoder_input[indices]\n",
    "decoder_target = decoder_target[indices]\n",
    "print('check')"
   ]
  },
  {
   "cell_type": "markdown",
   "id": "66aa53cd",
   "metadata": {},
   "source": [
    "섞인 데이터를 8:2의 비율로 훈련 데이터와 테스트 데이터로 분리"
   ]
  },
  {
   "cell_type": "code",
   "execution_count": 29,
   "id": "c68f4343",
   "metadata": {},
   "outputs": [
    {
     "name": "stdout",
     "output_type": "stream",
     "text": [
      "테스트 데이터의 수 : 15150\n"
     ]
    }
   ],
   "source": [
    "n_of_val = int(len(encoder_input)*0.2)\n",
    "print('테스트 데이터의 수 :', n_of_val)"
   ]
  },
  {
   "cell_type": "markdown",
   "id": "593b6abd",
   "metadata": {},
   "source": [
    "이렇게 정의한 테스트 데이터의 개수를 이용해 전체 데이터를 양분"
   ]
  },
  {
   "cell_type": "code",
   "execution_count": 30,
   "id": "13a2df0c",
   "metadata": {},
   "outputs": [
    {
     "name": "stdout",
     "output_type": "stream",
     "text": [
      "훈련 데이터의 개수 : 60604\n",
      "훈련 레이블의 개수 : 60604\n",
      "테스트 데이터의 개수 : 15150\n",
      "테스트 레이블의 개수 : 15150\n"
     ]
    }
   ],
   "source": [
    "encoder_input_train = encoder_input[:-n_of_val]\n",
    "decoder_input_train = decoder_input[:-n_of_val]\n",
    "decoder_target_train = decoder_target[:-n_of_val]\n",
    "\n",
    "encoder_input_test = encoder_input[-n_of_val:]\n",
    "decoder_input_test = decoder_input[-n_of_val:]\n",
    "decoder_target_test = decoder_target[-n_of_val:]\n",
    "\n",
    "print('훈련 데이터의 개수 :', len(encoder_input_train))\n",
    "print('훈련 레이블의 개수 :', len(decoder_input_train))\n",
    "print('테스트 데이터의 개수 :', len(encoder_input_test))\n",
    "print('테스트 레이블의 개수 :', len(decoder_input_test))"
   ]
  },
  {
   "cell_type": "markdown",
   "id": "611039ec",
   "metadata": {},
   "source": [
    "## 단어 집합(vocabulary) 만들기 및 정수 인코딩\n",
    "- 기계가 텍스트를 숫자로 처리할 수 있도록 훈련 데이터와 테스트 데이터의 단어들을 모두 정수로 바꿔야 함\n",
    "-  각 단어에 고유한 정수를 맵핑하는 작업이 필요한데 이 과정을 단어 집합(vocabulary)을 만든다고 표현\n",
    "- Keras의 토크나이저를 사용하면, 입력된 훈련 데이터로부터 단어 집합을 만들 수 있"
   ]
  },
  {
   "cell_type": "code",
   "execution_count": 31,
   "id": "c1442961",
   "metadata": {},
   "outputs": [
    {
     "name": "stdout",
     "output_type": "stream",
     "text": [
      "=3\n"
     ]
    }
   ],
   "source": [
    "src_tokenizer = Tokenizer() # 토크나이저 정의\n",
    "src_tokenizer.fit_on_texts(encoder_input_train) # 입력된 데이터로부터 단어 집합 생성\n",
    "print('=3')"
   ]
  },
  {
   "cell_type": "markdown",
   "id": "466bc2d5",
   "metadata": {},
   "source": [
    "- 빈도수가 낮은 단어들은 훈련 데이터에서 제외하고 진행\n",
    "- 빈도수가 7회 미만인 단어들이 이 데이터에서 얼만큼의 비중을 차지하는지 확인\n",
    "- src_tokenizer.word_counts.items()에는 단어와 각 단어의 등장 빈도수가 저장되어 있음"
   ]
  },
  {
   "cell_type": "code",
   "execution_count": 32,
   "id": "097043b7",
   "metadata": {},
   "outputs": [
    {
     "name": "stdout",
     "output_type": "stream",
     "text": [
      "단어 집합(vocabulary)의 크기 : 60278\n",
      "등장 빈도가 6번 이하인 희귀 단어의 수: 41246\n",
      "단어 집합에서 희귀 단어를 제외시킬 경우의 단어 집합의 크기 19032\n",
      "단어 집합에서 희귀 단어의 비율: 68.42629151597598\n",
      "전체 등장 빈도에서 희귀 단어 등장 빈도 비율: 4.10150982452075\n"
     ]
    }
   ],
   "source": [
    "threshold = 7\n",
    "total_cnt = len(src_tokenizer.word_index) # 단어의 수\n",
    "rare_cnt = 0 # 등장 빈도수가 threshold보다 작은 단어의 개수를 카운트\n",
    "total_freq = 0 # 훈련 데이터의 전체 단어 빈도수 총 합\n",
    "rare_freq = 0 # 등장 빈도수가 threshold보다 작은 단어의 등장 빈도수의 총 합\n",
    "\n",
    "# 단어와 빈도수의 쌍(pair)을 key와 value로 받는다.\n",
    "for key, value in src_tokenizer.word_counts.items():\n",
    "    total_freq = total_freq + value\n",
    "\n",
    "    # 단어의 등장 빈도수가 threshold보다 작으면\n",
    "    if(value < threshold):\n",
    "        rare_cnt = rare_cnt + 1\n",
    "        rare_freq = rare_freq + value\n",
    "\n",
    "print('단어 집합(vocabulary)의 크기 :', total_cnt)\n",
    "print('등장 빈도가 %s번 이하인 희귀 단어의 수: %s'%(threshold - 1, rare_cnt))\n",
    "print('단어 집합에서 희귀 단어를 제외시킬 경우의 단어 집합의 크기 %s'%(total_cnt - rare_cnt))\n",
    "print(\"단어 집합에서 희귀 단어의 비율:\", (rare_cnt / total_cnt)*100)\n",
    "print(\"전체 등장 빈도에서 희귀 단어 등장 빈도 비율:\", (rare_freq / total_freq)*100)"
   ]
  },
  {
   "cell_type": "markdown",
   "id": "6e02f1af",
   "metadata": {},
   "source": [
    "- 전체 등장 빈도에서 희귀 단어 등장 빈도 비율이 4% 밖에 되지 않는 것을 볼 수 있다. \n",
    "- 등장 빈도가 6회 이하인 단어들은 정수 인코딩 과정에서 빼고, 훈련 데이터에서 제거\n",
    "- 단어 집합에서 희귀 단어를 제외시킬 경우의 단어 집합의 크기 19032 이므로 단어 크기를 19000으로 제한"
   ]
  },
  {
   "cell_type": "code",
   "execution_count": 33,
   "id": "708d9b61",
   "metadata": {},
   "outputs": [
    {
     "name": "stdout",
     "output_type": "stream",
     "text": [
      "check\n"
     ]
    }
   ],
   "source": [
    "src_vocab = 19000\n",
    "src_tokenizer = Tokenizer(num_words=src_vocab) # 단어 집합의 크기를 19000으로 제한\n",
    "src_tokenizer.fit_on_texts(encoder_input_train) # 단어 집합 재생성\n",
    "print('check')"
   ]
  },
  {
   "cell_type": "markdown",
   "id": "bd33d98c",
   "metadata": {},
   "source": [
    "- texts_to_sequences()는 생성된 단어 집합에 기반하여 입력으로 주어진 텍스트 데이터의 단어들을 모두 정수로 변환하는 정수 인코딩을 수행\n",
    "-  이제 텍스트가 아닌 정수로 표현되는 것을 볼 수 있음 "
   ]
  },
  {
   "cell_type": "code",
   "execution_count": 34,
   "id": "0b723faf",
   "metadata": {},
   "outputs": [
    {
     "name": "stdout",
     "output_type": "stream",
     "text": [
      "[[1085, 570, 15, 1885, 1467, 64, 1, 2147, 258, 185, 853, 2558, 885, 1328, 551, 10188, 8040, 1467, 1, 252, 661, 636, 142, 560, 2572, 914, 2558, 885], [1232, 622, 1063, 12447, 186, 22, 1816, 6900, 403, 16618, 457, 8953, 27, 3077, 49, 1232, 3221, 622, 93, 8953, 928, 185, 187, 939, 289, 6691, 1514, 2], [205, 1978, 4160, 823, 2065, 355, 615, 276, 769, 2277, 5028, 11190, 1189, 2065, 615, 1874, 2398, 2355, 2035, 1823, 2277, 5028, 9906, 16619, 1867, 641, 205, 55, 3895, 28, 1400, 2277, 130]]\n"
     ]
    }
   ],
   "source": [
    "# 텍스트 시퀀스를 정수 시퀀스로 변환\n",
    "encoder_input_train = src_tokenizer.texts_to_sequences(encoder_input_train) \n",
    "encoder_input_test = src_tokenizer.texts_to_sequences(encoder_input_test)\n",
    "\n",
    "# 잘 진행되었는지 샘플 출력\n",
    "print(encoder_input_train[:3])"
   ]
  },
  {
   "cell_type": "markdown",
   "id": "dabc98b9",
   "metadata": {},
   "source": [
    "headlines 데이터도 동일한 작업 수행 "
   ]
  },
  {
   "cell_type": "code",
   "execution_count": 35,
   "id": "2768e515",
   "metadata": {},
   "outputs": [
    {
     "name": "stdout",
     "output_type": "stream",
     "text": [
      "check\n"
     ]
    }
   ],
   "source": [
    "tar_tokenizer = Tokenizer()\n",
    "tar_tokenizer.fit_on_texts(decoder_input_train)\n",
    "print('check')"
   ]
  },
  {
   "cell_type": "code",
   "execution_count": 36,
   "id": "67e42caf",
   "metadata": {},
   "outputs": [
    {
     "name": "stdout",
     "output_type": "stream",
     "text": [
      "단어 집합(vocabulary)의 크기 : 27031\n",
      "등장 빈도가 5번 이하인 희귀 단어의 수: 17982\n",
      "단어 집합에서 희귀 단어를 제외시킬 경우의 단어 집합의 크기 9049\n",
      "단어 집합에서 희귀 단어의 비율: 66.52362102770893\n",
      "전체 등장 빈도에서 희귀 단어 등장 빈도 비율: 5.607281743995282\n"
     ]
    }
   ],
   "source": [
    "threshold = 6\n",
    "total_cnt = len(tar_tokenizer.word_index) # 단어의 수\n",
    "rare_cnt = 0 # 등장 빈도수가 threshold보다 작은 단어의 개수를 카운트\n",
    "total_freq = 0 # 훈련 데이터의 전체 단어 빈도수 총 합\n",
    "rare_freq = 0 # 등장 빈도수가 threshold보다 작은 단어의 등장 빈도수의 총 합\n",
    "\n",
    "# 단어와 빈도수의 쌍(pair)을 key와 value로 받는다.\n",
    "for key, value in tar_tokenizer.word_counts.items():\n",
    "    total_freq = total_freq + value\n",
    "\n",
    "    # 단어의 등장 빈도수가 threshold보다 작으면\n",
    "    if(value < threshold):\n",
    "        rare_cnt = rare_cnt + 1\n",
    "        rare_freq = rare_freq + value\n",
    "\n",
    "print('단어 집합(vocabulary)의 크기 :', total_cnt)\n",
    "print('등장 빈도가 %s번 이하인 희귀 단어의 수: %s'%(threshold - 1, rare_cnt))\n",
    "print('단어 집합에서 희귀 단어를 제외시킬 경우의 단어 집합의 크기 %s'%(total_cnt - rare_cnt))\n",
    "print(\"단어 집합에서 희귀 단어의 비율:\", (rare_cnt / total_cnt)*100)\n",
    "print(\"전체 등장 빈도에서 희귀 단어 등장 빈도 비율:\", (rare_freq / total_freq)*100)"
   ]
  },
  {
   "cell_type": "markdown",
   "id": "c4008618",
   "metadata": {},
   "source": [
    "전체 등장 빈도에서 희귀 단어 등장 빈도 비율은 5.6%, 희귀단어 제외하면 9067, 9000을 단어 집합의 크기로 제한"
   ]
  },
  {
   "cell_type": "code",
   "execution_count": 37,
   "id": "3625adaa",
   "metadata": {},
   "outputs": [
    {
     "name": "stdout",
     "output_type": "stream",
     "text": [
      "input\n",
      "input  [[1, 577, 119, 7, 392, 4, 15, 19, 11, 1654, 1655, 718], [1, 2054, 3379, 804, 869, 16, 415, 4514], [1, 97, 540, 3884, 2178, 7580, 17, 17, 725], [1, 4152, 8, 2226, 1797, 89, 144, 5720, 8226], [1, 18, 2343, 6, 494, 4010, 1904, 504, 6085]]\n",
      "target\n",
      "decoder  [[577, 119, 7, 392, 4, 15, 19, 11, 1654, 1655, 718, 2], [2054, 3379, 804, 869, 16, 415, 4514, 2], [97, 540, 3884, 2178, 7580, 17, 17, 725, 2], [4152, 8, 2226, 1797, 89, 144, 5720, 8226, 2], [18, 2343, 6, 494, 4010, 1904, 504, 6085, 2]]\n"
     ]
    }
   ],
   "source": [
    "tar_vocab = 9000\n",
    "tar_tokenizer = Tokenizer(num_words=tar_vocab) \n",
    "tar_tokenizer.fit_on_texts(decoder_input_train)\n",
    "tar_tokenizer.fit_on_texts(decoder_target_train)\n",
    "\n",
    "# 텍스트 시퀀스를 정수 시퀀스로 변환\n",
    "decoder_input_train = tar_tokenizer.texts_to_sequences(decoder_input_train) \n",
    "decoder_target_train = tar_tokenizer.texts_to_sequences(decoder_target_train)\n",
    "decoder_input_test = tar_tokenizer.texts_to_sequences(decoder_input_test)\n",
    "decoder_target_test = tar_tokenizer.texts_to_sequences(decoder_target_test)\n",
    "\n",
    "# 잘 변환되었는지 확인\n",
    "print('input')\n",
    "print('input ',decoder_input_train[:5])\n",
    "print('target')\n",
    "print('decoder ',decoder_target_train[:5])"
   ]
  },
  {
   "cell_type": "markdown",
   "id": "872b9661",
   "metadata": {},
   "source": [
    "- 빈도수가 낮은 단어만으로 구성되었던 샘플들은 이제 빈(empty) 샘플이 되었을 가능성이 있음\n",
    "- 길이가 긴 text에는 문제가 안되겠지만 원래부터 길이가 짧았던 headline 요약문의 경우 빈 샘플이 생길 수 있음\n",
    "- 요약문인 decoder_input에는 sostoken 또는 decoder_target에는 eostoken이 추가된 상태이고, 이 두 토큰은 모든 샘플에서 등장하므로 빈도수가 샘플 수와 동일하게 매우 높으므로 단어 집합 제한에도 삭제되지 않음\n",
    "- **길이가 0이 된 요약문의 실제 길이는 1로 나옴**(길이 0이 된 decoder_input에는 sostoken, decoder_target에는 eostoken만 남아 있으므로)"
   ]
  },
  {
   "cell_type": "code",
   "execution_count": 38,
   "id": "c1d6355b",
   "metadata": {},
   "outputs": [
    {
     "name": "stdout",
     "output_type": "stream",
     "text": [
      "삭제할 훈련 데이터의 개수 : 0\n",
      "삭제할 테스트 데이터의 개수 : 0\n",
      "훈련 데이터의 개수 : 60604\n",
      "훈련 레이블의 개수 : 60604\n",
      "테스트 데이터의 개수 : 15150\n",
      "테스트 레이블의 개수 : 15150\n"
     ]
    }
   ],
   "source": [
    "# 요약문의 길이가 1인 경우의 인덱스를 각각 drop_train과 drop_test에 라는 변수에 저장\n",
    "drop_train = [index for index, sentence in enumerate(decoder_input_train) if len(sentence) == 1]\n",
    "drop_test = [index for index, sentence in enumerate(decoder_input_test) if len(sentence) == 1]\n",
    "\n",
    "print('삭제할 훈련 데이터의 개수 :', len(drop_train))\n",
    "print('삭제할 테스트 데이터의 개수 :', len(drop_test))\n",
    "\n",
    "encoder_input_train = [sentence for index, sentence in enumerate(encoder_input_train) if index not in drop_train]\n",
    "decoder_input_train = [sentence for index, sentence in enumerate(decoder_input_train) if index not in drop_train]\n",
    "decoder_target_train = [sentence for index, sentence in enumerate(decoder_target_train) if index not in drop_train]\n",
    "\n",
    "encoder_input_test = [sentence for index, sentence in enumerate(encoder_input_test) if index not in drop_test]\n",
    "decoder_input_test = [sentence for index, sentence in enumerate(decoder_input_test) if index not in drop_test]\n",
    "decoder_target_test = [sentence for index, sentence in enumerate(decoder_target_test) if index not in drop_test]\n",
    "\n",
    "print('훈련 데이터의 개수 :', len(encoder_input_train))\n",
    "print('훈련 레이블의 개수 :', len(decoder_input_train))\n",
    "print('테스트 데이터의 개수 :', len(encoder_input_test))\n",
    "print('테스트 레이블의 개수 :', len(decoder_input_test))"
   ]
  },
  {
   "cell_type": "markdown",
   "id": "b89f5429",
   "metadata": {},
   "source": [
    "생각보다 삭제할 데이터의 개수가 없네? 희귀 단어 등장 빈도 비율이 4~5% 정도여서 크게 영향이 없었다"
   ]
  },
  {
   "cell_type": "markdown",
   "id": "62e4858f",
   "metadata": {},
   "source": [
    "### 패딩하기 \n",
    "서로 다른 길이의 샘플들을 병렬 처리하기 위해 같은 길이로 맞춰주는 패딩 작업 실시 "
   ]
  },
  {
   "cell_type": "code",
   "execution_count": 39,
   "id": "ec6556ed",
   "metadata": {},
   "outputs": [
    {
     "name": "stdout",
     "output_type": "stream",
     "text": [
      "check\n"
     ]
    }
   ],
   "source": [
    "encoder_input_train = pad_sequences(encoder_input_train, maxlen=text_max_len, padding='post')\n",
    "encoder_input_test = pad_sequences(encoder_input_test, maxlen=text_max_len, padding='post')\n",
    "decoder_input_train = pad_sequences(decoder_input_train, maxlen=summary_max_len, padding='post')\n",
    "decoder_target_train = pad_sequences(decoder_target_train, maxlen=summary_max_len, padding='post')\n",
    "decoder_input_test = pad_sequences(decoder_input_test, maxlen=summary_max_len, padding='post')\n",
    "decoder_target_test = pad_sequences(decoder_target_test, maxlen=summary_max_len, padding='post')\n",
    "print('check')"
   ]
  },
  {
   "cell_type": "markdown",
   "id": "917263a1",
   "metadata": {},
   "source": [
    "# 모델 설계하기\n",
    "### Encoder 설계(함수형 API를 이용)\n",
    "- hidden state는 LSTM에서 얼만큼의 수용력(capacity)를 가질지를 정하는 파라미터(LSTM의 용량의 크기나, LSTM에서의 뉴런의 개수)\n",
    "- recurrent dropout은 dropout을 레이어가 아닌 time step마다 해주는 방식(time step의 입력을 랜덤으로 생략)\n",
    "- dropout과 recurrent dropout을 모두 사용한 것을 Variational Dropout이라고도 함"
   ]
  },
  {
   "cell_type": "code",
   "execution_count": 40,
   "id": "54b10fa7",
   "metadata": {},
   "outputs": [
    {
     "name": "stdout",
     "output_type": "stream",
     "text": [
      "WARNING:tensorflow:Layer lstm will not use cuDNN kernels since it doesn't meet the criteria. It will use a generic GPU kernel as fallback when running on GPU.\n",
      "WARNING:tensorflow:Layer lstm_1 will not use cuDNN kernels since it doesn't meet the criteria. It will use a generic GPU kernel as fallback when running on GPU.\n",
      "WARNING:tensorflow:Layer lstm_2 will not use cuDNN kernels since it doesn't meet the criteria. It will use a generic GPU kernel as fallback when running on GPU.\n"
     ]
    }
   ],
   "source": [
    "from tensorflow.keras.layers import Input, LSTM, Embedding, Dense, Concatenate, TimeDistributed\n",
    "from tensorflow.keras.models import Model\n",
    "from tensorflow.keras.callbacks import EarlyStopping, ModelCheckpoint\n",
    "\n",
    "\n",
    "# 인코더 설계 시작\n",
    "embedding_dim = 128\n",
    "hidden_size = 256\n",
    "\n",
    "# 인코더\n",
    "encoder_inputs = Input(shape=(text_max_len,))\n",
    "\n",
    "# 인코더의 임베딩 층\n",
    "enc_emb = Embedding(src_vocab, embedding_dim)(encoder_inputs)\n",
    "\n",
    "# 인코더의 LSTM 1\n",
    "encoder_lstm1 = LSTM(hidden_size, return_sequences=True, return_state=True ,dropout = 0.4, recurrent_dropout = 0.4)\n",
    "encoder_output1, state_h1, state_c1 = encoder_lstm1(enc_emb)\n",
    "\n",
    "# 인코더의 LSTM 2\n",
    "encoder_lstm2 = LSTM(hidden_size, return_sequences=True, return_state=True, dropout=0.4, recurrent_dropout=0.4)\n",
    "encoder_output2, state_h2, state_c2 = encoder_lstm2(encoder_output1)\n",
    "\n",
    "# 인코더의 LSTM 3\n",
    "encoder_lstm3 = LSTM(hidden_size, return_state=True, return_sequences=True, dropout=0.4, recurrent_dropout=0.4)\n",
    "encoder_outputs, state_h, state_c= encoder_lstm3(encoder_output2)"
   ]
  },
  {
   "cell_type": "markdown",
   "id": "763f3ac6",
   "metadata": {},
   "source": [
    "위의 경고문은 recurrent dropout을 사용할 시 cuDNN을 사용할 수 없어서 recurrent dropout을 사용하지 않을 때보다 학습 시간이 오래 걸린다는 의미"
   ]
  },
  {
   "cell_type": "markdown",
   "id": "f8c14f86",
   "metadata": {},
   "source": [
    "## Decoder 설계\n",
    "LSTM의 입력을 정의할 때, initial_state의 인자값으로 인코더의 **hidden state와 cell state의 값**을 넣어줘야 함"
   ]
  },
  {
   "cell_type": "code",
   "execution_count": 41,
   "id": "402c2bfa",
   "metadata": {},
   "outputs": [
    {
     "name": "stdout",
     "output_type": "stream",
     "text": [
      "WARNING:tensorflow:Layer lstm_3 will not use cuDNN kernels since it doesn't meet the criteria. It will use a generic GPU kernel as fallback when running on GPU.\n"
     ]
    }
   ],
   "source": [
    "# 디코더 설계\n",
    "decoder_inputs = Input(shape=(None,))\n",
    "\n",
    "# 디코더의 임베딩 층\n",
    "dec_emb_layer = Embedding(tar_vocab, embedding_dim)\n",
    "dec_emb = dec_emb_layer(decoder_inputs)\n",
    "\n",
    "# 디코더의 LSTM\n",
    "decoder_lstm = LSTM(hidden_size, return_sequences=True, return_state=True, dropout=0.4, recurrent_dropout=0.2)\n",
    "decoder_outputs, _, _ = decoder_lstm(dec_emb, initial_state=[state_h, state_c])"
   ]
  },
  {
   "cell_type": "markdown",
   "id": "6eba1e14",
   "metadata": {},
   "source": [
    "- headlines의 단어장인 tar_vocab의 수많은 선택지 중 하나의 단어를 선택하는 다중 클래스 분류 문제를 풀어야 함\n",
    "- Dense의 인자로 tar_vocab을 주고, 활성화 함수로 소프트맥스 함수를 사용"
   ]
  },
  {
   "cell_type": "code",
   "execution_count": 42,
   "id": "41022672",
   "metadata": {},
   "outputs": [
    {
     "name": "stdout",
     "output_type": "stream",
     "text": [
      "Model: \"model\"\n",
      "__________________________________________________________________________________________________\n",
      "Layer (type)                    Output Shape         Param #     Connected to                     \n",
      "==================================================================================================\n",
      "input_1 (InputLayer)            [(None, 38)]         0                                            \n",
      "__________________________________________________________________________________________________\n",
      "embedding (Embedding)           (None, 38, 128)      2432000     input_1[0][0]                    \n",
      "__________________________________________________________________________________________________\n",
      "lstm (LSTM)                     [(None, 38, 256), (N 394240      embedding[0][0]                  \n",
      "__________________________________________________________________________________________________\n",
      "input_2 (InputLayer)            [(None, None)]       0                                            \n",
      "__________________________________________________________________________________________________\n",
      "lstm_1 (LSTM)                   [(None, 38, 256), (N 525312      lstm[0][0]                       \n",
      "__________________________________________________________________________________________________\n",
      "embedding_1 (Embedding)         (None, None, 128)    1152000     input_2[0][0]                    \n",
      "__________________________________________________________________________________________________\n",
      "lstm_2 (LSTM)                   [(None, 38, 256), (N 525312      lstm_1[0][0]                     \n",
      "__________________________________________________________________________________________________\n",
      "lstm_3 (LSTM)                   [(None, None, 256),  394240      embedding_1[0][0]                \n",
      "                                                                 lstm_2[0][1]                     \n",
      "                                                                 lstm_2[0][2]                     \n",
      "__________________________________________________________________________________________________\n",
      "dense (Dense)                   (None, None, 9000)   2313000     lstm_3[0][0]                     \n",
      "==================================================================================================\n",
      "Total params: 7,736,104\n",
      "Trainable params: 7,736,104\n",
      "Non-trainable params: 0\n",
      "__________________________________________________________________________________________________\n"
     ]
    }
   ],
   "source": [
    "# 디코더의 출력층\n",
    "decoder_softmax_layer = Dense(tar_vocab, activation='softmax')\n",
    "decoder_softmax_outputs = decoder_softmax_layer(decoder_outputs) \n",
    "\n",
    "# 모델 정의\n",
    "model = Model([encoder_inputs, decoder_inputs], decoder_softmax_outputs)\n",
    "model.summary()"
   ]
  },
  {
   "cell_type": "markdown",
   "id": "f33f80b5",
   "metadata": {},
   "source": [
    "## seq2seq 모델은?\n",
    "- 인코더에서 입력 시퀀스를 컨텍스트 벡터라는 하나의 고정된 크기의 벡터 표현으로 압축하고, 디코더는 이 컨텍스트 벡터를 통해서 출력 시퀀스를 만들어 냄 \n",
    "\n",
    "- RNN에 기반한 seq2seq 모델에는 크게 두 가지 문제\n",
    "1. 하나의 고정된 크기의 벡터에 모든 정보를 압축하려고 하니까 정보 손실이 발생\n",
    "2. RNN의 고질적인 문제인 기울기 소실(vanishing gradient) 문제가 존재"
   ]
  },
  {
   "cell_type": "markdown",
   "id": "a6a8e7d3",
   "metadata": {},
   "source": [
    "# 3. 어텐션 메커니즘이란?\n",
    "- 디코더에서 출력 단어를 예측하는 매 시점(time step)마다, 인코더에서의 전체 입력 문장을 다시 한 번 참고한다는 점\n",
    "- 전체 입력 문장을 전부 다 동일한 비율로 참고하는 것이 아니라, 해당 시점에서 **예측해야할 단어와 연관이 있는 입력 단어 부분을 좀 더 집중(attention)**해서 보게 됨 \n",
    "- Attention(Q, K, V) = Attention Value\n",
    "    - Q = Query : t 시점의 디코더 셀에서의 은닉 상태\n",
    "    - K = Keys : 모든 시점의 인코더 셀의 은닉 상태들\n",
    "    - V = Values : 모든 시점의 인코더 셀의 은닉 상태들"
   ]
  },
  {
   "cell_type": "code",
   "execution_count": 43,
   "id": "387ad652",
   "metadata": {},
   "outputs": [
    {
     "name": "stdout",
     "output_type": "stream",
     "text": [
      "Model: \"model_1\"\n",
      "__________________________________________________________________________________________________\n",
      "Layer (type)                    Output Shape         Param #     Connected to                     \n",
      "==================================================================================================\n",
      "input_1 (InputLayer)            [(None, 38)]         0                                            \n",
      "__________________________________________________________________________________________________\n",
      "embedding (Embedding)           (None, 38, 128)      2432000     input_1[0][0]                    \n",
      "__________________________________________________________________________________________________\n",
      "lstm (LSTM)                     [(None, 38, 256), (N 394240      embedding[0][0]                  \n",
      "__________________________________________________________________________________________________\n",
      "input_2 (InputLayer)            [(None, None)]       0                                            \n",
      "__________________________________________________________________________________________________\n",
      "lstm_1 (LSTM)                   [(None, 38, 256), (N 525312      lstm[0][0]                       \n",
      "__________________________________________________________________________________________________\n",
      "embedding_1 (Embedding)         (None, None, 128)    1152000     input_2[0][0]                    \n",
      "__________________________________________________________________________________________________\n",
      "lstm_2 (LSTM)                   [(None, 38, 256), (N 525312      lstm_1[0][0]                     \n",
      "__________________________________________________________________________________________________\n",
      "lstm_3 (LSTM)                   [(None, None, 256),  394240      embedding_1[0][0]                \n",
      "                                                                 lstm_2[0][1]                     \n",
      "                                                                 lstm_2[0][2]                     \n",
      "__________________________________________________________________________________________________\n",
      "attention_layer (AdditiveAttent (None, None, 256)    256         lstm_3[0][0]                     \n",
      "                                                                 lstm_2[0][0]                     \n",
      "__________________________________________________________________________________________________\n",
      "concat_layer (Concatenate)      (None, None, 512)    0           lstm_3[0][0]                     \n",
      "                                                                 attention_layer[0][0]            \n",
      "__________________________________________________________________________________________________\n",
      "dense_1 (Dense)                 (None, None, 9000)   4617000     concat_layer[0][0]               \n",
      "==================================================================================================\n",
      "Total params: 10,040,360\n",
      "Trainable params: 10,040,360\n",
      "Non-trainable params: 0\n",
      "__________________________________________________________________________________________________\n"
     ]
    }
   ],
   "source": [
    "# TensorFlow에 이미 구현된 어텐션 함수(Bahdanau 스타일)를 가져옴\n",
    "from tensorflow.keras.layers import AdditiveAttention\n",
    "\n",
    "# 어텐션 층(어텐션 함수)\n",
    "attn_layer = AdditiveAttention(name='attention_layer')\n",
    "\n",
    "# 인코더와 디코더의 모든 time step의 hidden state를 어텐션 층에 전달하고 결과를 리턴\n",
    "attn_out = attn_layer([decoder_outputs, encoder_outputs])\n",
    "\n",
    "\n",
    "# 어텐션의 결과와 디코더의 hidden state들을 연결\n",
    "decoder_concat_input = Concatenate(axis=-1, name='concat_layer')([decoder_outputs, attn_out])\n",
    "\n",
    "# 디코더의 출력층\n",
    "decoder_softmax_layer = Dense(tar_vocab, activation='softmax')\n",
    "decoder_softmax_outputs = decoder_softmax_layer(decoder_concat_input)\n",
    "\n",
    "# 모델 정의\n",
    "model = Model([encoder_inputs, decoder_inputs], decoder_softmax_outputs)\n",
    "model.summary()"
   ]
  },
  {
   "cell_type": "markdown",
   "id": "a7aff4c8",
   "metadata": {},
   "source": [
    "위의 코드는 인코더의 hidden state들과 디코더의 hidden state들을 어텐션 함수의 입력으로 사용하고, 어텐션 함수가 리턴한 값을 예측 시에 디코더의 hidden state와 함께 활용하는 형태로 작동"
   ]
  },
  {
   "cell_type": "markdown",
   "id": "820519e8",
   "metadata": {},
   "source": [
    "# 모델 훈련하기 \n",
    "- 1 epoch 당 학습 시간이 꽤 걸려서 batch_size 256(2분) -> 512(80s)로 올림\n",
    "- 최대한 컴퓨터 능력치를 활용해본다. nvidia-smi를 확인해보니 아까보다 좀 더 열심히 일하고 있다 "
   ]
  },
  {
   "cell_type": "code",
   "execution_count": 44,
   "id": "f2c52b88",
   "metadata": {},
   "outputs": [
    {
     "name": "stdout",
     "output_type": "stream",
     "text": [
      "Epoch 1/50\n",
      "119/119 [==============================] - 80s 593ms/step - loss: 6.1977 - val_loss: 5.7782\n",
      "Epoch 2/50\n",
      "119/119 [==============================] - 70s 586ms/step - loss: 5.6867 - val_loss: 5.5211\n",
      "Epoch 3/50\n",
      "119/119 [==============================] - 69s 584ms/step - loss: 5.4208 - val_loss: 5.2470\n",
      "Epoch 4/50\n",
      "119/119 [==============================] - 68s 575ms/step - loss: 5.1640 - val_loss: 5.0318\n",
      "Epoch 5/50\n",
      "119/119 [==============================] - 67s 563ms/step - loss: 4.9488 - val_loss: 4.9051\n",
      "Epoch 6/50\n",
      "119/119 [==============================] - 67s 564ms/step - loss: 4.7527 - val_loss: 4.7207\n",
      "Epoch 7/50\n",
      "119/119 [==============================] - 67s 565ms/step - loss: 4.5802 - val_loss: 4.6401\n",
      "Epoch 8/50\n",
      "119/119 [==============================] - 67s 565ms/step - loss: 4.4313 - val_loss: 4.5248\n",
      "Epoch 9/50\n",
      "119/119 [==============================] - 67s 563ms/step - loss: 4.2956 - val_loss: 4.4365\n",
      "Epoch 10/50\n",
      "119/119 [==============================] - 67s 561ms/step - loss: 4.1720 - val_loss: 4.3788\n",
      "Epoch 11/50\n",
      "119/119 [==============================] - 68s 575ms/step - loss: 4.0572 - val_loss: 4.3024\n",
      "Epoch 12/50\n",
      "119/119 [==============================] - 68s 568ms/step - loss: 3.9502 - val_loss: 4.2525\n",
      "Epoch 13/50\n",
      "119/119 [==============================] - 67s 562ms/step - loss: 3.8502 - val_loss: 4.2365\n",
      "Epoch 14/50\n",
      "119/119 [==============================] - 67s 563ms/step - loss: 3.7581 - val_loss: 4.1666\n",
      "Epoch 15/50\n",
      "119/119 [==============================] - 67s 561ms/step - loss: 3.6720 - val_loss: 4.1338\n",
      "Epoch 16/50\n",
      "119/119 [==============================] - 67s 563ms/step - loss: 3.5909 - val_loss: 4.1073\n",
      "Epoch 17/50\n",
      "119/119 [==============================] - 66s 557ms/step - loss: 3.5151 - val_loss: 4.0889\n",
      "Epoch 18/50\n",
      "119/119 [==============================] - 66s 555ms/step - loss: 3.4451 - val_loss: 4.0635\n",
      "Epoch 19/50\n",
      "119/119 [==============================] - 66s 555ms/step - loss: 3.3767 - val_loss: 4.0510\n",
      "Epoch 20/50\n",
      "119/119 [==============================] - 66s 557ms/step - loss: 3.3128 - val_loss: 4.0325\n",
      "Epoch 21/50\n",
      "119/119 [==============================] - 66s 558ms/step - loss: 3.2515 - val_loss: 4.0344\n",
      "Epoch 22/50\n",
      "119/119 [==============================] - 66s 554ms/step - loss: 3.1932 - val_loss: 4.0186\n",
      "Epoch 23/50\n",
      "119/119 [==============================] - 66s 557ms/step - loss: 3.1378 - val_loss: 4.0158\n",
      "Epoch 24/50\n",
      "119/119 [==============================] - 66s 556ms/step - loss: 3.0852 - val_loss: 4.0141\n",
      "Epoch 25/50\n",
      "119/119 [==============================] - 66s 556ms/step - loss: 3.0367 - val_loss: 4.0045\n",
      "Epoch 26/50\n",
      "119/119 [==============================] - 66s 555ms/step - loss: 2.9871 - val_loss: 3.9956\n",
      "Epoch 27/50\n",
      "119/119 [==============================] - 66s 558ms/step - loss: 2.9404 - val_loss: 3.9905\n",
      "Epoch 28/50\n",
      "119/119 [==============================] - 66s 554ms/step - loss: 2.8959 - val_loss: 3.9954\n",
      "Epoch 29/50\n",
      "119/119 [==============================] - 66s 555ms/step - loss: 2.8523 - val_loss: 3.9932\n",
      "Epoch 00029: early stopping\n"
     ]
    }
   ],
   "source": [
    "model.compile(optimizer='rmsprop', loss='sparse_categorical_crossentropy')\n",
    "es = EarlyStopping(monitor='val_loss', patience=2, verbose=1)\n",
    "history = model.fit(x=[encoder_input_train, decoder_input_train], y=decoder_target_train, \\\n",
    "          validation_data=([encoder_input_test, decoder_input_test], decoder_target_test), \\\n",
    "          batch_size=512, callbacks=[es], epochs=50)"
   ]
  },
  {
   "cell_type": "code",
   "execution_count": 45,
   "id": "dbb98fb1",
   "metadata": {},
   "outputs": [
    {
     "data": {
      "image/png": "[encoded data removed]",
      "text/plain": [
       "<Figure size 432x288 with 1 Axes>"
      ]
     },
     "metadata": {
      "needs_background": "light"
     },
     "output_type": "display_data"
    }
   ],
   "source": [
    "# loss, val_loss 값 시각화\n",
    "plt.plot(history.history['loss'], label='train')\n",
    "plt.plot(history.history['val_loss'], label='test')\n",
    "plt.legend()\n",
    "plt.show()"
   ]
  },
  {
   "cell_type": "markdown",
   "id": "19093599",
   "metadata": {},
   "source": [
    "# 인퍼런스 모델 구현하기\n",
    "- 테스트 단계에서는 정수 인덱스 행렬로 존재하던 텍스트 데이터를 실제 데이터로 복원해야 하므로, 필요한 3개의 사전을 아래와 같이 미리 준비"
   ]
  },
  {
   "cell_type": "code",
   "execution_count": 46,
   "id": "aa90f18d",
   "metadata": {},
   "outputs": [
    {
     "name": "stdout",
     "output_type": "stream",
     "text": [
      "check\n"
     ]
    }
   ],
   "source": [
    "src_index_to_word = src_tokenizer.index_word # 원문 단어 집합에서 정수 -> 단어를 얻음\n",
    "tar_word_to_index = tar_tokenizer.word_index # 요약 단어 집합에서 단어 -> 정수를 얻음\n",
    "tar_index_to_word = tar_tokenizer.index_word # 요약 단어 집합에서 정수 -> 단어를 얻음\n",
    "\n",
    "print('check')"
   ]
  },
  {
   "cell_type": "markdown",
   "id": "cf7c5de2",
   "metadata": {},
   "source": [
    "- seq2seq는 훈련할 때와 실제 동작할 때(인퍼런스 단계)의 방식이 다르므로 그에 맞게 모델 설계를 별개로 진행해야 함\n",
    "- 훈련 단계에서는 디코더의 입력부에 정답이 되는 문장 전체를 한꺼번에 넣고 디코더의 출력과 한 번에 비교할 수 있음 \n",
    "- 정답 문장이 없는 인퍼런스 단계에서는 만들어야 할 문장의 길이만큼 디코더가 반복 구조로 동작해야 하기 때문에 부득이하게 인퍼런스를 위한 모델 설계를 별도로 분리해서 설계"
   ]
  },
  {
   "cell_type": "code",
   "execution_count": 47,
   "id": "2d3e4e50",
   "metadata": {},
   "outputs": [
    {
     "name": "stdout",
     "output_type": "stream",
     "text": [
      "=3\n"
     ]
    }
   ],
   "source": [
    "# 인코더 설계\n",
    "encoder_model = Model(inputs=encoder_inputs, outputs=[encoder_outputs, state_h, state_c])\n",
    "\n",
    "# 이전 시점의 상태들을 저장하는 텐서\n",
    "decoder_state_input_h = Input(shape=(hidden_size,))\n",
    "decoder_state_input_c = Input(shape=(hidden_size,))\n",
    "\n",
    "dec_emb2 = dec_emb_layer(decoder_inputs)\n",
    "\n",
    "# 문장의 다음 단어를 예측하기 위해서 초기 상태(initial_state)를 이전 시점의 상태로 사용. 이는 뒤의 함수 decode_sequence()에 구현\n",
    "# 훈련 과정에서와 달리 LSTM의 리턴하는 은닉 상태와 셀 상태인 state_h와 state_c를 버리지 않음.\n",
    "decoder_outputs2, state_h2, state_c2 = decoder_lstm(dec_emb2, initial_state=[decoder_state_input_h, decoder_state_input_c])\n",
    "\n",
    "print('=3')"
   ]
  },
  {
   "cell_type": "markdown",
   "id": "c9c088a8",
   "metadata": {},
   "source": [
    "어텐션 메커니즘을 사용하는 출력층 설계"
   ]
  },
  {
   "cell_type": "code",
   "execution_count": 48,
   "id": "6609142f",
   "metadata": {},
   "outputs": [
    {
     "name": "stdout",
     "output_type": "stream",
     "text": [
      "=3\n"
     ]
    }
   ],
   "source": [
    "# 어텐션 함수\n",
    "decoder_hidden_state_input = Input(shape=(text_max_len, hidden_size))\n",
    "attn_out_inf = attn_layer([decoder_outputs2, decoder_hidden_state_input])\n",
    "decoder_inf_concat = Concatenate(axis=-1, name='concat')([decoder_outputs2, attn_out_inf])\n",
    "\n",
    "# 디코더의 출력층\n",
    "decoder_outputs2 = decoder_softmax_layer(decoder_inf_concat) \n",
    "\n",
    "# 최종 디코더 모델\n",
    "decoder_model = Model(\n",
    "    [decoder_inputs] + [decoder_hidden_state_input,decoder_state_input_h, decoder_state_input_c],\n",
    "    [decoder_outputs2] + [state_h2, state_c2])\n",
    "\n",
    "print('=3')"
   ]
  },
  {
   "cell_type": "markdown",
   "id": "2c9fc868",
   "metadata": {},
   "source": [
    "인퍼런스 단계에서 단어 시퀀스를 완성하는 함수"
   ]
  },
  {
   "cell_type": "code",
   "execution_count": 49,
   "id": "3a71ad3f",
   "metadata": {},
   "outputs": [
    {
     "name": "stdout",
     "output_type": "stream",
     "text": [
      "check\n"
     ]
    }
   ],
   "source": [
    "def decode_sequence(input_seq):\n",
    "    # 입력으로부터 인코더의 상태를 얻음\n",
    "    e_out, e_h, e_c = encoder_model.predict(input_seq)\n",
    "\n",
    "     # <SOS>에 해당하는 토큰 생성\n",
    "    target_seq = np.zeros((1,1))\n",
    "    target_seq[0, 0] = tar_word_to_index['sostoken']\n",
    "\n",
    "    stop_condition = False\n",
    "    decoded_sentence = ''\n",
    "    while not stop_condition: # stop_condition이 True가 될 때까지 루프 반복\n",
    "\n",
    "        output_tokens, h, c = decoder_model.predict([target_seq] + [e_out, e_h, e_c])\n",
    "        sampled_token_index = np.argmax(output_tokens[0, -1, :])\n",
    "        sampled_token = tar_index_to_word[sampled_token_index]\n",
    "\n",
    "        if (sampled_token!='eostoken'):\n",
    "            decoded_sentence += ' '+sampled_token\n",
    "\n",
    "        #  <eos>에 도달하거나 최대 길이를 넘으면 중단.\n",
    "        if (sampled_token == 'eostoken'  or len(decoded_sentence.split()) >= (summary_max_len-1)):\n",
    "            stop_condition = True\n",
    "\n",
    "        # 길이가 1인 타겟 시퀀스를 업데이트\n",
    "        target_seq = np.zeros((1,1))\n",
    "        target_seq[0, 0] = sampled_token_index\n",
    "\n",
    "        # 상태를 업데이트 합니다.\n",
    "        e_h, e_c = h, c\n",
    "\n",
    "    return decoded_sentence\n",
    "print('check')"
   ]
  },
  {
   "cell_type": "markdown",
   "id": "5acfc8bd",
   "metadata": {},
   "source": [
    "# 4. 실제 결과와 요약문 비교하기 (추상적 요약)\n",
    "## 모델 테스트 하기\n",
    "\n",
    "### 정수 시퀀스를 텍스트 시퀀스로 변환하는 함수 만들기\n",
    "- text의 정수 시퀀스에서는 패딩을 위해 사용되는 숫자 0을 제외\n",
    "- headline의 정수 시퀀스에서는 숫자 0, 시작 토큰의 인덱스, 종료 토큰의 인덱스를 출력에서 제외"
   ]
  },
  {
   "cell_type": "code",
   "execution_count": 50,
   "id": "6cd51bc8",
   "metadata": {},
   "outputs": [
    {
     "name": "stdout",
     "output_type": "stream",
     "text": [
      "check\n"
     ]
    }
   ],
   "source": [
    "# 원문의 정수 시퀀스를 텍스트 시퀀스로 변환\n",
    "def seq2text(input_seq):\n",
    "    temp=''\n",
    "    for i in input_seq:\n",
    "        if (i!=0):\n",
    "            temp = temp + src_index_to_word[i]+' '\n",
    "    return temp\n",
    "\n",
    "# 요약문의 정수 시퀀스를 텍스트 시퀀스로 변환\n",
    "def seq2summary(input_seq):\n",
    "    temp=''\n",
    "    for i in input_seq:\n",
    "        if ((i!=0 and i!=tar_word_to_index['sostoken']) and i!=tar_word_to_index['eostoken']):\n",
    "            temp = temp + tar_index_to_word[i] + ' '\n",
    "    return temp\n",
    "\n",
    "print('check')"
   ]
  },
  {
   "cell_type": "markdown",
   "id": "fbf12c24",
   "metadata": {},
   "source": [
    "테스트 데이터 약 50개의 샘플에 대해서 실제 요약과 예측된 요약을 비교"
   ]
  },
  {
   "cell_type": "code",
   "execution_count": 51,
   "id": "7389c4bf",
   "metadata": {},
   "outputs": [
    {
     "name": "stdout",
     "output_type": "stream",
     "text": [
      "원문 : allahabad high court friday directed uttar pradesh government renew old licenses grant new ones slaughterhouses meat shops state several meat shop owners filed petition saying government licenses court also heard pils operation slaughterhouses \n",
      "실제 요약 : allahabad hc orders up govt to \n",
      "예측 요약 :  hc directs up to use of trees to\n",
      "\n",
      "원문 : veteran singer lata mangeshkar said would love sing late actress sridevi producer boney kapoor daughter janhvi kapoor recently made acting debut dhadak year old singer added boney close family friend lost suddenly daughter debut reason smile \n",
      "실제 요약 : would love to sing for janhvi kapoor lata \n",
      "예측 요약 :  sridevi sridevi to play sridevi in sridevi\n",
      "\n",
      "원문 : cristiano ronaldo failed score first match new club juventus side registered win rd minute goal season opening match saturday last time juventus conceded one goal opening match serie september \n",
      "실제 요약 : ronaldo goes goalless in his first match for juventus \n",
      "예측 요약 :  ronaldo scores goals in seconds to draw in\n",
      "\n",
      "원문 : official attached karnataka high court reportedly informed bombay hc selling vijay mallya luxury airbus luxury aircraft golden golden sink conference halls bedroom attached bathroom earlier bombay hc said aircraft blocking airport parking area must removed \n",
      "실제 요약 : vijay mallya luxury aircraft to be sold reports \n",
      "예측 요약 :  delhi hc stays crore for flyover near taj mahal\n",
      "\n",
      "원문 : nine year old footballer died collapsed juventus soccer academy session new york city sunday playing goal jumped swing bar toppled landed taken roosevelt hospital pronounced dead \n",
      "실제 요약 : year old footballer dies after falls on him \n",
      "예측 요약 :  teen dies after being hit by in seconds\n",
      "\n",
      "원문 : japanese politician asked leave assembly chamber refused apologise speaking cough drop mouth although ban eating drinking chamber accused damaging assembly integrity last year asked leave council session bringing seven month old son \n",
      "실제 요약 : japan leader speaks with drop in mouth asked to leave \n",
      "예측 요약 :  us mps protest against parliament over burqa ban\n",
      "\n",
      "원문 : uttar pradesh government today removed saharanpur district magistrate senior superintendent police fresh clashes broke area dalit killed deputy cm keshav prasad maurya said one spared including politicians notably suspended police officer taken charge post less month ago \n",
      "실제 요약 : up govt sacks district over dalit killing \n",
      "예측 요약 :  up govt to provide up to provide cow to\n",
      "\n",
      "원문 : million year old fossil described best preserved armoured dinosaur ever found unveiled canada royal museum six years accidental discovery fossil found plant eating species believed well preserved carried flood engulfed mud shortly died said researchers \n",
      "실제 요약 : best dinosaur fossil goes on display in canada \n",
      "예측 요약 :  fossil of fossil found in dinosaur\n",
      "\n",
      "원문 : actor filmmaker kamal haasan said tamil film industry speak one voice amid ongoing indefinite shut cinema theatres state strike state government decision levy entertainment tax addition newly implemented gst however filmmakers opposed strike revenue films suffer \n",
      "실제 요약 : tamil industry to speak as voice haasan on theatre strike \n",
      "예측 요약 :  censor board to make tamil nadu amid tamil nadu haasan\n",
      "\n",
      "원문 : india richest banker uday kotak said errors commission destroy banks kotak said recent losses incurred banks look stress banking sector years kicking issue directors managers skin game taking decisions lending writing thousands crores kotak added \n",
      "실제 요약 : errors of commission not destroy banks uday kotak \n",
      "예측 요약 :  note ban on note ban not note ban kotak\n",
      "\n",
      "원문 : total wickets fell second third day first test bangladesh windies bangladesh took lead series run win third day bangladesh first test victory windies nine matches dating back first ever home \n",
      "실제 요약 : wickets fall in days as desh beat windies in st test \n",
      "예측 요약 :  india defeat australia to win series against runs\n",
      "\n",
      "원문 : senegal field treatment scored goal within seven seconds poland back pass let assistant referees group stage match tuesday players thought substitute coming big misunderstanding poland manager said senegal went win \n",
      "실제 요약 : player scores seconds after coming on pitch post treatment \n",
      "예측 요약 :  scores scores goal after kick scores from goal\n",
      "\n",
      "원문 : bihar chief minister nitish kumar monday said pm narendra modi become prime minister lok sabha polls added jd nothing controversial issues building ram temple ayodhya triple talaq said party desired issues resolved peacefully consensus \n",
      "실제 요약 : narendra modi will become next prime minister nitish kumar \n",
      "예측 요약 :  bjp is the of the nation bjp chief\n",
      "\n",
      "원문 : mohammad ali khan pataudi born january permanently damaged right eye car accident almost six months making debut india england pataudi nickname tiger first cousin khan former chairman pakistan cricket board former foreign secretary pakistan \n",
      "실제 요약 : right eye got damaged months before test debut \n",
      "예측 요약 :  salman khan passes away at\n",
      "\n",
      "원문 : congress thursday denied expansion sterlite project tamil nadu tuticorin sanctioned upa led centre congress leader abhishek manu singhvi said upa government framed rules mandated expansion required environment clearance based public consultation blamed nda government abolishing rules \n",
      "실제 요약 : cong denies of tn sterlite project during upa \n",
      "예측 요약 :  cong govt to dissolve nda for cauvery in maha\n",
      "\n",
      "원문 : facebook testing new label called things common comments section us feature highlight things users common strangers platform help connect company added publicly available information people shown things common labels \n",
      "실제 요약 : facebook things in common label to connect non friends \n",
      "예측 요약 :  facebook to launch facebook based on facebook\n",
      "\n",
      "원문 : south africa highest court tuesday legalised use marijuana adults private places declaring law banning unconstitutional invalid constitutional court also legalised cultivation marijuana personal consumption south african government opposed legalising marijuana claiming harmful people health \n",
      "실제 요약 : top south africa court legalises use of marijuana in private \n",
      "예측 요약 :  japan bans sale of hotels in italy\n",
      "\n",
      "원문 : china got runs overs icc world twenty asia region qualifier match nepal wednesday seven chinese batsmen failed open account three nepalese bowlers picked three wicket haul nepal chased target balls without losing wicket opener bhandari hit \n",
      "실제 요약 : china get all out for in nepal chase target in balls \n",
      "예측 요약 :  india defeat australia to play runs in series\n",
      "\n",
      "원문 : johnny turned today used sell pens streets pune becoming actor also used perform different functions yesteryear actors like ashok kumar actor reportedly used get paid day public \n",
      "실제 요약 : johnny sold pens on streets before becoming an actor \n",
      "예측 요약 :  prices of making of character in ad\n",
      "\n",
      "원문 : supreme court tuesday said hearing ayodhya dispute held february comes day ahead babri masjid demolition th anniversary arguing case complete lawyers representing sunni waqf board requested court take matter july general elections \n",
      "실제 요약 : sc fixes ayodhya dispute matter for further hearing on feb \n",
      "예측 요약 :  sc rejects plea to hear ayodhya for babri demolition\n",
      "\n",
      "원문 : venezuelan president nicol maduro announced creation new cryptocurrency bid ease country economic crisis called petro backed nation oil gold gas diamond reserves said petro would help venezuela recover financially us imposed sanctions \n",
      "실제 요약 : venezuela to launch oil backed cryptocurrency \n",
      "예측 요약 :  venezuela threatens to end with cryptocurrency\n",
      "\n",
      "원문 : union minister nitin gadkari tuesday said ram temple ayodhya built mutual consent speaking event gadkari added ayodhya neither communal religious issue said proven temple cannot built lord ram birthplace \n",
      "실제 요약 : ram temple should be built by mutual consent nitin gadkari \n",
      "예측 요약 :  ram rahim is ram temple in ayodhya case\n",
      "\n",
      "원문 : us based startup created bluetooth keyboard called looks like priced keyboard pair five devices including windows ios android smartphones tablets run two aa batteries power six months idle mode \n",
      "실제 요약 : startup makes themed bluetooth keyboard \n",
      "예측 요약 :  startup makes smartphone that made smartphone\n",
      "\n",
      "원문 : hungry five month old baby express provided milk passenger tweeted konkan railways help milk baby parents carrying become next stop hours away konkan railways twitter handle responded gathering relevant details delivering milk intervening station \n",
      "실제 요약 : hungry baby gets milk after tweet to railways \n",
      "예측 요약 :  baby delivered in mumbai after being denied wedding\n",
      "\n",
      "원문 : louvre briefly evacuated one busiest rooms monday environmental activists staged protest oil giant total paris museum protesters reportedly lay floor th century painting chanted slogans total activists said staged demonstration victims oil industry \n",
      "실제 요약 : activists stage protest at partial evacuation \n",
      "예측 요약 :  world largest olympic tower to be held in mexico\n",
      "\n",
      "원문 : filmmaker rakesh roshan said whatever happened son hrithik roshan former wife sussanne khan sussanne really nice girl nothing added rakesh said sussanne hrithik respectful families parenting responsibilities well \n",
      "실제 요약 : what happened between hrithik sussanne is rakesh \n",
      "예측 요약 :  hrithik wife to be with hrithik son son\n",
      "\n",
      "원문 : haryana congress leader subhash chaudhary accused rape woman working domestic help parliamentarian delhi residence woman alleged chaudhary molested thrice september also claimed fraudulently acquired land telangana taking mother thumb impression stamp papers \n",
      "실제 요약 : haryana congress leader accused of rape by domestic help \n",
      "예측 요약 :  bjp leader booked for raping woman in mp\n",
      "\n",
      "원문 : pakistani actress shah facebook post talks people hypocrisy holy month ramadan wrote ramadan people go back lying spreading malicious gossip cruel selling get ahead people added targeting people truly believe spirit islam \n",
      "실제 요약 : pak actress pens note on people during ramadan \n",
      "예측 요약 :  twitter users react to pak over hindi anthem\n",
      "\n",
      "원문 : least people killed hundreds injured iran iraq magnitude earthquake hit border region two countries sunday state media said quake hit depth km km southwest iraqi city near northeastern border iran according us geological survey \n",
      "실제 요약 : killed by magnitude earthquake at iran iraq border \n",
      "예측 요약 :  death toll in iran earthquake rises to\n",
      "\n",
      "원문 : yuva janata dal president saturday said bharatiya janata party president amit shah might face egg attack odisha visit next month threatened shah protests view centre attitude towards demands odisha issues special category status mahanadi row \n",
      "실제 요약 : shah threatened with egg attack on his odisha visit in july \n",
      "예측 요약 :  bjp pdp alliance with bjp workers in bjp amit shah\n",
      "\n",
      "원문 : talking divorce actress shivani actor sumeet vyas said would like confirm divorce happened continue remain friends added friendship many years split ways lot respect said confirming divorce took place \n",
      "실제 요약 : we both continue to remain friends sumeet vyas on ex wife \n",
      "예측 요약 :  am not in relationship with someone says actress\n",
      "\n",
      "원문 : renuka shahane speaking rape allegations hum hain co star alok nath said glad outdoor shoot ever heard people say cannot really handle drinks drunk becomes totally different person added renuka said shocking \n",
      "실제 요약 : am glad did not have shoot with alok nath renuka \n",
      "예측 요약 :  was told to tvf ceo on metoo allegations\n",
      "\n",
      "원문 : bjp ally tdp announced two ministers quit union cabinet party ally shiv sena mp sanjay raut said allies longer good relations bjp former nda leaders kept alliance together challenging bjp sena leader manisha said \n",
      "실제 요약 : allies no longer share good relations with bjp shiv sena mp \n",
      "예측 요약 :  shiv sena backs bjp shiv sena\n",
      "\n",
      "원문 : actress urvashi rautela revealed wore gown weighing kilogram international indian film academy awards bangkok guess gonna faint tonight wearing kg beautiful gown wrote urvashi sharing photo embellished gown designed fashion designer archana kochhar \n",
      "실제 요약 : urvashi wore gown weighing kg at iifa awards \n",
      "예측 요약 :  sunny leone wears golden awards at cannes\n",
      "\n",
      "원문 : philippines gray crowned miss universe shared pictures wrote philippines amazing honour carry name across chest aspects may carry miss universe forever miss philippines wrote \n",
      "실제 요약 : honour to carry country name across my chest miss universe \n",
      "예측 요약 :  miss pictures of miss concert in\n",
      "\n",
      "원문 : police rescued women allegedly forced dance topless perform obscene acts customers pub bengaluru police arrested six people including manager pub connection incident suspected women trafficked north eastern states pretext getting jobs \n",
      "실제 요약 : police rescue women being forced to dance at luru pub \n",
      "예측 요약 :  cop who slapped police station in delhi\n",
      "\n",
      "원문 : force india deputy team principal robert said vijay mallya track troubles impacted force india said mallya cannot travel remains involved ever functioning team never one man show everyone team assigned job performing rather well added \n",
      "실제 요약 : mallya cannot travel but part of team force india \n",
      "예측 요약 :  mallya will not be renamed mallya on mallya\n",
      "\n",
      "원문 : external affairs minister sushma swaraj thursday asserted indian companies generating jobs stealing jobs americans far indian companies given direct employment lakh americans supportive jobs lakh americans said indian companies paid taxes worth billion us swaraj added \n",
      "실제 요약 : indian it firms creating not stealing jobs in us swaraj \n",
      "예측 요약 :  govt to increase indian jobs in indian sector banks\n",
      "\n",
      "원문 : arsenal former russian footballer seen riding horse leaving club st petersburg russia year old filmed hugging two women emerged club retired player year old wife said withdrawing participation social media dust \n",
      "실제 요약 : ex arsenal player seen russian club on horse \n",
      "예측 요약 :  player utd player punches his own club after match\n",
      "\n",
      "원문 : mumbai based automaker automotive unveiled india first turbine electric hypercar called festival speed car essentially wheel drive four individual motors wheel hence enabling torque however model still stage company release end year \n",
      "실제 요약 : mumbai based unveils india first \n",
      "예측 요약 :  startup unveils concept concept that can build electric\n",
      "\n",
      "원문 : seven year old boy found stuck three foot deep hole tourist attraction england tried recreate picture taken two years old max morgan stuck nearly three hours firefighters arrived rescue bruises legs seriously injured \n",
      "실제 요약 : boy tries pic from yrs ago gets stuck in hole \n",
      "예측 요약 :  year old boy saves from car in mumbai\n",
      "\n",
      "원문 : vicky kaushal responding katrina kaif comment would like work said surprised knows existence love coming way great koffee karan season karan johar asked katrina newcomer would like work named vicky \n",
      "실제 요약 : surprised she knows about me vicky on katrina comment \n",
      "예측 요약 :  katrina kaif to appear in koffee with karan\n",
      "\n",
      "원문 : poet lyricist javed akhtar tweeted apology misspelt word singer condolence tweet singer devi demise akhtar condolence tweet also called singer national treasurer instead treasure later tweeted tribute note wrote devi era come end \n",
      "실제 요약 : javed apologises for tweet on singer death \n",
      "예측 요약 :  hina slams bigg boss contestant on tv show\n",
      "\n",
      "원문 : second man walk moon buzz aldrin born eugene aldrin jr january new jersey us aldrin earned nickname buzz child sister word brother retired nasa astronaut made legal first name interestingly mother name moon \n",
      "실제 요약 : aldrin changed name to as sister called him \n",
      "예측 요약 :  man who was the most followed man on his moon\n",
      "\n",
      "원문 : school pune issued directive asking female students wear white skin coloured underwear school defended move saying intention pure parents protested refused sign carried students parents alleged school also restricted number times students could use toilets \n",
      "실제 요약 : pune school asks girls to wear only white or nude underwear \n",
      "예측 요약 :  mumbai police school students protest over sex abuse\n",
      "\n",
      "원문 : insurance regulator irdai asked icici life insurance take sahara india life insurance effective july according irdai total failure governance system sahara india life interests stake firm promoters fit proper directors keen recovery plan report added \n",
      "실제 요약 : icici asked to take over sahara insurance biz \n",
      "예측 요약 :  jio must be probed for years post note ban\n",
      "\n",
      "원문 : zimbabwean president robert mugabe reportedly said accused killing white farmers land reform prosecuted several white farmers killed mugabe announced reform farms owned white farmers seized given black citizens compensation british \n",
      "실제 요약 : killers of white farmers will not be zimbabwe prez \n",
      "예측 요약 :  zimbabwe prez son to apologise for not propaganda\n",
      "\n",
      "원문 : north korea south korea agreed march together unified korea flag upcoming winter olympic games pyeongchang south korea decision follows official talks two nations communicate two years nations also agreed send unified women hockey team games \n",
      "실제 요약 : north south korea to march under flag at winter olympics \n",
      "예측 요약 :  korea korea hold summit with korea\n",
      "\n",
      "원문 : paying tribute nobel prize winning author vs writer salman tweeted disagreed lives politics literature feel sad lost beloved older brother rip one first winners british literary award booker prize passed away saturday aged \n",
      "실제 요약 : feel sad as if lost brother on death \n",
      "예측 요약 :  transgender writer apologises for calling her\n",
      "\n",
      "원문 : referring bihar cm nitish kumar genuine leader historian ramachandra guha called making kumar president congress party congress party without leader nitish leader without party guha said congress gives chance lead upa might future added \n",
      "실제 요약 : nitish kumar leader make him congress prez \n",
      "예측 요약 :  bjp leader mukul roy resigns from party\n",
      "\n"
     ]
    }
   ],
   "source": [
    "for i in range(50, 100):\n",
    "    print(\"원문 :\", seq2text(encoder_input_test[i]))\n",
    "    print(\"실제 요약 :\", seq2summary(decoder_input_test[i]))\n",
    "    print(\"예측 요약 :\", decode_sequence(encoder_input_test[i].reshape(1, text_max_len)))\n",
    "    print()"
   ]
  },
  {
   "cell_type": "markdown",
   "id": "3cf16b40",
   "metadata": {},
   "source": [
    "# 5. Summa을 이용해서 추출적 요약해보기\n",
    "\n",
    "- Summa의 summarize()의 인자\n",
    "1. text (str) : 요약할 테스트.\n",
    "2. ratio (float, optional) – 요약문에서 원본에서 선택되는 문장 비율. 0~1 사이값\n",
    "3. words (int or None, optional) – 출력에 포함할 단어 수.(만약, ratio와 함께 두 파라미터가 모두 제공되는 경우 ratio는 무시)\n",
    "4. split (bool, optional) – True면 문장 list / False는 조인(join)된 문자열을 반환\n",
    "--------------------------------------------------------------------------------------------------------\n",
    "\n",
    "- Summa의 summarize는 문장 토큰화를 별도로 하지 않더라도 내부적으로 문장 토큰화를 수행하므로 원문을 바로 입력 가능 "
   ]
  },
  {
   "cell_type": "code",
   "execution_count": 52,
   "id": "6662917b",
   "metadata": {},
   "outputs": [],
   "source": [
    "# pip list | grep summa 설치하기 \n",
    "import requests\n",
    "from summa.summarizer import summarize"
   ]
  },
  {
   "cell_type": "code",
   "execution_count": 60,
   "id": "337dc09e",
   "metadata": {},
   "outputs": [
    {
     "data": {
      "text/html": [
       "<div>\n",
       "<style scoped>\n",
       "    .dataframe tbody tr th:only-of-type {\n",
       "        vertical-align: middle;\n",
       "    }\n",
       "\n",
       "    .dataframe tbody tr th {\n",
       "        vertical-align: top;\n",
       "    }\n",
       "\n",
       "    .dataframe thead th {\n",
       "        text-align: right;\n",
       "    }\n",
       "</style>\n",
       "<table border=\"1\" class=\"dataframe\">\n",
       "  <thead>\n",
       "    <tr style=\"text-align: right;\">\n",
       "      <th></th>\n",
       "      <th>headlines</th>\n",
       "      <th>text</th>\n",
       "    </tr>\n",
       "  </thead>\n",
       "  <tbody>\n",
       "    <tr>\n",
       "      <th>0</th>\n",
       "      <td>upGrad learner switches to career in ML &amp; Al w...</td>\n",
       "      <td>Saurav Kant, an alumnus of upGrad and IIIT-B's...</td>\n",
       "    </tr>\n",
       "    <tr>\n",
       "      <th>1</th>\n",
       "      <td>Delhi techie wins free food from Swiggy for on...</td>\n",
       "      <td>Kunal Shah's credit card bill payment platform...</td>\n",
       "    </tr>\n",
       "    <tr>\n",
       "      <th>2</th>\n",
       "      <td>New Zealand end Rohit Sharma-led India's 12-ma...</td>\n",
       "      <td>New Zealand defeated India by 8 wickets in the...</td>\n",
       "    </tr>\n",
       "    <tr>\n",
       "      <th>3</th>\n",
       "      <td>Aegon life iTerm insurance plan helps customer...</td>\n",
       "      <td>With Aegon Life iTerm Insurance plan, customer...</td>\n",
       "    </tr>\n",
       "    <tr>\n",
       "      <th>4</th>\n",
       "      <td>Have known Hirani for yrs, what if MeToo claim...</td>\n",
       "      <td>Speaking about the sexual harassment allegatio...</td>\n",
       "    </tr>\n",
       "    <tr>\n",
       "      <th>...</th>\n",
       "      <td>...</td>\n",
       "      <td>...</td>\n",
       "    </tr>\n",
       "    <tr>\n",
       "      <th>98396</th>\n",
       "      <td>CRPF jawan axed to death by Maoists in Chhatti...</td>\n",
       "      <td>A CRPF jawan was on Tuesday axed to death with...</td>\n",
       "    </tr>\n",
       "    <tr>\n",
       "      <th>98397</th>\n",
       "      <td>First song from Sonakshi Sinha's 'Noor' titled...</td>\n",
       "      <td>'Uff Yeh', the first song from the Sonakshi Si...</td>\n",
       "    </tr>\n",
       "    <tr>\n",
       "      <th>98398</th>\n",
       "      <td>'The Matrix' film to get a reboot: Reports</td>\n",
       "      <td>According to reports, a new version of the 199...</td>\n",
       "    </tr>\n",
       "    <tr>\n",
       "      <th>98399</th>\n",
       "      <td>Snoop Dogg aims gun at clown dressed as Trump ...</td>\n",
       "      <td>A new music video shows rapper Snoop Dogg aimi...</td>\n",
       "    </tr>\n",
       "    <tr>\n",
       "      <th>98400</th>\n",
       "      <td>Madhesi Morcha withdraws support to Nepalese g...</td>\n",
       "      <td>Madhesi Morcha, an alliance of seven political...</td>\n",
       "    </tr>\n",
       "  </tbody>\n",
       "</table>\n",
       "<p>98401 rows × 2 columns</p>\n",
       "</div>"
      ],
      "text/plain": [
       "                                               headlines  \\\n",
       "0      upGrad learner switches to career in ML & Al w...   \n",
       "1      Delhi techie wins free food from Swiggy for on...   \n",
       "2      New Zealand end Rohit Sharma-led India's 12-ma...   \n",
       "3      Aegon life iTerm insurance plan helps customer...   \n",
       "4      Have known Hirani for yrs, what if MeToo claim...   \n",
       "...                                                  ...   \n",
       "98396  CRPF jawan axed to death by Maoists in Chhatti...   \n",
       "98397  First song from Sonakshi Sinha's 'Noor' titled...   \n",
       "98398         'The Matrix' film to get a reboot: Reports   \n",
       "98399  Snoop Dogg aims gun at clown dressed as Trump ...   \n",
       "98400  Madhesi Morcha withdraws support to Nepalese g...   \n",
       "\n",
       "                                                    text  \n",
       "0      Saurav Kant, an alumnus of upGrad and IIIT-B's...  \n",
       "1      Kunal Shah's credit card bill payment platform...  \n",
       "2      New Zealand defeated India by 8 wickets in the...  \n",
       "3      With Aegon Life iTerm Insurance plan, customer...  \n",
       "4      Speaking about the sexual harassment allegatio...  \n",
       "...                                                  ...  \n",
       "98396  A CRPF jawan was on Tuesday axed to death with...  \n",
       "98397  'Uff Yeh', the first song from the Sonakshi Si...  \n",
       "98398  According to reports, a new version of the 199...  \n",
       "98399  A new music video shows rapper Snoop Dogg aimi...  \n",
       "98400  Madhesi Morcha, an alliance of seven political...  \n",
       "\n",
       "[98401 rows x 2 columns]"
      ]
     },
     "execution_count": 60,
     "metadata": {},
     "output_type": "execute_result"
    }
   ],
   "source": [
    "urllib.request.urlretrieve(\"https://raw.githubusercontent.com/sunnysai12345/News_Summary/master/news_summary_more.csv\", filename=\"news_summary_more.csv\")\n",
    "data = pd.read_csv('news_summary_more.csv', encoding='iso-8859-1')\n",
    "data"
   ]
  },
  {
   "cell_type": "code",
   "execution_count": 62,
   "id": "90678095",
   "metadata": {},
   "outputs": [
    {
     "data": {
      "text/plain": [
       "0        Saurav Kant, an alumnus of upGrad and IIIT-B's...\n",
       "1        Kunal Shah's credit card bill payment platform...\n",
       "2        New Zealand defeated India by 8 wickets in the...\n",
       "3        With Aegon Life iTerm Insurance plan, customer...\n",
       "4        Speaking about the sexual harassment allegatio...\n",
       "                               ...                        \n",
       "98396    A CRPF jawan was on Tuesday axed to death with...\n",
       "98397    'Uff Yeh', the first song from the Sonakshi Si...\n",
       "98398    According to reports, a new version of the 199...\n",
       "98399    A new music video shows rapper Snoop Dogg aimi...\n",
       "98400    Madhesi Morcha, an alliance of seven political...\n",
       "Name: text, Length: 98401, dtype: object"
      ]
     },
     "execution_count": 62,
     "metadata": {},
     "output_type": "execute_result"
    }
   ],
   "source": [
    "data['text']"
   ]
  },
  {
   "cell_type": "code",
   "execution_count": 63,
   "id": "08e91aae",
   "metadata": {},
   "outputs": [
    {
     "name": "stdout",
     "output_type": "stream",
     "text": [
      "원문 : Saurav Kant, an alumnus of upGrad and IIIT-B's PG Program in Machine learning and Artificial Intelligence, was a Sr Systems Engineer at Infosys with almost 5 years of work experience. The program and upGrad's 360-degree career support helped him transition to a Data Scientist at Tech Mahindra with 90% salary hike. upGrad's Online Power Learning has powered 3 lakh+ careers.\n",
      "실제 요약 : upGrad learner switches to career in ML & Al with 90% salary hike\n",
      "예측 요약 : upGrad's Online Power Learning has powered 3 lakh+ careers.\n",
      "\n",
      "\n",
      "원문 : Kunal Shah's credit card bill payment platform, CRED, gave users a chance to win free food from Swiggy for one year. Pranav Kaushik, a Delhi techie, bagged this reward after spending 2000 CRED coins. Users get one CRED coin per rupee of bill paid, which can be used to avail rewards from brands like Ixigo, BookMyShow, UberEats, Cult.Fit and more.\n",
      "실제 요약 : Delhi techie wins free food from Swiggy for one year on CRED\n",
      "예측 요약 : Users get one CRED coin per rupee of bill paid, which can be used to avail rewards from brands like Ixigo, BookMyShow, UberEats, Cult.Fit and more.\n",
      "\n",
      "\n",
      "원문 : New Zealand defeated India by 8 wickets in the fourth ODI at Hamilton on Thursday to win their first match of the five-match ODI series. India lost an international match under Rohit Sharma's captaincy after 12 consecutive victories dating back to March 2018. The match witnessed India getting all out for 92, their seventh lowest total in ODI cricket history.\n",
      "실제 요약 : New Zealand end Rohit Sharma-led India's 12-match winning streak\n",
      "예측 요약 : The match witnessed India getting all out for 92, their seventh lowest total in ODI cricket history.\n",
      "\n",
      "\n",
      "원문 : With Aegon Life iTerm Insurance plan, customers can enjoy tax benefits on your premiums paid and save up to Ã¢ÂÂ¹46,800^ on taxes. The plan provides life cover up to the age of 100 years. Also, customers have options to insure against Critical Illnesses, Disability and Accidental Death Benefit Rider with a life cover up to the age of 80 years.\n",
      "실제 요약 : Aegon life iTerm insurance plan helps customers save tax\n",
      "예측 요약 : Also, customers have options to insure against Critical Illnesses, Disability and Accidental Death Benefit Rider with a life cover up to the age of 80 years.\n",
      "\n",
      "\n",
      "원문 : Speaking about the sexual harassment allegations against Rajkumar Hirani, Sonam Kapoor said, \"I've known Hirani for many years...What if it's not true, the [#MeToo] movement will get derailed.\" \"In the #MeToo movement, I always believe a woman. But in this case, we need to reserve our judgment,\" she added. Hirani has been accused by an assistant who worked in 'Sanju'.\n",
      "실제 요약 : Have known Hirani for yrs, what if MeToo claims are not true: Sonam\n",
      "예측 요약 : Speaking about the sexual harassment allegations against Rajkumar Hirani, Sonam Kapoor said, \"I've known Hirani for many years...What if it's not true, the [#MeToo] movement will get derailed.\" \"In the #MeToo movement, I always believe a woman.\n",
      "\n",
      "\n",
      "원문 : Pakistani singer Rahat Fateh Ali Khan has denied receiving any notice from the Enforcement Directorate over allegedly smuggling foreign currency out of India. \"It would have been better if the authorities would have served the notice first if any and then publicised this,\" reads a press release issued on behalf of Rahat. The statement further called the allegation \"bizarre\".\n",
      "실제 요약 : Rahat Fateh Ali Khan denies getting notice for smuggling currency\n",
      "예측 요약 : Pakistani singer Rahat Fateh Ali Khan has denied receiving any notice from the Enforcement Directorate over allegedly smuggling foreign currency out of India.\n",
      "\n",
      "\n",
      "원문 : India recorded their lowest ODI total in New Zealand after getting all out for 92 runs in 30.5 overs in the fourth ODI at Hamilton on Thursday. Seven of India's batsmen were dismissed for single-digit scores, while their number ten batsman Yuzvendra Chahal top-scored with 18*(37). India's previous lowest ODI total in New Zealand was 108.\n",
      "실제 요약 : India get all out for 92, their lowest ODI total in New Zealand\n",
      "예측 요약 : India's previous lowest ODI total in New Zealand was 108.\n",
      "\n",
      "\n",
      "원문 : Weeks after ex-CBI Director Alok Verma told the Department of Personnel and Training to consider him retired, the Home Ministry asked him to join work on the last day of his fixed tenure as Director on Thursday. The ministry directed him to immediately join as DG, Fire Services, the post he was transferred to after his removal as CBI chief.\n",
      "실제 요약 : Govt directs Alok Verma to join work 1 day before his retirement\n",
      "예측 요약 : \n",
      "\n",
      "\n",
      "원문 : Andhra Pradesh CM N Chandrababu Naidu has said, \"When I met then US President Bill Clinton, I addressed him as Mr Clinton, not as 'sir'. (PM Narendra) Modi is my junior in politics...I addressed him as sir 10 times.\" \"I did this...to satisfy his ego in the hope that he will do justice to the state,\" he added.\n",
      "실제 요약 : Called PM Modi 'sir' 10 times to satisfy his ego: Andhra CM\n",
      "예측 요약 : \n",
      "\n",
      "\n",
      "원문 : Congress candidate Shafia Zubair won the Ramgarh Assembly seat in Rajasthan, by defeating BJP's Sukhwant Singh with a margin of 12,228 votes in the bypoll. With this victory, Congress has taken its total to 100 seats in the 200-member assembly. The election to the Ramgarh seat was delayed due to the death of sitting MLA and BSP candidate Laxman Singh.\n",
      "실제 요약 : Cong wins Ramgarh bypoll in Rajasthan, takes total to 100 seats\n",
      "예측 요약 : Congress candidate Shafia Zubair won the Ramgarh Assembly seat in Rajasthan, by defeating BJP's Sukhwant Singh with a margin of 12,228 votes in the bypoll.\n",
      "\n",
      "\n",
      "원문 : Two minor cousins in Uttar Pradesh's Gorakhpur were allegedly repeatedly burnt with tongs and forced to eat human excreta by their family for being friends with two boys from the same school. The cousins revealed their ordeal to the police and Child Welfare Committee after being brought back to Gorakhpur from Nepal, where they had fled to escape the torture.\n",
      "실제 요약 : UP cousins fed human excreta for friendship with boys\n",
      "예측 요약 : \n",
      "\n",
      "\n",
      "원문 : Isha Ghosh, an 81-year-old member of Bharat Scouts and Guides (BSG), has been imparting physical and mental training to schoolchildren in Jharkhand for several decades. Chaibasa-based Ghosh reportedly walks seven kilometres daily and spends eight hours conducting physical training, apart from climbing and yoga sessions. She says, \"One should do something for society till one's last breath.\"\n",
      "실제 요약 : 81-yr-old woman conducts physical training in J'khand schools\n",
      "예측 요약 : Isha Ghosh, an 81-year-old member of Bharat Scouts and Guides (BSG), has been imparting physical and mental training to schoolchildren in Jharkhand for several decades.\n",
      "\n",
      "\n",
      "원문 : Urging saints and seers at the Kumbh Mela to quit smoking, Yoga guru Ramdev said, \"We follow Ram and Krishna who never smoked in their life then why should we?\" Making them take a pledge to quit tobacco, he collected chillum (clay pipe) from several sadhus. He said he will deposit the chillums for display at a museum he'll build.\n",
      "실제 요약 : Ram, Krishna didn't smoke, why should we: Ramdev to sadhus at Kumbh\n",
      "예측 요약 : \n",
      "\n",
      "\n",
      "원문 : Former stripper and regional sales director of a pharmaceutical company, Sunrise Lee, gave a doctor a lap dance in a nightclub to persuade him to prescribe an addictive fentanyl spray in 2012, the company's sales representative told a US court. She said she saw Lee \"sitting on [doctor's] lap, kind of bouncing around.\" Lee has been accused of bribing doctors.\n",
      "실제 요약 : Pharma exec gave doctor a lap dance to sell medicine in US: Witness\n",
      "예측 요약 : \n",
      "\n",
      "\n",
      "원문 : Reliance Industries' Chairman Mukesh Ambani's daughter Isha Ambani, who got married last month, said she only cried at her 'bidaai' because she felt peer pressure as everyone was crying, especially her parents. \"I was emotional too but everyone around me would cry all the time,\" she added. \"It was a very emotional affair for everyone in my family,\" said Isha.\n",
      "실제 요약 :  I only cried at my 'bidaai' as I felt peer pressure: Isha Ambani\n",
      "예측 요약 : \"It was a very emotional affair for everyone in my family,\" said Isha.\n",
      "\n",
      "\n",
      "원문 : Louis Vuitton owner LVMH, which makes high-end beverages like MoÃÂ«t & Chandon champagne and Hennessy cognac, said it's stockpiling four months' worth of wine and spirits in UK in preparation for Brexit. \"We're ready for worst case scenario if there are difficulties with deliveries,\" the French luxury giant said. The UK is scheduled to leave the EU on March 29.\n",
      "실제 요약 : Louis Vuitton owner to stockpile 4 months of wine, spirits in UK\n",
      "예측 요약 : Louis Vuitton owner LVMH, which makes high-end beverages like MoÃÂ«t & Chandon champagne and Hennessy cognac, said it's stockpiling four months' worth of wine and spirits in UK in preparation for Brexit.\n",
      "\n",
      "\n",
      "원문 : Filmmaker Karan Johar and actress Tabu turned showstoppers for Gaurav Gupta on the opening night of LakmÃÂ© Fashion Week Summer/ Resort 2019. While Johar wore a red sequinned jacket with black pants, Tabu walked the ramp in a grey embellished gown. The fashion show, which began on January 29, will continue till February 3.\n",
      "실제 요약 : Karan Johar, Tabu turn showstoppers on opening night of LFW\n",
      "예측 요약 : Filmmaker Karan Johar and actress Tabu turned showstoppers for Gaurav Gupta on the opening night of LakmÃÂ© Fashion Week Summer/ Resort 2019.\n",
      "\n",
      "\n",
      "원문 : In a jibe at Congress President Rahul Gandhi, PM Narendra Modi on Wednesday said those on \"bail will have to go to jail.\" PM Modi added, \"He is out on bail and his associates too are facing charges...I know they will be convicted one day.\" The PM claimed he'd waged a war on corruption because he's from a common household. \n",
      "실제 요약 : Those on bail will go to jail: PM Modi takes jibe at Rahul\n",
      "예측 요약 : \n",
      "\n",
      "\n",
      "원문 : Days after he threatened to step down from his post if Congress MLAs continue \"crossing the line,\" Karnataka Chief Minister HD Kumaraswamy accused them of taking potshots and asked, \"How many more days can I tolerate such stuff?\" Kumaraswamy, who made the statements after a Congress MLA demanded that Siddaramaiah be made CM again, said, \"Power is ephemeral.\"\n",
      "실제 요약 : How long can I tolerate Congress leaders' potshots: K'taka CM\n",
      "예측 요약 : \n",
      "\n",
      "\n",
      "원문 : Union Minister Dharmendra Pradhan on Wednesday claimed the illegal mining mafia in Odisha operates under the control of CM Naveen Patnaik and state Congress chief Niranjan Patnaik. He added, \"The time has come for the people of Odisha to put a full stop to their activities...The time has come for us to ask for an explanation from this corrupt government.\"\n",
      "실제 요약 : Odisha CM Patnaik controls mining mafia: Union Minister\n",
      "예측 요약 : \n",
      "\n",
      "\n",
      "원문 : Claiming there is a dearth of ideas among opposition parties, Prime Minister Narendra Modi on Wednesday said, \"The opposition talks only about Modi the whole day, I suspect they even dream about me.\" PM Modi, who was addressing the New India Youth Conclave inÃ¢ÂÂ Surat, added that the opposition parties have only one agenda which is \"Modi\". \n",
      "실제 요약 : I think the opposition even dreams about me: PM Modi\n",
      "예측 요약 : \n",
      "\n",
      "\n",
      "원문 : The Indian Space Research Organisation on Wednesday unveiled Human Space Flight Centre in Bengaluru for its Ã¢ÂÂ¹10,000-crore manned space mission 'Gaganyaan' scheduled for 2021. ISRO said the centre will be responsible for development of engineering systems for crew survival in space and crew selection and training. It'll also pursue activities for sustained human space flight missions, ISRO added.\n",
      "실제 요약 : ISRO unveils Bengaluru centre for manned space mission \n",
      "예측 요약 : It'll also pursue activities for sustained human space flight missions, ISRO added.\n",
      "\n",
      "\n",
      "원문 : At least 12 people have been killed and 170 others have been injured in Saudi Arabia this week due to flooding from heavy rain. The emergency services rescued 271 people from the flooded areas, more than half of them in Tabuk. Heavy rains hit mainly western and northwestern parts of Saudi Arabia, near its border with Jordan.\n",
      "실제 요약 : 12 killed, 170 injured in Saudi Arabia floods\n",
      "예측 요약 : At least 12 people have been killed and 170 others have been injured in Saudi Arabia this week due to flooding from heavy rain.\n",
      "\n",
      "\n",
      "원문 : Reliance Industries' Chairman Mukesh Ambani's daughter Isha Ambani has featured on the cover of the February edition of Vogue India. She's dressed in a white shirt dress and black ruffled skirt by Australian designer Toni Maticevski, while accessorising her look with a Misho ring. In the cover story on her, Isha has spoken about her work and life after marriage.\n",
      " \n",
      "실제 요약 : Isha Ambani features on February cover of Vogue magazine\n",
      "예측 요약 : Reliance Industries' Chairman Mukesh Ambani's daughter Isha Ambani has featured on the cover of the February edition of Vogue India.\n",
      "\n",
      "\n",
      "원문 : Indian Oil Corporation on Wednesday said it's looking for an annual deal to buy US crude as it seeks to broaden oil purchasing options. This comes amid uncertainties over Iran imports. The US had in November granted a six-month waiver to India from sanctions against Iran and restricted the country's monthly intake of Iranian oil to 3,00,000 barrels per day.\n",
      "\n",
      "\n",
      "실제 요약 : Indian Oil looking for annual deal to buy crude from US\n",
      "예측 요약 : The US had in November granted a six-month waiver to India from sanctions against Iran and restricted the country's monthly intake of Iranian oil to 3,00,000 barrels per day.\n",
      "\n",
      "\n",
      "원문 : Former Windies fast bowler Curtly Ambrose dismissed seven Australian batsmen within a span of 32 balls giving away just one run, in a Test match on January 30, 1993. Ambrose's spell helped his team bowl out Australia for 119 in the first innings, after being 85 for 2 at one point. Ambrose ended with first-innings figures of 18-9-25-7.\n",
      "실제 요약 : Pacer once took 7 wickets for just 1 run in 32 balls in a Test\n",
      "예측 요약 : Ambrose ended with first-innings figures of 18-9-25-7.\n",
      "\n",
      "\n",
      "원문 : A London zoo is offering people to name a cockroach after their exes on Valentine's Day for ÃÂ£1.50 (nearly Ã¢ÂÂ¹140). \"For those that don't quite require revenge, there's another way to make you feel better about getting back at your ex,\" the zoo said in a statement. The names will appear on zoo's 'roach board' on February 14. \n",
      "실제 요약 : UK zoo offers people to name cockroach after their ex on Valentine's\n",
      "예측 요약 : The names will appear on zoo's 'roach board' on February 14.\n",
      "\n",
      "\n",
      "원문 : Stand-in captain Rohit Sharma has become the 14th Indian cricketer to play 200 ODIs, achieving the feat after taking the field against New Zealand in fourth ODI at Hamilton on Thursday. The 31-year-old had made his ODI debut on June 23, 2007, against Ireland in Belfast. Rohit scored 7,799 runs in his first 199 ODIs at an average of 48.14.\n",
      "실제 요약 : Rohit Sharma becomes 14th Indian cricketer to play 200 ODIs\n",
      "예측 요약 : Rohit scored 7,799 runs in his first 199 ODIs at an average of 48.14.\n",
      "\n",
      "\n",
      "원문 : Batsman Shubman Gill has become the 227th cricketer to represent India in ODI cricket, achieving the feat against New Zealand in the fourth ODI at Hamilton on Thursday. The 19-year-old received his maiden ODI cap from former captain MS Dhoni. Notably, Shubman was named Player of the Under-19 World Cup in New Zealand last year.\n",
      "실제 요약 : 19-year-old Shubman Gill becomes India's 227th ODI cricketer\n",
      "예측 요약 : Notably, Shubman was named Player of the Under-19 World Cup in New Zealand last year.\n",
      "\n",
      "\n",
      "원문 : Investigators searching for a lost plane carrying Argentine forward Emiliano Sala found two seat cushions on French coast that \"likely\" belonged to the aircraft. The investigators said they'll now launch an underwater seabed search for aircraft wreckage. The Cardiff City footballer was travelling from France's Nantes to Wales' Cardiff when his plane disappeared over English Channel on January 21.\n",
      "실제 요약 : 2 seat cushions from 'missing plane carrying footballer' found\n",
      "예측 요약 : Investigators searching for a lost plane carrying Argentine forward Emiliano Sala found two seat cushions on French coast that \"likely\" belonged to the aircraft.\n",
      "\n",
      "\n"
     ]
    }
   ],
   "source": [
    "for idx, (head, text) in enumerate(zip(data['headlines'], data['text'])):\n",
    "    if idx == 30:\n",
    "        break\n",
    "    print(\"원문 :\", text)\n",
    "    print(\"실제 요약 :\", head)\n",
    "    print(\"예측 요약 :\", summarize(text, ratio=0.35))\n",
    "    print(\"\\n\")"
   ]
  },
  {
   "cell_type": "markdown",
   "id": "accbd280",
   "metadata": {},
   "source": [
    "## 결론 "
   ]
  },
  {
   "cell_type": "markdown",
   "id": "f17dcc34",
   "metadata": {},
   "source": [
    "- seq2seq와 어텐션의 자체의 조합을 좀 더 좋게 수정하는 방법도 있고, 빔 서치(beam search), 사전 훈련된 워드 임베딩(pre-trained word embedding), 또는 인코더 - 디코더 자체의 구조를 새로이 변경한 하는 트랜스포머(Transformer)와 같은 여러 개선 방안들이 존재\n",
    "\n",
    "- 추상적 요약과 추출적 요약을 했을 떄 추상적 요약이 좀 더 성능이 좋은 것 같다. lsm에서 알려준 위의 방법들을 적용해보면 더 좋은 성능을 가진 모델을 만들 수 있을 것이다.\n",
    "- 추출적 요약의 결과를 보면 빈 값만 나타내는 경우도 있고, 예측된 요약을 보면 적절하지 않은 것을 볼 수 있다. "
   ]
  },
  {
   "cell_type": "markdown",
   "id": "067e9d60",
   "metadata": {},
   "source": [
    "## 회고 \n",
    "1. 이번 프로젝트에서 어려웠던 점 \n",
    "    - lms를 쭉 따라 해보아서 괜찮았다. 역시 자연어 처리라서 모델 훈련 시간이 좀 걸린다.\n",
    "2. 프로젝트를 진행하면서 알아낸 점\n",
    "    - 추상적 요약과 추출적 요약에 대해 알게 되었고 결과물의 차이점을 보면서 더 와닿았다.\n",
    "    - 수완님이 알려주신 nvidia-smi를 통해 얼마나 컴퓨터를 잘 활용하는지 확인할 수 있었다.(batch_size 적절히 조절하기)\n",
    "3. 자기 다짐 \n",
    "    - 마음 잘 다잡고 화이팅\n"
   ]
  },
  {
   "cell_type": "markdown",
   "id": "3c2f17c4",
   "metadata": {},
   "source": [
    "## 출처 \n",
    "1. [정규화 사전](https://stackoverflow.com/questions/19790188/expanding-english-language-contractions-in-python)\n",
    "2. [어텐션 메커니즘](https://wikidocs.net/22893)"
   ]
  }
 ],
 "metadata": {
  "kernelspec": {
   "display_name": "Python 3 (ipykernel)",
   "language": "python",
   "name": "python3"
  },
  "language_info": {
   "codemirror_mode": {
    "name": "ipython",
    "version": 3
   },
   "file_extension": ".py",
   "mimetype": "text/x-python",
   "name": "python",
   "nbconvert_exporter": "python",
   "pygments_lexer": "ipython3",
   "version": "3.9.7"
  }
 },
 "nbformat": 4,
 "nbformat_minor": 5
}

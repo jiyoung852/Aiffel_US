{
 "cells": [
  {
   "cell_type": "markdown",
   "id": "bda37ed0",
   "metadata": {},
   "source": [
    "# 한국어 텍스트 감정 분석(sentiment analysis)\n",
    "\n",
    "## 학습 목표 \n",
    "1. 텍스트 데이터를 머신러닝 입출력용 수치데이터로 변환하는 과정을 이해한다.\n",
    "2. RNN의 특징을 이해하고 시퀀셜한 데이터를 다루는 방법을 이해한다.\n",
    "3. 1-D CNN으로도 텍스트를 처리할 수 있음을 이해한다.\n",
    "4. IMDB와 네이버 영화리뷰 데이터셋을 이용한 영화리뷰 감성 분류 실습을 진행한다.\n",
    "\n",
    "\n",
    "\n",
    "#### 프로젝트 평가 기준\n",
    "1. 다양한 방법으로 Text Classification 태스크를 성공적으로 구현하였다.\n",
    "    - 3가지 이상의 모델이 성공적으로 시도됨\n",
    "2. gensim을 활용하여 자체학습된 혹은 사전학습된 임베딩 레이어를 분석하였다.\n",
    "    - gensim의 유사단어 찾기를 활용하여 자체학습한 임베딩과 사전학습 임베딩을 적절히 분석함\n",
    "3. 한국어 Word2Vec을 활용하여 가시적인 성능향상을 달성했다.\n",
    "    - 네이버 영화리뷰 데이터 감성분석 정확도를 85% 이상 달성함"
   ]
  },
  {
   "cell_type": "markdown",
   "id": "58564896",
   "metadata": {},
   "source": [
    "## 1. 데이터 준비와 확인\n",
    "\n",
    "#### 사용된 말뭉치(corpus) 셋 :  Naver sentiment movie corpus \n",
    "(https://github.com/e9t/nsmc)\n",
    "- 데이터 설명\n",
    "    - id : 네이버 리뷰 아이디, document : 실제 리뷰, label: 감성(0:부정, 1:긍정)\n",
    "    - 모든 리뷰는 140자 미만\n",
    "    - 총 200K 리뷰\n",
    "    - 100K 부정적인 평점(~ 4점), 100K 긍정적인 평점(9~10점), 중간 평점 제외 "
   ]
  },
  {
   "cell_type": "code",
   "execution_count": 1,
   "id": "6183def6",
   "metadata": {},
   "outputs": [
    {
     "data": {
      "text/html": [
       "<div>\n",
       "<style scoped>\n",
       "    .dataframe tbody tr th:only-of-type {\n",
       "        vertical-align: middle;\n",
       "    }\n",
       "\n",
       "    .dataframe tbody tr th {\n",
       "        vertical-align: top;\n",
       "    }\n",
       "\n",
       "    .dataframe thead th {\n",
       "        text-align: right;\n",
       "    }\n",
       "</style>\n",
       "<table border=\"1\" class=\"dataframe\">\n",
       "  <thead>\n",
       "    <tr style=\"text-align: right;\">\n",
       "      <th></th>\n",
       "      <th>id</th>\n",
       "      <th>document</th>\n",
       "      <th>label</th>\n",
       "    </tr>\n",
       "  </thead>\n",
       "  <tbody>\n",
       "    <tr>\n",
       "      <th>0</th>\n",
       "      <td>9976970</td>\n",
       "      <td>아 더빙.. 진짜 짜증나네요 목소리</td>\n",
       "      <td>0</td>\n",
       "    </tr>\n",
       "    <tr>\n",
       "      <th>1</th>\n",
       "      <td>3819312</td>\n",
       "      <td>흠...포스터보고 초딩영화줄....오버연기조차 가볍지 않구나</td>\n",
       "      <td>1</td>\n",
       "    </tr>\n",
       "    <tr>\n",
       "      <th>2</th>\n",
       "      <td>10265843</td>\n",
       "      <td>너무재밓었다그래서보는것을추천한다</td>\n",
       "      <td>0</td>\n",
       "    </tr>\n",
       "    <tr>\n",
       "      <th>3</th>\n",
       "      <td>9045019</td>\n",
       "      <td>교도소 이야기구먼 ..솔직히 재미는 없다..평점 조정</td>\n",
       "      <td>0</td>\n",
       "    </tr>\n",
       "    <tr>\n",
       "      <th>4</th>\n",
       "      <td>6483659</td>\n",
       "      <td>사이몬페그의 익살스런 연기가 돋보였던 영화!스파이더맨에서 늙어보이기만 했던 커스틴 ...</td>\n",
       "      <td>1</td>\n",
       "    </tr>\n",
       "  </tbody>\n",
       "</table>\n",
       "</div>"
      ],
      "text/plain": [
       "         id                                           document  label\n",
       "0   9976970                                아 더빙.. 진짜 짜증나네요 목소리      0\n",
       "1   3819312                  흠...포스터보고 초딩영화줄....오버연기조차 가볍지 않구나      1\n",
       "2  10265843                                  너무재밓었다그래서보는것을추천한다      0\n",
       "3   9045019                      교도소 이야기구먼 ..솔직히 재미는 없다..평점 조정      0\n",
       "4   6483659  사이몬페그의 익살스런 연기가 돋보였던 영화!스파이더맨에서 늙어보이기만 했던 커스틴 ...      1"
      ]
     },
     "execution_count": 1,
     "metadata": {},
     "output_type": "execute_result"
    }
   ],
   "source": [
    "import pandas as pd\n",
    "\n",
    "# 데이터를 읽어봅시다. \n",
    "train_data = pd.read_table('~/aiffel/sentiment_classification/data/ratings_train.txt')\n",
    "test_data = pd.read_table('~/aiffel/sentiment_classification/data/ratings_test.txt')\n",
    "\n",
    "train_data.head()"
   ]
  },
  {
   "cell_type": "code",
   "execution_count": 2,
   "id": "e635196e",
   "metadata": {},
   "outputs": [
    {
     "name": "stdout",
     "output_type": "stream",
     "text": [
      "<class 'pandas.core.frame.DataFrame'>\n",
      "RangeIndex: 150000 entries, 0 to 149999\n",
      "Data columns (total 3 columns):\n",
      " #   Column    Non-Null Count   Dtype \n",
      "---  ------    --------------   ----- \n",
      " 0   id        150000 non-null  int64 \n",
      " 1   document  149995 non-null  object\n",
      " 2   label     150000 non-null  int64 \n",
      "dtypes: int64(2), object(1)\n",
      "memory usage: 3.4+ MB\n"
     ]
    }
   ],
   "source": [
    "train_data.info()"
   ]
  },
  {
   "cell_type": "code",
   "execution_count": 3,
   "id": "f5a22a26",
   "metadata": {},
   "outputs": [
    {
     "data": {
      "text/plain": [
       "150000"
      ]
     },
     "execution_count": 3,
     "metadata": {},
     "output_type": "execute_result"
    }
   ],
   "source": [
    "len(train_data)"
   ]
  },
  {
   "cell_type": "code",
   "execution_count": 4,
   "id": "37496463",
   "metadata": {},
   "outputs": [
    {
     "data": {
      "text/plain": [
       "50000"
      ]
     },
     "execution_count": 4,
     "metadata": {},
     "output_type": "execute_result"
    }
   ],
   "source": [
    "len(test_data)"
   ]
  },
  {
   "cell_type": "code",
   "execution_count": null,
   "id": "3df6cf4e",
   "metadata": {},
   "outputs": [],
   "source": []
  },
  {
   "cell_type": "markdown",
   "id": "66845369",
   "metadata": {},
   "source": [
    "## 2. 데이터로더 구성\n",
    "\n",
    "- 실습 때 다루었던 IMDB 데이터셋은 텍스트를 가공하여 imdb.data_loader() 메서드를 호출하면 숫자 인덱스로 변환된 텍스트와 word_to_index 딕셔너리까지 친절하게 제공\n",
    "- nsmc 데이터셋은 전혀 가공되지 않은 텍스트 파일이므로 이것을 읽어서 imdb.data_loader()와 동일하게 동작하는 자신만의 data_loader를 만들어 봐야 함, data_loader 안에서는 다음을 수행\n",
    "\n",
    "1. 데이터의 중복 제거\n",
    "2. NaN 결측치 제거\n",
    "3. 한국어 토크나이저로 토큰화\n",
    "4. 불용어(Stopwords) 제거\n",
    "5. 사전word_to_index 구성\n",
    "6. 텍스트 스트링을 사전 인덱스 스트링으로 변환\n",
    "7. X_train, y_train, X_test, y_test, word_to_index 리턴\n"
   ]
  },
  {
   "cell_type": "code",
   "execution_count": 5,
   "id": "171e5d14",
   "metadata": {},
   "outputs": [],
   "source": [
    "from konlpy.tag import Mecab\n",
    "import numpy as np\n",
    "from collections import Counter\n",
    "\n",
    "tokenizer = Mecab()\n",
    "stopwords = ['의','가','이','은','들','는','좀','잘','걍','과','도','를','으로','자','에','와','한','하다']\n",
    "\n",
    "def load_data(train_data, test_data, num_words=10000):\n",
    "    train_data.drop_duplicates(subset=['document'], inplace=True)  # 1. 데이터의 중복 제거 \n",
    "    train_data = train_data.dropna(how = 'any') \n",
    "    test_data.drop_duplicates(subset=['document'], inplace=True)\n",
    "    test_data = test_data.dropna(how = 'any') \n",
    "    \n",
    "    X_train = []\n",
    "    for sentence in train_data['document']:\n",
    "        temp_X = tokenizer.morphs(sentence) # 3. 토큰화\n",
    "        temp_X = [word for word in temp_X if not word in stopwords] # 4. 불용어 제거\n",
    "        X_train.append(temp_X)\n",
    "\n",
    "    X_test = []\n",
    "    for sentence in test_data['document']:\n",
    "        temp_X = tokenizer.morphs(sentence) # 토큰화\n",
    "        temp_X = [word for word in temp_X if not word in stopwords] # 불용어 제거\n",
    "        X_test.append(temp_X)\n",
    "    \n",
    "    words = np.concatenate(X_train).tolist()\n",
    "    counter = Counter(words)\n",
    "    counter = counter.most_common(10000-4)\n",
    "    vocab = ['<PAD>', '<BOS>', '<UNK>', '<UNUSED>'] + [key for key, _ in counter]\n",
    "    word_to_index = {word:index for index, word in enumerate(vocab)}\n",
    "        \n",
    "    def wordlist_to_indexlist(wordlist):\n",
    "        return [word_to_index[word] if word in word_to_index else word_to_index['<UNK>'] for word in wordlist]\n",
    "        \n",
    "    X_train = list(map(wordlist_to_indexlist, X_train))\n",
    "    X_test = list(map(wordlist_to_indexlist, X_test))\n",
    "        \n",
    "    return X_train, np.array(list(train_data['label'])), X_test, np.array(list(test_data['label'])), word_to_index\n",
    "    \n",
    "X_train, y_train, X_test, y_test, word_to_index = load_data(train_data, test_data) "
   ]
  },
  {
   "cell_type": "code",
   "execution_count": 6,
   "id": "41ef810a",
   "metadata": {},
   "outputs": [],
   "source": [
    "# 텍스트 스트링을 사전 인덱스 스트링으로 변환\n",
    "index_to_word = {index:word for word, index in word_to_index.items()}"
   ]
  },
  {
   "cell_type": "code",
   "execution_count": 7,
   "id": "67c7bcf8",
   "metadata": {},
   "outputs": [
    {
     "data": {
      "text/plain": [
       "10000"
      ]
     },
     "execution_count": 7,
     "metadata": {},
     "output_type": "execute_result"
    }
   ],
   "source": [
    "len(index_to_word)"
   ]
  },
  {
   "cell_type": "code",
   "execution_count": 8,
   "id": "cbf0c4a9",
   "metadata": {},
   "outputs": [],
   "source": [
    "# 문장 1개를 활용할 딕셔너리와 함께 주면, 단어 인덱스 리스트 벡터로 변환해 주는 함수\n",
    "# 단, 모든 문장은 <BOS>로 시작\n",
    "def get_encoded_sentence(sentence, word_to_index):\n",
    "    return [word_to_index['<BOS>']]+[word_to_index[word] if word in word_to_index else word_to_index['<UNK>'] for word in sentence.split()]\n",
    "\n",
    "# 여러 개의 문장 리스트를 한꺼번에 단어 인덱스 리스트 벡터로 encode해 주는 함수\n",
    "def get_encoded_sentences(sentences, word_to_index):\n",
    "    return [get_encoded_sentence(sentence, word_to_index) for sentence in sentences]\n",
    "\n",
    "# 숫자 벡터로 encode된 문장을 원래대로 decode하는 함수\n",
    "def get_decoded_sentence(encoded_sentence, index_to_word):\n",
    "    return ' '.join(index_to_word[index] if index in index_to_word else '<UNK>' for index in encoded_sentence[1:])  #[1:]를 통해 <BOS>를 제외\n",
    "\n",
    "# 여러 개의 숫자 벡터로 encode된 문장을 한꺼번에 원래대로 decode하는 함수\n",
    "def get_decoded_sentences(encoded_sentences, index_to_word):\n",
    "    return [get_decoded_sentence(encoded_sentence, index_to_word) for encoded_sentence in encoded_sentences]"
   ]
  },
  {
   "cell_type": "code",
   "execution_count": 9,
   "id": "9507b218",
   "metadata": {},
   "outputs": [
    {
     "name": "stdout",
     "output_type": "stream",
     "text": [
      "더 빙 . . 진짜 짜증 나 네요 목소리\n",
      "라벨:  0\n"
     ]
    }
   ],
   "source": [
    "print(get_decoded_sentence(X_train[0], index_to_word))\n",
    "print('라벨: ', y_train[0])  # 1번째 리뷰데이터의 라벨"
   ]
  },
  {
   "cell_type": "code",
   "execution_count": 10,
   "id": "2f225581",
   "metadata": {},
   "outputs": [
    {
     "name": "stdout",
     "output_type": "stream",
     "text": [
      "<UNK> 작화 , <UNK> 하나 카 나 연기 해 줘서 더 대박 였 다 .\n",
      "라벨:  1\n"
     ]
    }
   ],
   "source": [
    "print(get_decoded_sentence(X_train[100], index_to_word))\n",
    "print('라벨: ', y_train[100])  # 101번째 리뷰데이터의 라벨"
   ]
  },
  {
   "cell_type": "markdown",
   "id": "6f3f8696",
   "metadata": {},
   "source": [
    "## 3. 모델 구성을 위한 데이터 분석 및 가공\n",
    "- 데이터셋 내 문장 길이 분포\n",
    "- 적절한 최대 문장 길이 지정\n",
    "- keras.preprocessing.sequence.pad_sequences 을 활용한 패딩 추가"
   ]
  },
  {
   "cell_type": "code",
   "execution_count": 11,
   "id": "ac1f4767",
   "metadata": {},
   "outputs": [
    {
     "name": "stdout",
     "output_type": "stream",
     "text": [
      "문장길이 평균 :  15.96940191154864\n",
      "문장길이 최대 :  116\n",
      "문장길이 표준편차 :  12.843571191092\n",
      "pad_sequences maxlen :  41\n",
      "전체 문장의 0.9342988343341575%가 maxlen 설정값 이내에 포함됩니다. \n"
     ]
    }
   ],
   "source": [
    "# 텍스트데이터 문장길이의 리스트를 생성한 후\n",
    "total_data_text = list(X_train) + list(X_test)\n",
    "\n",
    "# 문장길이의 평균값, 최대값, 표준편차를 계산해 본다. \n",
    "num_tokens = [len(tokens) for tokens in total_data_text]\n",
    "num_tokens = np.array(num_tokens)\n",
    "\n",
    "print('문장길이 평균 : ', np.mean(num_tokens))\n",
    "print('문장길이 최대 : ', np.max(num_tokens))\n",
    "print('문장길이 표준편차 : ', np.std(num_tokens))\n",
    "\n",
    "# 예를들어, 최대 길이를 (평균 + 2*표준편차)로 한다면,  \n",
    "max_tokens = np.mean(num_tokens) + 2 * np.std(num_tokens)\n",
    "maxlen = int(max_tokens)\n",
    "print('pad_sequences maxlen : ', maxlen)\n",
    "print('전체 문장의 {}%가 maxlen 설정값 이내에 포함됩니다. '.format(np.sum(num_tokens < max_tokens) / len(num_tokens)))"
   ]
  },
  {
   "cell_type": "code",
   "execution_count": 12,
   "id": "0c8eb4bf",
   "metadata": {},
   "outputs": [],
   "source": [
    "# 필요 라이브러리 import \n",
    "import numpy as np\n",
    "import tensorflow as tf\n",
    "from tensorflow import keras\n",
    "import os"
   ]
  },
  {
   "cell_type": "markdown",
   "id": "513b8aa2",
   "metadata": {},
   "source": [
    "### padding 작업\n",
    "- RNN은 입력데이터가 순차적으로 처리되어, 가장 마지막 입력이 최종 state 값에 가장 영향을 많이 미침\n",
    "- 마지막 입력이 무의미한 padding으로 채워지는 것은 비효율적 **'pre'가 훨씬 유리**"
   ]
  },
  {
   "cell_type": "code",
   "execution_count": 13,
   "id": "870f4dcc",
   "metadata": {},
   "outputs": [],
   "source": [
    "X_train = tf.keras.preprocessing.sequence.pad_sequences(X_train,\n",
    "                                                        value=word_to_index[\"<PAD>\"],\n",
    "                                                        padding='pre', \n",
    "                                                        maxlen=maxlen)\n",
    "\n",
    "X_test = tf.keras.preprocessing.sequence.pad_sequences(X_test,\n",
    "                                                       value=word_to_index[\"<PAD>\"],\n",
    "                                                       padding='pre', \n",
    "                                                       maxlen=maxlen)"
   ]
  },
  {
   "cell_type": "code",
   "execution_count": 14,
   "id": "9aed6922",
   "metadata": {},
   "outputs": [
    {
     "name": "stdout",
     "output_type": "stream",
     "text": [
      "(146182, 41)\n",
      "(49157, 41)\n"
     ]
    }
   ],
   "source": [
    "print(X_train.shape)\n",
    "print(X_test.shape)"
   ]
  },
  {
   "cell_type": "markdown",
   "id": "42ce62ce",
   "metadata": {},
   "source": [
    "## 4. 모델 구성 및 validation set 구성\n",
    "- 모델은 3가지 이상 다양하게 구성하여 실험해 보세요.\n",
    "- validation set 20%로 세팅 "
   ]
  },
  {
   "cell_type": "code",
   "execution_count": 15,
   "id": "e44959a7",
   "metadata": {},
   "outputs": [],
   "source": [
    "x_val = X_train[:30000]   \n",
    "y_val = y_train[:30000]\n",
    "\n",
    "# validation set을 제외한 나머지\n",
    "partial_x_train = X_train[30000:]  \n",
    "partial_y_train = y_train[30000:]"
   ]
  },
  {
   "cell_type": "code",
   "execution_count": 16,
   "id": "4111f95f",
   "metadata": {
    "scrolled": true
   },
   "outputs": [
    {
     "name": "stdout",
     "output_type": "stream",
     "text": [
      "(30000, 41)\n",
      "(30000,)\n",
      "(116182, 41)\n",
      "(116182,)\n"
     ]
    }
   ],
   "source": [
    "print(x_val.shape)\n",
    "print(y_val.shape)\n",
    "print(partial_x_train.shape)\n",
    "print(partial_y_train.shape)"
   ]
  },
  {
   "cell_type": "markdown",
   "id": "2f35d56c",
   "metadata": {},
   "source": [
    "## 5. 모델 설계 및 훈련 개시\n",
    "### 5-1. 1-D CNN\n",
    "- 문장 전체를 한꺼번에 한 방향으로 길이 7짜리 필터로 스캐닝 하면서 7단어 이내에서 발견되는 특징을 추출하여 그것으로 문장을 분류하는 방식으로 사용\n",
    "- CNN 계열은 RNN 계열보다 병렬처리가 효율적이기 때문에 학습 속도도 훨씬 빠르게 진행된다는 장점"
   ]
  },
  {
   "cell_type": "code",
   "execution_count": 17,
   "id": "4956f603",
   "metadata": {},
   "outputs": [
    {
     "name": "stdout",
     "output_type": "stream",
     "text": [
      "Model: \"sequential\"\n",
      "_________________________________________________________________\n",
      "Layer (type)                 Output Shape              Param #   \n",
      "=================================================================\n",
      "embedding (Embedding)        (None, None, 200)         2000000   \n",
      "_________________________________________________________________\n",
      "conv1d (Conv1D)              (None, None, 16)          22416     \n",
      "_________________________________________________________________\n",
      "max_pooling1d (MaxPooling1D) (None, None, 16)          0         \n",
      "_________________________________________________________________\n",
      "conv1d_1 (Conv1D)            (None, None, 16)          1808      \n",
      "_________________________________________________________________\n",
      "global_max_pooling1d (Global (None, 16)                0         \n",
      "_________________________________________________________________\n",
      "dense (Dense)                (None, 8)                 136       \n",
      "_________________________________________________________________\n",
      "dense_1 (Dense)              (None, 1)                 9         \n",
      "=================================================================\n",
      "Total params: 2,024,369\n",
      "Trainable params: 2,024,369\n",
      "Non-trainable params: 0\n",
      "_________________________________________________________________\n"
     ]
    }
   ],
   "source": [
    "vocab_size = 10000    # 어휘 사전의 크기입니다(10,000개의 단어)\n",
    "word_vector_dim = 200 # 워드 벡터의 차원 수 (변경 가능한 하이퍼파라미터)\n",
    "\n",
    "# model 설계 - 딥러닝 모델 코드를 직접 작성해 주세요.\n",
    "model_cnn = tf.keras.Sequential()\n",
    "model_cnn.add(tf.keras.layers.Embedding(vocab_size, word_vector_dim, input_shape=(None,)))\n",
    "model_cnn.add(tf.keras.layers.Conv1D(16, 7, activation='relu'))\n",
    "model_cnn.add(tf.keras.layers.MaxPooling1D(5))\n",
    "model_cnn.add(tf.keras.layers.Conv1D(16, 7, activation='relu'))\n",
    "model_cnn.add(tf.keras.layers.GlobalMaxPooling1D())\n",
    "model_cnn.add(tf.keras.layers.Dense(8, activation='relu'))\n",
    "model_cnn.add(tf.keras.layers.Dense(1, activation='sigmoid'))  # 최종 출력은 긍정/부정을 나타내는 1dim 입니다.\n",
    "\n",
    "model_cnn.summary()"
   ]
  },
  {
   "cell_type": "code",
   "execution_count": 18,
   "id": "db8f0db9",
   "metadata": {},
   "outputs": [
    {
     "name": "stdout",
     "output_type": "stream",
     "text": [
      "Epoch 1/5\n",
      "227/227 [==============================] - 5s 8ms/step - loss: 0.5191 - accuracy: 0.7637 - val_loss: 0.3559 - val_accuracy: 0.8470\n",
      "Epoch 2/5\n",
      "227/227 [==============================] - 1s 6ms/step - loss: 0.3145 - accuracy: 0.8671 - val_loss: 0.3302 - val_accuracy: 0.8569\n",
      "Epoch 3/5\n",
      "227/227 [==============================] - 1s 6ms/step - loss: 0.2518 - accuracy: 0.8988 - val_loss: 0.3365 - val_accuracy: 0.8580\n",
      "Epoch 4/5\n",
      "227/227 [==============================] - 1s 6ms/step - loss: 0.1866 - accuracy: 0.9305 - val_loss: 0.3723 - val_accuracy: 0.8526\n",
      "Epoch 5/5\n",
      "227/227 [==============================] - 1s 6ms/step - loss: 0.1242 - accuracy: 0.9579 - val_loss: 0.4397 - val_accuracy: 0.8474\n"
     ]
    }
   ],
   "source": [
    "model_cnn.compile(optimizer='adam',\n",
    "             loss='binary_crossentropy',\n",
    "             metrics=['accuracy'])\n",
    "            \n",
    "epochs=5\n",
    "\n",
    "history_cnn = model_cnn.fit(partial_x_train,\n",
    "                   partial_y_train,\n",
    "                   epochs=epochs,\n",
    "                   batch_size=512,\n",
    "                   validation_data=(x_val, y_val),\n",
    "                   verbose=1)"
   ]
  },
  {
   "cell_type": "code",
   "execution_count": 19,
   "id": "d455dcf5",
   "metadata": {},
   "outputs": [
    {
     "name": "stdout",
     "output_type": "stream",
     "text": [
      "1537/1537 - 3s - loss: 0.4566 - accuracy: 0.8415\n",
      "[0.4565587043762207, 0.841548502445221]\n"
     ]
    }
   ],
   "source": [
    "results = model_cnn.evaluate(X_test,  y_test, verbose=2)\n",
    "print(results)"
   ]
  },
  {
   "cell_type": "markdown",
   "id": "2d33aa00",
   "metadata": {},
   "source": [
    "### 5-2. GlobalMaxPooling1D\n",
    "- 전체 문장 중에서 단 하나의 가장 중요한 단어만 피처로 추출하여 그것으로 문장의 긍정/부정을 평가하는 방식"
   ]
  },
  {
   "cell_type": "code",
   "execution_count": 20,
   "id": "ad490031",
   "metadata": {},
   "outputs": [
    {
     "name": "stdout",
     "output_type": "stream",
     "text": [
      "Model: \"sequential_1\"\n",
      "_________________________________________________________________\n",
      "Layer (type)                 Output Shape              Param #   \n",
      "=================================================================\n",
      "embedding_1 (Embedding)      (None, None, 200)         2000      \n",
      "_________________________________________________________________\n",
      "global_max_pooling1d_1 (Glob (None, 200)               0         \n",
      "_________________________________________________________________\n",
      "dense_2 (Dense)              (None, 8)                 1608      \n",
      "_________________________________________________________________\n",
      "dense_3 (Dense)              (None, 1)                 9         \n",
      "=================================================================\n",
      "Total params: 3,617\n",
      "Trainable params: 3,617\n",
      "Non-trainable params: 0\n",
      "_________________________________________________________________\n"
     ]
    }
   ],
   "source": [
    "vocab_size = 10  # 어휘 사전의 크기입니다(10개의 단어)\n",
    "word_vector_dim = 200   # 단어 하나를 표현하는 임베딩 벡터의 차원 수입니다. \n",
    "\n",
    "model_GMP = tf.keras.Sequential()\n",
    "model_GMP.add(tf.keras.layers.Embedding(vocab_size, word_vector_dim, input_shape=(None,)))\n",
    "model_GMP.add(tf.keras.layers.GlobalMaxPooling1D())\n",
    "model_GMP.add(tf.keras.layers.Dense(8, activation='relu'))\n",
    "model_GMP.add(tf.keras.layers.Dense(1, activation='sigmoid'))  # 최종 출력은 긍정/부정을 나타내는 1dim 입니다.\n",
    "\n",
    "model_GMP.summary()"
   ]
  },
  {
   "cell_type": "code",
   "execution_count": 21,
   "id": "07c2feef",
   "metadata": {},
   "outputs": [
    {
     "name": "stdout",
     "output_type": "stream",
     "text": [
      "Epoch 1/5\n",
      "227/227 [==============================] - 1s 5ms/step - loss: 0.6890 - accuracy: 0.5422 - val_loss: 0.6868 - val_accuracy: 0.5463\n",
      "Epoch 2/5\n",
      "227/227 [==============================] - 1s 4ms/step - loss: 0.6875 - accuracy: 0.5471 - val_loss: 0.6864 - val_accuracy: 0.5483\n",
      "Epoch 3/5\n",
      "227/227 [==============================] - 1s 4ms/step - loss: 0.6870 - accuracy: 0.5472 - val_loss: 0.6863 - val_accuracy: 0.5474\n",
      "Epoch 4/5\n",
      "227/227 [==============================] - 1s 4ms/step - loss: 0.6870 - accuracy: 0.5475 - val_loss: 0.6867 - val_accuracy: 0.5490\n",
      "Epoch 5/5\n",
      "227/227 [==============================] - 1s 4ms/step - loss: 0.6868 - accuracy: 0.5489 - val_loss: 0.6864 - val_accuracy: 0.5474\n"
     ]
    }
   ],
   "source": [
    "model_GMP.compile(optimizer='adam',\n",
    "             loss='binary_crossentropy',\n",
    "             metrics=['accuracy'])\n",
    "            \n",
    "epochs=5\n",
    "\n",
    "history_cnn = model_GMP.fit(partial_x_train,\n",
    "                   partial_y_train,\n",
    "                   epochs=epochs,\n",
    "                   batch_size=512,\n",
    "                   validation_data=(x_val, y_val),\n",
    "                   verbose=1)"
   ]
  },
  {
   "cell_type": "code",
   "execution_count": 22,
   "id": "25fa8c03",
   "metadata": {},
   "outputs": [
    {
     "name": "stdout",
     "output_type": "stream",
     "text": [
      "1537/1537 - 2s - loss: 0.6875 - accuracy: 0.5440\n",
      "[0.6875255703926086, 0.5440120697021484]\n"
     ]
    }
   ],
   "source": [
    "results = model_GMP.evaluate(X_test,  y_test, verbose=2)\n",
    "print(results)"
   ]
  },
  {
   "cell_type": "code",
   "execution_count": null,
   "id": "f574d88f",
   "metadata": {},
   "outputs": [],
   "source": []
  },
  {
   "cell_type": "markdown",
   "id": "18596694",
   "metadata": {},
   "source": [
    "### 5-3. LSTM 모델 "
   ]
  },
  {
   "cell_type": "code",
   "execution_count": 23,
   "id": "fbed709a",
   "metadata": {
    "scrolled": false
   },
   "outputs": [
    {
     "name": "stdout",
     "output_type": "stream",
     "text": [
      "Model: \"sequential_2\"\n",
      "_________________________________________________________________\n",
      "Layer (type)                 Output Shape              Param #   \n",
      "=================================================================\n",
      "embedding_2 (Embedding)      (None, None, 200)         2000000   \n",
      "_________________________________________________________________\n",
      "lstm (LSTM)                  (None, 16)                13888     \n",
      "_________________________________________________________________\n",
      "dropout (Dropout)            (None, 16)                0         \n",
      "_________________________________________________________________\n",
      "dense_4 (Dense)              (None, 8)                 136       \n",
      "_________________________________________________________________\n",
      "dense_5 (Dense)              (None, 1)                 9         \n",
      "=================================================================\n",
      "Total params: 2,014,033\n",
      "Trainable params: 2,014,033\n",
      "Non-trainable params: 0\n",
      "_________________________________________________________________\n"
     ]
    }
   ],
   "source": [
    "vocab_size = 10000\n",
    "word_vector_dim = 200\n",
    "\n",
    "model_lstm = keras.Sequential()\n",
    "model_lstm.add(keras.layers.Embedding(vocab_size, word_vector_dim, input_shape=(None,)))\n",
    "model_lstm.add(keras.layers.LSTM(16))\n",
    "model_lstm.add(keras.layers.Dropout(0.5))\n",
    "model_lstm.add(keras.layers.Dense(8, activation='relu'))\n",
    "model_lstm.add(keras.layers.Dense(1, activation='sigmoid')) # 최종 출력은 긍정/부정을 나타내는 1dim 입니다.\n",
    "\n",
    "model_lstm.summary()"
   ]
  },
  {
   "cell_type": "code",
   "execution_count": 24,
   "id": "ac740725",
   "metadata": {},
   "outputs": [
    {
     "name": "stdout",
     "output_type": "stream",
     "text": [
      "Epoch 1/7\n",
      "227/227 [==============================] - 4s 9ms/step - loss: 0.4501 - accuracy: 0.8034 - val_loss: 0.3445 - val_accuracy: 0.8511\n",
      "Epoch 2/7\n",
      "227/227 [==============================] - 2s 7ms/step - loss: 0.3338 - accuracy: 0.8624 - val_loss: 0.3378 - val_accuracy: 0.8519\n",
      "Epoch 3/7\n",
      "227/227 [==============================] - 1s 7ms/step - loss: 0.3001 - accuracy: 0.8774 - val_loss: 0.3385 - val_accuracy: 0.8551\n",
      "Epoch 4/7\n",
      "227/227 [==============================] - 2s 7ms/step - loss: 0.2743 - accuracy: 0.8873 - val_loss: 0.3523 - val_accuracy: 0.8542\n",
      "Epoch 5/7\n",
      "227/227 [==============================] - 2s 7ms/step - loss: 0.2516 - accuracy: 0.8980 - val_loss: 0.3687 - val_accuracy: 0.8536\n",
      "Epoch 6/7\n",
      "227/227 [==============================] - 1s 7ms/step - loss: 0.2342 - accuracy: 0.9044 - val_loss: 0.3893 - val_accuracy: 0.8526\n",
      "Epoch 7/7\n",
      "227/227 [==============================] - 2s 7ms/step - loss: 0.2187 - accuracy: 0.9105 - val_loss: 0.4000 - val_accuracy: 0.8524\n"
     ]
    }
   ],
   "source": [
    "model_lstm.compile(optimizer='adam',\n",
    "              loss='binary_crossentropy',\n",
    "              metrics=['accuracy'])\n",
    "              \n",
    "epochs=7  # 몇 epoch를 훈련하면 좋을지 결과를 보면서 바꾸어 봅시다. \n",
    "\n",
    "history_LSTM1 = model_lstm.fit(partial_x_train,\n",
    "                    partial_y_train,\n",
    "                    epochs=epochs,\n",
    "                    batch_size=512,\n",
    "                    validation_data=(x_val, y_val),\n",
    "                    verbose=1)"
   ]
  },
  {
   "cell_type": "code",
   "execution_count": 25,
   "id": "9a56769f",
   "metadata": {},
   "outputs": [
    {
     "name": "stdout",
     "output_type": "stream",
     "text": [
      "1537/1537 - 3s - loss: 0.4055 - accuracy: 0.8468\n",
      "[0.4054844379425049, 0.8468376994132996]\n"
     ]
    }
   ],
   "source": [
    "results = model_lstm.evaluate(X_test,  y_test, verbose=2)\n",
    "\n",
    "print(results)"
   ]
  },
  {
   "cell_type": "code",
   "execution_count": null,
   "id": "38e1d21c",
   "metadata": {},
   "outputs": [],
   "source": []
  },
  {
   "cell_type": "markdown",
   "id": "52b10fe2",
   "metadata": {},
   "source": [
    "## 6. Loss, Accuracy 그래프 시각화"
   ]
  },
  {
   "cell_type": "code",
   "execution_count": 26,
   "id": "c8dd8e1f",
   "metadata": {},
   "outputs": [
    {
     "name": "stdout",
     "output_type": "stream",
     "text": [
      "dict_keys(['loss', 'accuracy', 'val_loss', 'val_accuracy'])\n"
     ]
    }
   ],
   "source": [
    "history_dict = history_LSTM1.history\n",
    "print(history_dict.keys()) # epoch에 따른 그래프를 그려볼 수 있는 항목들"
   ]
  },
  {
   "cell_type": "code",
   "execution_count": 27,
   "id": "64ac6ae2",
   "metadata": {},
   "outputs": [
    {
     "data": {
      "image/png": "[encoded data removed]",
      "text/plain": [
       "<Figure size 576x288 with 2 Axes>"
      ]
     },
     "metadata": {
      "needs_background": "light"
     },
     "output_type": "display_data"
    }
   ],
   "source": [
    "import matplotlib.pyplot as plt\n",
    "\n",
    "acc = history_dict['accuracy']\n",
    "val_acc = history_dict['val_accuracy']\n",
    "loss = history_dict['loss']\n",
    "val_loss = history_dict['val_loss']\n",
    "\n",
    "epochs = range(1, len(acc) + 1)\n",
    "\n",
    "plt.figure(figsize = (8,4))\n",
    "plt.subplot(1,2,1)\n",
    "plt.plot(epochs, loss, 'bo', label='Training loss') # \"bo\"는 \"파란색 점\"\n",
    "plt.plot(epochs, val_loss, 'b', label='Validation loss')\n",
    "plt.title('Loss')\n",
    "plt.legend(loc='upper center')\n",
    "plt.tight_layout()\n",
    "plt.xlabel('Epochs')\n",
    "plt.ylabel('Loss')\n",
    "\n",
    "plt.subplot(1, 2, 2)\n",
    "plt.plot(epochs, val_acc, 'r', label='Validation accuracy')\n",
    "plt.plot(epochs, acc, 'ro', label='Training accuracy')\n",
    "plt.title('Accuracy')\n",
    "plt.xlabel('Epochs')\n",
    "plt.ylabel('Accuracy')\n",
    "plt.legend(loc='best')\n",
    "plt.show()"
   ]
  },
  {
   "cell_type": "code",
   "execution_count": null,
   "id": "aa34a676",
   "metadata": {},
   "outputs": [],
   "source": []
  },
  {
   "cell_type": "markdown",
   "id": "41d842dc",
   "metadata": {},
   "source": [
    "## 7. 학습된 Embedding 레이어 분석"
   ]
  },
  {
   "cell_type": "code",
   "execution_count": 28,
   "id": "c487b5d5",
   "metadata": {},
   "outputs": [
    {
     "name": "stdout",
     "output_type": "stream",
     "text": [
      "(10000, 200)\n"
     ]
    }
   ],
   "source": [
    "embedding_layer = model_lstm.layers[0]\n",
    "weights = embedding_layer.get_weights()[0]\n",
    "print(weights.shape)    # shape: (vocab_size, embedding_dim)"
   ]
  },
  {
   "cell_type": "code",
   "execution_count": 29,
   "id": "242696e0",
   "metadata": {},
   "outputs": [],
   "source": [
    "import os\n",
    "\n",
    "# 학습한 Embedding 파라미터를 파일에 써서 저장합니다. \n",
    "word2vec_file_path = os.getenv('HOME')+'/aiffel/sentiment_classification/data/word2vec.txt'\n",
    "f = open(word2vec_file_path, 'w')\n",
    "f.write('{} {}\\n'.format(vocab_size-4, word_vector_dim))  # 몇개의 벡터를 얼마 사이즈로 기재할지 타이틀을 씁니다.\n",
    "\n",
    "# 단어 개수(에서 특수문자 4개는 제외하고)만큼의 워드 벡터를 파일에 기록\n",
    "vectors = model_lstm.get_weights()[0]\n",
    "for i in range(4,vocab_size):\n",
    "    f.write('{} {}\\n'.format(index_to_word[i], ' '.join(map(str, list(vectors[i, :])))))\n",
    "f.close()"
   ]
  },
  {
   "cell_type": "code",
   "execution_count": 30,
   "id": "761fb715",
   "metadata": {},
   "outputs": [],
   "source": [
    "from gensim.models.keyedvectors import Word2VecKeyedVectors\n",
    "from tensorflow.keras.initializers import Constant\n",
    "import gensim"
   ]
  },
  {
   "cell_type": "code",
   "execution_count": 31,
   "id": "97775839",
   "metadata": {},
   "outputs": [
    {
     "data": {
      "text/plain": [
       "array([ 0.08883806, -0.09184099,  0.04583429, -0.10395797, -0.01493828,\n",
       "        0.02075003, -0.01844141, -0.05334135,  0.0452558 ,  0.07126295,\n",
       "        0.00147492, -0.01657622,  0.00405663, -0.01935668, -0.09182619,\n",
       "       -0.02369577,  0.03914787,  0.02553529,  0.01519068,  0.0146342 ,\n",
       "        0.00541177, -0.01312086, -0.03659642,  0.01870177,  0.0021624 ,\n",
       "       -0.08205276, -0.04011701,  0.02240903, -0.02282909, -0.06522453,\n",
       "       -0.07335952, -0.0396368 ,  0.01789493, -0.00231797, -0.0708558 ,\n",
       "        0.02220414,  0.03011447,  0.00764453,  0.01051149, -0.0788481 ,\n",
       "        0.06153232, -0.0432262 , -0.09515183, -0.07071853, -0.01724233,\n",
       "        0.05243582, -0.05316149, -0.01695387,  0.03033847,  0.03980321,\n",
       "       -0.03702838, -0.0296776 , -0.03436   ,  0.01939282, -0.00749454,\n",
       "       -0.11819526,  0.01027503,  0.04165385, -0.05994166,  0.02791183,\n",
       "       -0.04129172, -0.05148831,  0.02145062, -0.05822638, -0.00463714,\n",
       "       -0.07175741,  0.06065438,  0.01966364,  0.01939682,  0.09060393,\n",
       "        0.04544516, -0.0648273 , -0.03536498,  0.07800004,  0.02645568,\n",
       "        0.03394559, -0.04685017, -0.03096057,  0.03164949,  0.04870703,\n",
       "       -0.01449925, -0.03710267, -0.00944331, -0.00921628,  0.03319323,\n",
       "        0.05700617,  0.01113424,  0.00305057,  0.05769844, -0.00727458,\n",
       "       -0.02003323, -0.03155554, -0.03461519, -0.0611327 ,  0.04372679,\n",
       "       -0.05554152,  0.07518969,  0.04211445,  0.01962353,  0.02227321,\n",
       "       -0.07379587, -0.11280885,  0.06718603,  0.06233046, -0.04936965,\n",
       "        0.02963312, -0.07001234, -0.0073946 ,  0.02184054, -0.0682805 ,\n",
       "       -0.04211685, -0.01217238, -0.05739563,  0.037031  , -0.06443143,\n",
       "        0.05498655, -0.06792251,  0.07093965,  0.04096164,  0.05005508,\n",
       "       -0.02877401,  0.06399793,  0.02491891, -0.02406201,  0.0071467 ,\n",
       "        0.06217523, -0.14195903,  0.00359661,  0.02448017, -0.01951705,\n",
       "        0.08619011, -0.06999315, -0.03958388, -0.02278998,  0.01160635,\n",
       "       -0.04941354, -0.01032804, -0.01417918, -0.00069808,  0.04889914,\n",
       "        0.01489073,  0.09772909, -0.04315297, -0.08272494,  0.00523147,\n",
       "       -0.00033499,  0.07713886,  0.03592582,  0.05046478,  0.04970446,\n",
       "       -0.01825333,  0.05641457, -0.09318314, -0.00604503,  0.00709936,\n",
       "        0.02933661,  0.00876503, -0.04707174,  0.01710517,  0.05740821,\n",
       "        0.00576095,  0.09279291, -0.03101097,  0.07040492, -0.00584198,\n",
       "       -0.06328996, -0.01314073,  0.01547322, -0.00029165, -0.05588475,\n",
       "       -0.0272854 , -0.01562979,  0.02167706,  0.02675219, -0.07834002,\n",
       "       -0.00589379,  0.05241826,  0.00594918,  0.03398839,  0.02929206,\n",
       "        0.01824378, -0.00305181, -0.03067672,  0.0969738 ,  0.01608842,\n",
       "        0.004091  ,  0.03048643,  0.02516132,  0.00443551,  0.1153019 ,\n",
       "       -0.05262775,  0.01031826, -0.011828  ,  0.03640501, -0.07167485,\n",
       "        0.04919045,  0.045529  , -0.01068428,  0.03144878, -0.02950716],\n",
       "      dtype=float32)"
      ]
     },
     "execution_count": 31,
     "metadata": {},
     "output_type": "execute_result"
    }
   ],
   "source": [
    "word_vectors = Word2VecKeyedVectors.load_word2vec_format(word2vec_file_path, binary=False)\n",
    "vector = word_vectors['안녕']\n",
    "vector"
   ]
  },
  {
   "cell_type": "code",
   "execution_count": 32,
   "id": "4533299f",
   "metadata": {},
   "outputs": [
    {
     "data": {
      "text/plain": [
       "[('무능', 0.55491042137146),\n",
       " ('놓치', 0.5430845022201538),\n",
       " ('귀여워서', 0.542033314704895),\n",
       " ('떠서', 0.541975200176239),\n",
       " ('명복', 0.5417341589927673),\n",
       " ('그렇지만', 0.53937828540802),\n",
       " ('토미', 0.5351923108100891),\n",
       " ('그레이스', 0.529245138168335),\n",
       " ('긴말', 0.5262212753295898),\n",
       " ('블랙', 0.5246603488922119)]"
      ]
     },
     "execution_count": 32,
     "metadata": {},
     "output_type": "execute_result"
    }
   ],
   "source": [
    "word_vectors.similar_by_word(\"액션\")"
   ]
  },
  {
   "cell_type": "code",
   "execution_count": null,
   "id": "2bc137a4",
   "metadata": {},
   "outputs": [],
   "source": []
  },
  {
   "cell_type": "markdown",
   "id": "10d69503",
   "metadata": {},
   "source": [
    "## 8. 한국어 Word2Vec 임베딩 활용하여 성능 개선\n",
    "#### 한국어 Word2Vec 경로 : https://github.com/Kyubyong/wordvectors\n",
    "- 위의 경로에서 Korean(w) > ko.bin 파일 다운 받아서 사용 \n",
    "### gensim 버전 중요! \n",
    "- gensim 버전이 4.0.X 이상일 경우 vocab라는 코드가 gensim 패키지 안에서 사라졌기 때문에 3.8.X 버전으로 세팅"
   ]
  },
  {
   "cell_type": "code",
   "execution_count": 33,
   "id": "99548ebb",
   "metadata": {
    "scrolled": true
   },
   "outputs": [
    {
     "name": "stderr",
     "output_type": "stream",
     "text": [
      "/tmp/ipykernel_4097/3784114315.py:3: DeprecationWarning: Call to deprecated `__getitem__` (Method will be removed in 4.0.0, use self.wv.__getitem__() instead).\n",
      "  vector = word2vec['안녕']\n"
     ]
    },
    {
     "data": {
      "text/plain": [
       "(200,)"
      ]
     },
     "execution_count": 33,
     "metadata": {},
     "output_type": "execute_result"
    }
   ],
   "source": [
    "word2vec_path = os.getenv('HOME')+'/aiffel/sentiment_classification/data/ko.bin'\n",
    "word2vec = gensim.models.Word2Vec.load(word2vec_path)\n",
    "vector = word2vec['안녕']\n",
    "vector.shape    "
   ]
  },
  {
   "cell_type": "code",
   "execution_count": 34,
   "id": "18c6e07d",
   "metadata": {
    "scrolled": true
   },
   "outputs": [
    {
     "data": {
      "text/plain": [
       "'3.8.3'"
      ]
     },
     "execution_count": 34,
     "metadata": {},
     "output_type": "execute_result"
    }
   ],
   "source": [
    "# !pip install gensim==3.8.3     # 3.8.X 버전이여야 함\n",
    "gensim.__version__"
   ]
  },
  {
   "cell_type": "code",
   "execution_count": 35,
   "id": "81a236d8",
   "metadata": {},
   "outputs": [
    {
     "name": "stderr",
     "output_type": "stream",
     "text": [
      "/tmp/ipykernel_4097/346242310.py:1: DeprecationWarning: Call to deprecated `similar_by_word` (Method will be removed in 4.0.0, use self.wv.similar_by_word() instead).\n",
      "  word2vec.similar_by_word(\"액션\")\n"
     ]
    },
    {
     "data": {
      "text/plain": [
       "[('슈팅', 0.8099634647369385),\n",
       " ('어드벤처', 0.7256604433059692),\n",
       " ('게임', 0.6752271056175232),\n",
       " ('아케이드', 0.6547571420669556),\n",
       " ('퍼즐', 0.6438050270080566),\n",
       " ('격투', 0.6437793970108032),\n",
       " ('퍼펙트', 0.618266761302948),\n",
       " ('오리지널', 0.6145720481872559),\n",
       " ('미소녀', 0.6113677024841309),\n",
       " ('판타지', 0.6075881719589233)]"
      ]
     },
     "execution_count": 35,
     "metadata": {},
     "output_type": "execute_result"
    }
   ],
   "source": [
    "word2vec.similar_by_word(\"액션\")"
   ]
  },
  {
   "cell_type": "markdown",
   "id": "a6e3b1db",
   "metadata": {},
   "source": [
    "## 9. 앞선 모델 다시 돌리기 "
   ]
  },
  {
   "cell_type": "code",
   "execution_count": 36,
   "id": "e7d62ad2",
   "metadata": {},
   "outputs": [
    {
     "name": "stderr",
     "output_type": "stream",
     "text": [
      "/tmp/ipykernel_4097/903695008.py:7: DeprecationWarning: Call to deprecated `__contains__` (Method will be removed in 4.0.0, use self.wv.__contains__() instead).\n",
      "  if index_to_word[i] in word2vec:\n",
      "/tmp/ipykernel_4097/903695008.py:8: DeprecationWarning: Call to deprecated `__getitem__` (Method will be removed in 4.0.0, use self.wv.__getitem__() instead).\n",
      "  embedding_matrix[i] = word2vec[index_to_word[i]]\n"
     ]
    }
   ],
   "source": [
    "vocab_size = 10000\n",
    "word_vector_dim = 200\n",
    "\n",
    "embedding_matrix = np.random.rand(vocab_size, word_vector_dim)\n",
    "\n",
    "for i in range(4,vocab_size):\n",
    "    if index_to_word[i] in word2vec:\n",
    "        embedding_matrix[i] = word2vec[index_to_word[i]]"
   ]
  },
  {
   "cell_type": "markdown",
   "id": "c082f67f",
   "metadata": {},
   "source": [
    "### 1-D CNN"
   ]
  },
  {
   "cell_type": "code",
   "execution_count": 37,
   "id": "d3ce926e",
   "metadata": {},
   "outputs": [
    {
     "name": "stdout",
     "output_type": "stream",
     "text": [
      "Model: \"sequential_3\"\n",
      "_________________________________________________________________\n",
      "Layer (type)                 Output Shape              Param #   \n",
      "=================================================================\n",
      "embedding_3 (Embedding)      (None, 41, 200)           2000000   \n",
      "_________________________________________________________________\n",
      "conv1d_2 (Conv1D)            (None, 35, 16)            22416     \n",
      "_________________________________________________________________\n",
      "max_pooling1d_1 (MaxPooling1 (None, 7, 16)             0         \n",
      "_________________________________________________________________\n",
      "conv1d_3 (Conv1D)            (None, 1, 16)             1808      \n",
      "_________________________________________________________________\n",
      "global_max_pooling1d_2 (Glob (None, 16)                0         \n",
      "_________________________________________________________________\n",
      "dense_6 (Dense)              (None, 8)                 136       \n",
      "_________________________________________________________________\n",
      "dense_7 (Dense)              (None, 1)                 9         \n",
      "=================================================================\n",
      "Total params: 2,024,369\n",
      "Trainable params: 2,024,369\n",
      "Non-trainable params: 0\n",
      "_________________________________________________________________\n"
     ]
    }
   ],
   "source": [
    "vocab_size = 10000    # 어휘 사전의 크기입니다(10,000개의 단어)\n",
    "word_vector_dim = 200# 워드 벡터의 차원 수 (변경 가능한 하이퍼파라미터)\n",
    "\n",
    "# model 설계 - 딥러닝 모델 코드를 직접 작성해 주세요.\n",
    "model_cnn = tf.keras.Sequential()\n",
    "model_cnn.add(tf.keras.layers.Embedding(vocab_size, word_vector_dim, \n",
    "                                        embeddings_initializer=Constant(embedding_matrix),\n",
    "                                        input_length=maxlen,\n",
    "                                        trainable=True))\n",
    "model_cnn.add(tf.keras.layers.Conv1D(16, 7, activation='relu'))\n",
    "model_cnn.add(tf.keras.layers.MaxPooling1D(5))\n",
    "model_cnn.add(tf.keras.layers.Conv1D(16, 7, activation='relu'))\n",
    "model_cnn.add(tf.keras.layers.GlobalMaxPooling1D())\n",
    "model_cnn.add(tf.keras.layers.Dense(8, activation='relu'))\n",
    "model_cnn.add(tf.keras.layers.Dense(1, activation='sigmoid'))  # 최종 출력은 긍정/부정을 나타내는 1dim 입니다.\n",
    "\n",
    "model_cnn.summary()"
   ]
  },
  {
   "cell_type": "code",
   "execution_count": 38,
   "id": "b1aff126",
   "metadata": {},
   "outputs": [
    {
     "name": "stdout",
     "output_type": "stream",
     "text": [
      "Epoch 1/5\n",
      "227/227 [==============================] - 2s 7ms/step - loss: 0.5603 - accuracy: 0.7003 - val_loss: 0.4361 - val_accuracy: 0.7977\n",
      "Epoch 2/5\n",
      "227/227 [==============================] - 1s 6ms/step - loss: 0.3931 - accuracy: 0.8245 - val_loss: 0.3707 - val_accuracy: 0.8366\n",
      "Epoch 3/5\n",
      "227/227 [==============================] - 1s 6ms/step - loss: 0.3310 - accuracy: 0.8586 - val_loss: 0.3627 - val_accuracy: 0.8405\n",
      "Epoch 4/5\n",
      "227/227 [==============================] - 1s 6ms/step - loss: 0.2978 - accuracy: 0.8748 - val_loss: 0.3553 - val_accuracy: 0.8466\n",
      "Epoch 5/5\n",
      "227/227 [==============================] - 1s 6ms/step - loss: 0.2703 - accuracy: 0.8886 - val_loss: 0.3583 - val_accuracy: 0.8469\n"
     ]
    }
   ],
   "source": [
    "model_cnn.compile(optimizer='adam',\n",
    "             loss='binary_crossentropy',\n",
    "             metrics=['accuracy'])\n",
    "            \n",
    "epochs=5\n",
    "\n",
    "history_cnn = model_cnn.fit(partial_x_train,\n",
    "                   partial_y_train,\n",
    "                   epochs=epochs,\n",
    "                   batch_size=512,\n",
    "                   validation_data=(x_val, y_val),\n",
    "                   verbose=1)"
   ]
  },
  {
   "cell_type": "code",
   "execution_count": 39,
   "id": "6daeac50",
   "metadata": {},
   "outputs": [
    {
     "name": "stdout",
     "output_type": "stream",
     "text": [
      "1537/1537 - 3s - loss: 0.3715 - accuracy: 0.8434\n",
      "[0.3714892864227295, 0.843399703502655]\n"
     ]
    }
   ],
   "source": [
    "results = model_cnn.evaluate(X_test,  y_test, verbose=2)\n",
    "print(results)"
   ]
  },
  {
   "cell_type": "markdown",
   "id": "df3e817b",
   "metadata": {},
   "source": [
    "### GlobalMaxPooling1D"
   ]
  },
  {
   "cell_type": "code",
   "execution_count": 40,
   "id": "99e2f973",
   "metadata": {},
   "outputs": [
    {
     "name": "stdout",
     "output_type": "stream",
     "text": [
      "Model: \"sequential_4\"\n",
      "_________________________________________________________________\n",
      "Layer (type)                 Output Shape              Param #   \n",
      "=================================================================\n",
      "embedding_4 (Embedding)      (None, 41, 200)           2000000   \n",
      "_________________________________________________________________\n",
      "global_max_pooling1d_3 (Glob (None, 200)               0         \n",
      "_________________________________________________________________\n",
      "dense_8 (Dense)              (None, 8)                 1608      \n",
      "_________________________________________________________________\n",
      "dense_9 (Dense)              (None, 1)                 9         \n",
      "=================================================================\n",
      "Total params: 2,001,617\n",
      "Trainable params: 2,001,617\n",
      "Non-trainable params: 0\n",
      "_________________________________________________________________\n"
     ]
    }
   ],
   "source": [
    "model_GMP = tf.keras.Sequential()\n",
    "model_GMP.add(tf.keras.layers.Embedding(vocab_size, word_vector_dim, \n",
    "                                        embeddings_initializer=Constant(embedding_matrix),\n",
    "                                        input_length=maxlen,\n",
    "                                        trainable=True))\n",
    "                        \n",
    "model_GMP.add(tf.keras.layers.GlobalMaxPooling1D())\n",
    "model_GMP.add(tf.keras.layers.Dense(8, activation='relu'))\n",
    "model_GMP.add(tf.keras.layers.Dense(1, activation='sigmoid'))  # 최종 출력은 긍정/부정을 나타내는 1dim 입니다.\n",
    "\n",
    "model_GMP.summary()"
   ]
  },
  {
   "cell_type": "code",
   "execution_count": 41,
   "id": "109fbe97",
   "metadata": {},
   "outputs": [
    {
     "name": "stdout",
     "output_type": "stream",
     "text": [
      "Epoch 1/5\n",
      "227/227 [==============================] - 2s 5ms/step - loss: 0.7443 - accuracy: 0.5525 - val_loss: 0.6346 - val_accuracy: 0.6431\n",
      "Epoch 2/5\n",
      "227/227 [==============================] - 1s 4ms/step - loss: 0.5915 - accuracy: 0.6917 - val_loss: 0.5543 - val_accuracy: 0.7243\n",
      "Epoch 3/5\n",
      "227/227 [==============================] - 1s 5ms/step - loss: 0.5232 - accuracy: 0.7458 - val_loss: 0.5045 - val_accuracy: 0.7547\n",
      "Epoch 4/5\n",
      "227/227 [==============================] - 1s 4ms/step - loss: 0.4730 - accuracy: 0.7773 - val_loss: 0.4626 - val_accuracy: 0.7792\n",
      "Epoch 5/5\n",
      "227/227 [==============================] - 1s 4ms/step - loss: 0.4355 - accuracy: 0.7995 - val_loss: 0.4392 - val_accuracy: 0.7939\n"
     ]
    }
   ],
   "source": [
    "model_GMP.compile(optimizer='adam',\n",
    "             loss='binary_crossentropy',\n",
    "             metrics=['accuracy'])\n",
    "            \n",
    "epochs=5\n",
    "\n",
    "history_cnn = model_GMP.fit(partial_x_train,\n",
    "                   partial_y_train,\n",
    "                   epochs=epochs,\n",
    "                   batch_size=512,\n",
    "                   validation_data=(x_val, y_val),\n",
    "                   verbose=1)"
   ]
  },
  {
   "cell_type": "code",
   "execution_count": 42,
   "id": "3c681b65",
   "metadata": {},
   "outputs": [
    {
     "name": "stdout",
     "output_type": "stream",
     "text": [
      "1537/1537 - 2s - loss: 0.4490 - accuracy: 0.7899\n",
      "[0.44904085993766785, 0.7898773550987244]\n"
     ]
    }
   ],
   "source": [
    "results = model_GMP.evaluate(X_test,  y_test, verbose=2)\n",
    "print(results)"
   ]
  },
  {
   "cell_type": "markdown",
   "id": "eecbdf98",
   "metadata": {},
   "source": [
    "### LSTM"
   ]
  },
  {
   "cell_type": "code",
   "execution_count": 43,
   "id": "50c56258",
   "metadata": {},
   "outputs": [
    {
     "name": "stdout",
     "output_type": "stream",
     "text": [
      "Model: \"sequential_5\"\n",
      "_________________________________________________________________\n",
      "Layer (type)                 Output Shape              Param #   \n",
      "=================================================================\n",
      "embedding_5 (Embedding)      (None, 41, 200)           2000000   \n",
      "_________________________________________________________________\n",
      "lstm_1 (LSTM)                (None, 16)                13888     \n",
      "_________________________________________________________________\n",
      "dropout_1 (Dropout)          (None, 16)                0         \n",
      "_________________________________________________________________\n",
      "dense_10 (Dense)             (None, 8)                 136       \n",
      "_________________________________________________________________\n",
      "dense_11 (Dense)             (None, 1)                 9         \n",
      "=================================================================\n",
      "Total params: 2,014,033\n",
      "Trainable params: 2,014,033\n",
      "Non-trainable params: 0\n",
      "_________________________________________________________________\n"
     ]
    }
   ],
   "source": [
    "model_lstm = keras.Sequential()\n",
    "model_lstm.add(keras.layers.Embedding(vocab_size, word_vector_dim, \n",
    "                                       embeddings_initializer=Constant(embedding_matrix),\n",
    "                                        input_length=maxlen,\n",
    "                                        trainable=True))\n",
    "model_lstm.add(keras.layers.LSTM(16))\n",
    "model_lstm.add(keras.layers.Dropout(0.5))\n",
    "model_lstm.add(keras.layers.Dense(8, activation='relu'))\n",
    "model_lstm.add(keras.layers.Dense(1, activation='sigmoid')) # 최종 출력은 긍정/부정을 나타내는 1dim 입니다.\n",
    "\n",
    "model_lstm.summary()"
   ]
  },
  {
   "cell_type": "code",
   "execution_count": 44,
   "id": "8928ec4f",
   "metadata": {},
   "outputs": [
    {
     "name": "stdout",
     "output_type": "stream",
     "text": [
      "Epoch 1/7\n",
      "227/227 [==============================] - 3s 8ms/step - loss: 0.5697 - accuracy: 0.6974 - val_loss: 0.4125 - val_accuracy: 0.8179\n",
      "Epoch 2/7\n",
      "227/227 [==============================] - 2s 7ms/step - loss: 0.3982 - accuracy: 0.8291 - val_loss: 0.3584 - val_accuracy: 0.8442\n",
      "Epoch 3/7\n",
      "227/227 [==============================] - 2s 7ms/step - loss: 0.3528 - accuracy: 0.8538 - val_loss: 0.3413 - val_accuracy: 0.8534\n",
      "Epoch 4/7\n",
      "227/227 [==============================] - 1s 7ms/step - loss: 0.3264 - accuracy: 0.8655 - val_loss: 0.3350 - val_accuracy: 0.8552\n",
      "Epoch 5/7\n",
      "227/227 [==============================] - 2s 7ms/step - loss: 0.3051 - accuracy: 0.8750 - val_loss: 0.3334 - val_accuracy: 0.8579\n",
      "Epoch 6/7\n",
      "227/227 [==============================] - 2s 7ms/step - loss: 0.2880 - accuracy: 0.8843 - val_loss: 0.3386 - val_accuracy: 0.8570\n",
      "Epoch 7/7\n",
      "227/227 [==============================] - 2s 7ms/step - loss: 0.2761 - accuracy: 0.8900 - val_loss: 0.3367 - val_accuracy: 0.8574\n"
     ]
    }
   ],
   "source": [
    "model_lstm.compile(optimizer='adam',\n",
    "              loss='binary_crossentropy',\n",
    "              metrics=['accuracy'])\n",
    "              \n",
    "epochs=7  # 몇 epoch를 훈련하면 좋을지 결과를 보면서 바꾸어 봅시다. \n",
    "\n",
    "history_LSTM = model_lstm.fit(partial_x_train,\n",
    "                    partial_y_train,\n",
    "                    epochs=epochs,\n",
    "                    batch_size=512,\n",
    "                    validation_data=(x_val, y_val),\n",
    "                    verbose=1)"
   ]
  },
  {
   "cell_type": "code",
   "execution_count": 45,
   "id": "14e68634",
   "metadata": {},
   "outputs": [
    {
     "name": "stdout",
     "output_type": "stream",
     "text": [
      "1537/1537 - 3s - loss: 0.3442 - accuracy: 0.8528\n",
      "[0.3442073464393616, 0.8527575135231018]\n"
     ]
    }
   ],
   "source": [
    "results = model_lstm.evaluate(X_test,  y_test, verbose=2)\n",
    "\n",
    "print(results)"
   ]
  },
  {
   "cell_type": "markdown",
   "id": "b6d41fff",
   "metadata": {},
   "source": [
    "### 제일 잘 나온 LSTM history 시각화"
   ]
  },
  {
   "cell_type": "code",
   "execution_count": 46,
   "id": "c725cb29",
   "metadata": {},
   "outputs": [
    {
     "data": {
      "image/png": "[encoded data removed]",
      "text/plain": [
       "<Figure size 576x288 with 2 Axes>"
      ]
     },
     "metadata": {
      "needs_background": "light"
     },
     "output_type": "display_data"
    }
   ],
   "source": [
    "history_dict = history_LSTM.history\n",
    "\n",
    "acc = history_dict['accuracy']\n",
    "val_acc = history_dict['val_accuracy']\n",
    "loss = history_dict['loss']\n",
    "val_loss = history_dict['val_loss']\n",
    "\n",
    "epochs = range(1, len(acc) + 1)\n",
    "\n",
    "plt.figure(figsize = (8,4))\n",
    "plt.subplot(1,2,1)\n",
    "plt.plot(epochs, loss, 'bo', label='Training loss') # \"bo\"는 \"파란색 점\"\n",
    "plt.plot(epochs, val_loss, 'b', label='Validation loss')\n",
    "plt.title('Loss')\n",
    "plt.legend(loc='upper center')\n",
    "plt.tight_layout()\n",
    "plt.xlabel('Epochs')\n",
    "plt.ylabel('Loss')\n",
    "\n",
    "plt.subplot(1, 2, 2)\n",
    "plt.plot(epochs, val_acc, 'r', label='Validation accuracy')\n",
    "plt.plot(epochs, acc, 'ro', label='Training accuracy')\n",
    "plt.title('Accuracy')\n",
    "plt.xlabel('Epochs')\n",
    "plt.ylabel('Accuracy')\n",
    "plt.legend(loc='best')\n",
    "plt.show()"
   ]
  },
  {
   "cell_type": "code",
   "execution_count": 47,
   "id": "94e09198",
   "metadata": {},
   "outputs": [
    {
     "name": "stdout",
     "output_type": "stream",
     "text": [
      "1537/1537 - 3s - loss: 0.3715 - accuracy: 0.8434\n",
      "1537/1537 - 2s - loss: 0.4490 - accuracy: 0.7899\n",
      "1537/1537 - 3s - loss: 0.3442 - accuracy: 0.8528\n"
     ]
    },
    {
     "data": {
      "text/plain": [
       "[0.3442073464393616, 0.8527575135231018]"
      ]
     },
     "execution_count": 47,
     "metadata": {},
     "output_type": "execute_result"
    }
   ],
   "source": [
    "model_cnn.evaluate(X_test,  y_test, verbose=2)\n",
    "model_GMP.evaluate(X_test,  y_test, verbose=2)\n",
    "model_lstm.evaluate(X_test,  y_test, verbose=2)"
   ]
  },
  {
   "cell_type": "markdown",
   "id": "5d9266ea",
   "metadata": {},
   "source": [
    "# 10. 회고\n",
    "\n",
    "- 1-D CNN, GlobalMaxPooling1D, LSTM 모델 중 **LSTM 모델**이 제일 좋은 성능을 보임\n",
    "- 한국어 Word2Vec 임베딩 사용 전과 후 test accuracy를 보면 향상된 것을 볼 수 있음 \n",
    "- 수치가 많이 오르지는 않았지만 결과물을 보면 큰 차이를 보임 \n",
    "- 키워드 '액션'으로 했을 때 연관된 단어가 잘 나오는 것을 볼 수 있음\n",
    "- 수치로는 얼마 차이가 안나는데 연관된 단어로 출력된 것을 보면 차이가 많이 나서 적합한 말뭉치를 선택해야 결과도 잘 나오는 것을 볼 수 있었음\n",
    "- 시각화한 그래프를 봐도 val_loss 값과 val_acc 값이 좋아진 것을 볼 수 있음"
   ]
  },
  {
   "cell_type": "code",
   "execution_count": null,
   "id": "2d4c36a2",
   "metadata": {},
   "outputs": [],
   "source": []
  }
 ],
 "metadata": {
  "kernelspec": {
   "display_name": "Python 3 (ipykernel)",
   "language": "python",
   "name": "python3"
  },
  "language_info": {
   "codemirror_mode": {
    "name": "ipython",
    "version": 3
   },
   "file_extension": ".py",
   "mimetype": "text/x-python",
   "name": "python",
   "nbconvert_exporter": "python",
   "pygments_lexer": "ipython3",
   "version": "3.9.7"
  }
 },
 "nbformat": 4,
 "nbformat_minor": 5
}
